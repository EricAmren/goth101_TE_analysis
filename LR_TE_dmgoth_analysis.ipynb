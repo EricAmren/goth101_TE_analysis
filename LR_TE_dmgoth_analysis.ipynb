{
 "metadata": {
  "language_info": {
   "codemirror_mode": {
    "name": "ipython",
    "version": 3
   },
   "file_extension": ".py",
   "mimetype": "text/x-python",
   "name": "python",
   "nbconvert_exporter": "python",
   "pygments_lexer": "ipython3",
   "version": "3.8.5-final"
  },
  "orig_nbformat": 2,
  "kernelspec": {
   "name": "python3",
   "display_name": "Python 3.8.5 64-bit",
   "metadata": {
    "interpreter": {
     "hash": "31f2aee4e71d21fbe5cf8b01ff0e069b9275f58929596ceb00d14d90e3e16cd6"
    }
   }
  }
 },
 "nbformat": 4,
 "nbformat_minor": 2,
 "cells": [
  {
   "cell_type": "code",
   "execution_count": 1,
   "metadata": {},
   "outputs": [],
   "source": [
    "# DEPENDENCIES\n",
    "\n",
    "import pysam"
   ]
  },
  {
   "source": [
    "# Expression profile of transposable element using LR nanopore technologies\n",
    "\n",
    "## Intro\n",
    "\n",
    "### Global objectives : \n",
    "\n",
    "What can long reads teach us on the role of transposable elements ? We'll focus on the transcription profile of transposable elements and fully take advantage of recent long read transcriptomic data. More precisely, we suspect that long reads could be key to determine which insertions of a TE are still expressed. Indeed, short reads are only covering parts of the transcript they come from and can hardly be attributed to one insertion. Long reads are almost fully covering the transcript they come from. Should they be small differences in the insertion sequences, long reads should present an optimal alignment score on the TE insertion sequence from where they came.\n",
    "\n",
    "### Data \n",
    "\n",
    "We got two LR transcriptomic datasets generated using ONT, amplified with a Teloprime Full-Length protocole.\n",
    "RNA molecules were extracted from a specific lineage of Drosophila *melanogaster* named DMGoth101, from two tissues : ovaries and testis. We'll call the male dataset FC29 and the female dataset FC30.\n",
    "\n",
    "### How to :\n",
    "\n",
    "* Align reads on lineage genome and consensus TE sequences (DFam)\n",
    "* Build a custom annotation file for our lineage using RepeatMasker to get TE positions\n",
    "* Using the annotation, get reads mapped on TE features\n",
    "* Run alignqc\n",
    "* Several filters can be used depending of what we want, here's what should be interesting : \n",
    "    - Complete and independantly expressed TE : keep reads that cover more than 90 % of TE sequence, that doesn't align outside of TE sequence (not more than 10%)\n",
    "    - TE that are expressed alongside a gene : keep reads that are partly mapped to a gene and partly mapped to a TE. (Should gene and TE be contiguous ?)\n",
    "    - Uniquely mapped reads : reads that are mapped to one position only, as they give information on what's the TE locus expressed.\n",
    "* For each TE : Total number of TE insertion and number of expressed insertion\n",
    "\n",
    "## Alignment on DMGoth101 genome\n",
    "\n",
    "We'll use minimap2 to map reads from FC29 and FC30 to the genome of our lineage. How exactly was this genome generated ?\n",
    "\n",
    "### Input :\n",
    "\n",
    "* Genome = dmgoth101_assembl_chrom.fasta\n",
    "* Male and female reads dataset\n",
    "* ~~No junc-bed used here as the TE annotation doesn't have information about exonic and intronic structure of TE sequences.~~\n",
    "* Using gene annotation file for junc-bed option (better alignment using splicing sites)\n",
    "\n",
    "### Generating TE annotation\n",
    "\n",
    "Software used : RepeatMasker, using DFam curated library.\n",
    "\n",
    "### Filtering and counting reads that map transposable elements\n",
    "\n",
    "#### Filter (1) : independantly expressed TE\n",
    "\n",
    "Counting reads that cover more than 90% of the TE sequence and that are aligned with less than 10 % of read length on something else than its TE.\n",
    "\n"
   ],
   "cell_type": "markdown",
   "metadata": {}
  },
  {
   "cell_type": "code",
   "execution_count": 3,
   "metadata": {},
   "outputs": [
    {
     "output_type": "error",
     "ename": "TypeError",
     "evalue": "count_independantly_expressed_TE_only() missing 1 required positional argument: 'gtf_file'",
     "traceback": [
      "\u001b[0;31m---------------------------------------------------------------------------\u001b[0m",
      "\u001b[0;31mTypeError\u001b[0m                                 Traceback (most recent call last)",
      "\u001b[0;32m<ipython-input-3-563f185cda05>\u001b[0m in \u001b[0;36m<module>\u001b[0;34m\u001b[0m\n\u001b[1;32m      6\u001b[0m             \u001b[0;32mbreak\u001b[0m\u001b[0;34m\u001b[0m\u001b[0;34m\u001b[0m\u001b[0m\n\u001b[1;32m      7\u001b[0m \u001b[0;34m\u001b[0m\u001b[0m\n\u001b[0;32m----> 8\u001b[0;31m \u001b[0mcount_independantly_expressed_TE_only\u001b[0m\u001b[0;34m(\u001b[0m\u001b[0;34m\"data/\"\u001b[0m\u001b[0;34m)\u001b[0m\u001b[0;34m\u001b[0m\u001b[0;34m\u001b[0m\u001b[0m\n\u001b[0m",
      "\u001b[0;31mTypeError\u001b[0m: count_independantly_expressed_TE_only() missing 1 required positional argument: 'gtf_file'"
     ]
    }
   ],
   "source": [
    "def count_independantly_expressed_TE_only(bamfile, gtf_file):\n",
    "    TE_annotation = HTSeq.GFF_Reader(gtf_file)\n",
    "    with pysam.AlignmentFile(bamfile, 'rb') as alignments :\n",
    "        for ali in alignments:\n",
    "            print(TE_annotation[ali.reference_name])\n",
    "            break\n",
    "\n",
    "count_independantly_expressed_TE_only(\"data/\")"
   ]
  }
 ]
}