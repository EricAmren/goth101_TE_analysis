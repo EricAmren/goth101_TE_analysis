{
 "metadata": {
  "language_info": {
   "codemirror_mode": {
    "name": "ipython",
    "version": 3
   },
   "file_extension": ".py",
   "mimetype": "text/x-python",
   "name": "python",
   "nbconvert_exporter": "python",
   "pygments_lexer": "ipython3",
   "version": "3.8.5-final"
  },
  "orig_nbformat": 2,
  "kernelspec": {
   "name": "python3",
   "display_name": "Python 3.8.5 64-bit",
   "metadata": {
    "interpreter": {
     "hash": "31f2aee4e71d21fbe5cf8b01ff0e069b9275f58929596ceb00d14d90e3e16cd6"
    }
   }
  }
 },
 "nbformat": 4,
 "nbformat_minor": 2,
 "cells": [
  {
   "source": [
    "# RNAseq differential expression analysis of TEs in Drosophila melanogaster (DmGoth lineage)\n",
    "\n",
    "## Alignment to TE Consensus sequences\n",
    "\n",
    "TE consensus sequences are contained in D_mel_transposon_sequence_set.fa (downloaded from https://github.com/bergmanlab/transposons/ )\n",
    "By aligning reads to these sequences, we can identify which TEs are expressed and get countings.\n",
    "\n",
    "Commands : \n",
    "```\n",
    "~/softs/minimap2/minimap2 -ax splice ~/cristina_TE/data/consensus/D_mel_transposon_sequence_set.fa ~/cristina_TE/data/reads/FC29.fastq.gz | samtools sort -o FC29.against_consensus.bam\n",
    "\n",
    "~/softs/minimap2/minimap2 -ax splice ~/cristina_TE/data/consensus/D_mel_transposon_sequence_set.fa ~/cristina_TE/data/reads/FC30.fastq.gz | samtools sort -o FC30.against_consensus.bam\n",
    "```\n",
    "We get two bam files as a result (FC29 : 5.2Go, FC30 : 1.8Go )\n",
    "\n",
    "## Getting the expression level of each TE\n",
    "\n",
    "Here's an example of what's in D_mel_transposon_sequence_set.fa : \n",
    "```\n",
    ">1731#LTR/Copia\n",
    "TGTTGAATATAGGCAATGCCCACATGTGTGTTGAATATAGGCAATTTCCACATGTGCATA\n",
    "TGTAATTTTGTATGAGAACATACATACATACACATGAACTGTATGTATGTATATATATTA\n",
    "```\n",
    "\n",
    "And here's the beginning of the BAM we get by aligning our reads to the TEs consensus sequences : \n",
    "```\n",
    "e1bae963-07b0-44fa-8a67-ae90f86c4ba0    2064    Tc3#DNA/Tc1-Mariner     331     38      710H32M5D19M2D8M1D5M1D18M1D4M1D124M1384H        *       0\n",
    "       0       GGTTTTACGCTTCTAACTTGACTTCTTGTTTGTTAAATCTCGAAAGTTAAATTCTTTTGATTCTAAATATAAATTATCTTTTTAATTTTTTCTCAAATGGTCCGCGAAAAGTCTTTATCCGATTTTGAAAAAGGTCAAATCAAAGGCTATATTGAATCTGGTTTAAAACACTGTGTAATAGCCAAGAAAATCGGTTGAAGTCAAAACGTT      53/a:/-$7)4/($,%\"/$#''-2#\"$-5'\"''$#'&$%'$\"+2%4)*+/)(:?-L/$)2(('#/7+(,$+.#&%(%#&'0-%+(*16995,0.*?;3;9;+*+*/(--)&\"%()%8<89210OG?*)NPMPKGC)6>:>*/H5?;-%3/2B4.DLL./A8<:*'A>-\"1%#)0255A<*5H2.N(JQ@=J+?@A+-6L7K4)KT1=@WR      NM:i:35 ms:i:115        AS:i:115        nn:i:0  tp:A:P  cm:i:9  s1:i:64 s2:i:0  de:f:0.1389     SA:Z:McClintock#LTR/Gypsy,592,+,1229S153M2I920S,60,11;  rl:i:0\n",
    "```\n",
    "\n",
    "We want to count how many reads are aligned on each TEs sequences BUT, we need to remind ourselves that a read can be aligned to several features, then, which one should we count ?\n",
    "\n",
    "Let's get a look at the alignQC report for FC30.bam\n",
    "```\n",
    "alignqc analyze FC30.sorted.bam -g D_mel_transposon_sequence_set.fa -o FC30.consensus.report/FC30.consensus.alignqc.xhtml\n",
    "```\n",
    "\n",
    "Well, that didn't work. Seems like a Windows return carriage error ? Maybe this could help :\n",
    "```\n",
    "tr -d '\\r' < D_mel_transposon_sequence_set.fa > D_mel_transposon_sequence_set.fixed.fa\n",
    "```\n",
    "\n",
    "Another thing to take into account :\n",
    "They are primary, secondary, supplementary and unmapped reads. Which one should we count and not count ?\n",
    "I guess we should discard supplementary alignments and unmapped reads.\n",
    "\n"
   ],
   "cell_type": "markdown",
   "metadata": {}
  },
  {
   "cell_type": "code",
   "execution_count": null,
   "metadata": {},
   "outputs": [],
   "source": [
    "import pysam\n",
    "FC29_bamfile = \""
   ]
  },
  {
   "cell_type": "code",
   "execution_count": 9,
   "metadata": {},
   "outputs": [
    {
     "output_type": "stream",
     "name": "stdout",
     "text": [
      "cristina_TE_notebook.ipynb\ndata\ndoc\nresults\nscripts\n"
     ]
    }
   ],
   "source": [
    "%%bash\n",
    "ls"
   ]
  },
  {
   "cell_type": "code",
   "execution_count": null,
   "metadata": {},
   "outputs": [],
   "source": []
  }
 ]
}