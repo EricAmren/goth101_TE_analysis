{
 "cells": [
  {
   "cell_type": "code",
   "execution_count": 1,
   "metadata": {
    "slideshow": {
     "slide_type": "skip"
    },
    "tags": []
   },
   "outputs": [],
   "source": [
    "import pysam\n",
    "import pandas as pd\n",
    "import re\n",
    "import matplotlib.pyplot as plt\n",
    "import numpy as np\n",
    "import plotly.express as px\n",
    "import plotly.graph_objects as go\n",
    "from plotly.subplots import make_subplots\n",
    "import dtale\n",
    "\n",
    "\n",
    "FC29_bamfile = \"data/consensus/bam/FC29.against_DFam_consensus.bam\"\n",
    "FC30_bamfile = \"data/consensus/bam/FC30.against_DFam_consensus.bam\"\n",
    "consensus_fasta_file = \"data/consensus/families.flanked_LTR.hierarchy.fa\"\n"
   ]
  },
  {
   "cell_type": "code",
   "execution_count": 2,
   "metadata": {
    "slideshow": {
     "slide_type": "skip"
    }
   },
   "outputs": [],
   "source": [
    "consensus_ratio_df = pd.read_csv(\"consensus_TE_ratio.csv\", index_col=\"TE\")\n",
    "consensus_counting_df = pd.read_csv(\"consensus_counting.csv\", index_col=\"ID\")"
   ]
  },
  {
   "cell_type": "markdown",
   "metadata": {
    "slideshow": {
     "slide_type": "skip"
    }
   },
   "source": [
    "## Barplot of TE expression ratio (from consensus data)"
   ]
  },
  {
   "cell_type": "code",
   "execution_count": 3,
   "metadata": {},
   "outputs": [
    {
     "output_type": "display_data",
     "data": {
      "application/vnd.plotly.v1+json": {
       "config": {
        "plotlyServerURL": "https://plot.ly"
       },
       "data": [
        {
         "marker": {
          "color": "indianred"
         },
         "name": "Female",
         "textposition": "outside",
         "texttemplate": "%{text:.2s}",
         "type": "bar",
         "x": [
          "Baggins1#LINE/R1-LOA",
          "BARI_DM#DNA/TcMar-Tc1",
          "BS#LINE/I-Jockey",
          "BS2#LINE/I-Jockey",
          "CIRCE#LTR/Gypsy",
          "DM412#LTR/Gypsy",
          "DM412B_LTR#LTR/Gypsy",
          "DMCR1A#LINE/CR1",
          "DMRT1A#LINE/R1",
          "DMRT1B#LINE/R1",
          "DMRT1C#LINE/R1",
          "DNAREP1_DM#RC/Helitron",
          "DOC#LINE/I-Jockey",
          "DOC2_DM#LINE/I-Jockey",
          "DOC3_DM#LINE/I-Jockey",
          "DOC5_DM#LINE/I-Jockey",
          "DOC6_DM#LINE/I-Jockey",
          "FB4_DM#DNA/TcMar-Tc1",
          "G3_DM#LINE/I-Jockey",
          "G5A_DM#LINE/I-Jockey",
          "G5_DM#LINE/I-Jockey",
          "G_DM#LINE/I-Jockey",
          "Gypsy12A_LTR#LTR/Gypsy",
          "HELENA_RT#LINE/I-Jockey",
          "Helitron1_DM#RC/Helitron",
          "HETA#LINE/I-Jockey",
          "HMSBEAGLE_I#LTR/Gypsy",
          "HOBO#DNA/hAT-hobo",
          "I_DM#LINE/I",
          "IVK_DM#LINE/I",
          "LINEJ1_DM#LINE/I-Jockey",
          "M4DM#DNA/CMC-Transib",
          "Mariner2_DM#DNA/TcMar-Tc1",
          "NTS_DM#Satellite/Unknown",
          "PLACW_DM#DNA/P",
          "POGO#DNA/TcMar-Pogo",
          "POGON1#DNA/TcMar-Pogo",
          "PROTOP#DNA/P",
          "PROTOP_A#DNA/P",
          "PROTOP_B#DNA/P",
          "R1_DM#LINE/R1",
          "SAR_DM#Satellite/Unknown",
          "S_DM#DNA/TcMar-Tc1",
          "TAHRE#LINE/I-Jockey",
          "TART-A#LINE/I-Jockey",
          "TART_B1#LINE/I-Jockey",
          "TC1-2_DM#DNA/TcMar-Tc1",
          "TC1_DM#DNA/TcMar-Tc1",
          "TRANSIB2#DNA/CMC-Transib",
          "TRANSIB3#DNA/CMC-Transib",
          "TRANSIB4#DNA/CMC-Transib",
          "S2_DM#DNA/TcMar-Tc1",
          "ACCORD2#LTR/Gypsy",
          "ACCORD#LTR/Gypsy",
          "Bica#LTR/Gypsy",
          "BLASTOPIA#LTR/Gypsy",
          "BLOOD#LTR/Gypsy",
          "BURDOCK#LTR/Gypsy",
          "Chimpo#LTR/Gypsy",
          "Chouto#LTR/Gypsy",
          "Copia1#LTR/Copia",
          "Copia2#LTR/Copia",
          "Copia#LTR/Copia",
          "DIVER2#LTR/Pao",
          "DM1731#LTR/Copia",
          "DM176#LTR/Gypsy",
          "DM297#LTR/Gypsy",
          "TOM#LTR/Gypsy",
          "GTWIN#LTR/Gypsy",
          "Gypsy10#LTR/Gypsy",
          "Gypsy11#LTR/Gypsy",
          "Gypsy12#LTR/Gypsy",
          "Gypsy1#LTR/Gypsy",
          "Gypsy2_bis#LTR/Gypsy",
          "Gypsy2#LTR/Gypsy",
          "Gypsy3#LTR/Gypsy",
          "Gypsy5#LTR/Gypsy",
          "Gypsy6#LTR/Gypsy",
          "Gypsy7#LTR/Gypsy",
          "Gypsy8#LTR/Gypsy",
          "Gypsy#LTR/Gypsy",
          "IDEFIX#LTR/Gypsy",
          "Invader1#LTR/Gypsy",
          "Invader4#LTR/Gypsy",
          "Invader5#LTR/Gypsy",
          "Invader6#LTR/Gypsy",
          "MAX#LTR/Pao",
          "MDG1#LTR/Gypsy",
          "NINJA#LTR/Pao",
          "NOMAD#LTR/Gypsy",
          "QUASIMODO2#LTR/Gypsy",
          "QUASIMODO#LTR/Gypsy",
          "ROOA#LTR/Pao",
          "ROO#LTR/Pao",
          "ROVER#LTR/Gypsy",
          "Stalker2#LTR/Gypsy",
          "STALKER4#LTR/Gypsy",
          "TIRANT#LTR/Gypsy",
          "TRANSPAC#LTR/Gypsy",
          "XDMR#Unknown/Unknown",
          "ARS406_DM#Unknown/Unknown",
          "BARI1#DNA/TcMar-Tc1",
          "BS3_DM#LINE/I-Jockey",
          "BS4_DM#LINE/I-Jockey",
          "DMLTR5#LTR/Gypsy",
          "DMRP1#Unknown/Unknown",
          "DMRPR#Unknown/Unknown",
          "DOC4_DM#LINE/I-Jockey",
          "FW2_DM#LINE/I-Jockey",
          "FW3_DM#LINE/I-Jockey",
          "G2_DM#LINE/I-Jockey",
          "G4_DM#LINE/I-Jockey",
          "G6_DM#LINE/I-Jockey",
          "G7_DM#LINE/I-Jockey",
          "HETRP_DM#Satellite/Unknown",
          "Jockey2#LINE/I-Jockey",
          "NOF_FB#DNA/MULE-NOF",
          "R1-2_DM#LINE/R1",
          "TRANSIB1#DNA/CMC-Transib",
          "Transib5#DNA/CMC-Transib",
          "Transib-N1_DM#DNA/CMC-Transib",
          "ZAM#LTR/Gypsy",
          "BATUMI#LTR/Pao",
          "BEL#LTR/Pao",
          "DIVER#LTR/Pao",
          "FROGGER#LTR/Copia",
          "Gypsy4#LTR/Gypsy",
          "Gypsy9#LTR/Gypsy",
          "Invader2#LTR/Gypsy",
          "Invader3#LTR/Gypsy",
          "MDG3#LTR/Gypsy",
          "MICROPIA#LTR/Gypsy",
          "TABOR#LTR/Gypsy"
         ],
         "y": [
          0.0022371364653243847,
          0.0007457121551081282,
          0.002982848620432513,
          0.0007457121551081282,
          0.0022371364653243847,
          0.008948545861297539,
          0.002982848620432513,
          0.0044742729306487695,
          0.005219985085756898,
          0.0007457121551081282,
          0.0022371364653243847,
          0.030574198359433258,
          0.0044742729306487695,
          0.0007457121551081282,
          0.01267710663683818,
          0.002982848620432513,
          0.0022371364653243847,
          0.014914243102162566,
          0.0014914243102162564,
          0.011931394481730051,
          0.0007457121551081282,
          0.0014914243102162564,
          0.0014914243102162564,
          0.0007457121551081282,
          0.0007457121551081282,
          0.011185682326621923,
          0.005965697240865026,
          0.002982848620432513,
          0.0014914243102162564,
          0.0037285607755406414,
          0.005219985085756898,
          0.0022371364653243847,
          0.0037285607755406414,
          0.0022371364653243847,
          0.0007457121551081282,
          0.1819537658463833,
          0.0022371364653243847,
          0.005965697240865026,
          0.008948545861297539,
          0.0044742729306487695,
          0.0022371364653243847,
          0.0007457121551081282,
          0.008202833706189409,
          0.0044742729306487695,
          0.014914243102162566,
          0.008948545861297539,
          0.02237136465324385,
          0.008202833706189409,
          0.0007457121551081282,
          0.028337061894108874,
          0.0007457121551081282,
          0.0037285607755406414,
          0.005219985085756898,
          0.0037285607755406414,
          0.00969425801640567,
          0.0044742729306487695,
          0.037285607755406416,
          0.0014914243102162564,
          0.0022371364653243847,
          0.0037285607755406414,
          0.0014914243102162564,
          0.0014914243102162564,
          0.0976882923191648,
          0.0007457121551081282,
          0.0007457121551081282,
          0.002982848620432513,
          0.005219985085756898,
          0.18791946308724836,
          0.0022371364653243847,
          0.0014914243102162564,
          0.0022371364653243847,
          0.03877703206562267,
          0.0022371364653243847,
          0.0037285607755406414,
          0.0007457121551081282,
          0.0007457121551081282,
          0.0007457121551081282,
          0.0044742729306487695,
          0.0007457121551081282,
          0.0007457121551081282,
          0.0007457121551081282,
          0.0022371364653243847,
          0.002982848620432513,
          0.0007457121551081282,
          0.0007457121551081282,
          0.002982848620432513,
          0.010439970171513796,
          0.002982848620432513,
          0.0007457121551081282,
          0.0007457121551081282,
          0.0014914243102162564,
          0.002982848620432513,
          0.020879940343027592,
          0.029082774049217,
          0.0014914243102162564,
          0.020134228187919462,
          0.0022371364653243847,
          0.0022371364653243847,
          0.0014914243102162564,
          0,
          0,
          0,
          0,
          0,
          0,
          0,
          0,
          0,
          0,
          0,
          0,
          0,
          0,
          0,
          0,
          0,
          0,
          0,
          0,
          0,
          0,
          0,
          0,
          0,
          0,
          0,
          0,
          0,
          0,
          0,
          0,
          0,
          0
         ]
        },
        {
         "marker": {
          "color": "blue"
         },
         "name": "Male",
         "textposition": "outside",
         "texttemplate": "%{text:.2s}",
         "type": "bar",
         "x": [
          "Baggins1#LINE/R1-LOA",
          "BARI_DM#DNA/TcMar-Tc1",
          "BS#LINE/I-Jockey",
          "BS2#LINE/I-Jockey",
          "CIRCE#LTR/Gypsy",
          "DM412#LTR/Gypsy",
          "DM412B_LTR#LTR/Gypsy",
          "DMCR1A#LINE/CR1",
          "DMRT1A#LINE/R1",
          "DMRT1B#LINE/R1",
          "DMRT1C#LINE/R1",
          "DNAREP1_DM#RC/Helitron",
          "DOC#LINE/I-Jockey",
          "DOC2_DM#LINE/I-Jockey",
          "DOC3_DM#LINE/I-Jockey",
          "DOC5_DM#LINE/I-Jockey",
          "DOC6_DM#LINE/I-Jockey",
          "FB4_DM#DNA/TcMar-Tc1",
          "G3_DM#LINE/I-Jockey",
          "G5A_DM#LINE/I-Jockey",
          "G5_DM#LINE/I-Jockey",
          "G_DM#LINE/I-Jockey",
          "Gypsy12A_LTR#LTR/Gypsy",
          "HELENA_RT#LINE/I-Jockey",
          "Helitron1_DM#RC/Helitron",
          "HETA#LINE/I-Jockey",
          "HMSBEAGLE_I#LTR/Gypsy",
          "HOBO#DNA/hAT-hobo",
          "I_DM#LINE/I",
          "IVK_DM#LINE/I",
          "LINEJ1_DM#LINE/I-Jockey",
          "M4DM#DNA/CMC-Transib",
          "Mariner2_DM#DNA/TcMar-Tc1",
          "NTS_DM#Satellite/Unknown",
          "PLACW_DM#DNA/P",
          "POGO#DNA/TcMar-Pogo",
          "POGON1#DNA/TcMar-Pogo",
          "PROTOP#DNA/P",
          "PROTOP_A#DNA/P",
          "PROTOP_B#DNA/P",
          "R1_DM#LINE/R1",
          "SAR_DM#Satellite/Unknown",
          "S_DM#DNA/TcMar-Tc1",
          "TAHRE#LINE/I-Jockey",
          "TART-A#LINE/I-Jockey",
          "TART_B1#LINE/I-Jockey",
          "TC1-2_DM#DNA/TcMar-Tc1",
          "TC1_DM#DNA/TcMar-Tc1",
          "TRANSIB2#DNA/CMC-Transib",
          "TRANSIB3#DNA/CMC-Transib",
          "TRANSIB4#DNA/CMC-Transib",
          "S2_DM#DNA/TcMar-Tc1",
          "ACCORD2#LTR/Gypsy",
          "ACCORD#LTR/Gypsy",
          "Bica#LTR/Gypsy",
          "BLASTOPIA#LTR/Gypsy",
          "BLOOD#LTR/Gypsy",
          "BURDOCK#LTR/Gypsy",
          "Chimpo#LTR/Gypsy",
          "Chouto#LTR/Gypsy",
          "Copia1#LTR/Copia",
          "Copia2#LTR/Copia",
          "Copia#LTR/Copia",
          "DIVER2#LTR/Pao",
          "DM1731#LTR/Copia",
          "DM176#LTR/Gypsy",
          "DM297#LTR/Gypsy",
          "TOM#LTR/Gypsy",
          "GTWIN#LTR/Gypsy",
          "Gypsy10#LTR/Gypsy",
          "Gypsy11#LTR/Gypsy",
          "Gypsy12#LTR/Gypsy",
          "Gypsy1#LTR/Gypsy",
          "Gypsy2_bis#LTR/Gypsy",
          "Gypsy2#LTR/Gypsy",
          "Gypsy3#LTR/Gypsy",
          "Gypsy5#LTR/Gypsy",
          "Gypsy6#LTR/Gypsy",
          "Gypsy7#LTR/Gypsy",
          "Gypsy8#LTR/Gypsy",
          "Gypsy#LTR/Gypsy",
          "IDEFIX#LTR/Gypsy",
          "Invader1#LTR/Gypsy",
          "Invader4#LTR/Gypsy",
          "Invader5#LTR/Gypsy",
          "Invader6#LTR/Gypsy",
          "MAX#LTR/Pao",
          "MDG1#LTR/Gypsy",
          "NINJA#LTR/Pao",
          "NOMAD#LTR/Gypsy",
          "QUASIMODO2#LTR/Gypsy",
          "QUASIMODO#LTR/Gypsy",
          "ROOA#LTR/Pao",
          "ROO#LTR/Pao",
          "ROVER#LTR/Gypsy",
          "Stalker2#LTR/Gypsy",
          "STALKER4#LTR/Gypsy",
          "TIRANT#LTR/Gypsy",
          "TRANSPAC#LTR/Gypsy",
          "XDMR#Unknown/Unknown",
          "ARS406_DM#Unknown/Unknown",
          "BARI1#DNA/TcMar-Tc1",
          "BS3_DM#LINE/I-Jockey",
          "BS4_DM#LINE/I-Jockey",
          "DMLTR5#LTR/Gypsy",
          "DMRP1#Unknown/Unknown",
          "DMRPR#Unknown/Unknown",
          "DOC4_DM#LINE/I-Jockey",
          "FW2_DM#LINE/I-Jockey",
          "FW3_DM#LINE/I-Jockey",
          "G2_DM#LINE/I-Jockey",
          "G4_DM#LINE/I-Jockey",
          "G6_DM#LINE/I-Jockey",
          "G7_DM#LINE/I-Jockey",
          "HETRP_DM#Satellite/Unknown",
          "Jockey2#LINE/I-Jockey",
          "NOF_FB#DNA/MULE-NOF",
          "R1-2_DM#LINE/R1",
          "TRANSIB1#DNA/CMC-Transib",
          "Transib5#DNA/CMC-Transib",
          "Transib-N1_DM#DNA/CMC-Transib",
          "ZAM#LTR/Gypsy",
          "BATUMI#LTR/Pao",
          "BEL#LTR/Pao",
          "DIVER#LTR/Pao",
          "FROGGER#LTR/Copia",
          "Gypsy4#LTR/Gypsy",
          "Gypsy9#LTR/Gypsy",
          "Invader2#LTR/Gypsy",
          "Invader3#LTR/Gypsy",
          "MDG3#LTR/Gypsy",
          "MICROPIA#LTR/Gypsy",
          "TABOR#LTR/Gypsy"
         ],
         "y": [
          0.002591952604295236,
          0.00012342631449024932,
          0.0009874105159219946,
          0.0020982473463342388,
          0.0048136262651197245,
          0.0014811157738829918,
          0.0024685262898049864,
          0.0041964946926684775,
          0.004690199950629474,
          0.005554184152061221,
          0.004443347321648976,
          0.014070599851888422,
          0.01678597877067391,
          0.0032090841767464825,
          0.00740557886941496,
          0.00012342631449024932,
          0.007775857812885706,
          0.011478647247593187,
          0.003826215749197729,
          0.02715378918785485,
          0.0024685262898049864,
          0,
          0.0008639842014317452,
          0.00012342631449024932,
          0,
          0.14021229326092322,
          0.003826215749197729,
          0.0013576894593927426,
          0.0007405578869414959,
          0.0007405578869414959,
          0.0048136262651197245,
          0.00530733152308072,
          0.01974821031843989,
          0.00024685262898049864,
          0.0006171315724512466,
          0.005554184152061221,
          0.002591952604295236,
          0.008516415699827203,
          0.002591952604295236,
          0.0008639842014317452,
          0.00012342631449024932,
          0.002345099975314737,
          0.004443347321648976,
          0.08269563070846704,
          0.06813132559861762,
          0.043446062700567764,
          0.002962231547765984,
          0.0020982473463342388,
          0.02196988397926438,
          0.0017279684028634905,
          0.000370278943470748,
          0.0027153789187854853,
          0.0013576894593927426,
          0.0008639842014317452,
          0.002962231547765984,
          0.005554184152061221,
          0.0020982473463342388,
          0.008886694643297952,
          0.002345099975314737,
          0.00185139471735374,
          0.0040730683781782274,
          0.0024685262898049864,
          0.03023944705011108,
          0.0041964946926684775,
          0.0048136262651197245,
          0.011972352505554184,
          0.005183905208590471,
          0.016909405085164156,
          0.00024685262898049864,
          0.08528758331276227,
          0.0016045420883732413,
          0.011108368304122441,
          0.00024685262898049864,
          0.0012342631449024932,
          0.0016045420883732413,
          0,
          0.00024685262898049864,
          0.0017279684028634905,
          0.00012342631449024932,
          0.004319921007158726,
          0.0032090841767464825,
          0.024068131325598617,
          0.010491236731671192,
          0.0009874105159219946,
          0.00012342631449024932,
          0.0013576894593927426,
          0.009627252530239449,
          0.0013576894593927426,
          0.0017279684028634905,
          0.007035299925944211,
          0.0007405578869414959,
          0.01814366823006665,
          0.0013576894593927426,
          0.028511478647247592,
          0.0012342631449024932,
          0.0008639842014317452,
          0.0013576894593927426,
          0.004937052579609973,
          0.015428289311281162,
          0.0007405578869414959,
          0.00012342631449024932,
          0.0013576894593927426,
          0.0035793631202172297,
          0.0004937052579609973,
          0.0012342631449024932,
          0.000370278943470748,
          0.008763268328807701,
          0.0006171315724512466,
          0.0008639842014317452,
          0.006294742039002715,
          0.0006171315724512466,
          0.01221920513453468,
          0.000370278943470748,
          0.00012342631449024932,
          0.00012342631449024932,
          0.02122932609232288,
          0.0008639842014317452,
          0.0041964946926684775,
          0.00012342631449024932,
          0.002591952604295236,
          0.00024685262898049864,
          0.005677610466551469,
          0.002962231547765984,
          0.003949642063687978,
          0.000370278943470748,
          0.00530733152308072,
          0.0004937052579609973,
          0.004566773636139225,
          0.0008639842014317452,
          0.000370278943470748,
          0.0007405578869414959,
          0.0006171315724512466,
          0.0013576894593927426
         ]
        }
       ],
       "layout": {
        "barmode": "group",
        "template": {
         "data": {
          "bar": [
           {
            "error_x": {
             "color": "#2a3f5f"
            },
            "error_y": {
             "color": "#2a3f5f"
            },
            "marker": {
             "line": {
              "color": "#E5ECF6",
              "width": 0.5
             }
            },
            "type": "bar"
           }
          ],
          "barpolar": [
           {
            "marker": {
             "line": {
              "color": "#E5ECF6",
              "width": 0.5
             }
            },
            "type": "barpolar"
           }
          ],
          "carpet": [
           {
            "aaxis": {
             "endlinecolor": "#2a3f5f",
             "gridcolor": "white",
             "linecolor": "white",
             "minorgridcolor": "white",
             "startlinecolor": "#2a3f5f"
            },
            "baxis": {
             "endlinecolor": "#2a3f5f",
             "gridcolor": "white",
             "linecolor": "white",
             "minorgridcolor": "white",
             "startlinecolor": "#2a3f5f"
            },
            "type": "carpet"
           }
          ],
          "choropleth": [
           {
            "colorbar": {
             "outlinewidth": 0,
             "ticks": ""
            },
            "type": "choropleth"
           }
          ],
          "contour": [
           {
            "colorbar": {
             "outlinewidth": 0,
             "ticks": ""
            },
            "colorscale": [
             [
              0,
              "#0d0887"
             ],
             [
              0.1111111111111111,
              "#46039f"
             ],
             [
              0.2222222222222222,
              "#7201a8"
             ],
             [
              0.3333333333333333,
              "#9c179e"
             ],
             [
              0.4444444444444444,
              "#bd3786"
             ],
             [
              0.5555555555555556,
              "#d8576b"
             ],
             [
              0.6666666666666666,
              "#ed7953"
             ],
             [
              0.7777777777777778,
              "#fb9f3a"
             ],
             [
              0.8888888888888888,
              "#fdca26"
             ],
             [
              1,
              "#f0f921"
             ]
            ],
            "type": "contour"
           }
          ],
          "contourcarpet": [
           {
            "colorbar": {
             "outlinewidth": 0,
             "ticks": ""
            },
            "type": "contourcarpet"
           }
          ],
          "heatmap": [
           {
            "colorbar": {
             "outlinewidth": 0,
             "ticks": ""
            },
            "colorscale": [
             [
              0,
              "#0d0887"
             ],
             [
              0.1111111111111111,
              "#46039f"
             ],
             [
              0.2222222222222222,
              "#7201a8"
             ],
             [
              0.3333333333333333,
              "#9c179e"
             ],
             [
              0.4444444444444444,
              "#bd3786"
             ],
             [
              0.5555555555555556,
              "#d8576b"
             ],
             [
              0.6666666666666666,
              "#ed7953"
             ],
             [
              0.7777777777777778,
              "#fb9f3a"
             ],
             [
              0.8888888888888888,
              "#fdca26"
             ],
             [
              1,
              "#f0f921"
             ]
            ],
            "type": "heatmap"
           }
          ],
          "heatmapgl": [
           {
            "colorbar": {
             "outlinewidth": 0,
             "ticks": ""
            },
            "colorscale": [
             [
              0,
              "#0d0887"
             ],
             [
              0.1111111111111111,
              "#46039f"
             ],
             [
              0.2222222222222222,
              "#7201a8"
             ],
             [
              0.3333333333333333,
              "#9c179e"
             ],
             [
              0.4444444444444444,
              "#bd3786"
             ],
             [
              0.5555555555555556,
              "#d8576b"
             ],
             [
              0.6666666666666666,
              "#ed7953"
             ],
             [
              0.7777777777777778,
              "#fb9f3a"
             ],
             [
              0.8888888888888888,
              "#fdca26"
             ],
             [
              1,
              "#f0f921"
             ]
            ],
            "type": "heatmapgl"
           }
          ],
          "histogram": [
           {
            "marker": {
             "colorbar": {
              "outlinewidth": 0,
              "ticks": ""
             }
            },
            "type": "histogram"
           }
          ],
          "histogram2d": [
           {
            "colorbar": {
             "outlinewidth": 0,
             "ticks": ""
            },
            "colorscale": [
             [
              0,
              "#0d0887"
             ],
             [
              0.1111111111111111,
              "#46039f"
             ],
             [
              0.2222222222222222,
              "#7201a8"
             ],
             [
              0.3333333333333333,
              "#9c179e"
             ],
             [
              0.4444444444444444,
              "#bd3786"
             ],
             [
              0.5555555555555556,
              "#d8576b"
             ],
             [
              0.6666666666666666,
              "#ed7953"
             ],
             [
              0.7777777777777778,
              "#fb9f3a"
             ],
             [
              0.8888888888888888,
              "#fdca26"
             ],
             [
              1,
              "#f0f921"
             ]
            ],
            "type": "histogram2d"
           }
          ],
          "histogram2dcontour": [
           {
            "colorbar": {
             "outlinewidth": 0,
             "ticks": ""
            },
            "colorscale": [
             [
              0,
              "#0d0887"
             ],
             [
              0.1111111111111111,
              "#46039f"
             ],
             [
              0.2222222222222222,
              "#7201a8"
             ],
             [
              0.3333333333333333,
              "#9c179e"
             ],
             [
              0.4444444444444444,
              "#bd3786"
             ],
             [
              0.5555555555555556,
              "#d8576b"
             ],
             [
              0.6666666666666666,
              "#ed7953"
             ],
             [
              0.7777777777777778,
              "#fb9f3a"
             ],
             [
              0.8888888888888888,
              "#fdca26"
             ],
             [
              1,
              "#f0f921"
             ]
            ],
            "type": "histogram2dcontour"
           }
          ],
          "mesh3d": [
           {
            "colorbar": {
             "outlinewidth": 0,
             "ticks": ""
            },
            "type": "mesh3d"
           }
          ],
          "parcoords": [
           {
            "line": {
             "colorbar": {
              "outlinewidth": 0,
              "ticks": ""
             }
            },
            "type": "parcoords"
           }
          ],
          "pie": [
           {
            "automargin": true,
            "type": "pie"
           }
          ],
          "scatter": [
           {
            "marker": {
             "colorbar": {
              "outlinewidth": 0,
              "ticks": ""
             }
            },
            "type": "scatter"
           }
          ],
          "scatter3d": [
           {
            "line": {
             "colorbar": {
              "outlinewidth": 0,
              "ticks": ""
             }
            },
            "marker": {
             "colorbar": {
              "outlinewidth": 0,
              "ticks": ""
             }
            },
            "type": "scatter3d"
           }
          ],
          "scattercarpet": [
           {
            "marker": {
             "colorbar": {
              "outlinewidth": 0,
              "ticks": ""
             }
            },
            "type": "scattercarpet"
           }
          ],
          "scattergeo": [
           {
            "marker": {
             "colorbar": {
              "outlinewidth": 0,
              "ticks": ""
             }
            },
            "type": "scattergeo"
           }
          ],
          "scattergl": [
           {
            "marker": {
             "colorbar": {
              "outlinewidth": 0,
              "ticks": ""
             }
            },
            "type": "scattergl"
           }
          ],
          "scattermapbox": [
           {
            "marker": {
             "colorbar": {
              "outlinewidth": 0,
              "ticks": ""
             }
            },
            "type": "scattermapbox"
           }
          ],
          "scatterpolar": [
           {
            "marker": {
             "colorbar": {
              "outlinewidth": 0,
              "ticks": ""
             }
            },
            "type": "scatterpolar"
           }
          ],
          "scatterpolargl": [
           {
            "marker": {
             "colorbar": {
              "outlinewidth": 0,
              "ticks": ""
             }
            },
            "type": "scatterpolargl"
           }
          ],
          "scatterternary": [
           {
            "marker": {
             "colorbar": {
              "outlinewidth": 0,
              "ticks": ""
             }
            },
            "type": "scatterternary"
           }
          ],
          "surface": [
           {
            "colorbar": {
             "outlinewidth": 0,
             "ticks": ""
            },
            "colorscale": [
             [
              0,
              "#0d0887"
             ],
             [
              0.1111111111111111,
              "#46039f"
             ],
             [
              0.2222222222222222,
              "#7201a8"
             ],
             [
              0.3333333333333333,
              "#9c179e"
             ],
             [
              0.4444444444444444,
              "#bd3786"
             ],
             [
              0.5555555555555556,
              "#d8576b"
             ],
             [
              0.6666666666666666,
              "#ed7953"
             ],
             [
              0.7777777777777778,
              "#fb9f3a"
             ],
             [
              0.8888888888888888,
              "#fdca26"
             ],
             [
              1,
              "#f0f921"
             ]
            ],
            "type": "surface"
           }
          ],
          "table": [
           {
            "cells": {
             "fill": {
              "color": "#EBF0F8"
             },
             "line": {
              "color": "white"
             }
            },
            "header": {
             "fill": {
              "color": "#C8D4E3"
             },
             "line": {
              "color": "white"
             }
            },
            "type": "table"
           }
          ]
         },
         "layout": {
          "annotationdefaults": {
           "arrowcolor": "#2a3f5f",
           "arrowhead": 0,
           "arrowwidth": 1
          },
          "autotypenumbers": "strict",
          "coloraxis": {
           "colorbar": {
            "outlinewidth": 0,
            "ticks": ""
           }
          },
          "colorscale": {
           "diverging": [
            [
             0,
             "#8e0152"
            ],
            [
             0.1,
             "#c51b7d"
            ],
            [
             0.2,
             "#de77ae"
            ],
            [
             0.3,
             "#f1b6da"
            ],
            [
             0.4,
             "#fde0ef"
            ],
            [
             0.5,
             "#f7f7f7"
            ],
            [
             0.6,
             "#e6f5d0"
            ],
            [
             0.7,
             "#b8e186"
            ],
            [
             0.8,
             "#7fbc41"
            ],
            [
             0.9,
             "#4d9221"
            ],
            [
             1,
             "#276419"
            ]
           ],
           "sequential": [
            [
             0,
             "#0d0887"
            ],
            [
             0.1111111111111111,
             "#46039f"
            ],
            [
             0.2222222222222222,
             "#7201a8"
            ],
            [
             0.3333333333333333,
             "#9c179e"
            ],
            [
             0.4444444444444444,
             "#bd3786"
            ],
            [
             0.5555555555555556,
             "#d8576b"
            ],
            [
             0.6666666666666666,
             "#ed7953"
            ],
            [
             0.7777777777777778,
             "#fb9f3a"
            ],
            [
             0.8888888888888888,
             "#fdca26"
            ],
            [
             1,
             "#f0f921"
            ]
           ],
           "sequentialminus": [
            [
             0,
             "#0d0887"
            ],
            [
             0.1111111111111111,
             "#46039f"
            ],
            [
             0.2222222222222222,
             "#7201a8"
            ],
            [
             0.3333333333333333,
             "#9c179e"
            ],
            [
             0.4444444444444444,
             "#bd3786"
            ],
            [
             0.5555555555555556,
             "#d8576b"
            ],
            [
             0.6666666666666666,
             "#ed7953"
            ],
            [
             0.7777777777777778,
             "#fb9f3a"
            ],
            [
             0.8888888888888888,
             "#fdca26"
            ],
            [
             1,
             "#f0f921"
            ]
           ]
          },
          "colorway": [
           "#636efa",
           "#EF553B",
           "#00cc96",
           "#ab63fa",
           "#FFA15A",
           "#19d3f3",
           "#FF6692",
           "#B6E880",
           "#FF97FF",
           "#FECB52"
          ],
          "font": {
           "color": "#2a3f5f"
          },
          "geo": {
           "bgcolor": "white",
           "lakecolor": "white",
           "landcolor": "#E5ECF6",
           "showlakes": true,
           "showland": true,
           "subunitcolor": "white"
          },
          "hoverlabel": {
           "align": "left"
          },
          "hovermode": "closest",
          "mapbox": {
           "style": "light"
          },
          "paper_bgcolor": "white",
          "plot_bgcolor": "#E5ECF6",
          "polar": {
           "angularaxis": {
            "gridcolor": "white",
            "linecolor": "white",
            "ticks": ""
           },
           "bgcolor": "#E5ECF6",
           "radialaxis": {
            "gridcolor": "white",
            "linecolor": "white",
            "ticks": ""
           }
          },
          "scene": {
           "xaxis": {
            "backgroundcolor": "#E5ECF6",
            "gridcolor": "white",
            "gridwidth": 2,
            "linecolor": "white",
            "showbackground": true,
            "ticks": "",
            "zerolinecolor": "white"
           },
           "yaxis": {
            "backgroundcolor": "#E5ECF6",
            "gridcolor": "white",
            "gridwidth": 2,
            "linecolor": "white",
            "showbackground": true,
            "ticks": "",
            "zerolinecolor": "white"
           },
           "zaxis": {
            "backgroundcolor": "#E5ECF6",
            "gridcolor": "white",
            "gridwidth": 2,
            "linecolor": "white",
            "showbackground": true,
            "ticks": "",
            "zerolinecolor": "white"
           }
          },
          "shapedefaults": {
           "line": {
            "color": "#2a3f5f"
           }
          },
          "ternary": {
           "aaxis": {
            "gridcolor": "white",
            "linecolor": "white",
            "ticks": ""
           },
           "baxis": {
            "gridcolor": "white",
            "linecolor": "white",
            "ticks": ""
           },
           "bgcolor": "#E5ECF6",
           "caxis": {
            "gridcolor": "white",
            "linecolor": "white",
            "ticks": ""
           }
          },
          "title": {
           "x": 0.05
          },
          "xaxis": {
           "automargin": true,
           "gridcolor": "white",
           "linecolor": "white",
           "ticks": "",
           "title": {
            "standoff": 15
           },
           "zerolinecolor": "white",
           "zerolinewidth": 2
          },
          "yaxis": {
           "automargin": true,
           "gridcolor": "white",
           "linecolor": "white",
           "ticks": "",
           "title": {
            "standoff": 15
           },
           "zerolinecolor": "white",
           "zerolinewidth": 2
          }
         }
        },
        "uniformtext": {
         "minsize": 1,
         "mode": "hide"
        },
        "width": 1500,
        "xaxis": {
         "tickangle": -45
        }
       }
      }
     },
     "metadata": {}
    }
   ],
   "source": [
    "fig = go.Figure()\n",
    "fig.add_trace(go.Bar(\n",
    "    x=consensus_ratio_df.index,\n",
    "    y=consensus_ratio_df[\"Female\"],\n",
    "    name='Female',\n",
    "    marker_color='indianred'\n",
    "))\n",
    "\n",
    "fig.add_trace(go.Bar(\n",
    "    x=consensus_ratio_df.index,\n",
    "    y=consensus_ratio_df[\"Male\"],\n",
    "    name='Male',\n",
    "    marker_color='blue'\n",
    "))\n",
    "\n",
    "fig.update_traces(texttemplate='%{text:.2s}', textposition='outside')\n",
    "fig.update_layout(uniformtext_minsize=1, uniformtext_mode='hide')\n",
    "fig.update_layout(barmode='group', xaxis_tickangle=-45, width=1500)\n",
    "fig.show()"
   ]
  },
  {
   "cell_type": "code",
   "execution_count": 4,
   "metadata": {
    "slideshow": {
     "slide_type": "slide"
    }
   },
   "outputs": [
    {
     "output_type": "display_data",
     "data": {
      "text/plain": "<Figure size 1440x432 with 2 Axes>",
      "image/svg+xml": "<?xml version=\"1.0\" encoding=\"utf-8\" standalone=\"no\"?>\n<!DOCTYPE svg PUBLIC \"-//W3C//DTD SVG 1.1//EN\"\n  \"http://www.w3.org/Graphics/SVG/1.1/DTD/svg11.dtd\">\n<!-- Created with matplotlib (https://matplotlib.org/) -->\n<svg height=\"549.090625pt\" version=\"1.1\" viewBox=\"0 0 1160.309199 549.090625\" width=\"1160.309199pt\" xmlns=\"http://www.w3.org/2000/svg\" xmlns:xlink=\"http://www.w3.org/1999/xlink\">\n <defs>\n  <style type=\"text/css\">\n*{stroke-linecap:butt;stroke-linejoin:round;}\n  </style>\n </defs>\n <g id=\"figure_1\">\n  <g id=\"patch_1\">\n   <path d=\"M 0 549.090625 \nL 1160.309199 549.090625 \nL 1160.309199 0 \nL 0 0 \nz\n\" style=\"fill:none;\"/>\n  </g>\n  <g id=\"axes_1\">\n   <g id=\"patch_2\">\n    <path d=\"M 36.465625 170.57267 \nL 1152.465625 170.57267 \nL 1152.465625 22.318125 \nL 36.465625 22.318125 \nz\n\" style=\"fill:#ffffff;\"/>\n   </g>\n   <g id=\"patch_3\">\n    <path clip-path=\"url(#p15581e7fa3)\" d=\"M 38.563369 170.57267 \nL 42.758858 170.57267 \nL 42.758858 169.246008 \nL 38.563369 169.246008 \nz\n\" style=\"fill:#1f77b4;\"/>\n   </g>\n   <g id=\"patch_4\">\n    <path clip-path=\"url(#p15581e7fa3)\" d=\"M 46.954347 170.57267 \nL 51.149836 170.57267 \nL 51.149836 170.13045 \nL 46.954347 170.13045 \nz\n\" style=\"fill:#1f77b4;\"/>\n   </g>\n   <g id=\"patch_5\">\n    <path clip-path=\"url(#p15581e7fa3)\" d=\"M 55.345324 170.57267 \nL 59.540813 170.57267 \nL 59.540813 168.803787 \nL 55.345324 168.803787 \nz\n\" style=\"fill:#1f77b4;\"/>\n   </g>\n   <g id=\"patch_6\">\n    <path clip-path=\"url(#p15581e7fa3)\" d=\"M 63.736302 170.57267 \nL 67.93179 170.57267 \nL 67.93179 170.13045 \nL 63.736302 170.13045 \nz\n\" style=\"fill:#1f77b4;\"/>\n   </g>\n   <g id=\"patch_7\">\n    <path clip-path=\"url(#p15581e7fa3)\" d=\"M 72.127279 170.57267 \nL 76.322768 170.57267 \nL 76.322768 169.246008 \nL 72.127279 169.246008 \nz\n\" style=\"fill:#1f77b4;\"/>\n   </g>\n   <g id=\"patch_8\">\n    <path clip-path=\"url(#p15581e7fa3)\" d=\"M 80.518257 170.57267 \nL 84.713745 170.57267 \nL 84.713745 165.26602 \nL 80.518257 165.26602 \nz\n\" style=\"fill:#1f77b4;\"/>\n   </g>\n   <g id=\"patch_9\">\n    <path clip-path=\"url(#p15581e7fa3)\" d=\"M 88.909234 170.57267 \nL 93.104723 170.57267 \nL 93.104723 168.803787 \nL 88.909234 168.803787 \nz\n\" style=\"fill:#1f77b4;\"/>\n   </g>\n   <g id=\"patch_10\">\n    <path clip-path=\"url(#p15581e7fa3)\" d=\"M 97.300211 170.57267 \nL 101.4957 170.57267 \nL 101.4957 167.919345 \nL 97.300211 167.919345 \nz\n\" style=\"fill:#1f77b4;\"/>\n   </g>\n   <g id=\"patch_11\">\n    <path clip-path=\"url(#p15581e7fa3)\" d=\"M 105.691189 170.57267 \nL 109.886678 170.57267 \nL 109.886678 167.477124 \nL 105.691189 167.477124 \nz\n\" style=\"fill:#1f77b4;\"/>\n   </g>\n   <g id=\"patch_12\">\n    <path clip-path=\"url(#p15581e7fa3)\" d=\"M 114.082166 170.57267 \nL 118.277655 170.57267 \nL 118.277655 170.13045 \nL 114.082166 170.13045 \nz\n\" style=\"fill:#1f77b4;\"/>\n   </g>\n   <g id=\"patch_13\">\n    <path clip-path=\"url(#p15581e7fa3)\" d=\"M 122.473144 170.57267 \nL 126.668633 170.57267 \nL 126.668633 169.246008 \nL 122.473144 169.246008 \nz\n\" style=\"fill:#1f77b4;\"/>\n   </g>\n   <g id=\"patch_14\">\n    <path clip-path=\"url(#p15581e7fa3)\" d=\"M 130.864121 170.57267 \nL 135.05961 170.57267 \nL 135.05961 152.441615 \nL 130.864121 152.441615 \nz\n\" style=\"fill:#1f77b4;\"/>\n   </g>\n   <g id=\"patch_15\">\n    <path clip-path=\"url(#p15581e7fa3)\" d=\"M 139.255099 170.57267 \nL 143.450587 170.57267 \nL 143.450587 167.919345 \nL 139.255099 167.919345 \nz\n\" style=\"fill:#1f77b4;\"/>\n   </g>\n   <g id=\"patch_16\">\n    <path clip-path=\"url(#p15581e7fa3)\" d=\"M 147.646076 170.57267 \nL 151.841565 170.57267 \nL 151.841565 170.13045 \nL 147.646076 170.13045 \nz\n\" style=\"fill:#1f77b4;\"/>\n   </g>\n   <g id=\"patch_17\">\n    <path clip-path=\"url(#p15581e7fa3)\" d=\"M 156.037054 170.57267 \nL 160.232542 170.57267 \nL 160.232542 163.054916 \nL 156.037054 163.054916 \nz\n\" style=\"fill:#1f77b4;\"/>\n   </g>\n   <g id=\"patch_18\">\n    <path clip-path=\"url(#p15581e7fa3)\" d=\"M 164.428031 170.57267 \nL 168.62352 170.57267 \nL 168.62352 168.803787 \nL 164.428031 168.803787 \nz\n\" style=\"fill:#1f77b4;\"/>\n   </g>\n   <g id=\"patch_19\">\n    <path clip-path=\"url(#p15581e7fa3)\" d=\"M 172.819008 170.57267 \nL 177.014497 170.57267 \nL 177.014497 169.246008 \nL 172.819008 169.246008 \nz\n\" style=\"fill:#1f77b4;\"/>\n   </g>\n   <g id=\"patch_20\">\n    <path clip-path=\"url(#p15581e7fa3)\" d=\"M 181.209986 170.57267 \nL 185.405475 170.57267 \nL 185.405475 161.728253 \nL 181.209986 161.728253 \nz\n\" style=\"fill:#1f77b4;\"/>\n   </g>\n   <g id=\"patch_21\">\n    <path clip-path=\"url(#p15581e7fa3)\" d=\"M 189.600963 170.57267 \nL 193.796452 170.57267 \nL 193.796452 169.688229 \nL 189.600963 169.688229 \nz\n\" style=\"fill:#1f77b4;\"/>\n   </g>\n   <g id=\"patch_22\">\n    <path clip-path=\"url(#p15581e7fa3)\" d=\"M 197.991941 170.57267 \nL 202.18743 170.57267 \nL 202.18743 163.497137 \nL 197.991941 163.497137 \nz\n\" style=\"fill:#1f77b4;\"/>\n   </g>\n   <g id=\"patch_23\">\n    <path clip-path=\"url(#p15581e7fa3)\" d=\"M 206.382918 170.57267 \nL 210.578407 170.57267 \nL 210.578407 170.13045 \nL 206.382918 170.13045 \nz\n\" style=\"fill:#1f77b4;\"/>\n   </g>\n   <g id=\"patch_24\">\n    <path clip-path=\"url(#p15581e7fa3)\" d=\"M 214.773896 170.57267 \nL 218.969384 170.57267 \nL 218.969384 169.688229 \nL 214.773896 169.688229 \nz\n\" style=\"fill:#1f77b4;\"/>\n   </g>\n   <g id=\"patch_25\">\n    <path clip-path=\"url(#p15581e7fa3)\" d=\"M 223.164873 170.57267 \nL 227.360362 170.57267 \nL 227.360362 169.688229 \nL 223.164873 169.688229 \nz\n\" style=\"fill:#1f77b4;\"/>\n   </g>\n   <g id=\"patch_26\">\n    <path clip-path=\"url(#p15581e7fa3)\" d=\"M 231.555851 170.57267 \nL 235.751339 170.57267 \nL 235.751339 170.13045 \nL 231.555851 170.13045 \nz\n\" style=\"fill:#1f77b4;\"/>\n   </g>\n   <g id=\"patch_27\">\n    <path clip-path=\"url(#p15581e7fa3)\" d=\"M 239.946828 170.57267 \nL 244.142317 170.57267 \nL 244.142317 170.13045 \nL 239.946828 170.13045 \nz\n\" style=\"fill:#1f77b4;\"/>\n   </g>\n   <g id=\"patch_28\">\n    <path clip-path=\"url(#p15581e7fa3)\" d=\"M 248.337805 170.57267 \nL 252.533294 170.57267 \nL 252.533294 163.939357 \nL 248.337805 163.939357 \nz\n\" style=\"fill:#1f77b4;\"/>\n   </g>\n   <g id=\"patch_29\">\n    <path clip-path=\"url(#p15581e7fa3)\" d=\"M 256.728783 170.57267 \nL 260.924272 170.57267 \nL 260.924272 167.034904 \nL 256.728783 167.034904 \nz\n\" style=\"fill:#1f77b4;\"/>\n   </g>\n   <g id=\"patch_30\">\n    <path clip-path=\"url(#p15581e7fa3)\" d=\"M 265.11976 170.57267 \nL 269.315249 170.57267 \nL 269.315249 168.803787 \nL 265.11976 168.803787 \nz\n\" style=\"fill:#1f77b4;\"/>\n   </g>\n   <g id=\"patch_31\">\n    <path clip-path=\"url(#p15581e7fa3)\" d=\"M 273.510738 170.57267 \nL 277.706227 170.57267 \nL 277.706227 169.688229 \nL 273.510738 169.688229 \nz\n\" style=\"fill:#1f77b4;\"/>\n   </g>\n   <g id=\"patch_32\">\n    <path clip-path=\"url(#p15581e7fa3)\" d=\"M 281.901715 170.57267 \nL 286.097204 170.57267 \nL 286.097204 168.361566 \nL 281.901715 168.361566 \nz\n\" style=\"fill:#1f77b4;\"/>\n   </g>\n   <g id=\"patch_33\">\n    <path clip-path=\"url(#p15581e7fa3)\" d=\"M 290.292693 170.57267 \nL 294.488181 170.57267 \nL 294.488181 167.477124 \nL 290.292693 167.477124 \nz\n\" style=\"fill:#1f77b4;\"/>\n   </g>\n   <g id=\"patch_34\">\n    <path clip-path=\"url(#p15581e7fa3)\" d=\"M 298.68367 170.57267 \nL 302.879159 170.57267 \nL 302.879159 169.246008 \nL 298.68367 169.246008 \nz\n\" style=\"fill:#1f77b4;\"/>\n   </g>\n   <g id=\"patch_35\">\n    <path clip-path=\"url(#p15581e7fa3)\" d=\"M 307.074648 170.57267 \nL 311.270136 170.57267 \nL 311.270136 168.361566 \nL 307.074648 168.361566 \nz\n\" style=\"fill:#1f77b4;\"/>\n   </g>\n   <g id=\"patch_36\">\n    <path clip-path=\"url(#p15581e7fa3)\" d=\"M 315.465625 170.57267 \nL 319.661114 170.57267 \nL 319.661114 169.246008 \nL 315.465625 169.246008 \nz\n\" style=\"fill:#1f77b4;\"/>\n   </g>\n   <g id=\"patch_37\">\n    <path clip-path=\"url(#p15581e7fa3)\" d=\"M 323.856602 170.57267 \nL 328.052091 170.57267 \nL 328.052091 170.13045 \nL 323.856602 170.13045 \nz\n\" style=\"fill:#1f77b4;\"/>\n   </g>\n   <g id=\"patch_38\">\n    <path clip-path=\"url(#p15581e7fa3)\" d=\"M 332.24758 170.57267 \nL 336.443069 170.57267 \nL 336.443069 62.670779 \nL 332.24758 62.670779 \nz\n\" style=\"fill:#1f77b4;\"/>\n   </g>\n   <g id=\"patch_39\">\n    <path clip-path=\"url(#p15581e7fa3)\" d=\"M 340.638557 170.57267 \nL 344.834046 170.57267 \nL 344.834046 169.246008 \nL 340.638557 169.246008 \nz\n\" style=\"fill:#1f77b4;\"/>\n   </g>\n   <g id=\"patch_40\">\n    <path clip-path=\"url(#p15581e7fa3)\" d=\"M 349.029535 170.57267 \nL 353.225023 170.57267 \nL 353.225023 167.034904 \nL 349.029535 167.034904 \nz\n\" style=\"fill:#1f77b4;\"/>\n   </g>\n   <g id=\"patch_41\">\n    <path clip-path=\"url(#p15581e7fa3)\" d=\"M 357.420512 170.57267 \nL 361.616001 170.57267 \nL 361.616001 165.26602 \nL 357.420512 165.26602 \nz\n\" style=\"fill:#1f77b4;\"/>\n   </g>\n   <g id=\"patch_42\">\n    <path clip-path=\"url(#p15581e7fa3)\" d=\"M 365.81149 170.57267 \nL 370.006978 170.57267 \nL 370.006978 167.919345 \nL 365.81149 167.919345 \nz\n\" style=\"fill:#1f77b4;\"/>\n   </g>\n   <g id=\"patch_43\">\n    <path clip-path=\"url(#p15581e7fa3)\" d=\"M 374.202467 170.57267 \nL 378.397956 170.57267 \nL 378.397956 169.246008 \nL 374.202467 169.246008 \nz\n\" style=\"fill:#1f77b4;\"/>\n   </g>\n   <g id=\"patch_44\">\n    <path clip-path=\"url(#p15581e7fa3)\" d=\"M 382.593445 170.57267 \nL 386.788933 170.57267 \nL 386.788933 170.13045 \nL 382.593445 170.13045 \nz\n\" style=\"fill:#1f77b4;\"/>\n   </g>\n   <g id=\"patch_45\">\n    <path clip-path=\"url(#p15581e7fa3)\" d=\"M 390.984422 170.57267 \nL 395.179911 170.57267 \nL 395.179911 165.708241 \nL 390.984422 165.708241 \nz\n\" style=\"fill:#1f77b4;\"/>\n   </g>\n   <g id=\"patch_46\">\n    <path clip-path=\"url(#p15581e7fa3)\" d=\"M 399.375399 170.57267 \nL 403.570888 170.57267 \nL 403.570888 167.919345 \nL 399.375399 167.919345 \nz\n\" style=\"fill:#1f77b4;\"/>\n   </g>\n   <g id=\"patch_47\">\n    <path clip-path=\"url(#p15581e7fa3)\" d=\"M 407.766377 170.57267 \nL 411.961866 170.57267 \nL 411.961866 161.728253 \nL 407.766377 161.728253 \nz\n\" style=\"fill:#1f77b4;\"/>\n   </g>\n   <g id=\"patch_48\">\n    <path clip-path=\"url(#p15581e7fa3)\" d=\"M 416.157354 170.57267 \nL 420.352843 170.57267 \nL 420.352843 165.26602 \nL 416.157354 165.26602 \nz\n\" style=\"fill:#1f77b4;\"/>\n   </g>\n   <g id=\"patch_49\">\n    <path clip-path=\"url(#p15581e7fa3)\" d=\"M 424.548332 170.57267 \nL 428.74382 170.57267 \nL 428.74382 157.306044 \nL 424.548332 157.306044 \nz\n\" style=\"fill:#1f77b4;\"/>\n   </g>\n   <g id=\"patch_50\">\n    <path clip-path=\"url(#p15581e7fa3)\" d=\"M 432.939309 170.57267 \nL 437.134798 170.57267 \nL 437.134798 165.708241 \nL 432.939309 165.708241 \nz\n\" style=\"fill:#1f77b4;\"/>\n   </g>\n   <g id=\"patch_51\">\n    <path clip-path=\"url(#p15581e7fa3)\" d=\"M 441.330287 170.57267 \nL 445.525775 170.57267 \nL 445.525775 170.13045 \nL 441.330287 170.13045 \nz\n\" style=\"fill:#1f77b4;\"/>\n   </g>\n   <g id=\"patch_52\">\n    <path clip-path=\"url(#p15581e7fa3)\" d=\"M 449.721264 170.57267 \nL 453.916753 170.57267 \nL 453.916753 153.768278 \nL 449.721264 153.768278 \nz\n\" style=\"fill:#1f77b4;\"/>\n   </g>\n   <g id=\"patch_53\">\n    <path clip-path=\"url(#p15581e7fa3)\" d=\"M 458.112242 170.57267 \nL 462.30773 170.57267 \nL 462.30773 170.13045 \nL 458.112242 170.13045 \nz\n\" style=\"fill:#1f77b4;\"/>\n   </g>\n   <g id=\"patch_54\">\n    <path clip-path=\"url(#p15581e7fa3)\" d=\"M 466.503219 170.57267 \nL 470.698708 170.57267 \nL 470.698708 168.361566 \nL 466.503219 168.361566 \nz\n\" style=\"fill:#1f77b4;\"/>\n   </g>\n   <g id=\"patch_55\">\n    <path clip-path=\"url(#p15581e7fa3)\" d=\"M 474.894196 170.57267 \nL 479.089685 170.57267 \nL 479.089685 167.477124 \nL 474.894196 167.477124 \nz\n\" style=\"fill:#1f77b4;\"/>\n   </g>\n   <g id=\"patch_56\">\n    <path clip-path=\"url(#p15581e7fa3)\" d=\"M 483.285174 170.57267 \nL 487.480663 170.57267 \nL 487.480663 168.361566 \nL 483.285174 168.361566 \nz\n\" style=\"fill:#1f77b4;\"/>\n   </g>\n   <g id=\"patch_57\">\n    <path clip-path=\"url(#p15581e7fa3)\" d=\"M 491.676151 170.57267 \nL 495.87164 170.57267 \nL 495.87164 164.823799 \nL 491.676151 164.823799 \nz\n\" style=\"fill:#1f77b4;\"/>\n   </g>\n   <g id=\"patch_58\">\n    <path clip-path=\"url(#p15581e7fa3)\" d=\"M 500.067129 170.57267 \nL 504.262617 170.57267 \nL 504.262617 167.919345 \nL 500.067129 167.919345 \nz\n\" style=\"fill:#1f77b4;\"/>\n   </g>\n   <g id=\"patch_59\">\n    <path clip-path=\"url(#p15581e7fa3)\" d=\"M 508.458106 170.57267 \nL 512.653595 170.57267 \nL 512.653595 148.461627 \nL 508.458106 148.461627 \nz\n\" style=\"fill:#1f77b4;\"/>\n   </g>\n   <g id=\"patch_60\">\n    <path clip-path=\"url(#p15581e7fa3)\" d=\"M 516.849084 170.57267 \nL 521.044572 170.57267 \nL 521.044572 169.688229 \nL 516.849084 169.688229 \nz\n\" style=\"fill:#1f77b4;\"/>\n   </g>\n   <g id=\"patch_61\">\n    <path clip-path=\"url(#p15581e7fa3)\" d=\"M 525.240061 170.57267 \nL 529.43555 170.57267 \nL 529.43555 169.246008 \nL 525.240061 169.246008 \nz\n\" style=\"fill:#1f77b4;\"/>\n   </g>\n   <g id=\"patch_62\">\n    <path clip-path=\"url(#p15581e7fa3)\" d=\"M 533.631039 170.57267 \nL 537.826527 170.57267 \nL 537.826527 168.361566 \nL 533.631039 168.361566 \nz\n\" style=\"fill:#1f77b4;\"/>\n   </g>\n   <g id=\"patch_63\">\n    <path clip-path=\"url(#p15581e7fa3)\" d=\"M 542.022016 170.57267 \nL 546.217505 170.57267 \nL 546.217505 169.688229 \nL 542.022016 169.688229 \nz\n\" style=\"fill:#1f77b4;\"/>\n   </g>\n   <g id=\"patch_64\">\n    <path clip-path=\"url(#p15581e7fa3)\" d=\"M 550.412993 170.57267 \nL 554.608482 170.57267 \nL 554.608482 169.688229 \nL 550.412993 169.688229 \nz\n\" style=\"fill:#1f77b4;\"/>\n   </g>\n   <g id=\"patch_65\">\n    <path clip-path=\"url(#p15581e7fa3)\" d=\"M 558.803971 170.57267 \nL 562.99946 170.57267 \nL 562.99946 112.641737 \nL 558.803971 112.641737 \nz\n\" style=\"fill:#1f77b4;\"/>\n   </g>\n   <g id=\"patch_66\">\n    <path clip-path=\"url(#p15581e7fa3)\" d=\"M 567.194948 170.57267 \nL 571.390437 170.57267 \nL 571.390437 170.13045 \nL 567.194948 170.13045 \nz\n\" style=\"fill:#1f77b4;\"/>\n   </g>\n   <g id=\"patch_67\">\n    <path clip-path=\"url(#p15581e7fa3)\" d=\"M 575.585926 170.57267 \nL 579.781414 170.57267 \nL 579.781414 170.13045 \nL 575.585926 170.13045 \nz\n\" style=\"fill:#1f77b4;\"/>\n   </g>\n   <g id=\"patch_68\">\n    <path clip-path=\"url(#p15581e7fa3)\" d=\"M 583.976903 170.57267 \nL 588.172392 170.57267 \nL 588.172392 168.803787 \nL 583.976903 168.803787 \nz\n\" style=\"fill:#1f77b4;\"/>\n   </g>\n   <g id=\"patch_69\">\n    <path clip-path=\"url(#p15581e7fa3)\" d=\"M 592.367881 170.57267 \nL 596.563369 170.57267 \nL 596.563369 167.477124 \nL 592.367881 167.477124 \nz\n\" style=\"fill:#1f77b4;\"/>\n   </g>\n   <g id=\"patch_70\">\n    <path clip-path=\"url(#p15581e7fa3)\" d=\"M 600.758858 170.57267 \nL 604.954347 170.57267 \nL 604.954347 59.133012 \nL 600.758858 59.133012 \nz\n\" style=\"fill:#1f77b4;\"/>\n   </g>\n   <g id=\"patch_71\">\n    <path clip-path=\"url(#p15581e7fa3)\" d=\"M 609.149836 170.57267 \nL 613.345324 170.57267 \nL 613.345324 169.246008 \nL 609.149836 169.246008 \nz\n\" style=\"fill:#1f77b4;\"/>\n   </g>\n   <g id=\"patch_72\">\n    <path clip-path=\"url(#p15581e7fa3)\" d=\"M 617.540813 170.57267 \nL 621.736302 170.57267 \nL 621.736302 169.688229 \nL 617.540813 169.688229 \nz\n\" style=\"fill:#1f77b4;\"/>\n   </g>\n   <g id=\"patch_73\">\n    <path clip-path=\"url(#p15581e7fa3)\" d=\"M 625.93179 170.57267 \nL 630.127279 170.57267 \nL 630.127279 169.246008 \nL 625.93179 169.246008 \nz\n\" style=\"fill:#1f77b4;\"/>\n   </g>\n   <g id=\"patch_74\">\n    <path clip-path=\"url(#p15581e7fa3)\" d=\"M 634.322768 170.57267 \nL 638.518257 170.57267 \nL 638.518257 147.577185 \nL 634.322768 147.577185 \nz\n\" style=\"fill:#1f77b4;\"/>\n   </g>\n   <g id=\"patch_75\">\n    <path clip-path=\"url(#p15581e7fa3)\" d=\"M 642.713745 170.57267 \nL 646.909234 170.57267 \nL 646.909234 169.246008 \nL 642.713745 169.246008 \nz\n\" style=\"fill:#1f77b4;\"/>\n   </g>\n   <g id=\"patch_76\">\n    <path clip-path=\"url(#p15581e7fa3)\" d=\"M 651.104723 170.57267 \nL 655.300211 170.57267 \nL 655.300211 168.361566 \nL 651.104723 168.361566 \nz\n\" style=\"fill:#1f77b4;\"/>\n   </g>\n   <g id=\"patch_77\">\n    <path clip-path=\"url(#p15581e7fa3)\" d=\"M 659.4957 170.57267 \nL 663.691189 170.57267 \nL 663.691189 170.13045 \nL 659.4957 170.13045 \nz\n\" style=\"fill:#1f77b4;\"/>\n   </g>\n   <g id=\"patch_78\">\n    <path clip-path=\"url(#p15581e7fa3)\" d=\"M 667.886678 170.57267 \nL 672.082166 170.57267 \nL 672.082166 170.13045 \nL 667.886678 170.13045 \nz\n\" style=\"fill:#1f77b4;\"/>\n   </g>\n   <g id=\"patch_79\">\n    <path clip-path=\"url(#p15581e7fa3)\" d=\"M 676.277655 170.57267 \nL 680.473144 170.57267 \nL 680.473144 170.13045 \nL 676.277655 170.13045 \nz\n\" style=\"fill:#1f77b4;\"/>\n   </g>\n   <g id=\"patch_80\">\n    <path clip-path=\"url(#p15581e7fa3)\" d=\"M 684.668633 170.57267 \nL 688.864121 170.57267 \nL 688.864121 167.919345 \nL 684.668633 167.919345 \nz\n\" style=\"fill:#1f77b4;\"/>\n   </g>\n   <g id=\"patch_81\">\n    <path clip-path=\"url(#p15581e7fa3)\" d=\"M 693.05961 170.57267 \nL 697.255099 170.57267 \nL 697.255099 170.13045 \nL 693.05961 170.13045 \nz\n\" style=\"fill:#1f77b4;\"/>\n   </g>\n   <g id=\"patch_82\">\n    <path clip-path=\"url(#p15581e7fa3)\" d=\"M 701.450587 170.57267 \nL 705.646076 170.57267 \nL 705.646076 170.13045 \nL 701.450587 170.13045 \nz\n\" style=\"fill:#1f77b4;\"/>\n   </g>\n   <g id=\"patch_83\">\n    <path clip-path=\"url(#p15581e7fa3)\" d=\"M 709.841565 170.57267 \nL 714.037054 170.57267 \nL 714.037054 170.13045 \nL 709.841565 170.13045 \nz\n\" style=\"fill:#1f77b4;\"/>\n   </g>\n   <g id=\"patch_84\">\n    <path clip-path=\"url(#p15581e7fa3)\" d=\"M 718.232542 170.57267 \nL 722.428031 170.57267 \nL 722.428031 169.246008 \nL 718.232542 169.246008 \nz\n\" style=\"fill:#1f77b4;\"/>\n   </g>\n   <g id=\"patch_85\">\n    <path clip-path=\"url(#p15581e7fa3)\" d=\"M 726.62352 170.57267 \nL 730.819008 170.57267 \nL 730.819008 168.803787 \nL 726.62352 168.803787 \nz\n\" style=\"fill:#1f77b4;\"/>\n   </g>\n   <g id=\"patch_86\">\n    <path clip-path=\"url(#p15581e7fa3)\" d=\"M 735.014497 170.57267 \nL 739.209986 170.57267 \nL 739.209986 170.13045 \nL 735.014497 170.13045 \nz\n\" style=\"fill:#1f77b4;\"/>\n   </g>\n   <g id=\"patch_87\">\n    <path clip-path=\"url(#p15581e7fa3)\" d=\"M 743.405475 170.57267 \nL 747.600963 170.57267 \nL 747.600963 170.13045 \nL 743.405475 170.13045 \nz\n\" style=\"fill:#1f77b4;\"/>\n   </g>\n   <g id=\"patch_88\">\n    <path clip-path=\"url(#p15581e7fa3)\" d=\"M 751.796452 170.57267 \nL 755.991941 170.57267 \nL 755.991941 168.803787 \nL 751.796452 168.803787 \nz\n\" style=\"fill:#1f77b4;\"/>\n   </g>\n   <g id=\"patch_89\">\n    <path clip-path=\"url(#p15581e7fa3)\" d=\"M 760.18743 170.57267 \nL 764.382918 170.57267 \nL 764.382918 164.381578 \nL 760.18743 164.381578 \nz\n\" style=\"fill:#1f77b4;\"/>\n   </g>\n   <g id=\"patch_90\">\n    <path clip-path=\"url(#p15581e7fa3)\" d=\"M 768.578407 170.57267 \nL 772.773896 170.57267 \nL 772.773896 168.803787 \nL 768.578407 168.803787 \nz\n\" style=\"fill:#1f77b4;\"/>\n   </g>\n   <g id=\"patch_91\">\n    <path clip-path=\"url(#p15581e7fa3)\" d=\"M 776.969384 170.57267 \nL 781.164873 170.57267 \nL 781.164873 170.13045 \nL 776.969384 170.13045 \nz\n\" style=\"fill:#1f77b4;\"/>\n   </g>\n   <g id=\"patch_92\">\n    <path clip-path=\"url(#p15581e7fa3)\" d=\"M 785.360362 170.57267 \nL 789.555851 170.57267 \nL 789.555851 170.13045 \nL 785.360362 170.13045 \nz\n\" style=\"fill:#1f77b4;\"/>\n   </g>\n   <g id=\"patch_93\">\n    <path clip-path=\"url(#p15581e7fa3)\" d=\"M 793.751339 170.57267 \nL 797.946828 170.57267 \nL 797.946828 169.688229 \nL 793.751339 169.688229 \nz\n\" style=\"fill:#1f77b4;\"/>\n   </g>\n   <g id=\"patch_94\">\n    <path clip-path=\"url(#p15581e7fa3)\" d=\"M 802.142317 170.57267 \nL 806.337805 170.57267 \nL 806.337805 168.803787 \nL 802.142317 168.803787 \nz\n\" style=\"fill:#1f77b4;\"/>\n   </g>\n   <g id=\"patch_95\">\n    <path clip-path=\"url(#p15581e7fa3)\" d=\"M 810.533294 170.57267 \nL 814.728783 170.57267 \nL 814.728783 158.190486 \nL 810.533294 158.190486 \nz\n\" style=\"fill:#1f77b4;\"/>\n   </g>\n   <g id=\"patch_96\">\n    <path clip-path=\"url(#p15581e7fa3)\" d=\"M 818.924272 170.57267 \nL 823.11976 170.57267 \nL 823.11976 153.326057 \nL 818.924272 153.326057 \nz\n\" style=\"fill:#1f77b4;\"/>\n   </g>\n   <g id=\"patch_97\">\n    <path clip-path=\"url(#p15581e7fa3)\" d=\"M 827.315249 170.57267 \nL 831.510738 170.57267 \nL 831.510738 169.688229 \nL 827.315249 169.688229 \nz\n\" style=\"fill:#1f77b4;\"/>\n   </g>\n   <g id=\"patch_98\">\n    <path clip-path=\"url(#p15581e7fa3)\" d=\"M 835.706227 170.57267 \nL 839.901715 170.57267 \nL 839.901715 158.632707 \nL 835.706227 158.632707 \nz\n\" style=\"fill:#1f77b4;\"/>\n   </g>\n   <g id=\"patch_99\">\n    <path clip-path=\"url(#p15581e7fa3)\" d=\"M 844.097204 170.57267 \nL 848.292693 170.57267 \nL 848.292693 169.246008 \nL 844.097204 169.246008 \nz\n\" style=\"fill:#1f77b4;\"/>\n   </g>\n   <g id=\"patch_100\">\n    <path clip-path=\"url(#p15581e7fa3)\" d=\"M 852.488181 170.57267 \nL 856.68367 170.57267 \nL 856.68367 169.246008 \nL 852.488181 169.246008 \nz\n\" style=\"fill:#1f77b4;\"/>\n   </g>\n   <g id=\"patch_101\">\n    <path clip-path=\"url(#p15581e7fa3)\" d=\"M 860.879159 170.57267 \nL 865.074648 170.57267 \nL 865.074648 169.688229 \nL 860.879159 169.688229 \nz\n\" style=\"fill:#1f77b4;\"/>\n   </g>\n   <g id=\"patch_102\">\n    <path clip-path=\"url(#p15581e7fa3)\" d=\"M 869.270136 170.57267 \nL 873.465625 170.57267 \nL 873.465625 170.57267 \nL 869.270136 170.57267 \nz\n\" style=\"fill:#1f77b4;\"/>\n   </g>\n   <g id=\"patch_103\">\n    <path clip-path=\"url(#p15581e7fa3)\" d=\"M 877.661114 170.57267 \nL 881.856602 170.57267 \nL 881.856602 170.57267 \nL 877.661114 170.57267 \nz\n\" style=\"fill:#1f77b4;\"/>\n   </g>\n   <g id=\"patch_104\">\n    <path clip-path=\"url(#p15581e7fa3)\" d=\"M 886.052091 170.57267 \nL 890.24758 170.57267 \nL 890.24758 170.57267 \nL 886.052091 170.57267 \nz\n\" style=\"fill:#1f77b4;\"/>\n   </g>\n   <g id=\"patch_105\">\n    <path clip-path=\"url(#p15581e7fa3)\" d=\"M 894.443069 170.57267 \nL 898.638557 170.57267 \nL 898.638557 170.57267 \nL 894.443069 170.57267 \nz\n\" style=\"fill:#1f77b4;\"/>\n   </g>\n   <g id=\"patch_106\">\n    <path clip-path=\"url(#p15581e7fa3)\" d=\"M 902.834046 170.57267 \nL 907.029535 170.57267 \nL 907.029535 170.57267 \nL 902.834046 170.57267 \nz\n\" style=\"fill:#1f77b4;\"/>\n   </g>\n   <g id=\"patch_107\">\n    <path clip-path=\"url(#p15581e7fa3)\" d=\"M 911.225023 170.57267 \nL 915.420512 170.57267 \nL 915.420512 170.57267 \nL 911.225023 170.57267 \nz\n\" style=\"fill:#1f77b4;\"/>\n   </g>\n   <g id=\"patch_108\">\n    <path clip-path=\"url(#p15581e7fa3)\" d=\"M 919.616001 170.57267 \nL 923.81149 170.57267 \nL 923.81149 170.57267 \nL 919.616001 170.57267 \nz\n\" style=\"fill:#1f77b4;\"/>\n   </g>\n   <g id=\"patch_109\">\n    <path clip-path=\"url(#p15581e7fa3)\" d=\"M 928.006978 170.57267 \nL 932.202467 170.57267 \nL 932.202467 170.57267 \nL 928.006978 170.57267 \nz\n\" style=\"fill:#1f77b4;\"/>\n   </g>\n   <g id=\"patch_110\">\n    <path clip-path=\"url(#p15581e7fa3)\" d=\"M 936.397956 170.57267 \nL 940.593445 170.57267 \nL 940.593445 170.57267 \nL 936.397956 170.57267 \nz\n\" style=\"fill:#1f77b4;\"/>\n   </g>\n   <g id=\"patch_111\">\n    <path clip-path=\"url(#p15581e7fa3)\" d=\"M 944.788933 170.57267 \nL 948.984422 170.57267 \nL 948.984422 170.57267 \nL 944.788933 170.57267 \nz\n\" style=\"fill:#1f77b4;\"/>\n   </g>\n   <g id=\"patch_112\">\n    <path clip-path=\"url(#p15581e7fa3)\" d=\"M 953.179911 170.57267 \nL 957.375399 170.57267 \nL 957.375399 170.57267 \nL 953.179911 170.57267 \nz\n\" style=\"fill:#1f77b4;\"/>\n   </g>\n   <g id=\"patch_113\">\n    <path clip-path=\"url(#p15581e7fa3)\" d=\"M 961.570888 170.57267 \nL 965.766377 170.57267 \nL 965.766377 170.57267 \nL 961.570888 170.57267 \nz\n\" style=\"fill:#1f77b4;\"/>\n   </g>\n   <g id=\"patch_114\">\n    <path clip-path=\"url(#p15581e7fa3)\" d=\"M 969.961866 170.57267 \nL 974.157354 170.57267 \nL 974.157354 170.57267 \nL 969.961866 170.57267 \nz\n\" style=\"fill:#1f77b4;\"/>\n   </g>\n   <g id=\"patch_115\">\n    <path clip-path=\"url(#p15581e7fa3)\" d=\"M 978.352843 170.57267 \nL 982.548332 170.57267 \nL 982.548332 170.57267 \nL 978.352843 170.57267 \nz\n\" style=\"fill:#1f77b4;\"/>\n   </g>\n   <g id=\"patch_116\">\n    <path clip-path=\"url(#p15581e7fa3)\" d=\"M 986.74382 170.57267 \nL 990.939309 170.57267 \nL 990.939309 170.57267 \nL 986.74382 170.57267 \nz\n\" style=\"fill:#1f77b4;\"/>\n   </g>\n   <g id=\"patch_117\">\n    <path clip-path=\"url(#p15581e7fa3)\" d=\"M 995.134798 170.57267 \nL 999.330287 170.57267 \nL 999.330287 170.57267 \nL 995.134798 170.57267 \nz\n\" style=\"fill:#1f77b4;\"/>\n   </g>\n   <g id=\"patch_118\">\n    <path clip-path=\"url(#p15581e7fa3)\" d=\"M 1003.525775 170.57267 \nL 1007.721264 170.57267 \nL 1007.721264 170.57267 \nL 1003.525775 170.57267 \nz\n\" style=\"fill:#1f77b4;\"/>\n   </g>\n   <g id=\"patch_119\">\n    <path clip-path=\"url(#p15581e7fa3)\" d=\"M 1011.916753 170.57267 \nL 1016.112242 170.57267 \nL 1016.112242 170.57267 \nL 1011.916753 170.57267 \nz\n\" style=\"fill:#1f77b4;\"/>\n   </g>\n   <g id=\"patch_120\">\n    <path clip-path=\"url(#p15581e7fa3)\" d=\"M 1020.30773 170.57267 \nL 1024.503219 170.57267 \nL 1024.503219 170.57267 \nL 1020.30773 170.57267 \nz\n\" style=\"fill:#1f77b4;\"/>\n   </g>\n   <g id=\"patch_121\">\n    <path clip-path=\"url(#p15581e7fa3)\" d=\"M 1028.698708 170.57267 \nL 1032.894196 170.57267 \nL 1032.894196 170.57267 \nL 1028.698708 170.57267 \nz\n\" style=\"fill:#1f77b4;\"/>\n   </g>\n   <g id=\"patch_122\">\n    <path clip-path=\"url(#p15581e7fa3)\" d=\"M 1037.089685 170.57267 \nL 1041.285174 170.57267 \nL 1041.285174 170.57267 \nL 1037.089685 170.57267 \nz\n\" style=\"fill:#1f77b4;\"/>\n   </g>\n   <g id=\"patch_123\">\n    <path clip-path=\"url(#p15581e7fa3)\" d=\"M 1045.480663 170.57267 \nL 1049.676151 170.57267 \nL 1049.676151 170.57267 \nL 1045.480663 170.57267 \nz\n\" style=\"fill:#1f77b4;\"/>\n   </g>\n   <g id=\"patch_124\">\n    <path clip-path=\"url(#p15581e7fa3)\" d=\"M 1053.87164 170.57267 \nL 1058.067129 170.57267 \nL 1058.067129 170.57267 \nL 1053.87164 170.57267 \nz\n\" style=\"fill:#1f77b4;\"/>\n   </g>\n   <g id=\"patch_125\">\n    <path clip-path=\"url(#p15581e7fa3)\" d=\"M 1062.262617 170.57267 \nL 1066.458106 170.57267 \nL 1066.458106 170.57267 \nL 1062.262617 170.57267 \nz\n\" style=\"fill:#1f77b4;\"/>\n   </g>\n   <g id=\"patch_126\">\n    <path clip-path=\"url(#p15581e7fa3)\" d=\"M 1070.653595 170.57267 \nL 1074.849084 170.57267 \nL 1074.849084 170.57267 \nL 1070.653595 170.57267 \nz\n\" style=\"fill:#1f77b4;\"/>\n   </g>\n   <g id=\"patch_127\">\n    <path clip-path=\"url(#p15581e7fa3)\" d=\"M 1079.044572 170.57267 \nL 1083.240061 170.57267 \nL 1083.240061 170.57267 \nL 1079.044572 170.57267 \nz\n\" style=\"fill:#1f77b4;\"/>\n   </g>\n   <g id=\"patch_128\">\n    <path clip-path=\"url(#p15581e7fa3)\" d=\"M 1087.43555 170.57267 \nL 1091.631039 170.57267 \nL 1091.631039 170.57267 \nL 1087.43555 170.57267 \nz\n\" style=\"fill:#1f77b4;\"/>\n   </g>\n   <g id=\"patch_129\">\n    <path clip-path=\"url(#p15581e7fa3)\" d=\"M 1095.826527 170.57267 \nL 1100.022016 170.57267 \nL 1100.022016 170.57267 \nL 1095.826527 170.57267 \nz\n\" style=\"fill:#1f77b4;\"/>\n   </g>\n   <g id=\"patch_130\">\n    <path clip-path=\"url(#p15581e7fa3)\" d=\"M 1104.217505 170.57267 \nL 1108.412993 170.57267 \nL 1108.412993 170.57267 \nL 1104.217505 170.57267 \nz\n\" style=\"fill:#1f77b4;\"/>\n   </g>\n   <g id=\"patch_131\">\n    <path clip-path=\"url(#p15581e7fa3)\" d=\"M 1112.608482 170.57267 \nL 1116.803971 170.57267 \nL 1116.803971 170.57267 \nL 1112.608482 170.57267 \nz\n\" style=\"fill:#1f77b4;\"/>\n   </g>\n   <g id=\"patch_132\">\n    <path clip-path=\"url(#p15581e7fa3)\" d=\"M 1120.99946 170.57267 \nL 1125.194948 170.57267 \nL 1125.194948 170.57267 \nL 1120.99946 170.57267 \nz\n\" style=\"fill:#1f77b4;\"/>\n   </g>\n   <g id=\"patch_133\">\n    <path clip-path=\"url(#p15581e7fa3)\" d=\"M 1129.390437 170.57267 \nL 1133.585926 170.57267 \nL 1133.585926 170.57267 \nL 1129.390437 170.57267 \nz\n\" style=\"fill:#1f77b4;\"/>\n   </g>\n   <g id=\"patch_134\">\n    <path clip-path=\"url(#p15581e7fa3)\" d=\"M 1137.781414 170.57267 \nL 1141.976903 170.57267 \nL 1141.976903 170.57267 \nL 1137.781414 170.57267 \nz\n\" style=\"fill:#1f77b4;\"/>\n   </g>\n   <g id=\"patch_135\">\n    <path clip-path=\"url(#p15581e7fa3)\" d=\"M 1146.172392 170.57267 \nL 1150.367881 170.57267 \nL 1150.367881 170.57267 \nL 1146.172392 170.57267 \nz\n\" style=\"fill:#1f77b4;\"/>\n   </g>\n   <g id=\"matplotlib.axis_1\">\n    <g id=\"xtick_1\">\n     <g id=\"line2d_1\">\n      <defs>\n       <path d=\"M 0 0 \nL 0 3.5 \n\" id=\"m12e0b210da\" style=\"stroke:#000000;stroke-width:0.8;\"/>\n      </defs>\n      <g>\n       <use style=\"stroke:#000000;stroke-width:0.8;\" x=\"40.661114\" xlink:href=\"#m12e0b210da\" y=\"170.57267\"/>\n      </g>\n     </g>\n    </g>\n    <g id=\"xtick_2\">\n     <g id=\"line2d_2\">\n      <g>\n       <use style=\"stroke:#000000;stroke-width:0.8;\" x=\"49.052091\" xlink:href=\"#m12e0b210da\" y=\"170.57267\"/>\n      </g>\n     </g>\n    </g>\n    <g id=\"xtick_3\">\n     <g id=\"line2d_3\">\n      <g>\n       <use style=\"stroke:#000000;stroke-width:0.8;\" x=\"57.443069\" xlink:href=\"#m12e0b210da\" y=\"170.57267\"/>\n      </g>\n     </g>\n    </g>\n    <g id=\"xtick_4\">\n     <g id=\"line2d_4\">\n      <g>\n       <use style=\"stroke:#000000;stroke-width:0.8;\" x=\"65.834046\" xlink:href=\"#m12e0b210da\" y=\"170.57267\"/>\n      </g>\n     </g>\n    </g>\n    <g id=\"xtick_5\">\n     <g id=\"line2d_5\">\n      <g>\n       <use style=\"stroke:#000000;stroke-width:0.8;\" x=\"74.225023\" xlink:href=\"#m12e0b210da\" y=\"170.57267\"/>\n      </g>\n     </g>\n    </g>\n    <g id=\"xtick_6\">\n     <g id=\"line2d_6\">\n      <g>\n       <use style=\"stroke:#000000;stroke-width:0.8;\" x=\"82.616001\" xlink:href=\"#m12e0b210da\" y=\"170.57267\"/>\n      </g>\n     </g>\n    </g>\n    <g id=\"xtick_7\">\n     <g id=\"line2d_7\">\n      <g>\n       <use style=\"stroke:#000000;stroke-width:0.8;\" x=\"91.006978\" xlink:href=\"#m12e0b210da\" y=\"170.57267\"/>\n      </g>\n     </g>\n    </g>\n    <g id=\"xtick_8\">\n     <g id=\"line2d_8\">\n      <g>\n       <use style=\"stroke:#000000;stroke-width:0.8;\" x=\"99.397956\" xlink:href=\"#m12e0b210da\" y=\"170.57267\"/>\n      </g>\n     </g>\n    </g>\n    <g id=\"xtick_9\">\n     <g id=\"line2d_9\">\n      <g>\n       <use style=\"stroke:#000000;stroke-width:0.8;\" x=\"107.788933\" xlink:href=\"#m12e0b210da\" y=\"170.57267\"/>\n      </g>\n     </g>\n    </g>\n    <g id=\"xtick_10\">\n     <g id=\"line2d_10\">\n      <g>\n       <use style=\"stroke:#000000;stroke-width:0.8;\" x=\"116.179911\" xlink:href=\"#m12e0b210da\" y=\"170.57267\"/>\n      </g>\n     </g>\n    </g>\n    <g id=\"xtick_11\">\n     <g id=\"line2d_11\">\n      <g>\n       <use style=\"stroke:#000000;stroke-width:0.8;\" x=\"124.570888\" xlink:href=\"#m12e0b210da\" y=\"170.57267\"/>\n      </g>\n     </g>\n    </g>\n    <g id=\"xtick_12\">\n     <g id=\"line2d_12\">\n      <g>\n       <use style=\"stroke:#000000;stroke-width:0.8;\" x=\"132.961866\" xlink:href=\"#m12e0b210da\" y=\"170.57267\"/>\n      </g>\n     </g>\n    </g>\n    <g id=\"xtick_13\">\n     <g id=\"line2d_13\">\n      <g>\n       <use style=\"stroke:#000000;stroke-width:0.8;\" x=\"141.352843\" xlink:href=\"#m12e0b210da\" y=\"170.57267\"/>\n      </g>\n     </g>\n    </g>\n    <g id=\"xtick_14\">\n     <g id=\"line2d_14\">\n      <g>\n       <use style=\"stroke:#000000;stroke-width:0.8;\" x=\"149.74382\" xlink:href=\"#m12e0b210da\" y=\"170.57267\"/>\n      </g>\n     </g>\n    </g>\n    <g id=\"xtick_15\">\n     <g id=\"line2d_15\">\n      <g>\n       <use style=\"stroke:#000000;stroke-width:0.8;\" x=\"158.134798\" xlink:href=\"#m12e0b210da\" y=\"170.57267\"/>\n      </g>\n     </g>\n    </g>\n    <g id=\"xtick_16\">\n     <g id=\"line2d_16\">\n      <g>\n       <use style=\"stroke:#000000;stroke-width:0.8;\" x=\"166.525775\" xlink:href=\"#m12e0b210da\" y=\"170.57267\"/>\n      </g>\n     </g>\n    </g>\n    <g id=\"xtick_17\">\n     <g id=\"line2d_17\">\n      <g>\n       <use style=\"stroke:#000000;stroke-width:0.8;\" x=\"174.916753\" xlink:href=\"#m12e0b210da\" y=\"170.57267\"/>\n      </g>\n     </g>\n    </g>\n    <g id=\"xtick_18\">\n     <g id=\"line2d_18\">\n      <g>\n       <use style=\"stroke:#000000;stroke-width:0.8;\" x=\"183.30773\" xlink:href=\"#m12e0b210da\" y=\"170.57267\"/>\n      </g>\n     </g>\n    </g>\n    <g id=\"xtick_19\">\n     <g id=\"line2d_19\">\n      <g>\n       <use style=\"stroke:#000000;stroke-width:0.8;\" x=\"191.698708\" xlink:href=\"#m12e0b210da\" y=\"170.57267\"/>\n      </g>\n     </g>\n    </g>\n    <g id=\"xtick_20\">\n     <g id=\"line2d_20\">\n      <g>\n       <use style=\"stroke:#000000;stroke-width:0.8;\" x=\"200.089685\" xlink:href=\"#m12e0b210da\" y=\"170.57267\"/>\n      </g>\n     </g>\n    </g>\n    <g id=\"xtick_21\">\n     <g id=\"line2d_21\">\n      <g>\n       <use style=\"stroke:#000000;stroke-width:0.8;\" x=\"208.480663\" xlink:href=\"#m12e0b210da\" y=\"170.57267\"/>\n      </g>\n     </g>\n    </g>\n    <g id=\"xtick_22\">\n     <g id=\"line2d_22\">\n      <g>\n       <use style=\"stroke:#000000;stroke-width:0.8;\" x=\"216.87164\" xlink:href=\"#m12e0b210da\" y=\"170.57267\"/>\n      </g>\n     </g>\n    </g>\n    <g id=\"xtick_23\">\n     <g id=\"line2d_23\">\n      <g>\n       <use style=\"stroke:#000000;stroke-width:0.8;\" x=\"225.262617\" xlink:href=\"#m12e0b210da\" y=\"170.57267\"/>\n      </g>\n     </g>\n    </g>\n    <g id=\"xtick_24\">\n     <g id=\"line2d_24\">\n      <g>\n       <use style=\"stroke:#000000;stroke-width:0.8;\" x=\"233.653595\" xlink:href=\"#m12e0b210da\" y=\"170.57267\"/>\n      </g>\n     </g>\n    </g>\n    <g id=\"xtick_25\">\n     <g id=\"line2d_25\">\n      <g>\n       <use style=\"stroke:#000000;stroke-width:0.8;\" x=\"242.044572\" xlink:href=\"#m12e0b210da\" y=\"170.57267\"/>\n      </g>\n     </g>\n    </g>\n    <g id=\"xtick_26\">\n     <g id=\"line2d_26\">\n      <g>\n       <use style=\"stroke:#000000;stroke-width:0.8;\" x=\"250.43555\" xlink:href=\"#m12e0b210da\" y=\"170.57267\"/>\n      </g>\n     </g>\n    </g>\n    <g id=\"xtick_27\">\n     <g id=\"line2d_27\">\n      <g>\n       <use style=\"stroke:#000000;stroke-width:0.8;\" x=\"258.826527\" xlink:href=\"#m12e0b210da\" y=\"170.57267\"/>\n      </g>\n     </g>\n    </g>\n    <g id=\"xtick_28\">\n     <g id=\"line2d_28\">\n      <g>\n       <use style=\"stroke:#000000;stroke-width:0.8;\" x=\"267.217505\" xlink:href=\"#m12e0b210da\" y=\"170.57267\"/>\n      </g>\n     </g>\n    </g>\n    <g id=\"xtick_29\">\n     <g id=\"line2d_29\">\n      <g>\n       <use style=\"stroke:#000000;stroke-width:0.8;\" x=\"275.608482\" xlink:href=\"#m12e0b210da\" y=\"170.57267\"/>\n      </g>\n     </g>\n    </g>\n    <g id=\"xtick_30\">\n     <g id=\"line2d_30\">\n      <g>\n       <use style=\"stroke:#000000;stroke-width:0.8;\" x=\"283.99946\" xlink:href=\"#m12e0b210da\" y=\"170.57267\"/>\n      </g>\n     </g>\n    </g>\n    <g id=\"xtick_31\">\n     <g id=\"line2d_31\">\n      <g>\n       <use style=\"stroke:#000000;stroke-width:0.8;\" x=\"292.390437\" xlink:href=\"#m12e0b210da\" y=\"170.57267\"/>\n      </g>\n     </g>\n    </g>\n    <g id=\"xtick_32\">\n     <g id=\"line2d_32\">\n      <g>\n       <use style=\"stroke:#000000;stroke-width:0.8;\" x=\"300.781414\" xlink:href=\"#m12e0b210da\" y=\"170.57267\"/>\n      </g>\n     </g>\n    </g>\n    <g id=\"xtick_33\">\n     <g id=\"line2d_33\">\n      <g>\n       <use style=\"stroke:#000000;stroke-width:0.8;\" x=\"309.172392\" xlink:href=\"#m12e0b210da\" y=\"170.57267\"/>\n      </g>\n     </g>\n    </g>\n    <g id=\"xtick_34\">\n     <g id=\"line2d_34\">\n      <g>\n       <use style=\"stroke:#000000;stroke-width:0.8;\" x=\"317.563369\" xlink:href=\"#m12e0b210da\" y=\"170.57267\"/>\n      </g>\n     </g>\n    </g>\n    <g id=\"xtick_35\">\n     <g id=\"line2d_35\">\n      <g>\n       <use style=\"stroke:#000000;stroke-width:0.8;\" x=\"325.954347\" xlink:href=\"#m12e0b210da\" y=\"170.57267\"/>\n      </g>\n     </g>\n    </g>\n    <g id=\"xtick_36\">\n     <g id=\"line2d_36\">\n      <g>\n       <use style=\"stroke:#000000;stroke-width:0.8;\" x=\"334.345324\" xlink:href=\"#m12e0b210da\" y=\"170.57267\"/>\n      </g>\n     </g>\n    </g>\n    <g id=\"xtick_37\">\n     <g id=\"line2d_37\">\n      <g>\n       <use style=\"stroke:#000000;stroke-width:0.8;\" x=\"342.736302\" xlink:href=\"#m12e0b210da\" y=\"170.57267\"/>\n      </g>\n     </g>\n    </g>\n    <g id=\"xtick_38\">\n     <g id=\"line2d_38\">\n      <g>\n       <use style=\"stroke:#000000;stroke-width:0.8;\" x=\"351.127279\" xlink:href=\"#m12e0b210da\" y=\"170.57267\"/>\n      </g>\n     </g>\n    </g>\n    <g id=\"xtick_39\">\n     <g id=\"line2d_39\">\n      <g>\n       <use style=\"stroke:#000000;stroke-width:0.8;\" x=\"359.518257\" xlink:href=\"#m12e0b210da\" y=\"170.57267\"/>\n      </g>\n     </g>\n    </g>\n    <g id=\"xtick_40\">\n     <g id=\"line2d_40\">\n      <g>\n       <use style=\"stroke:#000000;stroke-width:0.8;\" x=\"367.909234\" xlink:href=\"#m12e0b210da\" y=\"170.57267\"/>\n      </g>\n     </g>\n    </g>\n    <g id=\"xtick_41\">\n     <g id=\"line2d_41\">\n      <g>\n       <use style=\"stroke:#000000;stroke-width:0.8;\" x=\"376.300211\" xlink:href=\"#m12e0b210da\" y=\"170.57267\"/>\n      </g>\n     </g>\n    </g>\n    <g id=\"xtick_42\">\n     <g id=\"line2d_42\">\n      <g>\n       <use style=\"stroke:#000000;stroke-width:0.8;\" x=\"384.691189\" xlink:href=\"#m12e0b210da\" y=\"170.57267\"/>\n      </g>\n     </g>\n    </g>\n    <g id=\"xtick_43\">\n     <g id=\"line2d_43\">\n      <g>\n       <use style=\"stroke:#000000;stroke-width:0.8;\" x=\"393.082166\" xlink:href=\"#m12e0b210da\" y=\"170.57267\"/>\n      </g>\n     </g>\n    </g>\n    <g id=\"xtick_44\">\n     <g id=\"line2d_44\">\n      <g>\n       <use style=\"stroke:#000000;stroke-width:0.8;\" x=\"401.473144\" xlink:href=\"#m12e0b210da\" y=\"170.57267\"/>\n      </g>\n     </g>\n    </g>\n    <g id=\"xtick_45\">\n     <g id=\"line2d_45\">\n      <g>\n       <use style=\"stroke:#000000;stroke-width:0.8;\" x=\"409.864121\" xlink:href=\"#m12e0b210da\" y=\"170.57267\"/>\n      </g>\n     </g>\n    </g>\n    <g id=\"xtick_46\">\n     <g id=\"line2d_46\">\n      <g>\n       <use style=\"stroke:#000000;stroke-width:0.8;\" x=\"418.255099\" xlink:href=\"#m12e0b210da\" y=\"170.57267\"/>\n      </g>\n     </g>\n    </g>\n    <g id=\"xtick_47\">\n     <g id=\"line2d_47\">\n      <g>\n       <use style=\"stroke:#000000;stroke-width:0.8;\" x=\"426.646076\" xlink:href=\"#m12e0b210da\" y=\"170.57267\"/>\n      </g>\n     </g>\n    </g>\n    <g id=\"xtick_48\">\n     <g id=\"line2d_48\">\n      <g>\n       <use style=\"stroke:#000000;stroke-width:0.8;\" x=\"435.037054\" xlink:href=\"#m12e0b210da\" y=\"170.57267\"/>\n      </g>\n     </g>\n    </g>\n    <g id=\"xtick_49\">\n     <g id=\"line2d_49\">\n      <g>\n       <use style=\"stroke:#000000;stroke-width:0.8;\" x=\"443.428031\" xlink:href=\"#m12e0b210da\" y=\"170.57267\"/>\n      </g>\n     </g>\n    </g>\n    <g id=\"xtick_50\">\n     <g id=\"line2d_50\">\n      <g>\n       <use style=\"stroke:#000000;stroke-width:0.8;\" x=\"451.819008\" xlink:href=\"#m12e0b210da\" y=\"170.57267\"/>\n      </g>\n     </g>\n    </g>\n    <g id=\"xtick_51\">\n     <g id=\"line2d_51\">\n      <g>\n       <use style=\"stroke:#000000;stroke-width:0.8;\" x=\"460.209986\" xlink:href=\"#m12e0b210da\" y=\"170.57267\"/>\n      </g>\n     </g>\n    </g>\n    <g id=\"xtick_52\">\n     <g id=\"line2d_52\">\n      <g>\n       <use style=\"stroke:#000000;stroke-width:0.8;\" x=\"468.600963\" xlink:href=\"#m12e0b210da\" y=\"170.57267\"/>\n      </g>\n     </g>\n    </g>\n    <g id=\"xtick_53\">\n     <g id=\"line2d_53\">\n      <g>\n       <use style=\"stroke:#000000;stroke-width:0.8;\" x=\"476.991941\" xlink:href=\"#m12e0b210da\" y=\"170.57267\"/>\n      </g>\n     </g>\n    </g>\n    <g id=\"xtick_54\">\n     <g id=\"line2d_54\">\n      <g>\n       <use style=\"stroke:#000000;stroke-width:0.8;\" x=\"485.382918\" xlink:href=\"#m12e0b210da\" y=\"170.57267\"/>\n      </g>\n     </g>\n    </g>\n    <g id=\"xtick_55\">\n     <g id=\"line2d_55\">\n      <g>\n       <use style=\"stroke:#000000;stroke-width:0.8;\" x=\"493.773896\" xlink:href=\"#m12e0b210da\" y=\"170.57267\"/>\n      </g>\n     </g>\n    </g>\n    <g id=\"xtick_56\">\n     <g id=\"line2d_56\">\n      <g>\n       <use style=\"stroke:#000000;stroke-width:0.8;\" x=\"502.164873\" xlink:href=\"#m12e0b210da\" y=\"170.57267\"/>\n      </g>\n     </g>\n    </g>\n    <g id=\"xtick_57\">\n     <g id=\"line2d_57\">\n      <g>\n       <use style=\"stroke:#000000;stroke-width:0.8;\" x=\"510.555851\" xlink:href=\"#m12e0b210da\" y=\"170.57267\"/>\n      </g>\n     </g>\n    </g>\n    <g id=\"xtick_58\">\n     <g id=\"line2d_58\">\n      <g>\n       <use style=\"stroke:#000000;stroke-width:0.8;\" x=\"518.946828\" xlink:href=\"#m12e0b210da\" y=\"170.57267\"/>\n      </g>\n     </g>\n    </g>\n    <g id=\"xtick_59\">\n     <g id=\"line2d_59\">\n      <g>\n       <use style=\"stroke:#000000;stroke-width:0.8;\" x=\"527.337805\" xlink:href=\"#m12e0b210da\" y=\"170.57267\"/>\n      </g>\n     </g>\n    </g>\n    <g id=\"xtick_60\">\n     <g id=\"line2d_60\">\n      <g>\n       <use style=\"stroke:#000000;stroke-width:0.8;\" x=\"535.728783\" xlink:href=\"#m12e0b210da\" y=\"170.57267\"/>\n      </g>\n     </g>\n    </g>\n    <g id=\"xtick_61\">\n     <g id=\"line2d_61\">\n      <g>\n       <use style=\"stroke:#000000;stroke-width:0.8;\" x=\"544.11976\" xlink:href=\"#m12e0b210da\" y=\"170.57267\"/>\n      </g>\n     </g>\n    </g>\n    <g id=\"xtick_62\">\n     <g id=\"line2d_62\">\n      <g>\n       <use style=\"stroke:#000000;stroke-width:0.8;\" x=\"552.510738\" xlink:href=\"#m12e0b210da\" y=\"170.57267\"/>\n      </g>\n     </g>\n    </g>\n    <g id=\"xtick_63\">\n     <g id=\"line2d_63\">\n      <g>\n       <use style=\"stroke:#000000;stroke-width:0.8;\" x=\"560.901715\" xlink:href=\"#m12e0b210da\" y=\"170.57267\"/>\n      </g>\n     </g>\n    </g>\n    <g id=\"xtick_64\">\n     <g id=\"line2d_64\">\n      <g>\n       <use style=\"stroke:#000000;stroke-width:0.8;\" x=\"569.292693\" xlink:href=\"#m12e0b210da\" y=\"170.57267\"/>\n      </g>\n     </g>\n    </g>\n    <g id=\"xtick_65\">\n     <g id=\"line2d_65\">\n      <g>\n       <use style=\"stroke:#000000;stroke-width:0.8;\" x=\"577.68367\" xlink:href=\"#m12e0b210da\" y=\"170.57267\"/>\n      </g>\n     </g>\n    </g>\n    <g id=\"xtick_66\">\n     <g id=\"line2d_66\">\n      <g>\n       <use style=\"stroke:#000000;stroke-width:0.8;\" x=\"586.074648\" xlink:href=\"#m12e0b210da\" y=\"170.57267\"/>\n      </g>\n     </g>\n    </g>\n    <g id=\"xtick_67\">\n     <g id=\"line2d_67\">\n      <g>\n       <use style=\"stroke:#000000;stroke-width:0.8;\" x=\"594.465625\" xlink:href=\"#m12e0b210da\" y=\"170.57267\"/>\n      </g>\n     </g>\n    </g>\n    <g id=\"xtick_68\">\n     <g id=\"line2d_68\">\n      <g>\n       <use style=\"stroke:#000000;stroke-width:0.8;\" x=\"602.856602\" xlink:href=\"#m12e0b210da\" y=\"170.57267\"/>\n      </g>\n     </g>\n    </g>\n    <g id=\"xtick_69\">\n     <g id=\"line2d_69\">\n      <g>\n       <use style=\"stroke:#000000;stroke-width:0.8;\" x=\"611.24758\" xlink:href=\"#m12e0b210da\" y=\"170.57267\"/>\n      </g>\n     </g>\n    </g>\n    <g id=\"xtick_70\">\n     <g id=\"line2d_70\">\n      <g>\n       <use style=\"stroke:#000000;stroke-width:0.8;\" x=\"619.638557\" xlink:href=\"#m12e0b210da\" y=\"170.57267\"/>\n      </g>\n     </g>\n    </g>\n    <g id=\"xtick_71\">\n     <g id=\"line2d_71\">\n      <g>\n       <use style=\"stroke:#000000;stroke-width:0.8;\" x=\"628.029535\" xlink:href=\"#m12e0b210da\" y=\"170.57267\"/>\n      </g>\n     </g>\n    </g>\n    <g id=\"xtick_72\">\n     <g id=\"line2d_72\">\n      <g>\n       <use style=\"stroke:#000000;stroke-width:0.8;\" x=\"636.420512\" xlink:href=\"#m12e0b210da\" y=\"170.57267\"/>\n      </g>\n     </g>\n    </g>\n    <g id=\"xtick_73\">\n     <g id=\"line2d_73\">\n      <g>\n       <use style=\"stroke:#000000;stroke-width:0.8;\" x=\"644.81149\" xlink:href=\"#m12e0b210da\" y=\"170.57267\"/>\n      </g>\n     </g>\n    </g>\n    <g id=\"xtick_74\">\n     <g id=\"line2d_74\">\n      <g>\n       <use style=\"stroke:#000000;stroke-width:0.8;\" x=\"653.202467\" xlink:href=\"#m12e0b210da\" y=\"170.57267\"/>\n      </g>\n     </g>\n    </g>\n    <g id=\"xtick_75\">\n     <g id=\"line2d_75\">\n      <g>\n       <use style=\"stroke:#000000;stroke-width:0.8;\" x=\"661.593445\" xlink:href=\"#m12e0b210da\" y=\"170.57267\"/>\n      </g>\n     </g>\n    </g>\n    <g id=\"xtick_76\">\n     <g id=\"line2d_76\">\n      <g>\n       <use style=\"stroke:#000000;stroke-width:0.8;\" x=\"669.984422\" xlink:href=\"#m12e0b210da\" y=\"170.57267\"/>\n      </g>\n     </g>\n    </g>\n    <g id=\"xtick_77\">\n     <g id=\"line2d_77\">\n      <g>\n       <use style=\"stroke:#000000;stroke-width:0.8;\" x=\"678.375399\" xlink:href=\"#m12e0b210da\" y=\"170.57267\"/>\n      </g>\n     </g>\n    </g>\n    <g id=\"xtick_78\">\n     <g id=\"line2d_78\">\n      <g>\n       <use style=\"stroke:#000000;stroke-width:0.8;\" x=\"686.766377\" xlink:href=\"#m12e0b210da\" y=\"170.57267\"/>\n      </g>\n     </g>\n    </g>\n    <g id=\"xtick_79\">\n     <g id=\"line2d_79\">\n      <g>\n       <use style=\"stroke:#000000;stroke-width:0.8;\" x=\"695.157354\" xlink:href=\"#m12e0b210da\" y=\"170.57267\"/>\n      </g>\n     </g>\n    </g>\n    <g id=\"xtick_80\">\n     <g id=\"line2d_80\">\n      <g>\n       <use style=\"stroke:#000000;stroke-width:0.8;\" x=\"703.548332\" xlink:href=\"#m12e0b210da\" y=\"170.57267\"/>\n      </g>\n     </g>\n    </g>\n    <g id=\"xtick_81\">\n     <g id=\"line2d_81\">\n      <g>\n       <use style=\"stroke:#000000;stroke-width:0.8;\" x=\"711.939309\" xlink:href=\"#m12e0b210da\" y=\"170.57267\"/>\n      </g>\n     </g>\n    </g>\n    <g id=\"xtick_82\">\n     <g id=\"line2d_82\">\n      <g>\n       <use style=\"stroke:#000000;stroke-width:0.8;\" x=\"720.330287\" xlink:href=\"#m12e0b210da\" y=\"170.57267\"/>\n      </g>\n     </g>\n    </g>\n    <g id=\"xtick_83\">\n     <g id=\"line2d_83\">\n      <g>\n       <use style=\"stroke:#000000;stroke-width:0.8;\" x=\"728.721264\" xlink:href=\"#m12e0b210da\" y=\"170.57267\"/>\n      </g>\n     </g>\n    </g>\n    <g id=\"xtick_84\">\n     <g id=\"line2d_84\">\n      <g>\n       <use style=\"stroke:#000000;stroke-width:0.8;\" x=\"737.112242\" xlink:href=\"#m12e0b210da\" y=\"170.57267\"/>\n      </g>\n     </g>\n    </g>\n    <g id=\"xtick_85\">\n     <g id=\"line2d_85\">\n      <g>\n       <use style=\"stroke:#000000;stroke-width:0.8;\" x=\"745.503219\" xlink:href=\"#m12e0b210da\" y=\"170.57267\"/>\n      </g>\n     </g>\n    </g>\n    <g id=\"xtick_86\">\n     <g id=\"line2d_86\">\n      <g>\n       <use style=\"stroke:#000000;stroke-width:0.8;\" x=\"753.894196\" xlink:href=\"#m12e0b210da\" y=\"170.57267\"/>\n      </g>\n     </g>\n    </g>\n    <g id=\"xtick_87\">\n     <g id=\"line2d_87\">\n      <g>\n       <use style=\"stroke:#000000;stroke-width:0.8;\" x=\"762.285174\" xlink:href=\"#m12e0b210da\" y=\"170.57267\"/>\n      </g>\n     </g>\n    </g>\n    <g id=\"xtick_88\">\n     <g id=\"line2d_88\">\n      <g>\n       <use style=\"stroke:#000000;stroke-width:0.8;\" x=\"770.676151\" xlink:href=\"#m12e0b210da\" y=\"170.57267\"/>\n      </g>\n     </g>\n    </g>\n    <g id=\"xtick_89\">\n     <g id=\"line2d_89\">\n      <g>\n       <use style=\"stroke:#000000;stroke-width:0.8;\" x=\"779.067129\" xlink:href=\"#m12e0b210da\" y=\"170.57267\"/>\n      </g>\n     </g>\n    </g>\n    <g id=\"xtick_90\">\n     <g id=\"line2d_90\">\n      <g>\n       <use style=\"stroke:#000000;stroke-width:0.8;\" x=\"787.458106\" xlink:href=\"#m12e0b210da\" y=\"170.57267\"/>\n      </g>\n     </g>\n    </g>\n    <g id=\"xtick_91\">\n     <g id=\"line2d_91\">\n      <g>\n       <use style=\"stroke:#000000;stroke-width:0.8;\" x=\"795.849084\" xlink:href=\"#m12e0b210da\" y=\"170.57267\"/>\n      </g>\n     </g>\n    </g>\n    <g id=\"xtick_92\">\n     <g id=\"line2d_92\">\n      <g>\n       <use style=\"stroke:#000000;stroke-width:0.8;\" x=\"804.240061\" xlink:href=\"#m12e0b210da\" y=\"170.57267\"/>\n      </g>\n     </g>\n    </g>\n    <g id=\"xtick_93\">\n     <g id=\"line2d_93\">\n      <g>\n       <use style=\"stroke:#000000;stroke-width:0.8;\" x=\"812.631039\" xlink:href=\"#m12e0b210da\" y=\"170.57267\"/>\n      </g>\n     </g>\n    </g>\n    <g id=\"xtick_94\">\n     <g id=\"line2d_94\">\n      <g>\n       <use style=\"stroke:#000000;stroke-width:0.8;\" x=\"821.022016\" xlink:href=\"#m12e0b210da\" y=\"170.57267\"/>\n      </g>\n     </g>\n    </g>\n    <g id=\"xtick_95\">\n     <g id=\"line2d_95\">\n      <g>\n       <use style=\"stroke:#000000;stroke-width:0.8;\" x=\"829.412993\" xlink:href=\"#m12e0b210da\" y=\"170.57267\"/>\n      </g>\n     </g>\n    </g>\n    <g id=\"xtick_96\">\n     <g id=\"line2d_96\">\n      <g>\n       <use style=\"stroke:#000000;stroke-width:0.8;\" x=\"837.803971\" xlink:href=\"#m12e0b210da\" y=\"170.57267\"/>\n      </g>\n     </g>\n    </g>\n    <g id=\"xtick_97\">\n     <g id=\"line2d_97\">\n      <g>\n       <use style=\"stroke:#000000;stroke-width:0.8;\" x=\"846.194948\" xlink:href=\"#m12e0b210da\" y=\"170.57267\"/>\n      </g>\n     </g>\n    </g>\n    <g id=\"xtick_98\">\n     <g id=\"line2d_98\">\n      <g>\n       <use style=\"stroke:#000000;stroke-width:0.8;\" x=\"854.585926\" xlink:href=\"#m12e0b210da\" y=\"170.57267\"/>\n      </g>\n     </g>\n    </g>\n    <g id=\"xtick_99\">\n     <g id=\"line2d_99\">\n      <g>\n       <use style=\"stroke:#000000;stroke-width:0.8;\" x=\"862.976903\" xlink:href=\"#m12e0b210da\" y=\"170.57267\"/>\n      </g>\n     </g>\n    </g>\n    <g id=\"xtick_100\">\n     <g id=\"line2d_100\">\n      <g>\n       <use style=\"stroke:#000000;stroke-width:0.8;\" x=\"871.367881\" xlink:href=\"#m12e0b210da\" y=\"170.57267\"/>\n      </g>\n     </g>\n    </g>\n    <g id=\"xtick_101\">\n     <g id=\"line2d_101\">\n      <g>\n       <use style=\"stroke:#000000;stroke-width:0.8;\" x=\"879.758858\" xlink:href=\"#m12e0b210da\" y=\"170.57267\"/>\n      </g>\n     </g>\n    </g>\n    <g id=\"xtick_102\">\n     <g id=\"line2d_102\">\n      <g>\n       <use style=\"stroke:#000000;stroke-width:0.8;\" x=\"888.149836\" xlink:href=\"#m12e0b210da\" y=\"170.57267\"/>\n      </g>\n     </g>\n    </g>\n    <g id=\"xtick_103\">\n     <g id=\"line2d_103\">\n      <g>\n       <use style=\"stroke:#000000;stroke-width:0.8;\" x=\"896.540813\" xlink:href=\"#m12e0b210da\" y=\"170.57267\"/>\n      </g>\n     </g>\n    </g>\n    <g id=\"xtick_104\">\n     <g id=\"line2d_104\">\n      <g>\n       <use style=\"stroke:#000000;stroke-width:0.8;\" x=\"904.93179\" xlink:href=\"#m12e0b210da\" y=\"170.57267\"/>\n      </g>\n     </g>\n    </g>\n    <g id=\"xtick_105\">\n     <g id=\"line2d_105\">\n      <g>\n       <use style=\"stroke:#000000;stroke-width:0.8;\" x=\"913.322768\" xlink:href=\"#m12e0b210da\" y=\"170.57267\"/>\n      </g>\n     </g>\n    </g>\n    <g id=\"xtick_106\">\n     <g id=\"line2d_106\">\n      <g>\n       <use style=\"stroke:#000000;stroke-width:0.8;\" x=\"921.713745\" xlink:href=\"#m12e0b210da\" y=\"170.57267\"/>\n      </g>\n     </g>\n    </g>\n    <g id=\"xtick_107\">\n     <g id=\"line2d_107\">\n      <g>\n       <use style=\"stroke:#000000;stroke-width:0.8;\" x=\"930.104723\" xlink:href=\"#m12e0b210da\" y=\"170.57267\"/>\n      </g>\n     </g>\n    </g>\n    <g id=\"xtick_108\">\n     <g id=\"line2d_108\">\n      <g>\n       <use style=\"stroke:#000000;stroke-width:0.8;\" x=\"938.4957\" xlink:href=\"#m12e0b210da\" y=\"170.57267\"/>\n      </g>\n     </g>\n    </g>\n    <g id=\"xtick_109\">\n     <g id=\"line2d_109\">\n      <g>\n       <use style=\"stroke:#000000;stroke-width:0.8;\" x=\"946.886678\" xlink:href=\"#m12e0b210da\" y=\"170.57267\"/>\n      </g>\n     </g>\n    </g>\n    <g id=\"xtick_110\">\n     <g id=\"line2d_110\">\n      <g>\n       <use style=\"stroke:#000000;stroke-width:0.8;\" x=\"955.277655\" xlink:href=\"#m12e0b210da\" y=\"170.57267\"/>\n      </g>\n     </g>\n    </g>\n    <g id=\"xtick_111\">\n     <g id=\"line2d_111\">\n      <g>\n       <use style=\"stroke:#000000;stroke-width:0.8;\" x=\"963.668633\" xlink:href=\"#m12e0b210da\" y=\"170.57267\"/>\n      </g>\n     </g>\n    </g>\n    <g id=\"xtick_112\">\n     <g id=\"line2d_112\">\n      <g>\n       <use style=\"stroke:#000000;stroke-width:0.8;\" x=\"972.05961\" xlink:href=\"#m12e0b210da\" y=\"170.57267\"/>\n      </g>\n     </g>\n    </g>\n    <g id=\"xtick_113\">\n     <g id=\"line2d_113\">\n      <g>\n       <use style=\"stroke:#000000;stroke-width:0.8;\" x=\"980.450587\" xlink:href=\"#m12e0b210da\" y=\"170.57267\"/>\n      </g>\n     </g>\n    </g>\n    <g id=\"xtick_114\">\n     <g id=\"line2d_114\">\n      <g>\n       <use style=\"stroke:#000000;stroke-width:0.8;\" x=\"988.841565\" xlink:href=\"#m12e0b210da\" y=\"170.57267\"/>\n      </g>\n     </g>\n    </g>\n    <g id=\"xtick_115\">\n     <g id=\"line2d_115\">\n      <g>\n       <use style=\"stroke:#000000;stroke-width:0.8;\" x=\"997.232542\" xlink:href=\"#m12e0b210da\" y=\"170.57267\"/>\n      </g>\n     </g>\n    </g>\n    <g id=\"xtick_116\">\n     <g id=\"line2d_116\">\n      <g>\n       <use style=\"stroke:#000000;stroke-width:0.8;\" x=\"1005.62352\" xlink:href=\"#m12e0b210da\" y=\"170.57267\"/>\n      </g>\n     </g>\n    </g>\n    <g id=\"xtick_117\">\n     <g id=\"line2d_117\">\n      <g>\n       <use style=\"stroke:#000000;stroke-width:0.8;\" x=\"1014.014497\" xlink:href=\"#m12e0b210da\" y=\"170.57267\"/>\n      </g>\n     </g>\n    </g>\n    <g id=\"xtick_118\">\n     <g id=\"line2d_118\">\n      <g>\n       <use style=\"stroke:#000000;stroke-width:0.8;\" x=\"1022.405475\" xlink:href=\"#m12e0b210da\" y=\"170.57267\"/>\n      </g>\n     </g>\n    </g>\n    <g id=\"xtick_119\">\n     <g id=\"line2d_119\">\n      <g>\n       <use style=\"stroke:#000000;stroke-width:0.8;\" x=\"1030.796452\" xlink:href=\"#m12e0b210da\" y=\"170.57267\"/>\n      </g>\n     </g>\n    </g>\n    <g id=\"xtick_120\">\n     <g id=\"line2d_120\">\n      <g>\n       <use style=\"stroke:#000000;stroke-width:0.8;\" x=\"1039.18743\" xlink:href=\"#m12e0b210da\" y=\"170.57267\"/>\n      </g>\n     </g>\n    </g>\n    <g id=\"xtick_121\">\n     <g id=\"line2d_121\">\n      <g>\n       <use style=\"stroke:#000000;stroke-width:0.8;\" x=\"1047.578407\" xlink:href=\"#m12e0b210da\" y=\"170.57267\"/>\n      </g>\n     </g>\n    </g>\n    <g id=\"xtick_122\">\n     <g id=\"line2d_122\">\n      <g>\n       <use style=\"stroke:#000000;stroke-width:0.8;\" x=\"1055.969384\" xlink:href=\"#m12e0b210da\" y=\"170.57267\"/>\n      </g>\n     </g>\n    </g>\n    <g id=\"xtick_123\">\n     <g id=\"line2d_123\">\n      <g>\n       <use style=\"stroke:#000000;stroke-width:0.8;\" x=\"1064.360362\" xlink:href=\"#m12e0b210da\" y=\"170.57267\"/>\n      </g>\n     </g>\n    </g>\n    <g id=\"xtick_124\">\n     <g id=\"line2d_124\">\n      <g>\n       <use style=\"stroke:#000000;stroke-width:0.8;\" x=\"1072.751339\" xlink:href=\"#m12e0b210da\" y=\"170.57267\"/>\n      </g>\n     </g>\n    </g>\n    <g id=\"xtick_125\">\n     <g id=\"line2d_125\">\n      <g>\n       <use style=\"stroke:#000000;stroke-width:0.8;\" x=\"1081.142317\" xlink:href=\"#m12e0b210da\" y=\"170.57267\"/>\n      </g>\n     </g>\n    </g>\n    <g id=\"xtick_126\">\n     <g id=\"line2d_126\">\n      <g>\n       <use style=\"stroke:#000000;stroke-width:0.8;\" x=\"1089.533294\" xlink:href=\"#m12e0b210da\" y=\"170.57267\"/>\n      </g>\n     </g>\n    </g>\n    <g id=\"xtick_127\">\n     <g id=\"line2d_127\">\n      <g>\n       <use style=\"stroke:#000000;stroke-width:0.8;\" x=\"1097.924272\" xlink:href=\"#m12e0b210da\" y=\"170.57267\"/>\n      </g>\n     </g>\n    </g>\n    <g id=\"xtick_128\">\n     <g id=\"line2d_128\">\n      <g>\n       <use style=\"stroke:#000000;stroke-width:0.8;\" x=\"1106.315249\" xlink:href=\"#m12e0b210da\" y=\"170.57267\"/>\n      </g>\n     </g>\n    </g>\n    <g id=\"xtick_129\">\n     <g id=\"line2d_129\">\n      <g>\n       <use style=\"stroke:#000000;stroke-width:0.8;\" x=\"1114.706227\" xlink:href=\"#m12e0b210da\" y=\"170.57267\"/>\n      </g>\n     </g>\n    </g>\n    <g id=\"xtick_130\">\n     <g id=\"line2d_130\">\n      <g>\n       <use style=\"stroke:#000000;stroke-width:0.8;\" x=\"1123.097204\" xlink:href=\"#m12e0b210da\" y=\"170.57267\"/>\n      </g>\n     </g>\n    </g>\n    <g id=\"xtick_131\">\n     <g id=\"line2d_131\">\n      <g>\n       <use style=\"stroke:#000000;stroke-width:0.8;\" x=\"1131.488181\" xlink:href=\"#m12e0b210da\" y=\"170.57267\"/>\n      </g>\n     </g>\n    </g>\n    <g id=\"xtick_132\">\n     <g id=\"line2d_132\">\n      <g>\n       <use style=\"stroke:#000000;stroke-width:0.8;\" x=\"1139.879159\" xlink:href=\"#m12e0b210da\" y=\"170.57267\"/>\n      </g>\n     </g>\n    </g>\n    <g id=\"xtick_133\">\n     <g id=\"line2d_133\">\n      <g>\n       <use style=\"stroke:#000000;stroke-width:0.8;\" x=\"1148.270136\" xlink:href=\"#m12e0b210da\" y=\"170.57267\"/>\n      </g>\n     </g>\n    </g>\n   </g>\n   <g id=\"matplotlib.axis_2\">\n    <g id=\"ytick_1\">\n     <g id=\"line2d_134\">\n      <defs>\n       <path d=\"M 0 0 \nL -3.5 0 \n\" id=\"m384f66caa2\" style=\"stroke:#000000;stroke-width:0.8;\"/>\n      </defs>\n      <g>\n       <use style=\"stroke:#000000;stroke-width:0.8;\" x=\"36.465625\" xlink:href=\"#m384f66caa2\" y=\"170.57267\"/>\n      </g>\n     </g>\n     <g id=\"text_1\">\n      <!-- 0.00 -->\n      <defs>\n       <path d=\"M 31.78125 66.40625 \nQ 24.171875 66.40625 20.328125 58.90625 \nQ 16.5 51.421875 16.5 36.375 \nQ 16.5 21.390625 20.328125 13.890625 \nQ 24.171875 6.390625 31.78125 6.390625 \nQ 39.453125 6.390625 43.28125 13.890625 \nQ 47.125 21.390625 47.125 36.375 \nQ 47.125 51.421875 43.28125 58.90625 \nQ 39.453125 66.40625 31.78125 66.40625 \nz\nM 31.78125 74.21875 \nQ 44.046875 74.21875 50.515625 64.515625 \nQ 56.984375 54.828125 56.984375 36.375 \nQ 56.984375 17.96875 50.515625 8.265625 \nQ 44.046875 -1.421875 31.78125 -1.421875 \nQ 19.53125 -1.421875 13.0625 8.265625 \nQ 6.59375 17.96875 6.59375 36.375 \nQ 6.59375 54.828125 13.0625 64.515625 \nQ 19.53125 74.21875 31.78125 74.21875 \nz\n\" id=\"DejaVuSans-48\"/>\n       <path d=\"M 10.6875 12.40625 \nL 21 12.40625 \nL 21 0 \nL 10.6875 0 \nz\n\" id=\"DejaVuSans-46\"/>\n      </defs>\n      <g transform=\"translate(7.2 174.371889)scale(0.1 -0.1)\">\n       <use xlink:href=\"#DejaVuSans-48\"/>\n       <use x=\"63.623047\" xlink:href=\"#DejaVuSans-46\"/>\n       <use x=\"95.410156\" xlink:href=\"#DejaVuSans-48\"/>\n       <use x=\"159.033203\" xlink:href=\"#DejaVuSans-48\"/>\n      </g>\n     </g>\n    </g>\n    <g id=\"ytick_2\">\n     <g id=\"line2d_135\">\n      <g>\n       <use style=\"stroke:#000000;stroke-width:0.8;\" x=\"36.465625\" xlink:href=\"#m384f66caa2\" y=\"140.921761\"/>\n      </g>\n     </g>\n     <g id=\"text_2\">\n      <!-- 0.05 -->\n      <defs>\n       <path d=\"M 10.796875 72.90625 \nL 49.515625 72.90625 \nL 49.515625 64.59375 \nL 19.828125 64.59375 \nL 19.828125 46.734375 \nQ 21.96875 47.46875 24.109375 47.828125 \nQ 26.265625 48.1875 28.421875 48.1875 \nQ 40.625 48.1875 47.75 41.5 \nQ 54.890625 34.8125 54.890625 23.390625 \nQ 54.890625 11.625 47.5625 5.09375 \nQ 40.234375 -1.421875 26.90625 -1.421875 \nQ 22.3125 -1.421875 17.546875 -0.640625 \nQ 12.796875 0.140625 7.71875 1.703125 \nL 7.71875 11.625 \nQ 12.109375 9.234375 16.796875 8.0625 \nQ 21.484375 6.890625 26.703125 6.890625 \nQ 35.15625 6.890625 40.078125 11.328125 \nQ 45.015625 15.765625 45.015625 23.390625 \nQ 45.015625 31 40.078125 35.4375 \nQ 35.15625 39.890625 26.703125 39.890625 \nQ 22.75 39.890625 18.8125 39.015625 \nQ 14.890625 38.140625 10.796875 36.28125 \nz\n\" id=\"DejaVuSans-53\"/>\n      </defs>\n      <g transform=\"translate(7.2 144.72098)scale(0.1 -0.1)\">\n       <use xlink:href=\"#DejaVuSans-48\"/>\n       <use x=\"63.623047\" xlink:href=\"#DejaVuSans-46\"/>\n       <use x=\"95.410156\" xlink:href=\"#DejaVuSans-48\"/>\n       <use x=\"159.033203\" xlink:href=\"#DejaVuSans-53\"/>\n      </g>\n     </g>\n    </g>\n    <g id=\"ytick_3\">\n     <g id=\"line2d_136\">\n      <g>\n       <use style=\"stroke:#000000;stroke-width:0.8;\" x=\"36.465625\" xlink:href=\"#m384f66caa2\" y=\"111.270852\"/>\n      </g>\n     </g>\n     <g id=\"text_3\">\n      <!-- 0.10 -->\n      <defs>\n       <path d=\"M 12.40625 8.296875 \nL 28.515625 8.296875 \nL 28.515625 63.921875 \nL 10.984375 60.40625 \nL 10.984375 69.390625 \nL 28.421875 72.90625 \nL 38.28125 72.90625 \nL 38.28125 8.296875 \nL 54.390625 8.296875 \nL 54.390625 0 \nL 12.40625 0 \nz\n\" id=\"DejaVuSans-49\"/>\n      </defs>\n      <g transform=\"translate(7.2 115.070071)scale(0.1 -0.1)\">\n       <use xlink:href=\"#DejaVuSans-48\"/>\n       <use x=\"63.623047\" xlink:href=\"#DejaVuSans-46\"/>\n       <use x=\"95.410156\" xlink:href=\"#DejaVuSans-49\"/>\n       <use x=\"159.033203\" xlink:href=\"#DejaVuSans-48\"/>\n      </g>\n     </g>\n    </g>\n    <g id=\"ytick_4\">\n     <g id=\"line2d_137\">\n      <g>\n       <use style=\"stroke:#000000;stroke-width:0.8;\" x=\"36.465625\" xlink:href=\"#m384f66caa2\" y=\"81.619943\"/>\n      </g>\n     </g>\n     <g id=\"text_4\">\n      <!-- 0.15 -->\n      <g transform=\"translate(7.2 85.419162)scale(0.1 -0.1)\">\n       <use xlink:href=\"#DejaVuSans-48\"/>\n       <use x=\"63.623047\" xlink:href=\"#DejaVuSans-46\"/>\n       <use x=\"95.410156\" xlink:href=\"#DejaVuSans-49\"/>\n       <use x=\"159.033203\" xlink:href=\"#DejaVuSans-53\"/>\n      </g>\n     </g>\n    </g>\n    <g id=\"ytick_5\">\n     <g id=\"line2d_138\">\n      <g>\n       <use style=\"stroke:#000000;stroke-width:0.8;\" x=\"36.465625\" xlink:href=\"#m384f66caa2\" y=\"51.969034\"/>\n      </g>\n     </g>\n     <g id=\"text_5\">\n      <!-- 0.20 -->\n      <defs>\n       <path d=\"M 19.1875 8.296875 \nL 53.609375 8.296875 \nL 53.609375 0 \nL 7.328125 0 \nL 7.328125 8.296875 \nQ 12.9375 14.109375 22.625 23.890625 \nQ 32.328125 33.6875 34.8125 36.53125 \nQ 39.546875 41.84375 41.421875 45.53125 \nQ 43.3125 49.21875 43.3125 52.78125 \nQ 43.3125 58.59375 39.234375 62.25 \nQ 35.15625 65.921875 28.609375 65.921875 \nQ 23.96875 65.921875 18.8125 64.3125 \nQ 13.671875 62.703125 7.8125 59.421875 \nL 7.8125 69.390625 \nQ 13.765625 71.78125 18.9375 73 \nQ 24.125 74.21875 28.421875 74.21875 \nQ 39.75 74.21875 46.484375 68.546875 \nQ 53.21875 62.890625 53.21875 53.421875 \nQ 53.21875 48.921875 51.53125 44.890625 \nQ 49.859375 40.875 45.40625 35.40625 \nQ 44.1875 33.984375 37.640625 27.21875 \nQ 31.109375 20.453125 19.1875 8.296875 \nz\n\" id=\"DejaVuSans-50\"/>\n      </defs>\n      <g transform=\"translate(7.2 55.768253)scale(0.1 -0.1)\">\n       <use xlink:href=\"#DejaVuSans-48\"/>\n       <use x=\"63.623047\" xlink:href=\"#DejaVuSans-46\"/>\n       <use x=\"95.410156\" xlink:href=\"#DejaVuSans-50\"/>\n       <use x=\"159.033203\" xlink:href=\"#DejaVuSans-48\"/>\n      </g>\n     </g>\n    </g>\n    <g id=\"ytick_6\">\n     <g id=\"line2d_139\">\n      <g>\n       <use style=\"stroke:#000000;stroke-width:0.8;\" x=\"36.465625\" xlink:href=\"#m384f66caa2\" y=\"22.318125\"/>\n      </g>\n     </g>\n     <g id=\"text_6\">\n      <!-- 0.25 -->\n      <g transform=\"translate(7.2 26.117344)scale(0.1 -0.1)\">\n       <use xlink:href=\"#DejaVuSans-48\"/>\n       <use x=\"63.623047\" xlink:href=\"#DejaVuSans-46\"/>\n       <use x=\"95.410156\" xlink:href=\"#DejaVuSans-50\"/>\n       <use x=\"159.033203\" xlink:href=\"#DejaVuSans-53\"/>\n      </g>\n     </g>\n    </g>\n   </g>\n   <g id=\"patch_136\">\n    <path d=\"M 36.465625 170.57267 \nL 36.465625 22.318125 \n\" style=\"fill:none;stroke:#000000;stroke-linecap:square;stroke-linejoin:miter;stroke-width:0.8;\"/>\n   </g>\n   <g id=\"patch_137\">\n    <path d=\"M 1152.465625 170.57267 \nL 1152.465625 22.318125 \n\" style=\"fill:none;stroke:#000000;stroke-linecap:square;stroke-linejoin:miter;stroke-width:0.8;\"/>\n   </g>\n   <g id=\"patch_138\">\n    <path d=\"M 36.465625 170.57267 \nL 1152.465625 170.57267 \n\" style=\"fill:none;stroke:#000000;stroke-linecap:square;stroke-linejoin:miter;stroke-width:0.8;\"/>\n   </g>\n   <g id=\"patch_139\">\n    <path d=\"M 36.465625 22.318125 \nL 1152.465625 22.318125 \n\" style=\"fill:none;stroke:#000000;stroke-linecap:square;stroke-linejoin:miter;stroke-width:0.8;\"/>\n   </g>\n   <g id=\"text_7\">\n    <!-- Female -->\n    <defs>\n     <path d=\"M 9.8125 72.90625 \nL 51.703125 72.90625 \nL 51.703125 64.59375 \nL 19.671875 64.59375 \nL 19.671875 43.109375 \nL 48.578125 43.109375 \nL 48.578125 34.8125 \nL 19.671875 34.8125 \nL 19.671875 0 \nL 9.8125 0 \nz\n\" id=\"DejaVuSans-70\"/>\n     <path d=\"M 56.203125 29.59375 \nL 56.203125 25.203125 \nL 14.890625 25.203125 \nQ 15.484375 15.921875 20.484375 11.0625 \nQ 25.484375 6.203125 34.421875 6.203125 \nQ 39.59375 6.203125 44.453125 7.46875 \nQ 49.3125 8.734375 54.109375 11.28125 \nL 54.109375 2.78125 \nQ 49.265625 0.734375 44.1875 -0.34375 \nQ 39.109375 -1.421875 33.890625 -1.421875 \nQ 20.796875 -1.421875 13.15625 6.1875 \nQ 5.515625 13.8125 5.515625 26.8125 \nQ 5.515625 40.234375 12.765625 48.109375 \nQ 20.015625 56 32.328125 56 \nQ 43.359375 56 49.78125 48.890625 \nQ 56.203125 41.796875 56.203125 29.59375 \nz\nM 47.21875 32.234375 \nQ 47.125 39.59375 43.09375 43.984375 \nQ 39.0625 48.390625 32.421875 48.390625 \nQ 24.90625 48.390625 20.390625 44.140625 \nQ 15.875 39.890625 15.1875 32.171875 \nz\n\" id=\"DejaVuSans-101\"/>\n     <path d=\"M 52 44.1875 \nQ 55.375 50.25 60.0625 53.125 \nQ 64.75 56 71.09375 56 \nQ 79.640625 56 84.28125 50.015625 \nQ 88.921875 44.046875 88.921875 33.015625 \nL 88.921875 0 \nL 79.890625 0 \nL 79.890625 32.71875 \nQ 79.890625 40.578125 77.09375 44.375 \nQ 74.3125 48.1875 68.609375 48.1875 \nQ 61.625 48.1875 57.5625 43.546875 \nQ 53.515625 38.921875 53.515625 30.90625 \nL 53.515625 0 \nL 44.484375 0 \nL 44.484375 32.71875 \nQ 44.484375 40.625 41.703125 44.40625 \nQ 38.921875 48.1875 33.109375 48.1875 \nQ 26.21875 48.1875 22.15625 43.53125 \nQ 18.109375 38.875 18.109375 30.90625 \nL 18.109375 0 \nL 9.078125 0 \nL 9.078125 54.6875 \nL 18.109375 54.6875 \nL 18.109375 46.1875 \nQ 21.1875 51.21875 25.484375 53.609375 \nQ 29.78125 56 35.6875 56 \nQ 41.65625 56 45.828125 52.96875 \nQ 50 49.953125 52 44.1875 \nz\n\" id=\"DejaVuSans-109\"/>\n     <path d=\"M 34.28125 27.484375 \nQ 23.390625 27.484375 19.1875 25 \nQ 14.984375 22.515625 14.984375 16.5 \nQ 14.984375 11.71875 18.140625 8.90625 \nQ 21.296875 6.109375 26.703125 6.109375 \nQ 34.1875 6.109375 38.703125 11.40625 \nQ 43.21875 16.703125 43.21875 25.484375 \nL 43.21875 27.484375 \nz\nM 52.203125 31.203125 \nL 52.203125 0 \nL 43.21875 0 \nL 43.21875 8.296875 \nQ 40.140625 3.328125 35.546875 0.953125 \nQ 30.953125 -1.421875 24.3125 -1.421875 \nQ 15.921875 -1.421875 10.953125 3.296875 \nQ 6 8.015625 6 15.921875 \nQ 6 25.140625 12.171875 29.828125 \nQ 18.359375 34.515625 30.609375 34.515625 \nL 43.21875 34.515625 \nL 43.21875 35.40625 \nQ 43.21875 41.609375 39.140625 45 \nQ 35.0625 48.390625 27.6875 48.390625 \nQ 23 48.390625 18.546875 47.265625 \nQ 14.109375 46.140625 10.015625 43.890625 \nL 10.015625 52.203125 \nQ 14.9375 54.109375 19.578125 55.046875 \nQ 24.21875 56 28.609375 56 \nQ 40.484375 56 46.34375 49.84375 \nQ 52.203125 43.703125 52.203125 31.203125 \nz\n\" id=\"DejaVuSans-97\"/>\n     <path d=\"M 9.421875 75.984375 \nL 18.40625 75.984375 \nL 18.40625 0 \nL 9.421875 0 \nz\n\" id=\"DejaVuSans-108\"/>\n    </defs>\n    <g transform=\"translate(572.4475 16.318125)scale(0.12 -0.12)\">\n     <use xlink:href=\"#DejaVuSans-70\"/>\n     <use x=\"57.441406\" xlink:href=\"#DejaVuSans-101\"/>\n     <use x=\"118.964844\" xlink:href=\"#DejaVuSans-109\"/>\n     <use x=\"216.376953\" xlink:href=\"#DejaVuSans-97\"/>\n     <use x=\"277.65625\" xlink:href=\"#DejaVuSans-108\"/>\n     <use x=\"305.439453\" xlink:href=\"#DejaVuSans-101\"/>\n    </g>\n   </g>\n   <g id=\"legend_1\">\n    <g id=\"patch_140\">\n     <path d=\"M 1076.76875 44.99625 \nL 1145.465625 44.99625 \nQ 1147.465625 44.99625 1147.465625 42.99625 \nL 1147.465625 29.318125 \nQ 1147.465625 27.318125 1145.465625 27.318125 \nL 1076.76875 27.318125 \nQ 1074.76875 27.318125 1074.76875 29.318125 \nL 1074.76875 42.99625 \nQ 1074.76875 44.99625 1076.76875 44.99625 \nz\n\" style=\"fill:#ffffff;opacity:0.8;stroke:#cccccc;stroke-linejoin:miter;\"/>\n    </g>\n    <g id=\"patch_141\">\n     <path d=\"M 1078.76875 38.916563 \nL 1098.76875 38.916563 \nL 1098.76875 31.916563 \nL 1078.76875 31.916563 \nz\n\" style=\"fill:#1f77b4;\"/>\n    </g>\n    <g id=\"text_8\">\n     <!-- Female -->\n     <g transform=\"translate(1106.76875 38.916563)scale(0.1 -0.1)\">\n      <use xlink:href=\"#DejaVuSans-70\"/>\n      <use x=\"57.441406\" xlink:href=\"#DejaVuSans-101\"/>\n      <use x=\"118.964844\" xlink:href=\"#DejaVuSans-109\"/>\n      <use x=\"216.376953\" xlink:href=\"#DejaVuSans-97\"/>\n      <use x=\"277.65625\" xlink:href=\"#DejaVuSans-108\"/>\n      <use x=\"305.439453\" xlink:href=\"#DejaVuSans-101\"/>\n     </g>\n    </g>\n   </g>\n  </g>\n  <g id=\"axes_2\">\n   <g id=\"patch_142\">\n    <path d=\"M 36.465625 348.478125 \nL 1152.465625 348.478125 \nL 1152.465625 200.22358 \nL 36.465625 200.22358 \nz\n\" style=\"fill:#ffffff;\"/>\n   </g>\n   <g id=\"patch_143\">\n    <path clip-path=\"url(#p0f4f403e9b)\" d=\"M 38.563369 348.478125 \nL 42.758858 348.478125 \nL 42.758858 346.94105 \nL 38.563369 346.94105 \nz\n\" style=\"fill:#ff7f0e;\"/>\n   </g>\n   <g id=\"patch_144\">\n    <path clip-path=\"url(#p0f4f403e9b)\" d=\"M 46.954347 348.478125 \nL 51.149836 348.478125 \nL 51.149836 348.404931 \nL 46.954347 348.404931 \nz\n\" style=\"fill:#ff7f0e;\"/>\n   </g>\n   <g id=\"patch_145\">\n    <path clip-path=\"url(#p0f4f403e9b)\" d=\"M 55.345324 348.478125 \nL 59.540813 348.478125 \nL 59.540813 347.892573 \nL 55.345324 347.892573 \nz\n\" style=\"fill:#ff7f0e;\"/>\n   </g>\n   <g id=\"patch_146\">\n    <path clip-path=\"url(#p0f4f403e9b)\" d=\"M 63.736302 348.478125 \nL 67.93179 348.478125 \nL 67.93179 347.233826 \nL 63.736302 347.233826 \nz\n\" style=\"fill:#ff7f0e;\"/>\n   </g>\n   <g id=\"patch_147\">\n    <path clip-path=\"url(#p0f4f403e9b)\" d=\"M 72.127279 348.478125 \nL 76.322768 348.478125 \nL 76.322768 345.623557 \nL 72.127279 345.623557 \nz\n\" style=\"fill:#ff7f0e;\"/>\n   </g>\n   <g id=\"patch_148\">\n    <path clip-path=\"url(#p0f4f403e9b)\" d=\"M 80.518257 348.478125 \nL 84.713745 348.478125 \nL 84.713745 347.599796 \nL 80.518257 347.599796 \nz\n\" style=\"fill:#ff7f0e;\"/>\n   </g>\n   <g id=\"patch_149\">\n    <path clip-path=\"url(#p0f4f403e9b)\" d=\"M 88.909234 348.478125 \nL 93.104723 348.478125 \nL 93.104723 347.014244 \nL 88.909234 347.014244 \nz\n\" style=\"fill:#ff7f0e;\"/>\n   </g>\n   <g id=\"patch_150\">\n    <path clip-path=\"url(#p0f4f403e9b)\" d=\"M 97.300211 348.478125 \nL 101.4957 348.478125 \nL 101.4957 345.989527 \nL 97.300211 345.989527 \nz\n\" style=\"fill:#ff7f0e;\"/>\n   </g>\n   <g id=\"patch_151\">\n    <path clip-path=\"url(#p0f4f403e9b)\" d=\"M 105.691189 348.478125 \nL 109.886678 348.478125 \nL 109.886678 345.696751 \nL 105.691189 345.696751 \nz\n\" style=\"fill:#ff7f0e;\"/>\n   </g>\n   <g id=\"patch_152\">\n    <path clip-path=\"url(#p0f4f403e9b)\" d=\"M 114.082166 348.478125 \nL 118.277655 348.478125 \nL 118.277655 345.184393 \nL 114.082166 345.184393 \nz\n\" style=\"fill:#ff7f0e;\"/>\n   </g>\n   <g id=\"patch_153\">\n    <path clip-path=\"url(#p0f4f403e9b)\" d=\"M 122.473144 348.478125 \nL 126.668633 348.478125 \nL 126.668633 345.843139 \nL 122.473144 345.843139 \nz\n\" style=\"fill:#ff7f0e;\"/>\n   </g>\n   <g id=\"patch_154\">\n    <path clip-path=\"url(#p0f4f403e9b)\" d=\"M 130.864121 348.478125 \nL 135.05961 348.478125 \nL 135.05961 340.134003 \nL 130.864121 340.134003 \nz\n\" style=\"fill:#ff7f0e;\"/>\n   </g>\n   <g id=\"patch_155\">\n    <path clip-path=\"url(#p0f4f403e9b)\" d=\"M 139.255099 348.478125 \nL 143.450587 348.478125 \nL 143.450587 338.523734 \nL 139.255099 338.523734 \nz\n\" style=\"fill:#ff7f0e;\"/>\n   </g>\n   <g id=\"patch_156\">\n    <path clip-path=\"url(#p0f4f403e9b)\" d=\"M 147.646076 348.478125 \nL 151.841565 348.478125 \nL 151.841565 346.57508 \nL 147.646076 346.57508 \nz\n\" style=\"fill:#ff7f0e;\"/>\n   </g>\n   <g id=\"patch_157\">\n    <path clip-path=\"url(#p0f4f403e9b)\" d=\"M 156.037054 348.478125 \nL 160.232542 348.478125 \nL 160.232542 344.086482 \nL 156.037054 344.086482 \nz\n\" style=\"fill:#ff7f0e;\"/>\n   </g>\n   <g id=\"patch_158\">\n    <path clip-path=\"url(#p0f4f403e9b)\" d=\"M 164.428031 348.478125 \nL 168.62352 348.478125 \nL 168.62352 348.404931 \nL 164.428031 348.404931 \nz\n\" style=\"fill:#ff7f0e;\"/>\n   </g>\n   <g id=\"patch_159\">\n    <path clip-path=\"url(#p0f4f403e9b)\" d=\"M 172.819008 348.478125 \nL 177.014497 348.478125 \nL 177.014497 343.8669 \nL 172.819008 343.8669 \nz\n\" style=\"fill:#ff7f0e;\"/>\n   </g>\n   <g id=\"patch_160\">\n    <path clip-path=\"url(#p0f4f403e9b)\" d=\"M 181.209986 348.478125 \nL 185.405475 348.478125 \nL 185.405475 341.671078 \nL 181.209986 341.671078 \nz\n\" style=\"fill:#ff7f0e;\"/>\n   </g>\n   <g id=\"patch_161\">\n    <path clip-path=\"url(#p0f4f403e9b)\" d=\"M 189.600963 348.478125 \nL 193.796452 348.478125 \nL 193.796452 346.209109 \nL 189.600963 346.209109 \nz\n\" style=\"fill:#ff7f0e;\"/>\n   </g>\n   <g id=\"patch_162\">\n    <path clip-path=\"url(#p0f4f403e9b)\" d=\"M 197.991941 348.478125 \nL 202.18743 348.478125 \nL 202.18743 332.375434 \nL 197.991941 332.375434 \nz\n\" style=\"fill:#ff7f0e;\"/>\n   </g>\n   <g id=\"patch_163\">\n    <path clip-path=\"url(#p0f4f403e9b)\" d=\"M 206.382918 348.478125 \nL 210.578407 348.478125 \nL 210.578407 347.014244 \nL 206.382918 347.014244 \nz\n\" style=\"fill:#ff7f0e;\"/>\n   </g>\n   <g id=\"patch_164\">\n    <path clip-path=\"url(#p0f4f403e9b)\" d=\"M 214.773896 348.478125 \nL 218.969384 348.478125 \nL 218.969384 348.478125 \nL 214.773896 348.478125 \nz\n\" style=\"fill:#ff7f0e;\"/>\n   </g>\n   <g id=\"patch_165\">\n    <path clip-path=\"url(#p0f4f403e9b)\" d=\"M 223.164873 348.478125 \nL 227.360362 348.478125 \nL 227.360362 347.965767 \nL 223.164873 347.965767 \nz\n\" style=\"fill:#ff7f0e;\"/>\n   </g>\n   <g id=\"patch_166\">\n    <path clip-path=\"url(#p0f4f403e9b)\" d=\"M 231.555851 348.478125 \nL 235.751339 348.478125 \nL 235.751339 348.404931 \nL 231.555851 348.404931 \nz\n\" style=\"fill:#ff7f0e;\"/>\n   </g>\n   <g id=\"patch_167\">\n    <path clip-path=\"url(#p0f4f403e9b)\" d=\"M 239.946828 348.478125 \nL 244.142317 348.478125 \nL 244.142317 348.478125 \nL 239.946828 348.478125 \nz\n\" style=\"fill:#ff7f0e;\"/>\n   </g>\n   <g id=\"patch_168\">\n    <path clip-path=\"url(#p0f4f403e9b)\" d=\"M 248.337805 348.478125 \nL 252.533294 348.478125 \nL 252.533294 265.329686 \nL 248.337805 265.329686 \nz\n\" style=\"fill:#ff7f0e;\"/>\n   </g>\n   <g id=\"patch_169\">\n    <path clip-path=\"url(#p0f4f403e9b)\" d=\"M 256.728783 348.478125 \nL 260.924272 348.478125 \nL 260.924272 346.209109 \nL 256.728783 346.209109 \nz\n\" style=\"fill:#ff7f0e;\"/>\n   </g>\n   <g id=\"patch_170\">\n    <path clip-path=\"url(#p0f4f403e9b)\" d=\"M 265.11976 348.478125 \nL 269.315249 348.478125 \nL 269.315249 347.67299 \nL 265.11976 347.67299 \nz\n\" style=\"fill:#ff7f0e;\"/>\n   </g>\n   <g id=\"patch_171\">\n    <path clip-path=\"url(#p0f4f403e9b)\" d=\"M 273.510738 348.478125 \nL 277.706227 348.478125 \nL 277.706227 348.038961 \nL 273.510738 348.038961 \nz\n\" style=\"fill:#ff7f0e;\"/>\n   </g>\n   <g id=\"patch_172\">\n    <path clip-path=\"url(#p0f4f403e9b)\" d=\"M 281.901715 348.478125 \nL 286.097204 348.478125 \nL 286.097204 348.038961 \nL 281.901715 348.038961 \nz\n\" style=\"fill:#ff7f0e;\"/>\n   </g>\n   <g id=\"patch_173\">\n    <path clip-path=\"url(#p0f4f403e9b)\" d=\"M 290.292693 348.478125 \nL 294.488181 348.478125 \nL 294.488181 345.623557 \nL 290.292693 345.623557 \nz\n\" style=\"fill:#ff7f0e;\"/>\n   </g>\n   <g id=\"patch_174\">\n    <path clip-path=\"url(#p0f4f403e9b)\" d=\"M 298.68367 348.478125 \nL 302.879159 348.478125 \nL 302.879159 345.330781 \nL 298.68367 345.330781 \nz\n\" style=\"fill:#ff7f0e;\"/>\n   </g>\n   <g id=\"patch_175\">\n    <path clip-path=\"url(#p0f4f403e9b)\" d=\"M 307.074648 348.478125 \nL 311.270136 348.478125 \nL 311.270136 336.767077 \nL 307.074648 336.767077 \nz\n\" style=\"fill:#ff7f0e;\"/>\n   </g>\n   <g id=\"patch_176\">\n    <path clip-path=\"url(#p0f4f403e9b)\" d=\"M 315.465625 348.478125 \nL 319.661114 348.478125 \nL 319.661114 348.331737 \nL 315.465625 348.331737 \nz\n\" style=\"fill:#ff7f0e;\"/>\n   </g>\n   <g id=\"patch_177\">\n    <path clip-path=\"url(#p0f4f403e9b)\" d=\"M 323.856602 348.478125 \nL 328.052091 348.478125 \nL 328.052091 348.112155 \nL 323.856602 348.112155 \nz\n\" style=\"fill:#ff7f0e;\"/>\n   </g>\n   <g id=\"patch_178\">\n    <path clip-path=\"url(#p0f4f403e9b)\" d=\"M 332.24758 348.478125 \nL 336.443069 348.478125 \nL 336.443069 345.184393 \nL 332.24758 345.184393 \nz\n\" style=\"fill:#ff7f0e;\"/>\n   </g>\n   <g id=\"patch_179\">\n    <path clip-path=\"url(#p0f4f403e9b)\" d=\"M 340.638557 348.478125 \nL 344.834046 348.478125 \nL 344.834046 346.94105 \nL 340.638557 346.94105 \nz\n\" style=\"fill:#ff7f0e;\"/>\n   </g>\n   <g id=\"patch_180\">\n    <path clip-path=\"url(#p0f4f403e9b)\" d=\"M 349.029535 348.478125 \nL 353.225023 348.478125 \nL 353.225023 343.427736 \nL 349.029535 343.427736 \nz\n\" style=\"fill:#ff7f0e;\"/>\n   </g>\n   <g id=\"patch_181\">\n    <path clip-path=\"url(#p0f4f403e9b)\" d=\"M 357.420512 348.478125 \nL 361.616001 348.478125 \nL 361.616001 346.94105 \nL 357.420512 346.94105 \nz\n\" style=\"fill:#ff7f0e;\"/>\n   </g>\n   <g id=\"patch_182\">\n    <path clip-path=\"url(#p0f4f403e9b)\" d=\"M 365.81149 348.478125 \nL 370.006978 348.478125 \nL 370.006978 347.965767 \nL 365.81149 347.965767 \nz\n\" style=\"fill:#ff7f0e;\"/>\n   </g>\n   <g id=\"patch_183\">\n    <path clip-path=\"url(#p0f4f403e9b)\" d=\"M 374.202467 348.478125 \nL 378.397956 348.478125 \nL 378.397956 348.404931 \nL 374.202467 348.404931 \nz\n\" style=\"fill:#ff7f0e;\"/>\n   </g>\n   <g id=\"patch_184\">\n    <path clip-path=\"url(#p0f4f403e9b)\" d=\"M 382.593445 348.478125 \nL 386.788933 348.478125 \nL 386.788933 347.087438 \nL 382.593445 347.087438 \nz\n\" style=\"fill:#ff7f0e;\"/>\n   </g>\n   <g id=\"patch_185\">\n    <path clip-path=\"url(#p0f4f403e9b)\" d=\"M 390.984422 348.478125 \nL 395.179911 348.478125 \nL 395.179911 345.843139 \nL 390.984422 345.843139 \nz\n\" style=\"fill:#ff7f0e;\"/>\n   </g>\n   <g id=\"patch_186\">\n    <path clip-path=\"url(#p0f4f403e9b)\" d=\"M 399.375399 348.478125 \nL 403.570888 348.478125 \nL 403.570888 299.438112 \nL 399.375399 299.438112 \nz\n\" style=\"fill:#ff7f0e;\"/>\n   </g>\n   <g id=\"patch_187\">\n    <path clip-path=\"url(#p0f4f403e9b)\" d=\"M 407.766377 348.478125 \nL 411.961866 348.478125 \nL 411.961866 308.07501 \nL 407.766377 308.07501 \nz\n\" style=\"fill:#ff7f0e;\"/>\n   </g>\n   <g id=\"patch_188\">\n    <path clip-path=\"url(#p0f4f403e9b)\" d=\"M 416.157354 348.478125 \nL 420.352843 348.478125 \nL 420.352843 322.71382 \nL 416.157354 322.71382 \nz\n\" style=\"fill:#ff7f0e;\"/>\n   </g>\n   <g id=\"patch_189\">\n    <path clip-path=\"url(#p0f4f403e9b)\" d=\"M 424.548332 348.478125 \nL 428.74382 348.478125 \nL 428.74382 346.721468 \nL 424.548332 346.721468 \nz\n\" style=\"fill:#ff7f0e;\"/>\n   </g>\n   <g id=\"patch_190\">\n    <path clip-path=\"url(#p0f4f403e9b)\" d=\"M 432.939309 348.478125 \nL 437.134798 348.478125 \nL 437.134798 347.233826 \nL 432.939309 347.233826 \nz\n\" style=\"fill:#ff7f0e;\"/>\n   </g>\n   <g id=\"patch_191\">\n    <path clip-path=\"url(#p0f4f403e9b)\" d=\"M 441.330287 348.478125 \nL 445.525775 348.478125 \nL 445.525775 335.449584 \nL 441.330287 335.449584 \nz\n\" style=\"fill:#ff7f0e;\"/>\n   </g>\n   <g id=\"patch_192\">\n    <path clip-path=\"url(#p0f4f403e9b)\" d=\"M 449.721264 348.478125 \nL 453.916753 348.478125 \nL 453.916753 347.453408 \nL 449.721264 347.453408 \nz\n\" style=\"fill:#ff7f0e;\"/>\n   </g>\n   <g id=\"patch_193\">\n    <path clip-path=\"url(#p0f4f403e9b)\" d=\"M 458.112242 348.478125 \nL 462.30773 348.478125 \nL 462.30773 348.258543 \nL 458.112242 348.258543 \nz\n\" style=\"fill:#ff7f0e;\"/>\n   </g>\n   <g id=\"patch_194\">\n    <path clip-path=\"url(#p0f4f403e9b)\" d=\"M 466.503219 348.478125 \nL 470.698708 348.478125 \nL 470.698708 346.867856 \nL 466.503219 346.867856 \nz\n\" style=\"fill:#ff7f0e;\"/>\n   </g>\n   <g id=\"patch_195\">\n    <path clip-path=\"url(#p0f4f403e9b)\" d=\"M 474.894196 348.478125 \nL 479.089685 348.478125 \nL 479.089685 347.67299 \nL 474.894196 347.67299 \nz\n\" style=\"fill:#ff7f0e;\"/>\n   </g>\n   <g id=\"patch_196\">\n    <path clip-path=\"url(#p0f4f403e9b)\" d=\"M 483.285174 348.478125 \nL 487.480663 348.478125 \nL 487.480663 347.965767 \nL 483.285174 347.965767 \nz\n\" style=\"fill:#ff7f0e;\"/>\n   </g>\n   <g id=\"patch_197\">\n    <path clip-path=\"url(#p0f4f403e9b)\" d=\"M 491.676151 348.478125 \nL 495.87164 348.478125 \nL 495.87164 346.721468 \nL 491.676151 346.721468 \nz\n\" style=\"fill:#ff7f0e;\"/>\n   </g>\n   <g id=\"patch_198\">\n    <path clip-path=\"url(#p0f4f403e9b)\" d=\"M 500.067129 348.478125 \nL 504.262617 348.478125 \nL 504.262617 345.184393 \nL 500.067129 345.184393 \nz\n\" style=\"fill:#ff7f0e;\"/>\n   </g>\n   <g id=\"patch_199\">\n    <path clip-path=\"url(#p0f4f403e9b)\" d=\"M 508.458106 348.478125 \nL 512.653595 348.478125 \nL 512.653595 347.233826 \nL 508.458106 347.233826 \nz\n\" style=\"fill:#ff7f0e;\"/>\n   </g>\n   <g id=\"patch_200\">\n    <path clip-path=\"url(#p0f4f403e9b)\" d=\"M 516.849084 348.478125 \nL 521.044572 348.478125 \nL 521.044572 343.208154 \nL 516.849084 343.208154 \nz\n\" style=\"fill:#ff7f0e;\"/>\n   </g>\n   <g id=\"patch_201\">\n    <path clip-path=\"url(#p0f4f403e9b)\" d=\"M 525.240061 348.478125 \nL 529.43555 348.478125 \nL 529.43555 347.087438 \nL 525.240061 347.087438 \nz\n\" style=\"fill:#ff7f0e;\"/>\n   </g>\n   <g id=\"patch_202\">\n    <path clip-path=\"url(#p0f4f403e9b)\" d=\"M 533.631039 348.478125 \nL 537.826527 348.478125 \nL 537.826527 347.380214 \nL 533.631039 347.380214 \nz\n\" style=\"fill:#ff7f0e;\"/>\n   </g>\n   <g id=\"patch_203\">\n    <path clip-path=\"url(#p0f4f403e9b)\" d=\"M 542.022016 348.478125 \nL 546.217505 348.478125 \nL 546.217505 346.062721 \nL 542.022016 346.062721 \nz\n\" style=\"fill:#ff7f0e;\"/>\n   </g>\n   <g id=\"patch_204\">\n    <path clip-path=\"url(#p0f4f403e9b)\" d=\"M 550.412993 348.478125 \nL 554.608482 348.478125 \nL 554.608482 347.014244 \nL 550.412993 347.014244 \nz\n\" style=\"fill:#ff7f0e;\"/>\n   </g>\n   <g id=\"patch_205\">\n    <path clip-path=\"url(#p0f4f403e9b)\" d=\"M 558.803971 348.478125 \nL 562.99946 348.478125 \nL 562.99946 330.545583 \nL 558.803971 330.545583 \nz\n\" style=\"fill:#ff7f0e;\"/>\n   </g>\n   <g id=\"patch_206\">\n    <path clip-path=\"url(#p0f4f403e9b)\" d=\"M 567.194948 348.478125 \nL 571.390437 348.478125 \nL 571.390437 345.989527 \nL 567.194948 345.989527 \nz\n\" style=\"fill:#ff7f0e;\"/>\n   </g>\n   <g id=\"patch_207\">\n    <path clip-path=\"url(#p0f4f403e9b)\" d=\"M 575.585926 348.478125 \nL 579.781414 348.478125 \nL 579.781414 345.623557 \nL 575.585926 345.623557 \nz\n\" style=\"fill:#ff7f0e;\"/>\n   </g>\n   <g id=\"patch_208\">\n    <path clip-path=\"url(#p0f4f403e9b)\" d=\"M 583.976903 348.478125 \nL 588.172392 348.478125 \nL 588.172392 341.378302 \nL 583.976903 341.378302 \nz\n\" style=\"fill:#ff7f0e;\"/>\n   </g>\n   <g id=\"patch_209\">\n    <path clip-path=\"url(#p0f4f403e9b)\" d=\"M 592.367881 348.478125 \nL 596.563369 348.478125 \nL 596.563369 345.403975 \nL 592.367881 345.403975 \nz\n\" style=\"fill:#ff7f0e;\"/>\n   </g>\n   <g id=\"patch_210\">\n    <path clip-path=\"url(#p0f4f403e9b)\" d=\"M 600.758858 348.478125 \nL 604.954347 348.478125 \nL 604.954347 338.45054 \nL 600.758858 338.45054 \nz\n\" style=\"fill:#ff7f0e;\"/>\n   </g>\n   <g id=\"patch_211\">\n    <path clip-path=\"url(#p0f4f403e9b)\" d=\"M 609.149836 348.478125 \nL 613.345324 348.478125 \nL 613.345324 348.331737 \nL 609.149836 348.331737 \nz\n\" style=\"fill:#ff7f0e;\"/>\n   </g>\n   <g id=\"patch_212\">\n    <path clip-path=\"url(#p0f4f403e9b)\" d=\"M 617.540813 348.478125 \nL 621.736302 348.478125 \nL 621.736302 297.901037 \nL 617.540813 297.901037 \nz\n\" style=\"fill:#ff7f0e;\"/>\n   </g>\n   <g id=\"patch_213\">\n    <path clip-path=\"url(#p0f4f403e9b)\" d=\"M 625.93179 348.478125 \nL 630.127279 348.478125 \nL 630.127279 347.526602 \nL 625.93179 347.526602 \nz\n\" style=\"fill:#ff7f0e;\"/>\n   </g>\n   <g id=\"patch_214\">\n    <path clip-path=\"url(#p0f4f403e9b)\" d=\"M 634.322768 348.478125 \nL 638.518257 348.478125 \nL 638.518257 341.890661 \nL 634.322768 341.890661 \nz\n\" style=\"fill:#ff7f0e;\"/>\n   </g>\n   <g id=\"patch_215\">\n    <path clip-path=\"url(#p0f4f403e9b)\" d=\"M 642.713745 348.478125 \nL 646.909234 348.478125 \nL 646.909234 348.331737 \nL 642.713745 348.331737 \nz\n\" style=\"fill:#ff7f0e;\"/>\n   </g>\n   <g id=\"patch_216\">\n    <path clip-path=\"url(#p0f4f403e9b)\" d=\"M 651.104723 348.478125 \nL 655.300211 348.478125 \nL 655.300211 347.746185 \nL 651.104723 347.746185 \nz\n\" style=\"fill:#ff7f0e;\"/>\n   </g>\n   <g id=\"patch_217\">\n    <path clip-path=\"url(#p0f4f403e9b)\" d=\"M 659.4957 348.478125 \nL 663.691189 348.478125 \nL 663.691189 347.526602 \nL 659.4957 347.526602 \nz\n\" style=\"fill:#ff7f0e;\"/>\n   </g>\n   <g id=\"patch_218\">\n    <path clip-path=\"url(#p0f4f403e9b)\" d=\"M 667.886678 348.478125 \nL 672.082166 348.478125 \nL 672.082166 348.478125 \nL 667.886678 348.478125 \nz\n\" style=\"fill:#ff7f0e;\"/>\n   </g>\n   <g id=\"patch_219\">\n    <path clip-path=\"url(#p0f4f403e9b)\" d=\"M 676.277655 348.478125 \nL 680.473144 348.478125 \nL 680.473144 348.331737 \nL 676.277655 348.331737 \nz\n\" style=\"fill:#ff7f0e;\"/>\n   </g>\n   <g id=\"patch_220\">\n    <path clip-path=\"url(#p0f4f403e9b)\" d=\"M 684.668633 348.478125 \nL 688.864121 348.478125 \nL 688.864121 347.453408 \nL 684.668633 347.453408 \nz\n\" style=\"fill:#ff7f0e;\"/>\n   </g>\n   <g id=\"patch_221\">\n    <path clip-path=\"url(#p0f4f403e9b)\" d=\"M 693.05961 348.478125 \nL 697.255099 348.478125 \nL 697.255099 348.404931 \nL 693.05961 348.404931 \nz\n\" style=\"fill:#ff7f0e;\"/>\n   </g>\n   <g id=\"patch_222\">\n    <path clip-path=\"url(#p0f4f403e9b)\" d=\"M 701.450587 348.478125 \nL 705.646076 348.478125 \nL 705.646076 345.916333 \nL 701.450587 345.916333 \nz\n\" style=\"fill:#ff7f0e;\"/>\n   </g>\n   <g id=\"patch_223\">\n    <path clip-path=\"url(#p0f4f403e9b)\" d=\"M 709.841565 348.478125 \nL 714.037054 348.478125 \nL 714.037054 346.57508 \nL 709.841565 346.57508 \nz\n\" style=\"fill:#ff7f0e;\"/>\n   </g>\n   <g id=\"patch_224\">\n    <path clip-path=\"url(#p0f4f403e9b)\" d=\"M 718.232542 348.478125 \nL 722.428031 348.478125 \nL 722.428031 334.205286 \nL 718.232542 334.205286 \nz\n\" style=\"fill:#ff7f0e;\"/>\n   </g>\n   <g id=\"patch_225\">\n    <path clip-path=\"url(#p0f4f403e9b)\" d=\"M 726.62352 348.478125 \nL 730.819008 348.478125 \nL 730.819008 342.256631 \nL 726.62352 342.256631 \nz\n\" style=\"fill:#ff7f0e;\"/>\n   </g>\n   <g id=\"patch_226\">\n    <path clip-path=\"url(#p0f4f403e9b)\" d=\"M 735.014497 348.478125 \nL 739.209986 348.478125 \nL 739.209986 347.892573 \nL 735.014497 347.892573 \nz\n\" style=\"fill:#ff7f0e;\"/>\n   </g>\n   <g id=\"patch_227\">\n    <path clip-path=\"url(#p0f4f403e9b)\" d=\"M 743.405475 348.478125 \nL 747.600963 348.478125 \nL 747.600963 348.404931 \nL 743.405475 348.404931 \nz\n\" style=\"fill:#ff7f0e;\"/>\n   </g>\n   <g id=\"patch_228\">\n    <path clip-path=\"url(#p0f4f403e9b)\" d=\"M 751.796452 348.478125 \nL 755.991941 348.478125 \nL 755.991941 347.67299 \nL 751.796452 347.67299 \nz\n\" style=\"fill:#ff7f0e;\"/>\n   </g>\n   <g id=\"patch_229\">\n    <path clip-path=\"url(#p0f4f403e9b)\" d=\"M 760.18743 348.478125 \nL 764.382918 348.478125 \nL 764.382918 342.768989 \nL 760.18743 342.768989 \nz\n\" style=\"fill:#ff7f0e;\"/>\n   </g>\n   <g id=\"patch_230\">\n    <path clip-path=\"url(#p0f4f403e9b)\" d=\"M 768.578407 348.478125 \nL 772.773896 348.478125 \nL 772.773896 347.67299 \nL 768.578407 347.67299 \nz\n\" style=\"fill:#ff7f0e;\"/>\n   </g>\n   <g id=\"patch_231\">\n    <path clip-path=\"url(#p0f4f403e9b)\" d=\"M 776.969384 348.478125 \nL 781.164873 348.478125 \nL 781.164873 347.453408 \nL 776.969384 347.453408 \nz\n\" style=\"fill:#ff7f0e;\"/>\n   </g>\n   <g id=\"patch_232\">\n    <path clip-path=\"url(#p0f4f403e9b)\" d=\"M 785.360362 348.478125 \nL 789.555851 348.478125 \nL 789.555851 344.306064 \nL 785.360362 344.306064 \nz\n\" style=\"fill:#ff7f0e;\"/>\n   </g>\n   <g id=\"patch_233\">\n    <path clip-path=\"url(#p0f4f403e9b)\" d=\"M 793.751339 348.478125 \nL 797.946828 348.478125 \nL 797.946828 348.038961 \nL 793.751339 348.038961 \nz\n\" style=\"fill:#ff7f0e;\"/>\n   </g>\n   <g id=\"patch_234\">\n    <path clip-path=\"url(#p0f4f403e9b)\" d=\"M 802.142317 348.478125 \nL 806.337805 348.478125 \nL 806.337805 337.7186 \nL 802.142317 337.7186 \nz\n\" style=\"fill:#ff7f0e;\"/>\n   </g>\n   <g id=\"patch_235\">\n    <path clip-path=\"url(#p0f4f403e9b)\" d=\"M 810.533294 348.478125 \nL 814.728783 348.478125 \nL 814.728783 347.67299 \nL 810.533294 347.67299 \nz\n\" style=\"fill:#ff7f0e;\"/>\n   </g>\n   <g id=\"patch_236\">\n    <path clip-path=\"url(#p0f4f403e9b)\" d=\"M 818.924272 348.478125 \nL 823.11976 348.478125 \nL 823.11976 331.5703 \nL 818.924272 331.5703 \nz\n\" style=\"fill:#ff7f0e;\"/>\n   </g>\n   <g id=\"patch_237\">\n    <path clip-path=\"url(#p0f4f403e9b)\" d=\"M 827.315249 348.478125 \nL 831.510738 348.478125 \nL 831.510738 347.746185 \nL 827.315249 347.746185 \nz\n\" style=\"fill:#ff7f0e;\"/>\n   </g>\n   <g id=\"patch_238\">\n    <path clip-path=\"url(#p0f4f403e9b)\" d=\"M 835.706227 348.478125 \nL 839.901715 348.478125 \nL 839.901715 347.965767 \nL 835.706227 347.965767 \nz\n\" style=\"fill:#ff7f0e;\"/>\n   </g>\n   <g id=\"patch_239\">\n    <path clip-path=\"url(#p0f4f403e9b)\" d=\"M 844.097204 348.478125 \nL 848.292693 348.478125 \nL 848.292693 347.67299 \nL 844.097204 347.67299 \nz\n\" style=\"fill:#ff7f0e;\"/>\n   </g>\n   <g id=\"patch_240\">\n    <path clip-path=\"url(#p0f4f403e9b)\" d=\"M 852.488181 348.478125 \nL 856.68367 348.478125 \nL 856.68367 345.550363 \nL 852.488181 345.550363 \nz\n\" style=\"fill:#ff7f0e;\"/>\n   </g>\n   <g id=\"patch_241\">\n    <path clip-path=\"url(#p0f4f403e9b)\" d=\"M 860.879159 348.478125 \nL 865.074648 348.478125 \nL 865.074648 339.328869 \nL 860.879159 339.328869 \nz\n\" style=\"fill:#ff7f0e;\"/>\n   </g>\n   <g id=\"patch_242\">\n    <path clip-path=\"url(#p0f4f403e9b)\" d=\"M 869.270136 348.478125 \nL 873.465625 348.478125 \nL 873.465625 348.038961 \nL 869.270136 348.038961 \nz\n\" style=\"fill:#ff7f0e;\"/>\n   </g>\n   <g id=\"patch_243\">\n    <path clip-path=\"url(#p0f4f403e9b)\" d=\"M 877.661114 348.478125 \nL 881.856602 348.478125 \nL 881.856602 348.404931 \nL 877.661114 348.404931 \nz\n\" style=\"fill:#ff7f0e;\"/>\n   </g>\n   <g id=\"patch_244\">\n    <path clip-path=\"url(#p0f4f403e9b)\" d=\"M 886.052091 348.478125 \nL 890.24758 348.478125 \nL 890.24758 347.67299 \nL 886.052091 347.67299 \nz\n\" style=\"fill:#ff7f0e;\"/>\n   </g>\n   <g id=\"patch_245\">\n    <path clip-path=\"url(#p0f4f403e9b)\" d=\"M 894.443069 348.478125 \nL 898.638557 348.478125 \nL 898.638557 346.355498 \nL 894.443069 346.355498 \nz\n\" style=\"fill:#ff7f0e;\"/>\n   </g>\n   <g id=\"patch_246\">\n    <path clip-path=\"url(#p0f4f403e9b)\" d=\"M 902.834046 348.478125 \nL 907.029535 348.478125 \nL 907.029535 348.185349 \nL 902.834046 348.185349 \nz\n\" style=\"fill:#ff7f0e;\"/>\n   </g>\n   <g id=\"patch_247\">\n    <path clip-path=\"url(#p0f4f403e9b)\" d=\"M 911.225023 348.478125 \nL 915.420512 348.478125 \nL 915.420512 347.746185 \nL 911.225023 347.746185 \nz\n\" style=\"fill:#ff7f0e;\"/>\n   </g>\n   <g id=\"patch_248\">\n    <path clip-path=\"url(#p0f4f403e9b)\" d=\"M 919.616001 348.478125 \nL 923.81149 348.478125 \nL 923.81149 348.258543 \nL 919.616001 348.258543 \nz\n\" style=\"fill:#ff7f0e;\"/>\n   </g>\n   <g id=\"patch_249\">\n    <path clip-path=\"url(#p0f4f403e9b)\" d=\"M 928.006978 348.478125 \nL 932.202467 348.478125 \nL 932.202467 343.281348 \nL 928.006978 343.281348 \nz\n\" style=\"fill:#ff7f0e;\"/>\n   </g>\n   <g id=\"patch_250\">\n    <path clip-path=\"url(#p0f4f403e9b)\" d=\"M 936.397956 348.478125 \nL 940.593445 348.478125 \nL 940.593445 348.112155 \nL 936.397956 348.112155 \nz\n\" style=\"fill:#ff7f0e;\"/>\n   </g>\n   <g id=\"patch_251\">\n    <path clip-path=\"url(#p0f4f403e9b)\" d=\"M 944.788933 348.478125 \nL 948.984422 348.478125 \nL 948.984422 347.965767 \nL 944.788933 347.965767 \nz\n\" style=\"fill:#ff7f0e;\"/>\n   </g>\n   <g id=\"patch_252\">\n    <path clip-path=\"url(#p0f4f403e9b)\" d=\"M 953.179911 348.478125 \nL 957.375399 348.478125 \nL 957.375399 344.745229 \nL 953.179911 344.745229 \nz\n\" style=\"fill:#ff7f0e;\"/>\n   </g>\n   <g id=\"patch_253\">\n    <path clip-path=\"url(#p0f4f403e9b)\" d=\"M 961.570888 348.478125 \nL 965.766377 348.478125 \nL 965.766377 348.112155 \nL 961.570888 348.112155 \nz\n\" style=\"fill:#ff7f0e;\"/>\n   </g>\n   <g id=\"patch_254\">\n    <path clip-path=\"url(#p0f4f403e9b)\" d=\"M 969.961866 348.478125 \nL 974.157354 348.478125 \nL 974.157354 341.231914 \nL 969.961866 341.231914 \nz\n\" style=\"fill:#ff7f0e;\"/>\n   </g>\n   <g id=\"patch_255\">\n    <path clip-path=\"url(#p0f4f403e9b)\" d=\"M 978.352843 348.478125 \nL 982.548332 348.478125 \nL 982.548332 348.258543 \nL 978.352843 348.258543 \nz\n\" style=\"fill:#ff7f0e;\"/>\n   </g>\n   <g id=\"patch_256\">\n    <path clip-path=\"url(#p0f4f403e9b)\" d=\"M 986.74382 348.478125 \nL 990.939309 348.478125 \nL 990.939309 348.404931 \nL 986.74382 348.404931 \nz\n\" style=\"fill:#ff7f0e;\"/>\n   </g>\n   <g id=\"patch_257\">\n    <path clip-path=\"url(#p0f4f403e9b)\" d=\"M 995.134798 348.478125 \nL 999.330287 348.478125 \nL 999.330287 348.404931 \nL 995.134798 348.404931 \nz\n\" style=\"fill:#ff7f0e;\"/>\n   </g>\n   <g id=\"patch_258\">\n    <path clip-path=\"url(#p0f4f403e9b)\" d=\"M 1003.525775 348.478125 \nL 1007.721264 348.478125 \nL 1007.721264 335.888749 \nL 1003.525775 335.888749 \nz\n\" style=\"fill:#ff7f0e;\"/>\n   </g>\n   <g id=\"patch_259\">\n    <path clip-path=\"url(#p0f4f403e9b)\" d=\"M 1011.916753 348.478125 \nL 1016.112242 348.478125 \nL 1016.112242 347.965767 \nL 1011.916753 347.965767 \nz\n\" style=\"fill:#ff7f0e;\"/>\n   </g>\n   <g id=\"patch_260\">\n    <path clip-path=\"url(#p0f4f403e9b)\" d=\"M 1020.30773 348.478125 \nL 1024.503219 348.478125 \nL 1024.503219 345.989527 \nL 1020.30773 345.989527 \nz\n\" style=\"fill:#ff7f0e;\"/>\n   </g>\n   <g id=\"patch_261\">\n    <path clip-path=\"url(#p0f4f403e9b)\" d=\"M 1028.698708 348.478125 \nL 1032.894196 348.478125 \nL 1032.894196 348.404931 \nL 1028.698708 348.404931 \nz\n\" style=\"fill:#ff7f0e;\"/>\n   </g>\n   <g id=\"patch_262\">\n    <path clip-path=\"url(#p0f4f403e9b)\" d=\"M 1037.089685 348.478125 \nL 1041.285174 348.478125 \nL 1041.285174 346.94105 \nL 1037.089685 346.94105 \nz\n\" style=\"fill:#ff7f0e;\"/>\n   </g>\n   <g id=\"patch_263\">\n    <path clip-path=\"url(#p0f4f403e9b)\" d=\"M 1045.480663 348.478125 \nL 1049.676151 348.478125 \nL 1049.676151 348.331737 \nL 1045.480663 348.331737 \nz\n\" style=\"fill:#ff7f0e;\"/>\n   </g>\n   <g id=\"patch_264\">\n    <path clip-path=\"url(#p0f4f403e9b)\" d=\"M 1053.87164 348.478125 \nL 1058.067129 348.478125 \nL 1058.067129 345.111199 \nL 1053.87164 345.111199 \nz\n\" style=\"fill:#ff7f0e;\"/>\n   </g>\n   <g id=\"patch_265\">\n    <path clip-path=\"url(#p0f4f403e9b)\" d=\"M 1062.262617 348.478125 \nL 1066.458106 348.478125 \nL 1066.458106 346.721468 \nL 1062.262617 346.721468 \nz\n\" style=\"fill:#ff7f0e;\"/>\n   </g>\n   <g id=\"patch_266\">\n    <path clip-path=\"url(#p0f4f403e9b)\" d=\"M 1070.653595 348.478125 \nL 1074.849084 348.478125 \nL 1074.849084 346.135915 \nL 1070.653595 346.135915 \nz\n\" style=\"fill:#ff7f0e;\"/>\n   </g>\n   <g id=\"patch_267\">\n    <path clip-path=\"url(#p0f4f403e9b)\" d=\"M 1079.044572 348.478125 \nL 1083.240061 348.478125 \nL 1083.240061 348.258543 \nL 1079.044572 348.258543 \nz\n\" style=\"fill:#ff7f0e;\"/>\n   </g>\n   <g id=\"patch_268\">\n    <path clip-path=\"url(#p0f4f403e9b)\" d=\"M 1087.43555 348.478125 \nL 1091.631039 348.478125 \nL 1091.631039 345.330781 \nL 1087.43555 345.330781 \nz\n\" style=\"fill:#ff7f0e;\"/>\n   </g>\n   <g id=\"patch_269\">\n    <path clip-path=\"url(#p0f4f403e9b)\" d=\"M 1095.826527 348.478125 \nL 1100.022016 348.478125 \nL 1100.022016 348.185349 \nL 1095.826527 348.185349 \nz\n\" style=\"fill:#ff7f0e;\"/>\n   </g>\n   <g id=\"patch_270\">\n    <path clip-path=\"url(#p0f4f403e9b)\" d=\"M 1104.217505 348.478125 \nL 1108.412993 348.478125 \nL 1108.412993 345.769945 \nL 1104.217505 345.769945 \nz\n\" style=\"fill:#ff7f0e;\"/>\n   </g>\n   <g id=\"patch_271\">\n    <path clip-path=\"url(#p0f4f403e9b)\" d=\"M 1112.608482 348.478125 \nL 1116.803971 348.478125 \nL 1116.803971 347.965767 \nL 1112.608482 347.965767 \nz\n\" style=\"fill:#ff7f0e;\"/>\n   </g>\n   <g id=\"patch_272\">\n    <path clip-path=\"url(#p0f4f403e9b)\" d=\"M 1120.99946 348.478125 \nL 1125.194948 348.478125 \nL 1125.194948 348.258543 \nL 1120.99946 348.258543 \nz\n\" style=\"fill:#ff7f0e;\"/>\n   </g>\n   <g id=\"patch_273\">\n    <path clip-path=\"url(#p0f4f403e9b)\" d=\"M 1129.390437 348.478125 \nL 1133.585926 348.478125 \nL 1133.585926 348.038961 \nL 1129.390437 348.038961 \nz\n\" style=\"fill:#ff7f0e;\"/>\n   </g>\n   <g id=\"patch_274\">\n    <path clip-path=\"url(#p0f4f403e9b)\" d=\"M 1137.781414 348.478125 \nL 1141.976903 348.478125 \nL 1141.976903 348.112155 \nL 1137.781414 348.112155 \nz\n\" style=\"fill:#ff7f0e;\"/>\n   </g>\n   <g id=\"patch_275\">\n    <path clip-path=\"url(#p0f4f403e9b)\" d=\"M 1146.172392 348.478125 \nL 1150.367881 348.478125 \nL 1150.367881 347.67299 \nL 1146.172392 347.67299 \nz\n\" style=\"fill:#ff7f0e;\"/>\n   </g>\n   <g id=\"matplotlib.axis_3\">\n    <g id=\"xtick_134\">\n     <g id=\"line2d_140\">\n      <g>\n       <use style=\"stroke:#000000;stroke-width:0.8;\" x=\"40.661114\" xlink:href=\"#m12e0b210da\" y=\"348.478125\"/>\n      </g>\n     </g>\n     <g id=\"text_9\">\n      <!-- Baggins1#LINE/R1-LOA -->\n      <defs>\n       <path d=\"M 19.671875 34.8125 \nL 19.671875 8.109375 \nL 35.5 8.109375 \nQ 43.453125 8.109375 47.28125 11.40625 \nQ 51.125 14.703125 51.125 21.484375 \nQ 51.125 28.328125 47.28125 31.5625 \nQ 43.453125 34.8125 35.5 34.8125 \nz\nM 19.671875 64.796875 \nL 19.671875 42.828125 \nL 34.28125 42.828125 \nQ 41.5 42.828125 45.03125 45.53125 \nQ 48.578125 48.25 48.578125 53.8125 \nQ 48.578125 59.328125 45.03125 62.0625 \nQ 41.5 64.796875 34.28125 64.796875 \nz\nM 9.8125 72.90625 \nL 35.015625 72.90625 \nQ 46.296875 72.90625 52.390625 68.21875 \nQ 58.5 63.53125 58.5 54.890625 \nQ 58.5 48.1875 55.375 44.234375 \nQ 52.25 40.28125 46.1875 39.3125 \nQ 53.46875 37.75 57.5 32.78125 \nQ 61.53125 27.828125 61.53125 20.40625 \nQ 61.53125 10.640625 54.890625 5.3125 \nQ 48.25 0 35.984375 0 \nL 9.8125 0 \nz\n\" id=\"DejaVuSans-66\"/>\n       <path d=\"M 45.40625 27.984375 \nQ 45.40625 37.75 41.375 43.109375 \nQ 37.359375 48.484375 30.078125 48.484375 \nQ 22.859375 48.484375 18.828125 43.109375 \nQ 14.796875 37.75 14.796875 27.984375 \nQ 14.796875 18.265625 18.828125 12.890625 \nQ 22.859375 7.515625 30.078125 7.515625 \nQ 37.359375 7.515625 41.375 12.890625 \nQ 45.40625 18.265625 45.40625 27.984375 \nz\nM 54.390625 6.78125 \nQ 54.390625 -7.171875 48.1875 -13.984375 \nQ 42 -20.796875 29.203125 -20.796875 \nQ 24.46875 -20.796875 20.265625 -20.09375 \nQ 16.0625 -19.390625 12.109375 -17.921875 \nL 12.109375 -9.1875 \nQ 16.0625 -11.328125 19.921875 -12.34375 \nQ 23.78125 -13.375 27.78125 -13.375 \nQ 36.625 -13.375 41.015625 -8.765625 \nQ 45.40625 -4.15625 45.40625 5.171875 \nL 45.40625 9.625 \nQ 42.625 4.78125 38.28125 2.390625 \nQ 33.9375 0 27.875 0 \nQ 17.828125 0 11.671875 7.65625 \nQ 5.515625 15.328125 5.515625 27.984375 \nQ 5.515625 40.671875 11.671875 48.328125 \nQ 17.828125 56 27.875 56 \nQ 33.9375 56 38.28125 53.609375 \nQ 42.625 51.21875 45.40625 46.390625 \nL 45.40625 54.6875 \nL 54.390625 54.6875 \nz\n\" id=\"DejaVuSans-103\"/>\n       <path d=\"M 9.421875 54.6875 \nL 18.40625 54.6875 \nL 18.40625 0 \nL 9.421875 0 \nz\nM 9.421875 75.984375 \nL 18.40625 75.984375 \nL 18.40625 64.59375 \nL 9.421875 64.59375 \nz\n\" id=\"DejaVuSans-105\"/>\n       <path d=\"M 54.890625 33.015625 \nL 54.890625 0 \nL 45.90625 0 \nL 45.90625 32.71875 \nQ 45.90625 40.484375 42.875 44.328125 \nQ 39.84375 48.1875 33.796875 48.1875 \nQ 26.515625 48.1875 22.3125 43.546875 \nQ 18.109375 38.921875 18.109375 30.90625 \nL 18.109375 0 \nL 9.078125 0 \nL 9.078125 54.6875 \nL 18.109375 54.6875 \nL 18.109375 46.1875 \nQ 21.34375 51.125 25.703125 53.5625 \nQ 30.078125 56 35.796875 56 \nQ 45.21875 56 50.046875 50.171875 \nQ 54.890625 44.34375 54.890625 33.015625 \nz\n\" id=\"DejaVuSans-110\"/>\n       <path d=\"M 44.28125 53.078125 \nL 44.28125 44.578125 \nQ 40.484375 46.53125 36.375 47.5 \nQ 32.28125 48.484375 27.875 48.484375 \nQ 21.1875 48.484375 17.84375 46.4375 \nQ 14.5 44.390625 14.5 40.28125 \nQ 14.5 37.15625 16.890625 35.375 \nQ 19.28125 33.59375 26.515625 31.984375 \nL 29.59375 31.296875 \nQ 39.15625 29.25 43.1875 25.515625 \nQ 47.21875 21.78125 47.21875 15.09375 \nQ 47.21875 7.46875 41.1875 3.015625 \nQ 35.15625 -1.421875 24.609375 -1.421875 \nQ 20.21875 -1.421875 15.453125 -0.5625 \nQ 10.6875 0.296875 5.421875 2 \nL 5.421875 11.28125 \nQ 10.40625 8.6875 15.234375 7.390625 \nQ 20.0625 6.109375 24.8125 6.109375 \nQ 31.15625 6.109375 34.5625 8.28125 \nQ 37.984375 10.453125 37.984375 14.40625 \nQ 37.984375 18.0625 35.515625 20.015625 \nQ 33.0625 21.96875 24.703125 23.78125 \nL 21.578125 24.515625 \nQ 13.234375 26.265625 9.515625 29.90625 \nQ 5.8125 33.546875 5.8125 39.890625 \nQ 5.8125 47.609375 11.28125 51.796875 \nQ 16.75 56 26.8125 56 \nQ 31.78125 56 36.171875 55.265625 \nQ 40.578125 54.546875 44.28125 53.078125 \nz\n\" id=\"DejaVuSans-115\"/>\n       <path d=\"M 51.125 44 \nL 36.921875 44 \nL 32.8125 27.6875 \nL 47.125 27.6875 \nz\nM 43.796875 71.78125 \nL 38.71875 51.515625 \nL 52.984375 51.515625 \nL 58.109375 71.78125 \nL 65.921875 71.78125 \nL 60.890625 51.515625 \nL 76.125 51.515625 \nL 76.125 44 \nL 58.984375 44 \nL 54.984375 27.6875 \nL 70.515625 27.6875 \nL 70.515625 20.21875 \nL 53.078125 20.21875 \nL 48 0 \nL 40.1875 0 \nL 45.21875 20.21875 \nL 30.90625 20.21875 \nL 25.875 0 \nL 18.015625 0 \nL 23.09375 20.21875 \nL 7.71875 20.21875 \nL 7.71875 27.6875 \nL 24.90625 27.6875 \nL 29 44 \nL 13.28125 44 \nL 13.28125 51.515625 \nL 30.90625 51.515625 \nL 35.890625 71.78125 \nz\n\" id=\"DejaVuSans-35\"/>\n       <path d=\"M 9.8125 72.90625 \nL 19.671875 72.90625 \nL 19.671875 8.296875 \nL 55.171875 8.296875 \nL 55.171875 0 \nL 9.8125 0 \nz\n\" id=\"DejaVuSans-76\"/>\n       <path d=\"M 9.8125 72.90625 \nL 19.671875 72.90625 \nL 19.671875 0 \nL 9.8125 0 \nz\n\" id=\"DejaVuSans-73\"/>\n       <path d=\"M 9.8125 72.90625 \nL 23.09375 72.90625 \nL 55.421875 11.921875 \nL 55.421875 72.90625 \nL 64.984375 72.90625 \nL 64.984375 0 \nL 51.703125 0 \nL 19.390625 60.984375 \nL 19.390625 0 \nL 9.8125 0 \nz\n\" id=\"DejaVuSans-78\"/>\n       <path d=\"M 9.8125 72.90625 \nL 55.90625 72.90625 \nL 55.90625 64.59375 \nL 19.671875 64.59375 \nL 19.671875 43.015625 \nL 54.390625 43.015625 \nL 54.390625 34.71875 \nL 19.671875 34.71875 \nL 19.671875 8.296875 \nL 56.78125 8.296875 \nL 56.78125 0 \nL 9.8125 0 \nz\n\" id=\"DejaVuSans-69\"/>\n       <path d=\"M 25.390625 72.90625 \nL 33.6875 72.90625 \nL 8.296875 -9.28125 \nL 0 -9.28125 \nz\n\" id=\"DejaVuSans-47\"/>\n       <path d=\"M 44.390625 34.1875 \nQ 47.5625 33.109375 50.5625 29.59375 \nQ 53.5625 26.078125 56.59375 19.921875 \nL 66.609375 0 \nL 56 0 \nL 46.6875 18.703125 \nQ 43.0625 26.03125 39.671875 28.421875 \nQ 36.28125 30.8125 30.421875 30.8125 \nL 19.671875 30.8125 \nL 19.671875 0 \nL 9.8125 0 \nL 9.8125 72.90625 \nL 32.078125 72.90625 \nQ 44.578125 72.90625 50.734375 67.671875 \nQ 56.890625 62.453125 56.890625 51.90625 \nQ 56.890625 45.015625 53.6875 40.46875 \nQ 50.484375 35.9375 44.390625 34.1875 \nz\nM 19.671875 64.796875 \nL 19.671875 38.921875 \nL 32.078125 38.921875 \nQ 39.203125 38.921875 42.84375 42.21875 \nQ 46.484375 45.515625 46.484375 51.90625 \nQ 46.484375 58.296875 42.84375 61.546875 \nQ 39.203125 64.796875 32.078125 64.796875 \nz\n\" id=\"DejaVuSans-82\"/>\n       <path d=\"M 4.890625 31.390625 \nL 31.203125 31.390625 \nL 31.203125 23.390625 \nL 4.890625 23.390625 \nz\n\" id=\"DejaVuSans-45\"/>\n       <path d=\"M 39.40625 66.21875 \nQ 28.65625 66.21875 22.328125 58.203125 \nQ 16.015625 50.203125 16.015625 36.375 \nQ 16.015625 22.609375 22.328125 14.59375 \nQ 28.65625 6.59375 39.40625 6.59375 \nQ 50.140625 6.59375 56.421875 14.59375 \nQ 62.703125 22.609375 62.703125 36.375 \nQ 62.703125 50.203125 56.421875 58.203125 \nQ 50.140625 66.21875 39.40625 66.21875 \nz\nM 39.40625 74.21875 \nQ 54.734375 74.21875 63.90625 63.9375 \nQ 73.09375 53.65625 73.09375 36.375 \nQ 73.09375 19.140625 63.90625 8.859375 \nQ 54.734375 -1.421875 39.40625 -1.421875 \nQ 24.03125 -1.421875 14.8125 8.828125 \nQ 5.609375 19.09375 5.609375 36.375 \nQ 5.609375 53.65625 14.8125 63.9375 \nQ 24.03125 74.21875 39.40625 74.21875 \nz\n\" id=\"DejaVuSans-79\"/>\n       <path d=\"M 34.1875 63.1875 \nL 20.796875 26.90625 \nL 47.609375 26.90625 \nz\nM 28.609375 72.90625 \nL 39.796875 72.90625 \nL 67.578125 0 \nL 57.328125 0 \nL 50.6875 18.703125 \nL 17.828125 18.703125 \nL 11.1875 0 \nL 0.78125 0 \nz\n\" id=\"DejaVuSans-65\"/>\n      </defs>\n      <g transform=\"translate(43.420489 473.11875)rotate(-90)scale(0.1 -0.1)\">\n       <use xlink:href=\"#DejaVuSans-66\"/>\n       <use x=\"68.603516\" xlink:href=\"#DejaVuSans-97\"/>\n       <use x=\"129.882812\" xlink:href=\"#DejaVuSans-103\"/>\n       <use x=\"193.359375\" xlink:href=\"#DejaVuSans-103\"/>\n       <use x=\"256.835938\" xlink:href=\"#DejaVuSans-105\"/>\n       <use x=\"284.619141\" xlink:href=\"#DejaVuSans-110\"/>\n       <use x=\"347.998047\" xlink:href=\"#DejaVuSans-115\"/>\n       <use x=\"400.097656\" xlink:href=\"#DejaVuSans-49\"/>\n       <use x=\"463.720703\" xlink:href=\"#DejaVuSans-35\"/>\n       <use x=\"547.509766\" xlink:href=\"#DejaVuSans-76\"/>\n       <use x=\"603.222656\" xlink:href=\"#DejaVuSans-73\"/>\n       <use x=\"632.714844\" xlink:href=\"#DejaVuSans-78\"/>\n       <use x=\"707.519531\" xlink:href=\"#DejaVuSans-69\"/>\n       <use x=\"770.703125\" xlink:href=\"#DejaVuSans-47\"/>\n       <use x=\"804.394531\" xlink:href=\"#DejaVuSans-82\"/>\n       <use x=\"873.876953\" xlink:href=\"#DejaVuSans-49\"/>\n       <use x=\"937.5\" xlink:href=\"#DejaVuSans-45\"/>\n       <use x=\"973.583984\" xlink:href=\"#DejaVuSans-76\"/>\n       <use x=\"1029.25\" xlink:href=\"#DejaVuSans-79\"/>\n       <use x=\"1107.945312\" xlink:href=\"#DejaVuSans-65\"/>\n      </g>\n     </g>\n    </g>\n    <g id=\"xtick_135\">\n     <g id=\"line2d_141\">\n      <g>\n       <use style=\"stroke:#000000;stroke-width:0.8;\" x=\"49.052091\" xlink:href=\"#m12e0b210da\" y=\"348.478125\"/>\n      </g>\n     </g>\n     <g id=\"text_10\">\n      <!-- BARI_DM#DNA/TcMar-Tc1 -->\n      <defs>\n       <path d=\"M 50.984375 -16.609375 \nL 50.984375 -23.578125 \nL -0.984375 -23.578125 \nL -0.984375 -16.609375 \nz\n\" id=\"DejaVuSans-95\"/>\n       <path d=\"M 19.671875 64.796875 \nL 19.671875 8.109375 \nL 31.59375 8.109375 \nQ 46.6875 8.109375 53.6875 14.9375 \nQ 60.6875 21.78125 60.6875 36.53125 \nQ 60.6875 51.171875 53.6875 57.984375 \nQ 46.6875 64.796875 31.59375 64.796875 \nz\nM 9.8125 72.90625 \nL 30.078125 72.90625 \nQ 51.265625 72.90625 61.171875 64.09375 \nQ 71.09375 55.28125 71.09375 36.53125 \nQ 71.09375 17.671875 61.125 8.828125 \nQ 51.171875 0 30.078125 0 \nL 9.8125 0 \nz\n\" id=\"DejaVuSans-68\"/>\n       <path d=\"M 9.8125 72.90625 \nL 24.515625 72.90625 \nL 43.109375 23.296875 \nL 61.8125 72.90625 \nL 76.515625 72.90625 \nL 76.515625 0 \nL 66.890625 0 \nL 66.890625 64.015625 \nL 48.09375 14.015625 \nL 38.1875 14.015625 \nL 19.390625 64.015625 \nL 19.390625 0 \nL 9.8125 0 \nz\n\" id=\"DejaVuSans-77\"/>\n       <path d=\"M -0.296875 72.90625 \nL 61.375 72.90625 \nL 61.375 64.59375 \nL 35.5 64.59375 \nL 35.5 0 \nL 25.59375 0 \nL 25.59375 64.59375 \nL -0.296875 64.59375 \nz\n\" id=\"DejaVuSans-84\"/>\n       <path d=\"M 48.78125 52.59375 \nL 48.78125 44.1875 \nQ 44.96875 46.296875 41.140625 47.34375 \nQ 37.3125 48.390625 33.40625 48.390625 \nQ 24.65625 48.390625 19.8125 42.84375 \nQ 14.984375 37.3125 14.984375 27.296875 \nQ 14.984375 17.28125 19.8125 11.734375 \nQ 24.65625 6.203125 33.40625 6.203125 \nQ 37.3125 6.203125 41.140625 7.25 \nQ 44.96875 8.296875 48.78125 10.40625 \nL 48.78125 2.09375 \nQ 45.015625 0.34375 40.984375 -0.53125 \nQ 36.96875 -1.421875 32.421875 -1.421875 \nQ 20.0625 -1.421875 12.78125 6.34375 \nQ 5.515625 14.109375 5.515625 27.296875 \nQ 5.515625 40.671875 12.859375 48.328125 \nQ 20.21875 56 33.015625 56 \nQ 37.15625 56 41.109375 55.140625 \nQ 45.0625 54.296875 48.78125 52.59375 \nz\n\" id=\"DejaVuSans-99\"/>\n       <path d=\"M 41.109375 46.296875 \nQ 39.59375 47.171875 37.8125 47.578125 \nQ 36.03125 48 33.890625 48 \nQ 26.265625 48 22.1875 43.046875 \nQ 18.109375 38.09375 18.109375 28.8125 \nL 18.109375 0 \nL 9.078125 0 \nL 9.078125 54.6875 \nL 18.109375 54.6875 \nL 18.109375 46.1875 \nQ 20.953125 51.171875 25.484375 53.578125 \nQ 30.03125 56 36.53125 56 \nQ 37.453125 56 38.578125 55.875 \nQ 39.703125 55.765625 41.0625 55.515625 \nz\n\" id=\"DejaVuSans-114\"/>\n      </defs>\n      <g transform=\"translate(51.533341 486.15)rotate(-90)scale(0.1 -0.1)\">\n       <use xlink:href=\"#DejaVuSans-66\"/>\n       <use x=\"68.603516\" xlink:href=\"#DejaVuSans-65\"/>\n       <use x=\"137.011719\" xlink:href=\"#DejaVuSans-82\"/>\n       <use x=\"206.494141\" xlink:href=\"#DejaVuSans-73\"/>\n       <use x=\"235.986328\" xlink:href=\"#DejaVuSans-95\"/>\n       <use x=\"285.986328\" xlink:href=\"#DejaVuSans-68\"/>\n       <use x=\"362.988281\" xlink:href=\"#DejaVuSans-77\"/>\n       <use x=\"449.267578\" xlink:href=\"#DejaVuSans-35\"/>\n       <use x=\"533.056641\" xlink:href=\"#DejaVuSans-68\"/>\n       <use x=\"610.058594\" xlink:href=\"#DejaVuSans-78\"/>\n       <use x=\"684.863281\" xlink:href=\"#DejaVuSans-65\"/>\n       <use x=\"753.271484\" xlink:href=\"#DejaVuSans-47\"/>\n       <use x=\"786.962891\" xlink:href=\"#DejaVuSans-84\"/>\n       <use x=\"847.78125\" xlink:href=\"#DejaVuSans-99\"/>\n       <use x=\"902.761719\" xlink:href=\"#DejaVuSans-77\"/>\n       <use x=\"989.041016\" xlink:href=\"#DejaVuSans-97\"/>\n       <use x=\"1050.320312\" xlink:href=\"#DejaVuSans-114\"/>\n       <use x=\"1091.339844\" xlink:href=\"#DejaVuSans-45\"/>\n       <use x=\"1127.283203\" xlink:href=\"#DejaVuSans-84\"/>\n       <use x=\"1188.101562\" xlink:href=\"#DejaVuSans-99\"/>\n       <use x=\"1243.082031\" xlink:href=\"#DejaVuSans-49\"/>\n      </g>\n     </g>\n    </g>\n    <g id=\"xtick_136\">\n     <g id=\"line2d_142\">\n      <g>\n       <use style=\"stroke:#000000;stroke-width:0.8;\" x=\"57.443069\" xlink:href=\"#m12e0b210da\" y=\"348.478125\"/>\n      </g>\n     </g>\n     <g id=\"text_11\">\n      <!-- BS#LINE/I-Jockey -->\n      <defs>\n       <path d=\"M 53.515625 70.515625 \nL 53.515625 60.890625 \nQ 47.90625 63.578125 42.921875 64.890625 \nQ 37.9375 66.21875 33.296875 66.21875 \nQ 25.25 66.21875 20.875 63.09375 \nQ 16.5 59.96875 16.5 54.203125 \nQ 16.5 49.359375 19.40625 46.890625 \nQ 22.3125 44.4375 30.421875 42.921875 \nL 36.375 41.703125 \nQ 47.40625 39.59375 52.65625 34.296875 \nQ 57.90625 29 57.90625 20.125 \nQ 57.90625 9.515625 50.796875 4.046875 \nQ 43.703125 -1.421875 29.984375 -1.421875 \nQ 24.8125 -1.421875 18.96875 -0.25 \nQ 13.140625 0.921875 6.890625 3.21875 \nL 6.890625 13.375 \nQ 12.890625 10.015625 18.65625 8.296875 \nQ 24.421875 6.59375 29.984375 6.59375 \nQ 38.421875 6.59375 43.015625 9.90625 \nQ 47.609375 13.234375 47.609375 19.390625 \nQ 47.609375 24.75 44.3125 27.78125 \nQ 41.015625 30.8125 33.5 32.328125 \nL 27.484375 33.5 \nQ 16.453125 35.6875 11.515625 40.375 \nQ 6.59375 45.0625 6.59375 53.421875 \nQ 6.59375 63.09375 13.40625 68.65625 \nQ 20.21875 74.21875 32.171875 74.21875 \nQ 37.3125 74.21875 42.625 73.28125 \nQ 47.953125 72.359375 53.515625 70.515625 \nz\n\" id=\"DejaVuSans-83\"/>\n       <path d=\"M 9.8125 72.90625 \nL 19.671875 72.90625 \nL 19.671875 5.078125 \nQ 19.671875 -8.109375 14.671875 -14.0625 \nQ 9.671875 -20.015625 -1.421875 -20.015625 \nL -5.171875 -20.015625 \nL -5.171875 -11.71875 \nL -2.09375 -11.71875 \nQ 4.4375 -11.71875 7.125 -8.046875 \nQ 9.8125 -4.390625 9.8125 5.078125 \nz\n\" id=\"DejaVuSans-74\"/>\n       <path d=\"M 30.609375 48.390625 \nQ 23.390625 48.390625 19.1875 42.75 \nQ 14.984375 37.109375 14.984375 27.296875 \nQ 14.984375 17.484375 19.15625 11.84375 \nQ 23.34375 6.203125 30.609375 6.203125 \nQ 37.796875 6.203125 41.984375 11.859375 \nQ 46.1875 17.53125 46.1875 27.296875 \nQ 46.1875 37.015625 41.984375 42.703125 \nQ 37.796875 48.390625 30.609375 48.390625 \nz\nM 30.609375 56 \nQ 42.328125 56 49.015625 48.375 \nQ 55.71875 40.765625 55.71875 27.296875 \nQ 55.71875 13.875 49.015625 6.21875 \nQ 42.328125 -1.421875 30.609375 -1.421875 \nQ 18.84375 -1.421875 12.171875 6.21875 \nQ 5.515625 13.875 5.515625 27.296875 \nQ 5.515625 40.765625 12.171875 48.375 \nQ 18.84375 56 30.609375 56 \nz\n\" id=\"DejaVuSans-111\"/>\n       <path d=\"M 9.078125 75.984375 \nL 18.109375 75.984375 \nL 18.109375 31.109375 \nL 44.921875 54.6875 \nL 56.390625 54.6875 \nL 27.390625 29.109375 \nL 57.625 0 \nL 45.90625 0 \nL 18.109375 26.703125 \nL 18.109375 0 \nL 9.078125 0 \nz\n\" id=\"DejaVuSans-107\"/>\n       <path d=\"M 32.171875 -5.078125 \nQ 28.375 -14.84375 24.75 -17.8125 \nQ 21.140625 -20.796875 15.09375 -20.796875 \nL 7.90625 -20.796875 \nL 7.90625 -13.28125 \nL 13.1875 -13.28125 \nQ 16.890625 -13.28125 18.9375 -11.515625 \nQ 21 -9.765625 23.484375 -3.21875 \nL 25.09375 0.875 \nL 2.984375 54.6875 \nL 12.5 54.6875 \nL 29.59375 11.921875 \nL 46.6875 54.6875 \nL 56.203125 54.6875 \nz\n\" id=\"DejaVuSans-121\"/>\n      </defs>\n      <g transform=\"translate(60.202444 441.746875)rotate(-90)scale(0.1 -0.1)\">\n       <use xlink:href=\"#DejaVuSans-66\"/>\n       <use x=\"68.587891\" xlink:href=\"#DejaVuSans-83\"/>\n       <use x=\"132.064453\" xlink:href=\"#DejaVuSans-35\"/>\n       <use x=\"215.853516\" xlink:href=\"#DejaVuSans-76\"/>\n       <use x=\"271.566406\" xlink:href=\"#DejaVuSans-73\"/>\n       <use x=\"301.058594\" xlink:href=\"#DejaVuSans-78\"/>\n       <use x=\"375.863281\" xlink:href=\"#DejaVuSans-69\"/>\n       <use x=\"439.046875\" xlink:href=\"#DejaVuSans-47\"/>\n       <use x=\"472.738281\" xlink:href=\"#DejaVuSans-73\"/>\n       <use x=\"502.230469\" xlink:href=\"#DejaVuSans-45\"/>\n       <use x=\"538.392578\" xlink:href=\"#DejaVuSans-74\"/>\n       <use x=\"567.884766\" xlink:href=\"#DejaVuSans-111\"/>\n       <use x=\"629.066406\" xlink:href=\"#DejaVuSans-99\"/>\n       <use x=\"684.046875\" xlink:href=\"#DejaVuSans-107\"/>\n       <use x=\"741.910156\" xlink:href=\"#DejaVuSans-101\"/>\n       <use x=\"803.433594\" xlink:href=\"#DejaVuSans-121\"/>\n      </g>\n     </g>\n    </g>\n    <g id=\"xtick_137\">\n     <g id=\"line2d_143\">\n      <g>\n       <use style=\"stroke:#000000;stroke-width:0.8;\" x=\"65.834046\" xlink:href=\"#m12e0b210da\" y=\"348.478125\"/>\n      </g>\n     </g>\n     <g id=\"text_12\">\n      <!-- BS2#LINE/I-Jockey -->\n      <g transform=\"translate(68.593421 448.109375)rotate(-90)scale(0.1 -0.1)\">\n       <use xlink:href=\"#DejaVuSans-66\"/>\n       <use x=\"68.587891\" xlink:href=\"#DejaVuSans-83\"/>\n       <use x=\"132.064453\" xlink:href=\"#DejaVuSans-50\"/>\n       <use x=\"195.6875\" xlink:href=\"#DejaVuSans-35\"/>\n       <use x=\"279.476562\" xlink:href=\"#DejaVuSans-76\"/>\n       <use x=\"335.189453\" xlink:href=\"#DejaVuSans-73\"/>\n       <use x=\"364.681641\" xlink:href=\"#DejaVuSans-78\"/>\n       <use x=\"439.486328\" xlink:href=\"#DejaVuSans-69\"/>\n       <use x=\"502.669922\" xlink:href=\"#DejaVuSans-47\"/>\n       <use x=\"536.361328\" xlink:href=\"#DejaVuSans-73\"/>\n       <use x=\"565.853516\" xlink:href=\"#DejaVuSans-45\"/>\n       <use x=\"602.015625\" xlink:href=\"#DejaVuSans-74\"/>\n       <use x=\"631.507812\" xlink:href=\"#DejaVuSans-111\"/>\n       <use x=\"692.689453\" xlink:href=\"#DejaVuSans-99\"/>\n       <use x=\"747.669922\" xlink:href=\"#DejaVuSans-107\"/>\n       <use x=\"805.533203\" xlink:href=\"#DejaVuSans-101\"/>\n       <use x=\"867.056641\" xlink:href=\"#DejaVuSans-121\"/>\n      </g>\n     </g>\n    </g>\n    <g id=\"xtick_138\">\n     <g id=\"line2d_144\">\n      <g>\n       <use style=\"stroke:#000000;stroke-width:0.8;\" x=\"74.225023\" xlink:href=\"#m12e0b210da\" y=\"348.478125\"/>\n      </g>\n     </g>\n     <g id=\"text_13\">\n      <!-- CIRCE#LTR/Gypsy -->\n      <defs>\n       <path d=\"M 64.40625 67.28125 \nL 64.40625 56.890625 \nQ 59.421875 61.53125 53.78125 63.8125 \nQ 48.140625 66.109375 41.796875 66.109375 \nQ 29.296875 66.109375 22.65625 58.46875 \nQ 16.015625 50.828125 16.015625 36.375 \nQ 16.015625 21.96875 22.65625 14.328125 \nQ 29.296875 6.6875 41.796875 6.6875 \nQ 48.140625 6.6875 53.78125 8.984375 \nQ 59.421875 11.28125 64.40625 15.921875 \nL 64.40625 5.609375 \nQ 59.234375 2.09375 53.4375 0.328125 \nQ 47.65625 -1.421875 41.21875 -1.421875 \nQ 24.65625 -1.421875 15.125 8.703125 \nQ 5.609375 18.84375 5.609375 36.375 \nQ 5.609375 53.953125 15.125 64.078125 \nQ 24.65625 74.21875 41.21875 74.21875 \nQ 47.75 74.21875 53.53125 72.484375 \nQ 59.328125 70.75 64.40625 67.28125 \nz\n\" id=\"DejaVuSans-67\"/>\n       <path d=\"M 59.515625 10.40625 \nL 59.515625 29.984375 \nL 43.40625 29.984375 \nL 43.40625 38.09375 \nL 69.28125 38.09375 \nL 69.28125 6.78125 \nQ 63.578125 2.734375 56.6875 0.65625 \nQ 49.8125 -1.421875 42 -1.421875 \nQ 24.90625 -1.421875 15.25 8.5625 \nQ 5.609375 18.5625 5.609375 36.375 \nQ 5.609375 54.25 15.25 64.234375 \nQ 24.90625 74.21875 42 74.21875 \nQ 49.125 74.21875 55.546875 72.453125 \nQ 61.96875 70.703125 67.390625 67.28125 \nL 67.390625 56.78125 \nQ 61.921875 61.421875 55.765625 63.765625 \nQ 49.609375 66.109375 42.828125 66.109375 \nQ 29.4375 66.109375 22.71875 58.640625 \nQ 16.015625 51.171875 16.015625 36.375 \nQ 16.015625 21.625 22.71875 14.15625 \nQ 29.4375 6.6875 42.828125 6.6875 \nQ 48.046875 6.6875 52.140625 7.59375 \nQ 56.25 8.5 59.515625 10.40625 \nz\n\" id=\"DejaVuSans-71\"/>\n       <path d=\"M 18.109375 8.203125 \nL 18.109375 -20.796875 \nL 9.078125 -20.796875 \nL 9.078125 54.6875 \nL 18.109375 54.6875 \nL 18.109375 46.390625 \nQ 20.953125 51.265625 25.265625 53.625 \nQ 29.59375 56 35.59375 56 \nQ 45.5625 56 51.78125 48.09375 \nQ 58.015625 40.1875 58.015625 27.296875 \nQ 58.015625 14.40625 51.78125 6.484375 \nQ 45.5625 -1.421875 35.59375 -1.421875 \nQ 29.59375 -1.421875 25.265625 0.953125 \nQ 20.953125 3.328125 18.109375 8.203125 \nz\nM 48.6875 27.296875 \nQ 48.6875 37.203125 44.609375 42.84375 \nQ 40.53125 48.484375 33.40625 48.484375 \nQ 26.265625 48.484375 22.1875 42.84375 \nQ 18.109375 37.203125 18.109375 27.296875 \nQ 18.109375 17.390625 22.1875 11.75 \nQ 26.265625 6.109375 33.40625 6.109375 \nQ 40.53125 6.109375 44.609375 11.75 \nQ 48.6875 17.390625 48.6875 27.296875 \nz\n\" id=\"DejaVuSans-112\"/>\n      </defs>\n      <g transform=\"translate(76.984398 447.153125)rotate(-90)scale(0.1 -0.1)\">\n       <use xlink:href=\"#DejaVuSans-67\"/>\n       <use x=\"69.824219\" xlink:href=\"#DejaVuSans-73\"/>\n       <use x=\"99.316406\" xlink:href=\"#DejaVuSans-82\"/>\n       <use x=\"168.720703\" xlink:href=\"#DejaVuSans-67\"/>\n       <use x=\"238.544922\" xlink:href=\"#DejaVuSans-69\"/>\n       <use x=\"301.728516\" xlink:href=\"#DejaVuSans-35\"/>\n       <use x=\"385.517578\" xlink:href=\"#DejaVuSans-76\"/>\n       <use x=\"441.027344\" xlink:href=\"#DejaVuSans-84\"/>\n       <use x=\"502.111328\" xlink:href=\"#DejaVuSans-82\"/>\n       <use x=\"571.59375\" xlink:href=\"#DejaVuSans-47\"/>\n       <use x=\"605.285156\" xlink:href=\"#DejaVuSans-71\"/>\n       <use x=\"682.775391\" xlink:href=\"#DejaVuSans-121\"/>\n       <use x=\"741.955078\" xlink:href=\"#DejaVuSans-112\"/>\n       <use x=\"805.431641\" xlink:href=\"#DejaVuSans-115\"/>\n       <use x=\"857.53125\" xlink:href=\"#DejaVuSans-121\"/>\n      </g>\n     </g>\n    </g>\n    <g id=\"xtick_139\">\n     <g id=\"line2d_145\">\n      <g>\n       <use style=\"stroke:#000000;stroke-width:0.8;\" x=\"82.616001\" xlink:href=\"#m12e0b210da\" y=\"348.478125\"/>\n      </g>\n     </g>\n     <g id=\"text_14\">\n      <!-- DM412#LTR/Gypsy -->\n      <defs>\n       <path d=\"M 37.796875 64.3125 \nL 12.890625 25.390625 \nL 37.796875 25.390625 \nz\nM 35.203125 72.90625 \nL 47.609375 72.90625 \nL 47.609375 25.390625 \nL 58.015625 25.390625 \nL 58.015625 17.1875 \nL 47.609375 17.1875 \nL 47.609375 0 \nL 37.796875 0 \nL 37.796875 17.1875 \nL 4.890625 17.1875 \nL 4.890625 26.703125 \nz\n\" id=\"DejaVuSans-52\"/>\n      </defs>\n      <g transform=\"translate(85.375376 452.39375)rotate(-90)scale(0.1 -0.1)\">\n       <use xlink:href=\"#DejaVuSans-68\"/>\n       <use x=\"77.001953\" xlink:href=\"#DejaVuSans-77\"/>\n       <use x=\"163.28125\" xlink:href=\"#DejaVuSans-52\"/>\n       <use x=\"226.904297\" xlink:href=\"#DejaVuSans-49\"/>\n       <use x=\"290.527344\" xlink:href=\"#DejaVuSans-50\"/>\n       <use x=\"354.150391\" xlink:href=\"#DejaVuSans-35\"/>\n       <use x=\"437.939453\" xlink:href=\"#DejaVuSans-76\"/>\n       <use x=\"493.449219\" xlink:href=\"#DejaVuSans-84\"/>\n       <use x=\"554.533203\" xlink:href=\"#DejaVuSans-82\"/>\n       <use x=\"624.015625\" xlink:href=\"#DejaVuSans-47\"/>\n       <use x=\"657.707031\" xlink:href=\"#DejaVuSans-71\"/>\n       <use x=\"735.197266\" xlink:href=\"#DejaVuSans-121\"/>\n       <use x=\"794.376953\" xlink:href=\"#DejaVuSans-112\"/>\n       <use x=\"857.853516\" xlink:href=\"#DejaVuSans-115\"/>\n       <use x=\"909.953125\" xlink:href=\"#DejaVuSans-121\"/>\n      </g>\n     </g>\n    </g>\n    <g id=\"xtick_140\">\n     <g id=\"line2d_146\">\n      <g>\n       <use style=\"stroke:#000000;stroke-width:0.8;\" x=\"91.006978\" xlink:href=\"#m12e0b210da\" y=\"348.478125\"/>\n      </g>\n     </g>\n     <g id=\"text_15\">\n      <!-- DM412B_LTR#LTR/Gypsy -->\n      <g transform=\"translate(93.53901 482.8625)rotate(-90)scale(0.1 -0.1)\">\n       <use xlink:href=\"#DejaVuSans-68\"/>\n       <use x=\"77.001953\" xlink:href=\"#DejaVuSans-77\"/>\n       <use x=\"163.28125\" xlink:href=\"#DejaVuSans-52\"/>\n       <use x=\"226.904297\" xlink:href=\"#DejaVuSans-49\"/>\n       <use x=\"290.527344\" xlink:href=\"#DejaVuSans-50\"/>\n       <use x=\"354.150391\" xlink:href=\"#DejaVuSans-66\"/>\n       <use x=\"422.753906\" xlink:href=\"#DejaVuSans-95\"/>\n       <use x=\"472.753906\" xlink:href=\"#DejaVuSans-76\"/>\n       <use x=\"528.263672\" xlink:href=\"#DejaVuSans-84\"/>\n       <use x=\"589.347656\" xlink:href=\"#DejaVuSans-82\"/>\n       <use x=\"658.830078\" xlink:href=\"#DejaVuSans-35\"/>\n       <use x=\"742.619141\" xlink:href=\"#DejaVuSans-76\"/>\n       <use x=\"798.128906\" xlink:href=\"#DejaVuSans-84\"/>\n       <use x=\"859.212891\" xlink:href=\"#DejaVuSans-82\"/>\n       <use x=\"928.695312\" xlink:href=\"#DejaVuSans-47\"/>\n       <use x=\"962.386719\" xlink:href=\"#DejaVuSans-71\"/>\n       <use x=\"1039.876953\" xlink:href=\"#DejaVuSans-121\"/>\n       <use x=\"1099.056641\" xlink:href=\"#DejaVuSans-112\"/>\n       <use x=\"1162.533203\" xlink:href=\"#DejaVuSans-115\"/>\n       <use x=\"1214.632812\" xlink:href=\"#DejaVuSans-121\"/>\n      </g>\n     </g>\n    </g>\n    <g id=\"xtick_141\">\n     <g id=\"line2d_147\">\n      <g>\n       <use style=\"stroke:#000000;stroke-width:0.8;\" x=\"99.397956\" xlink:href=\"#m12e0b210da\" y=\"348.478125\"/>\n      </g>\n     </g>\n     <g id=\"text_16\">\n      <!-- DMCR1A#LINE/CR1 -->\n      <g transform=\"translate(102.157331 453.304687)rotate(-90)scale(0.1 -0.1)\">\n       <use xlink:href=\"#DejaVuSans-68\"/>\n       <use x=\"77.001953\" xlink:href=\"#DejaVuSans-77\"/>\n       <use x=\"163.28125\" xlink:href=\"#DejaVuSans-67\"/>\n       <use x=\"233.105469\" xlink:href=\"#DejaVuSans-82\"/>\n       <use x=\"302.587891\" xlink:href=\"#DejaVuSans-49\"/>\n       <use x=\"366.210938\" xlink:href=\"#DejaVuSans-65\"/>\n       <use x=\"434.619141\" xlink:href=\"#DejaVuSans-35\"/>\n       <use x=\"518.408203\" xlink:href=\"#DejaVuSans-76\"/>\n       <use x=\"574.121094\" xlink:href=\"#DejaVuSans-73\"/>\n       <use x=\"603.613281\" xlink:href=\"#DejaVuSans-78\"/>\n       <use x=\"678.417969\" xlink:href=\"#DejaVuSans-69\"/>\n       <use x=\"741.601562\" xlink:href=\"#DejaVuSans-47\"/>\n       <use x=\"775.292969\" xlink:href=\"#DejaVuSans-67\"/>\n       <use x=\"845.117188\" xlink:href=\"#DejaVuSans-82\"/>\n       <use x=\"914.599609\" xlink:href=\"#DejaVuSans-49\"/>\n      </g>\n     </g>\n    </g>\n    <g id=\"xtick_142\">\n     <g id=\"line2d_148\">\n      <g>\n       <use style=\"stroke:#000000;stroke-width:0.8;\" x=\"107.788933\" xlink:href=\"#m12e0b210da\" y=\"348.478125\"/>\n      </g>\n     </g>\n     <g id=\"text_17\">\n      <!-- DMRT1A#LINE/R1 -->\n      <g transform=\"translate(110.548308 445.435937)rotate(-90)scale(0.1 -0.1)\">\n       <use xlink:href=\"#DejaVuSans-68\"/>\n       <use x=\"77.001953\" xlink:href=\"#DejaVuSans-77\"/>\n       <use x=\"163.28125\" xlink:href=\"#DejaVuSans-82\"/>\n       <use x=\"232.654297\" xlink:href=\"#DejaVuSans-84\"/>\n       <use x=\"293.738281\" xlink:href=\"#DejaVuSans-49\"/>\n       <use x=\"357.361328\" xlink:href=\"#DejaVuSans-65\"/>\n       <use x=\"425.769531\" xlink:href=\"#DejaVuSans-35\"/>\n       <use x=\"509.558594\" xlink:href=\"#DejaVuSans-76\"/>\n       <use x=\"565.271484\" xlink:href=\"#DejaVuSans-73\"/>\n       <use x=\"594.763672\" xlink:href=\"#DejaVuSans-78\"/>\n       <use x=\"669.568359\" xlink:href=\"#DejaVuSans-69\"/>\n       <use x=\"732.751953\" xlink:href=\"#DejaVuSans-47\"/>\n       <use x=\"766.443359\" xlink:href=\"#DejaVuSans-82\"/>\n       <use x=\"835.925781\" xlink:href=\"#DejaVuSans-49\"/>\n      </g>\n     </g>\n    </g>\n    <g id=\"xtick_143\">\n     <g id=\"line2d_149\">\n      <g>\n       <use style=\"stroke:#000000;stroke-width:0.8;\" x=\"116.179911\" xlink:href=\"#m12e0b210da\" y=\"348.478125\"/>\n      </g>\n     </g>\n     <g id=\"text_18\">\n      <!-- DMRT1B#LINE/R1 -->\n      <g transform=\"translate(118.939286 445.45625)rotate(-90)scale(0.1 -0.1)\">\n       <use xlink:href=\"#DejaVuSans-68\"/>\n       <use x=\"77.001953\" xlink:href=\"#DejaVuSans-77\"/>\n       <use x=\"163.28125\" xlink:href=\"#DejaVuSans-82\"/>\n       <use x=\"232.654297\" xlink:href=\"#DejaVuSans-84\"/>\n       <use x=\"293.738281\" xlink:href=\"#DejaVuSans-49\"/>\n       <use x=\"357.361328\" xlink:href=\"#DejaVuSans-66\"/>\n       <use x=\"425.964844\" xlink:href=\"#DejaVuSans-35\"/>\n       <use x=\"509.753906\" xlink:href=\"#DejaVuSans-76\"/>\n       <use x=\"565.466797\" xlink:href=\"#DejaVuSans-73\"/>\n       <use x=\"594.958984\" xlink:href=\"#DejaVuSans-78\"/>\n       <use x=\"669.763672\" xlink:href=\"#DejaVuSans-69\"/>\n       <use x=\"732.947266\" xlink:href=\"#DejaVuSans-47\"/>\n       <use x=\"766.638672\" xlink:href=\"#DejaVuSans-82\"/>\n       <use x=\"836.121094\" xlink:href=\"#DejaVuSans-49\"/>\n      </g>\n     </g>\n    </g>\n    <g id=\"xtick_144\">\n     <g id=\"line2d_150\">\n      <g>\n       <use style=\"stroke:#000000;stroke-width:0.8;\" x=\"124.570888\" xlink:href=\"#m12e0b210da\" y=\"348.478125\"/>\n      </g>\n     </g>\n     <g id=\"text_19\">\n      <!-- DMRT1C#LINE/R1 -->\n      <g transform=\"translate(127.330263 445.578125)rotate(-90)scale(0.1 -0.1)\">\n       <use xlink:href=\"#DejaVuSans-68\"/>\n       <use x=\"77.001953\" xlink:href=\"#DejaVuSans-77\"/>\n       <use x=\"163.28125\" xlink:href=\"#DejaVuSans-82\"/>\n       <use x=\"232.654297\" xlink:href=\"#DejaVuSans-84\"/>\n       <use x=\"293.738281\" xlink:href=\"#DejaVuSans-49\"/>\n       <use x=\"357.361328\" xlink:href=\"#DejaVuSans-67\"/>\n       <use x=\"427.185547\" xlink:href=\"#DejaVuSans-35\"/>\n       <use x=\"510.974609\" xlink:href=\"#DejaVuSans-76\"/>\n       <use x=\"566.6875\" xlink:href=\"#DejaVuSans-73\"/>\n       <use x=\"596.179688\" xlink:href=\"#DejaVuSans-78\"/>\n       <use x=\"670.984375\" xlink:href=\"#DejaVuSans-69\"/>\n       <use x=\"734.167969\" xlink:href=\"#DejaVuSans-47\"/>\n       <use x=\"767.859375\" xlink:href=\"#DejaVuSans-82\"/>\n       <use x=\"837.341797\" xlink:href=\"#DejaVuSans-49\"/>\n      </g>\n     </g>\n    </g>\n    <g id=\"xtick_145\">\n     <g id=\"line2d_151\">\n      <g>\n       <use style=\"stroke:#000000;stroke-width:0.8;\" x=\"132.961866\" xlink:href=\"#m12e0b210da\" y=\"348.478125\"/>\n      </g>\n     </g>\n     <g id=\"text_20\">\n      <!-- DNAREP1_DM#RC/Helitron -->\n      <defs>\n       <path d=\"M 19.671875 64.796875 \nL 19.671875 37.40625 \nL 32.078125 37.40625 \nQ 38.96875 37.40625 42.71875 40.96875 \nQ 46.484375 44.53125 46.484375 51.125 \nQ 46.484375 57.671875 42.71875 61.234375 \nQ 38.96875 64.796875 32.078125 64.796875 \nz\nM 9.8125 72.90625 \nL 32.078125 72.90625 \nQ 44.34375 72.90625 50.609375 67.359375 \nQ 56.890625 61.8125 56.890625 51.125 \nQ 56.890625 40.328125 50.609375 34.8125 \nQ 44.34375 29.296875 32.078125 29.296875 \nL 19.671875 29.296875 \nL 19.671875 0 \nL 9.8125 0 \nz\n\" id=\"DejaVuSans-80\"/>\n       <path d=\"M 9.8125 72.90625 \nL 19.671875 72.90625 \nL 19.671875 43.015625 \nL 55.515625 43.015625 \nL 55.515625 72.90625 \nL 65.375 72.90625 \nL 65.375 0 \nL 55.515625 0 \nL 55.515625 34.71875 \nL 19.671875 34.71875 \nL 19.671875 0 \nL 9.8125 0 \nz\n\" id=\"DejaVuSans-72\"/>\n       <path d=\"M 18.3125 70.21875 \nL 18.3125 54.6875 \nL 36.8125 54.6875 \nL 36.8125 47.703125 \nL 18.3125 47.703125 \nL 18.3125 18.015625 \nQ 18.3125 11.328125 20.140625 9.421875 \nQ 21.96875 7.515625 27.59375 7.515625 \nL 36.8125 7.515625 \nL 36.8125 0 \nL 27.59375 0 \nQ 17.1875 0 13.234375 3.875 \nQ 9.28125 7.765625 9.28125 18.015625 \nL 9.28125 47.703125 \nL 2.6875 47.703125 \nL 2.6875 54.6875 \nL 9.28125 54.6875 \nL 9.28125 70.21875 \nz\n\" id=\"DejaVuSans-116\"/>\n      </defs>\n      <g transform=\"translate(135.582178 489.873437)rotate(-90)scale(0.1 -0.1)\">\n       <use xlink:href=\"#DejaVuSans-68\"/>\n       <use x=\"77.001953\" xlink:href=\"#DejaVuSans-78\"/>\n       <use x=\"151.806641\" xlink:href=\"#DejaVuSans-65\"/>\n       <use x=\"220.214844\" xlink:href=\"#DejaVuSans-82\"/>\n       <use x=\"289.697266\" xlink:href=\"#DejaVuSans-69\"/>\n       <use x=\"352.880859\" xlink:href=\"#DejaVuSans-80\"/>\n       <use x=\"413.183594\" xlink:href=\"#DejaVuSans-49\"/>\n       <use x=\"476.806641\" xlink:href=\"#DejaVuSans-95\"/>\n       <use x=\"526.806641\" xlink:href=\"#DejaVuSans-68\"/>\n       <use x=\"603.808594\" xlink:href=\"#DejaVuSans-77\"/>\n       <use x=\"690.087891\" xlink:href=\"#DejaVuSans-35\"/>\n       <use x=\"773.876953\" xlink:href=\"#DejaVuSans-82\"/>\n       <use x=\"843.28125\" xlink:href=\"#DejaVuSans-67\"/>\n       <use x=\"913.105469\" xlink:href=\"#DejaVuSans-47\"/>\n       <use x=\"946.796875\" xlink:href=\"#DejaVuSans-72\"/>\n       <use x=\"1021.992188\" xlink:href=\"#DejaVuSans-101\"/>\n       <use x=\"1083.515625\" xlink:href=\"#DejaVuSans-108\"/>\n       <use x=\"1111.298828\" xlink:href=\"#DejaVuSans-105\"/>\n       <use x=\"1139.082031\" xlink:href=\"#DejaVuSans-116\"/>\n       <use x=\"1178.291016\" xlink:href=\"#DejaVuSans-114\"/>\n       <use x=\"1219.373047\" xlink:href=\"#DejaVuSans-111\"/>\n       <use x=\"1280.554688\" xlink:href=\"#DejaVuSans-110\"/>\n      </g>\n     </g>\n    </g>\n    <g id=\"xtick_146\">\n     <g id=\"line2d_152\">\n      <g>\n       <use style=\"stroke:#000000;stroke-width:0.8;\" x=\"141.352843\" xlink:href=\"#m12e0b210da\" y=\"348.478125\"/>\n      </g>\n     </g>\n     <g id=\"text_21\">\n      <!-- DOC#LINE/I-Jockey -->\n      <g transform=\"translate(144.112218 451.09375)rotate(-90)scale(0.1 -0.1)\">\n       <use xlink:href=\"#DejaVuSans-68\"/>\n       <use x=\"77.001953\" xlink:href=\"#DejaVuSans-79\"/>\n       <use x=\"155.712891\" xlink:href=\"#DejaVuSans-67\"/>\n       <use x=\"225.537109\" xlink:href=\"#DejaVuSans-35\"/>\n       <use x=\"309.326172\" xlink:href=\"#DejaVuSans-76\"/>\n       <use x=\"365.039062\" xlink:href=\"#DejaVuSans-73\"/>\n       <use x=\"394.53125\" xlink:href=\"#DejaVuSans-78\"/>\n       <use x=\"469.335938\" xlink:href=\"#DejaVuSans-69\"/>\n       <use x=\"532.519531\" xlink:href=\"#DejaVuSans-47\"/>\n       <use x=\"566.210938\" xlink:href=\"#DejaVuSans-73\"/>\n       <use x=\"595.703125\" xlink:href=\"#DejaVuSans-45\"/>\n       <use x=\"631.865234\" xlink:href=\"#DejaVuSans-74\"/>\n       <use x=\"661.357422\" xlink:href=\"#DejaVuSans-111\"/>\n       <use x=\"722.539062\" xlink:href=\"#DejaVuSans-99\"/>\n       <use x=\"777.519531\" xlink:href=\"#DejaVuSans-107\"/>\n       <use x=\"835.382812\" xlink:href=\"#DejaVuSans-101\"/>\n       <use x=\"896.90625\" xlink:href=\"#DejaVuSans-121\"/>\n      </g>\n     </g>\n    </g>\n    <g id=\"xtick_147\">\n     <g id=\"line2d_153\">\n      <g>\n       <use style=\"stroke:#000000;stroke-width:0.8;\" x=\"149.74382\" xlink:href=\"#m12e0b210da\" y=\"348.478125\"/>\n      </g>\n     </g>\n     <g id=\"text_22\">\n      <!-- DOC2_DM#LINE/I-Jockey -->\n      <g transform=\"translate(152.364133 478.784375)rotate(-90)scale(0.1 -0.1)\">\n       <use xlink:href=\"#DejaVuSans-68\"/>\n       <use x=\"77.001953\" xlink:href=\"#DejaVuSans-79\"/>\n       <use x=\"155.712891\" xlink:href=\"#DejaVuSans-67\"/>\n       <use x=\"225.537109\" xlink:href=\"#DejaVuSans-50\"/>\n       <use x=\"289.160156\" xlink:href=\"#DejaVuSans-95\"/>\n       <use x=\"339.160156\" xlink:href=\"#DejaVuSans-68\"/>\n       <use x=\"416.162109\" xlink:href=\"#DejaVuSans-77\"/>\n       <use x=\"502.441406\" xlink:href=\"#DejaVuSans-35\"/>\n       <use x=\"586.230469\" xlink:href=\"#DejaVuSans-76\"/>\n       <use x=\"641.943359\" xlink:href=\"#DejaVuSans-73\"/>\n       <use x=\"671.435547\" xlink:href=\"#DejaVuSans-78\"/>\n       <use x=\"746.240234\" xlink:href=\"#DejaVuSans-69\"/>\n       <use x=\"809.423828\" xlink:href=\"#DejaVuSans-47\"/>\n       <use x=\"843.115234\" xlink:href=\"#DejaVuSans-73\"/>\n       <use x=\"872.607422\" xlink:href=\"#DejaVuSans-45\"/>\n       <use x=\"908.769531\" xlink:href=\"#DejaVuSans-74\"/>\n       <use x=\"938.261719\" xlink:href=\"#DejaVuSans-111\"/>\n       <use x=\"999.443359\" xlink:href=\"#DejaVuSans-99\"/>\n       <use x=\"1054.423828\" xlink:href=\"#DejaVuSans-107\"/>\n       <use x=\"1112.287109\" xlink:href=\"#DejaVuSans-101\"/>\n       <use x=\"1173.810547\" xlink:href=\"#DejaVuSans-121\"/>\n      </g>\n     </g>\n    </g>\n    <g id=\"xtick_148\">\n     <g id=\"line2d_154\">\n      <g>\n       <use style=\"stroke:#000000;stroke-width:0.8;\" x=\"158.134798\" xlink:href=\"#m12e0b210da\" y=\"348.478125\"/>\n      </g>\n     </g>\n     <g id=\"text_23\">\n      <!-- DOC3_DM#LINE/I-Jockey -->\n      <defs>\n       <path d=\"M 40.578125 39.3125 \nQ 47.65625 37.796875 51.625 33 \nQ 55.609375 28.21875 55.609375 21.1875 \nQ 55.609375 10.40625 48.1875 4.484375 \nQ 40.765625 -1.421875 27.09375 -1.421875 \nQ 22.515625 -1.421875 17.65625 -0.515625 \nQ 12.796875 0.390625 7.625 2.203125 \nL 7.625 11.71875 \nQ 11.71875 9.328125 16.59375 8.109375 \nQ 21.484375 6.890625 26.8125 6.890625 \nQ 36.078125 6.890625 40.9375 10.546875 \nQ 45.796875 14.203125 45.796875 21.1875 \nQ 45.796875 27.640625 41.28125 31.265625 \nQ 36.765625 34.90625 28.71875 34.90625 \nL 20.21875 34.90625 \nL 20.21875 43.015625 \nL 29.109375 43.015625 \nQ 36.375 43.015625 40.234375 45.921875 \nQ 44.09375 48.828125 44.09375 54.296875 \nQ 44.09375 59.90625 40.109375 62.90625 \nQ 36.140625 65.921875 28.71875 65.921875 \nQ 24.65625 65.921875 20.015625 65.03125 \nQ 15.375 64.15625 9.8125 62.3125 \nL 9.8125 71.09375 \nQ 15.4375 72.65625 20.34375 73.4375 \nQ 25.25 74.21875 29.59375 74.21875 \nQ 40.828125 74.21875 47.359375 69.109375 \nQ 53.90625 64.015625 53.90625 55.328125 \nQ 53.90625 49.265625 50.4375 45.09375 \nQ 46.96875 40.921875 40.578125 39.3125 \nz\n\" id=\"DejaVuSans-51\"/>\n      </defs>\n      <g transform=\"translate(160.75511 478.784375)rotate(-90)scale(0.1 -0.1)\">\n       <use xlink:href=\"#DejaVuSans-68\"/>\n       <use x=\"77.001953\" xlink:href=\"#DejaVuSans-79\"/>\n       <use x=\"155.712891\" xlink:href=\"#DejaVuSans-67\"/>\n       <use x=\"225.537109\" xlink:href=\"#DejaVuSans-51\"/>\n       <use x=\"289.160156\" xlink:href=\"#DejaVuSans-95\"/>\n       <use x=\"339.160156\" xlink:href=\"#DejaVuSans-68\"/>\n       <use x=\"416.162109\" xlink:href=\"#DejaVuSans-77\"/>\n       <use x=\"502.441406\" xlink:href=\"#DejaVuSans-35\"/>\n       <use x=\"586.230469\" xlink:href=\"#DejaVuSans-76\"/>\n       <use x=\"641.943359\" xlink:href=\"#DejaVuSans-73\"/>\n       <use x=\"671.435547\" xlink:href=\"#DejaVuSans-78\"/>\n       <use x=\"746.240234\" xlink:href=\"#DejaVuSans-69\"/>\n       <use x=\"809.423828\" xlink:href=\"#DejaVuSans-47\"/>\n       <use x=\"843.115234\" xlink:href=\"#DejaVuSans-73\"/>\n       <use x=\"872.607422\" xlink:href=\"#DejaVuSans-45\"/>\n       <use x=\"908.769531\" xlink:href=\"#DejaVuSans-74\"/>\n       <use x=\"938.261719\" xlink:href=\"#DejaVuSans-111\"/>\n       <use x=\"999.443359\" xlink:href=\"#DejaVuSans-99\"/>\n       <use x=\"1054.423828\" xlink:href=\"#DejaVuSans-107\"/>\n       <use x=\"1112.287109\" xlink:href=\"#DejaVuSans-101\"/>\n       <use x=\"1173.810547\" xlink:href=\"#DejaVuSans-121\"/>\n      </g>\n     </g>\n    </g>\n    <g id=\"xtick_149\">\n     <g id=\"line2d_155\">\n      <g>\n       <use style=\"stroke:#000000;stroke-width:0.8;\" x=\"166.525775\" xlink:href=\"#m12e0b210da\" y=\"348.478125\"/>\n      </g>\n     </g>\n     <g id=\"text_24\">\n      <!-- DOC5_DM#LINE/I-Jockey -->\n      <g transform=\"translate(169.146088 478.784375)rotate(-90)scale(0.1 -0.1)\">\n       <use xlink:href=\"#DejaVuSans-68\"/>\n       <use x=\"77.001953\" xlink:href=\"#DejaVuSans-79\"/>\n       <use x=\"155.712891\" xlink:href=\"#DejaVuSans-67\"/>\n       <use x=\"225.537109\" xlink:href=\"#DejaVuSans-53\"/>\n       <use x=\"289.160156\" xlink:href=\"#DejaVuSans-95\"/>\n       <use x=\"339.160156\" xlink:href=\"#DejaVuSans-68\"/>\n       <use x=\"416.162109\" xlink:href=\"#DejaVuSans-77\"/>\n       <use x=\"502.441406\" xlink:href=\"#DejaVuSans-35\"/>\n       <use x=\"586.230469\" xlink:href=\"#DejaVuSans-76\"/>\n       <use x=\"641.943359\" xlink:href=\"#DejaVuSans-73\"/>\n       <use x=\"671.435547\" xlink:href=\"#DejaVuSans-78\"/>\n       <use x=\"746.240234\" xlink:href=\"#DejaVuSans-69\"/>\n       <use x=\"809.423828\" xlink:href=\"#DejaVuSans-47\"/>\n       <use x=\"843.115234\" xlink:href=\"#DejaVuSans-73\"/>\n       <use x=\"872.607422\" xlink:href=\"#DejaVuSans-45\"/>\n       <use x=\"908.769531\" xlink:href=\"#DejaVuSans-74\"/>\n       <use x=\"938.261719\" xlink:href=\"#DejaVuSans-111\"/>\n       <use x=\"999.443359\" xlink:href=\"#DejaVuSans-99\"/>\n       <use x=\"1054.423828\" xlink:href=\"#DejaVuSans-107\"/>\n       <use x=\"1112.287109\" xlink:href=\"#DejaVuSans-101\"/>\n       <use x=\"1173.810547\" xlink:href=\"#DejaVuSans-121\"/>\n      </g>\n     </g>\n    </g>\n    <g id=\"xtick_150\">\n     <g id=\"line2d_156\">\n      <g>\n       <use style=\"stroke:#000000;stroke-width:0.8;\" x=\"174.916753\" xlink:href=\"#m12e0b210da\" y=\"348.478125\"/>\n      </g>\n     </g>\n     <g id=\"text_25\">\n      <!-- DOC6_DM#LINE/I-Jockey -->\n      <defs>\n       <path d=\"M 33.015625 40.375 \nQ 26.375 40.375 22.484375 35.828125 \nQ 18.609375 31.296875 18.609375 23.390625 \nQ 18.609375 15.53125 22.484375 10.953125 \nQ 26.375 6.390625 33.015625 6.390625 \nQ 39.65625 6.390625 43.53125 10.953125 \nQ 47.40625 15.53125 47.40625 23.390625 \nQ 47.40625 31.296875 43.53125 35.828125 \nQ 39.65625 40.375 33.015625 40.375 \nz\nM 52.59375 71.296875 \nL 52.59375 62.3125 \nQ 48.875 64.0625 45.09375 64.984375 \nQ 41.3125 65.921875 37.59375 65.921875 \nQ 27.828125 65.921875 22.671875 59.328125 \nQ 17.53125 52.734375 16.796875 39.40625 \nQ 19.671875 43.65625 24.015625 45.921875 \nQ 28.375 48.1875 33.59375 48.1875 \nQ 44.578125 48.1875 50.953125 41.515625 \nQ 57.328125 34.859375 57.328125 23.390625 \nQ 57.328125 12.15625 50.6875 5.359375 \nQ 44.046875 -1.421875 33.015625 -1.421875 \nQ 20.359375 -1.421875 13.671875 8.265625 \nQ 6.984375 17.96875 6.984375 36.375 \nQ 6.984375 53.65625 15.1875 63.9375 \nQ 23.390625 74.21875 37.203125 74.21875 \nQ 40.921875 74.21875 44.703125 73.484375 \nQ 48.484375 72.75 52.59375 71.296875 \nz\n\" id=\"DejaVuSans-54\"/>\n      </defs>\n      <g transform=\"translate(177.537065 478.784375)rotate(-90)scale(0.1 -0.1)\">\n       <use xlink:href=\"#DejaVuSans-68\"/>\n       <use x=\"77.001953\" xlink:href=\"#DejaVuSans-79\"/>\n       <use x=\"155.712891\" xlink:href=\"#DejaVuSans-67\"/>\n       <use x=\"225.537109\" xlink:href=\"#DejaVuSans-54\"/>\n       <use x=\"289.160156\" xlink:href=\"#DejaVuSans-95\"/>\n       <use x=\"339.160156\" xlink:href=\"#DejaVuSans-68\"/>\n       <use x=\"416.162109\" xlink:href=\"#DejaVuSans-77\"/>\n       <use x=\"502.441406\" xlink:href=\"#DejaVuSans-35\"/>\n       <use x=\"586.230469\" xlink:href=\"#DejaVuSans-76\"/>\n       <use x=\"641.943359\" xlink:href=\"#DejaVuSans-73\"/>\n       <use x=\"671.435547\" xlink:href=\"#DejaVuSans-78\"/>\n       <use x=\"746.240234\" xlink:href=\"#DejaVuSans-69\"/>\n       <use x=\"809.423828\" xlink:href=\"#DejaVuSans-47\"/>\n       <use x=\"843.115234\" xlink:href=\"#DejaVuSans-73\"/>\n       <use x=\"872.607422\" xlink:href=\"#DejaVuSans-45\"/>\n       <use x=\"908.769531\" xlink:href=\"#DejaVuSans-74\"/>\n       <use x=\"938.261719\" xlink:href=\"#DejaVuSans-111\"/>\n       <use x=\"999.443359\" xlink:href=\"#DejaVuSans-99\"/>\n       <use x=\"1054.423828\" xlink:href=\"#DejaVuSans-107\"/>\n       <use x=\"1112.287109\" xlink:href=\"#DejaVuSans-101\"/>\n       <use x=\"1173.810547\" xlink:href=\"#DejaVuSans-121\"/>\n      </g>\n     </g>\n    </g>\n    <g id=\"xtick_151\">\n     <g id=\"line2d_157\">\n      <g>\n       <use style=\"stroke:#000000;stroke-width:0.8;\" x=\"183.30773\" xlink:href=\"#m12e0b210da\" y=\"348.478125\"/>\n      </g>\n     </g>\n     <g id=\"text_26\">\n      <!-- FB4_DM#DNA/TcMar-Tc1 -->\n      <g transform=\"translate(185.78898 481.525)rotate(-90)scale(0.1 -0.1)\">\n       <use xlink:href=\"#DejaVuSans-70\"/>\n       <use x=\"57.519531\" xlink:href=\"#DejaVuSans-66\"/>\n       <use x=\"126.123047\" xlink:href=\"#DejaVuSans-52\"/>\n       <use x=\"189.746094\" xlink:href=\"#DejaVuSans-95\"/>\n       <use x=\"239.746094\" xlink:href=\"#DejaVuSans-68\"/>\n       <use x=\"316.748047\" xlink:href=\"#DejaVuSans-77\"/>\n       <use x=\"403.027344\" xlink:href=\"#DejaVuSans-35\"/>\n       <use x=\"486.816406\" xlink:href=\"#DejaVuSans-68\"/>\n       <use x=\"563.818359\" xlink:href=\"#DejaVuSans-78\"/>\n       <use x=\"638.623047\" xlink:href=\"#DejaVuSans-65\"/>\n       <use x=\"707.03125\" xlink:href=\"#DejaVuSans-47\"/>\n       <use x=\"740.722656\" xlink:href=\"#DejaVuSans-84\"/>\n       <use x=\"801.541016\" xlink:href=\"#DejaVuSans-99\"/>\n       <use x=\"856.521484\" xlink:href=\"#DejaVuSans-77\"/>\n       <use x=\"942.800781\" xlink:href=\"#DejaVuSans-97\"/>\n       <use x=\"1004.080078\" xlink:href=\"#DejaVuSans-114\"/>\n       <use x=\"1045.099609\" xlink:href=\"#DejaVuSans-45\"/>\n       <use x=\"1081.042969\" xlink:href=\"#DejaVuSans-84\"/>\n       <use x=\"1141.861328\" xlink:href=\"#DejaVuSans-99\"/>\n       <use x=\"1196.841797\" xlink:href=\"#DejaVuSans-49\"/>\n      </g>\n     </g>\n    </g>\n    <g id=\"xtick_152\">\n     <g id=\"line2d_158\">\n      <g>\n       <use style=\"stroke:#000000;stroke-width:0.8;\" x=\"191.698708\" xlink:href=\"#m12e0b210da\" y=\"348.478125\"/>\n      </g>\n     </g>\n     <g id=\"text_27\">\n      <!-- G3_DM#LINE/I-Jockey -->\n      <g transform=\"translate(194.31902 463.978125)rotate(-90)scale(0.1 -0.1)\">\n       <use xlink:href=\"#DejaVuSans-71\"/>\n       <use x=\"77.490234\" xlink:href=\"#DejaVuSans-51\"/>\n       <use x=\"141.113281\" xlink:href=\"#DejaVuSans-95\"/>\n       <use x=\"191.113281\" xlink:href=\"#DejaVuSans-68\"/>\n       <use x=\"268.115234\" xlink:href=\"#DejaVuSans-77\"/>\n       <use x=\"354.394531\" xlink:href=\"#DejaVuSans-35\"/>\n       <use x=\"438.183594\" xlink:href=\"#DejaVuSans-76\"/>\n       <use x=\"493.896484\" xlink:href=\"#DejaVuSans-73\"/>\n       <use x=\"523.388672\" xlink:href=\"#DejaVuSans-78\"/>\n       <use x=\"598.193359\" xlink:href=\"#DejaVuSans-69\"/>\n       <use x=\"661.376953\" xlink:href=\"#DejaVuSans-47\"/>\n       <use x=\"695.068359\" xlink:href=\"#DejaVuSans-73\"/>\n       <use x=\"724.560547\" xlink:href=\"#DejaVuSans-45\"/>\n       <use x=\"760.722656\" xlink:href=\"#DejaVuSans-74\"/>\n       <use x=\"790.214844\" xlink:href=\"#DejaVuSans-111\"/>\n       <use x=\"851.396484\" xlink:href=\"#DejaVuSans-99\"/>\n       <use x=\"906.376953\" xlink:href=\"#DejaVuSans-107\"/>\n       <use x=\"964.240234\" xlink:href=\"#DejaVuSans-101\"/>\n       <use x=\"1025.763672\" xlink:href=\"#DejaVuSans-121\"/>\n      </g>\n     </g>\n    </g>\n    <g id=\"xtick_153\">\n     <g id=\"line2d_159\">\n      <g>\n       <use style=\"stroke:#000000;stroke-width:0.8;\" x=\"200.089685\" xlink:href=\"#m12e0b210da\" y=\"348.478125\"/>\n      </g>\n     </g>\n     <g id=\"text_28\">\n      <!-- G5A_DM#LINE/I-Jockey -->\n      <g transform=\"translate(202.709998 470.81875)rotate(-90)scale(0.1 -0.1)\">\n       <use xlink:href=\"#DejaVuSans-71\"/>\n       <use x=\"77.490234\" xlink:href=\"#DejaVuSans-53\"/>\n       <use x=\"141.113281\" xlink:href=\"#DejaVuSans-65\"/>\n       <use x=\"209.521484\" xlink:href=\"#DejaVuSans-95\"/>\n       <use x=\"259.521484\" xlink:href=\"#DejaVuSans-68\"/>\n       <use x=\"336.523438\" xlink:href=\"#DejaVuSans-77\"/>\n       <use x=\"422.802734\" xlink:href=\"#DejaVuSans-35\"/>\n       <use x=\"506.591797\" xlink:href=\"#DejaVuSans-76\"/>\n       <use x=\"562.304688\" xlink:href=\"#DejaVuSans-73\"/>\n       <use x=\"591.796875\" xlink:href=\"#DejaVuSans-78\"/>\n       <use x=\"666.601562\" xlink:href=\"#DejaVuSans-69\"/>\n       <use x=\"729.785156\" xlink:href=\"#DejaVuSans-47\"/>\n       <use x=\"763.476562\" xlink:href=\"#DejaVuSans-73\"/>\n       <use x=\"792.96875\" xlink:href=\"#DejaVuSans-45\"/>\n       <use x=\"829.130859\" xlink:href=\"#DejaVuSans-74\"/>\n       <use x=\"858.623047\" xlink:href=\"#DejaVuSans-111\"/>\n       <use x=\"919.804688\" xlink:href=\"#DejaVuSans-99\"/>\n       <use x=\"974.785156\" xlink:href=\"#DejaVuSans-107\"/>\n       <use x=\"1032.648438\" xlink:href=\"#DejaVuSans-101\"/>\n       <use x=\"1094.171875\" xlink:href=\"#DejaVuSans-121\"/>\n      </g>\n     </g>\n    </g>\n    <g id=\"xtick_154\">\n     <g id=\"line2d_160\">\n      <g>\n       <use style=\"stroke:#000000;stroke-width:0.8;\" x=\"208.480663\" xlink:href=\"#m12e0b210da\" y=\"348.478125\"/>\n      </g>\n     </g>\n     <g id=\"text_29\">\n      <!-- G5_DM#LINE/I-Jockey -->\n      <g transform=\"translate(211.100975 463.978125)rotate(-90)scale(0.1 -0.1)\">\n       <use xlink:href=\"#DejaVuSans-71\"/>\n       <use x=\"77.490234\" xlink:href=\"#DejaVuSans-53\"/>\n       <use x=\"141.113281\" xlink:href=\"#DejaVuSans-95\"/>\n       <use x=\"191.113281\" xlink:href=\"#DejaVuSans-68\"/>\n       <use x=\"268.115234\" xlink:href=\"#DejaVuSans-77\"/>\n       <use x=\"354.394531\" xlink:href=\"#DejaVuSans-35\"/>\n       <use x=\"438.183594\" xlink:href=\"#DejaVuSans-76\"/>\n       <use x=\"493.896484\" xlink:href=\"#DejaVuSans-73\"/>\n       <use x=\"523.388672\" xlink:href=\"#DejaVuSans-78\"/>\n       <use x=\"598.193359\" xlink:href=\"#DejaVuSans-69\"/>\n       <use x=\"661.376953\" xlink:href=\"#DejaVuSans-47\"/>\n       <use x=\"695.068359\" xlink:href=\"#DejaVuSans-73\"/>\n       <use x=\"724.560547\" xlink:href=\"#DejaVuSans-45\"/>\n       <use x=\"760.722656\" xlink:href=\"#DejaVuSans-74\"/>\n       <use x=\"790.214844\" xlink:href=\"#DejaVuSans-111\"/>\n       <use x=\"851.396484\" xlink:href=\"#DejaVuSans-99\"/>\n       <use x=\"906.376953\" xlink:href=\"#DejaVuSans-107\"/>\n       <use x=\"964.240234\" xlink:href=\"#DejaVuSans-101\"/>\n       <use x=\"1025.763672\" xlink:href=\"#DejaVuSans-121\"/>\n      </g>\n     </g>\n    </g>\n    <g id=\"xtick_155\">\n     <g id=\"line2d_161\">\n      <g>\n       <use style=\"stroke:#000000;stroke-width:0.8;\" x=\"216.87164\" xlink:href=\"#m12e0b210da\" y=\"348.478125\"/>\n      </g>\n     </g>\n     <g id=\"text_30\">\n      <!-- G_DM#LINE/I-Jockey -->\n      <g transform=\"translate(219.491953 457.615625)rotate(-90)scale(0.1 -0.1)\">\n       <use xlink:href=\"#DejaVuSans-71\"/>\n       <use x=\"77.490234\" xlink:href=\"#DejaVuSans-95\"/>\n       <use x=\"127.490234\" xlink:href=\"#DejaVuSans-68\"/>\n       <use x=\"204.492188\" xlink:href=\"#DejaVuSans-77\"/>\n       <use x=\"290.771484\" xlink:href=\"#DejaVuSans-35\"/>\n       <use x=\"374.560547\" xlink:href=\"#DejaVuSans-76\"/>\n       <use x=\"430.273438\" xlink:href=\"#DejaVuSans-73\"/>\n       <use x=\"459.765625\" xlink:href=\"#DejaVuSans-78\"/>\n       <use x=\"534.570312\" xlink:href=\"#DejaVuSans-69\"/>\n       <use x=\"597.753906\" xlink:href=\"#DejaVuSans-47\"/>\n       <use x=\"631.445312\" xlink:href=\"#DejaVuSans-73\"/>\n       <use x=\"660.9375\" xlink:href=\"#DejaVuSans-45\"/>\n       <use x=\"697.099609\" xlink:href=\"#DejaVuSans-74\"/>\n       <use x=\"726.591797\" xlink:href=\"#DejaVuSans-111\"/>\n       <use x=\"787.773438\" xlink:href=\"#DejaVuSans-99\"/>\n       <use x=\"842.753906\" xlink:href=\"#DejaVuSans-107\"/>\n       <use x=\"900.617188\" xlink:href=\"#DejaVuSans-101\"/>\n       <use x=\"962.140625\" xlink:href=\"#DejaVuSans-121\"/>\n      </g>\n     </g>\n    </g>\n    <g id=\"xtick_156\">\n     <g id=\"line2d_162\">\n      <g>\n       <use style=\"stroke:#000000;stroke-width:0.8;\" x=\"225.262617\" xlink:href=\"#m12e0b210da\" y=\"348.478125\"/>\n      </g>\n     </g>\n     <g id=\"text_31\">\n      <!-- Gypsy12A_LTR#LTR/Gypsy -->\n      <g transform=\"translate(227.794649 491.295312)rotate(-90)scale(0.1 -0.1)\">\n       <use xlink:href=\"#DejaVuSans-71\"/>\n       <use x=\"77.490234\" xlink:href=\"#DejaVuSans-121\"/>\n       <use x=\"136.669922\" xlink:href=\"#DejaVuSans-112\"/>\n       <use x=\"200.146484\" xlink:href=\"#DejaVuSans-115\"/>\n       <use x=\"252.246094\" xlink:href=\"#DejaVuSans-121\"/>\n       <use x=\"311.425781\" xlink:href=\"#DejaVuSans-49\"/>\n       <use x=\"375.048828\" xlink:href=\"#DejaVuSans-50\"/>\n       <use x=\"438.671875\" xlink:href=\"#DejaVuSans-65\"/>\n       <use x=\"507.080078\" xlink:href=\"#DejaVuSans-95\"/>\n       <use x=\"557.080078\" xlink:href=\"#DejaVuSans-76\"/>\n       <use x=\"612.589844\" xlink:href=\"#DejaVuSans-84\"/>\n       <use x=\"673.673828\" xlink:href=\"#DejaVuSans-82\"/>\n       <use x=\"743.15625\" xlink:href=\"#DejaVuSans-35\"/>\n       <use x=\"826.945312\" xlink:href=\"#DejaVuSans-76\"/>\n       <use x=\"882.455078\" xlink:href=\"#DejaVuSans-84\"/>\n       <use x=\"943.539062\" xlink:href=\"#DejaVuSans-82\"/>\n       <use x=\"1013.021484\" xlink:href=\"#DejaVuSans-47\"/>\n       <use x=\"1046.712891\" xlink:href=\"#DejaVuSans-71\"/>\n       <use x=\"1124.203125\" xlink:href=\"#DejaVuSans-121\"/>\n       <use x=\"1183.382812\" xlink:href=\"#DejaVuSans-112\"/>\n       <use x=\"1246.859375\" xlink:href=\"#DejaVuSans-115\"/>\n       <use x=\"1298.958984\" xlink:href=\"#DejaVuSans-121\"/>\n      </g>\n     </g>\n    </g>\n    <g id=\"xtick_157\">\n     <g id=\"line2d_163\">\n      <g>\n       <use style=\"stroke:#000000;stroke-width:0.8;\" x=\"233.653595\" xlink:href=\"#m12e0b210da\" y=\"348.478125\"/>\n      </g>\n     </g>\n     <g id=\"text_32\">\n      <!-- HELENA_RT#LINE/I-Jockey -->\n      <g transform=\"translate(236.273907 486.635937)rotate(-90)scale(0.1 -0.1)\">\n       <use xlink:href=\"#DejaVuSans-72\"/>\n       <use x=\"75.195312\" xlink:href=\"#DejaVuSans-69\"/>\n       <use x=\"138.378906\" xlink:href=\"#DejaVuSans-76\"/>\n       <use x=\"194.091797\" xlink:href=\"#DejaVuSans-69\"/>\n       <use x=\"257.275391\" xlink:href=\"#DejaVuSans-78\"/>\n       <use x=\"332.080078\" xlink:href=\"#DejaVuSans-65\"/>\n       <use x=\"400.488281\" xlink:href=\"#DejaVuSans-95\"/>\n       <use x=\"450.488281\" xlink:href=\"#DejaVuSans-82\"/>\n       <use x=\"519.861328\" xlink:href=\"#DejaVuSans-84\"/>\n       <use x=\"580.945312\" xlink:href=\"#DejaVuSans-35\"/>\n       <use x=\"664.734375\" xlink:href=\"#DejaVuSans-76\"/>\n       <use x=\"720.447266\" xlink:href=\"#DejaVuSans-73\"/>\n       <use x=\"749.939453\" xlink:href=\"#DejaVuSans-78\"/>\n       <use x=\"824.744141\" xlink:href=\"#DejaVuSans-69\"/>\n       <use x=\"887.927734\" xlink:href=\"#DejaVuSans-47\"/>\n       <use x=\"921.619141\" xlink:href=\"#DejaVuSans-73\"/>\n       <use x=\"951.111328\" xlink:href=\"#DejaVuSans-45\"/>\n       <use x=\"987.273438\" xlink:href=\"#DejaVuSans-74\"/>\n       <use x=\"1016.765625\" xlink:href=\"#DejaVuSans-111\"/>\n       <use x=\"1077.947266\" xlink:href=\"#DejaVuSans-99\"/>\n       <use x=\"1132.927734\" xlink:href=\"#DejaVuSans-107\"/>\n       <use x=\"1190.791016\" xlink:href=\"#DejaVuSans-101\"/>\n       <use x=\"1252.314453\" xlink:href=\"#DejaVuSans-121\"/>\n      </g>\n     </g>\n    </g>\n    <g id=\"xtick_158\">\n     <g id=\"line2d_164\">\n      <g>\n       <use style=\"stroke:#000000;stroke-width:0.8;\" x=\"242.044572\" xlink:href=\"#m12e0b210da\" y=\"348.478125\"/>\n      </g>\n     </g>\n     <g id=\"text_33\">\n      <!-- Helitron1_DM#RC/Helitron -->\n      <g transform=\"translate(244.664885 488.26875)rotate(-90)scale(0.1 -0.1)\">\n       <use xlink:href=\"#DejaVuSans-72\"/>\n       <use x=\"75.195312\" xlink:href=\"#DejaVuSans-101\"/>\n       <use x=\"136.71875\" xlink:href=\"#DejaVuSans-108\"/>\n       <use x=\"164.501953\" xlink:href=\"#DejaVuSans-105\"/>\n       <use x=\"192.285156\" xlink:href=\"#DejaVuSans-116\"/>\n       <use x=\"231.494141\" xlink:href=\"#DejaVuSans-114\"/>\n       <use x=\"272.576172\" xlink:href=\"#DejaVuSans-111\"/>\n       <use x=\"333.757812\" xlink:href=\"#DejaVuSans-110\"/>\n       <use x=\"397.136719\" xlink:href=\"#DejaVuSans-49\"/>\n       <use x=\"460.759766\" xlink:href=\"#DejaVuSans-95\"/>\n       <use x=\"510.759766\" xlink:href=\"#DejaVuSans-68\"/>\n       <use x=\"587.761719\" xlink:href=\"#DejaVuSans-77\"/>\n       <use x=\"674.041016\" xlink:href=\"#DejaVuSans-35\"/>\n       <use x=\"757.830078\" xlink:href=\"#DejaVuSans-82\"/>\n       <use x=\"827.234375\" xlink:href=\"#DejaVuSans-67\"/>\n       <use x=\"897.058594\" xlink:href=\"#DejaVuSans-47\"/>\n       <use x=\"930.75\" xlink:href=\"#DejaVuSans-72\"/>\n       <use x=\"1005.945312\" xlink:href=\"#DejaVuSans-101\"/>\n       <use x=\"1067.46875\" xlink:href=\"#DejaVuSans-108\"/>\n       <use x=\"1095.251953\" xlink:href=\"#DejaVuSans-105\"/>\n       <use x=\"1123.035156\" xlink:href=\"#DejaVuSans-116\"/>\n       <use x=\"1162.244141\" xlink:href=\"#DejaVuSans-114\"/>\n       <use x=\"1203.326172\" xlink:href=\"#DejaVuSans-111\"/>\n       <use x=\"1264.507812\" xlink:href=\"#DejaVuSans-110\"/>\n      </g>\n     </g>\n    </g>\n    <g id=\"xtick_159\">\n     <g id=\"line2d_165\">\n      <g>\n       <use style=\"stroke:#000000;stroke-width:0.8;\" x=\"250.43555\" xlink:href=\"#m12e0b210da\" y=\"348.478125\"/>\n      </g>\n     </g>\n     <g id=\"text_34\">\n      <!-- HETA#LINE/I-Jockey -->\n      <g transform=\"translate(253.194925 455.315625)rotate(-90)scale(0.1 -0.1)\">\n       <use xlink:href=\"#DejaVuSans-72\"/>\n       <use x=\"75.195312\" xlink:href=\"#DejaVuSans-69\"/>\n       <use x=\"138.378906\" xlink:href=\"#DejaVuSans-84\"/>\n       <use x=\"199.353516\" xlink:href=\"#DejaVuSans-65\"/>\n       <use x=\"267.761719\" xlink:href=\"#DejaVuSans-35\"/>\n       <use x=\"351.550781\" xlink:href=\"#DejaVuSans-76\"/>\n       <use x=\"407.263672\" xlink:href=\"#DejaVuSans-73\"/>\n       <use x=\"436.755859\" xlink:href=\"#DejaVuSans-78\"/>\n       <use x=\"511.560547\" xlink:href=\"#DejaVuSans-69\"/>\n       <use x=\"574.744141\" xlink:href=\"#DejaVuSans-47\"/>\n       <use x=\"608.435547\" xlink:href=\"#DejaVuSans-73\"/>\n       <use x=\"637.927734\" xlink:href=\"#DejaVuSans-45\"/>\n       <use x=\"674.089844\" xlink:href=\"#DejaVuSans-74\"/>\n       <use x=\"703.582031\" xlink:href=\"#DejaVuSans-111\"/>\n       <use x=\"764.763672\" xlink:href=\"#DejaVuSans-99\"/>\n       <use x=\"819.744141\" xlink:href=\"#DejaVuSans-107\"/>\n       <use x=\"877.607422\" xlink:href=\"#DejaVuSans-101\"/>\n       <use x=\"939.130859\" xlink:href=\"#DejaVuSans-121\"/>\n      </g>\n     </g>\n    </g>\n    <g id=\"xtick_160\">\n     <g id=\"line2d_166\">\n      <g>\n       <use style=\"stroke:#000000;stroke-width:0.8;\" x=\"258.826527\" xlink:href=\"#m12e0b210da\" y=\"348.478125\"/>\n      </g>\n     </g>\n     <g id=\"text_35\">\n      <!-- HMSBEAGLE_I#LTR/Gypsy -->\n      <g transform=\"translate(261.358559 487.082812)rotate(-90)scale(0.1 -0.1)\">\n       <use xlink:href=\"#DejaVuSans-72\"/>\n       <use x=\"75.195312\" xlink:href=\"#DejaVuSans-77\"/>\n       <use x=\"161.474609\" xlink:href=\"#DejaVuSans-83\"/>\n       <use x=\"224.951172\" xlink:href=\"#DejaVuSans-66\"/>\n       <use x=\"293.554688\" xlink:href=\"#DejaVuSans-69\"/>\n       <use x=\"356.738281\" xlink:href=\"#DejaVuSans-65\"/>\n       <use x=\"425.130859\" xlink:href=\"#DejaVuSans-71\"/>\n       <use x=\"502.621094\" xlink:href=\"#DejaVuSans-76\"/>\n       <use x=\"558.333984\" xlink:href=\"#DejaVuSans-69\"/>\n       <use x=\"621.517578\" xlink:href=\"#DejaVuSans-95\"/>\n       <use x=\"671.517578\" xlink:href=\"#DejaVuSans-73\"/>\n       <use x=\"701.009766\" xlink:href=\"#DejaVuSans-35\"/>\n       <use x=\"784.798828\" xlink:href=\"#DejaVuSans-76\"/>\n       <use x=\"840.308594\" xlink:href=\"#DejaVuSans-84\"/>\n       <use x=\"901.392578\" xlink:href=\"#DejaVuSans-82\"/>\n       <use x=\"970.875\" xlink:href=\"#DejaVuSans-47\"/>\n       <use x=\"1004.566406\" xlink:href=\"#DejaVuSans-71\"/>\n       <use x=\"1082.056641\" xlink:href=\"#DejaVuSans-121\"/>\n       <use x=\"1141.236328\" xlink:href=\"#DejaVuSans-112\"/>\n       <use x=\"1204.712891\" xlink:href=\"#DejaVuSans-115\"/>\n       <use x=\"1256.8125\" xlink:href=\"#DejaVuSans-121\"/>\n      </g>\n     </g>\n    </g>\n    <g id=\"xtick_161\">\n     <g id=\"line2d_167\">\n      <g>\n       <use style=\"stroke:#000000;stroke-width:0.8;\" x=\"267.217505\" xlink:href=\"#m12e0b210da\" y=\"348.478125\"/>\n      </g>\n     </g>\n     <g id=\"text_36\">\n      <!-- HOBO#DNA/hAT-hobo -->\n      <defs>\n       <path d=\"M 54.890625 33.015625 \nL 54.890625 0 \nL 45.90625 0 \nL 45.90625 32.71875 \nQ 45.90625 40.484375 42.875 44.328125 \nQ 39.84375 48.1875 33.796875 48.1875 \nQ 26.515625 48.1875 22.3125 43.546875 \nQ 18.109375 38.921875 18.109375 30.90625 \nL 18.109375 0 \nL 9.078125 0 \nL 9.078125 75.984375 \nL 18.109375 75.984375 \nL 18.109375 46.1875 \nQ 21.34375 51.125 25.703125 53.5625 \nQ 30.078125 56 35.796875 56 \nQ 45.21875 56 50.046875 50.171875 \nQ 54.890625 44.34375 54.890625 33.015625 \nz\n\" id=\"DejaVuSans-104\"/>\n       <path d=\"M 48.6875 27.296875 \nQ 48.6875 37.203125 44.609375 42.84375 \nQ 40.53125 48.484375 33.40625 48.484375 \nQ 26.265625 48.484375 22.1875 42.84375 \nQ 18.109375 37.203125 18.109375 27.296875 \nQ 18.109375 17.390625 22.1875 11.75 \nQ 26.265625 6.109375 33.40625 6.109375 \nQ 40.53125 6.109375 44.609375 11.75 \nQ 48.6875 17.390625 48.6875 27.296875 \nz\nM 18.109375 46.390625 \nQ 20.953125 51.265625 25.265625 53.625 \nQ 29.59375 56 35.59375 56 \nQ 45.5625 56 51.78125 48.09375 \nQ 58.015625 40.1875 58.015625 27.296875 \nQ 58.015625 14.40625 51.78125 6.484375 \nQ 45.5625 -1.421875 35.59375 -1.421875 \nQ 29.59375 -1.421875 25.265625 0.953125 \nQ 20.953125 3.328125 18.109375 8.203125 \nL 18.109375 0 \nL 9.078125 0 \nL 9.078125 75.984375 \nL 18.109375 75.984375 \nz\n\" id=\"DejaVuSans-98\"/>\n      </defs>\n      <g transform=\"translate(269.97688 467.164062)rotate(-90)scale(0.1 -0.1)\">\n       <use xlink:href=\"#DejaVuSans-72\"/>\n       <use x=\"75.195312\" xlink:href=\"#DejaVuSans-79\"/>\n       <use x=\"153.90625\" xlink:href=\"#DejaVuSans-66\"/>\n       <use x=\"222.494141\" xlink:href=\"#DejaVuSans-79\"/>\n       <use x=\"301.205078\" xlink:href=\"#DejaVuSans-35\"/>\n       <use x=\"384.994141\" xlink:href=\"#DejaVuSans-68\"/>\n       <use x=\"461.996094\" xlink:href=\"#DejaVuSans-78\"/>\n       <use x=\"536.800781\" xlink:href=\"#DejaVuSans-65\"/>\n       <use x=\"605.208984\" xlink:href=\"#DejaVuSans-47\"/>\n       <use x=\"638.900391\" xlink:href=\"#DejaVuSans-104\"/>\n       <use x=\"702.279297\" xlink:href=\"#DejaVuSans-65\"/>\n       <use x=\"770.578125\" xlink:href=\"#DejaVuSans-84\"/>\n       <use x=\"831.521484\" xlink:href=\"#DejaVuSans-45\"/>\n       <use x=\"867.605469\" xlink:href=\"#DejaVuSans-104\"/>\n       <use x=\"930.984375\" xlink:href=\"#DejaVuSans-111\"/>\n       <use x=\"992.166016\" xlink:href=\"#DejaVuSans-98\"/>\n       <use x=\"1055.642578\" xlink:href=\"#DejaVuSans-111\"/>\n      </g>\n     </g>\n    </g>\n    <g id=\"xtick_162\">\n     <g id=\"line2d_168\">\n      <g>\n       <use style=\"stroke:#000000;stroke-width:0.8;\" x=\"275.608482\" xlink:href=\"#m12e0b210da\" y=\"348.478125\"/>\n      </g>\n     </g>\n     <g id=\"text_37\">\n      <!-- I_DM#LINE/I -->\n      <g transform=\"translate(278.089732 416.776562)rotate(-90)scale(0.1 -0.1)\">\n       <use xlink:href=\"#DejaVuSans-73\"/>\n       <use x=\"29.492188\" xlink:href=\"#DejaVuSans-95\"/>\n       <use x=\"79.492188\" xlink:href=\"#DejaVuSans-68\"/>\n       <use x=\"156.494141\" xlink:href=\"#DejaVuSans-77\"/>\n       <use x=\"242.773438\" xlink:href=\"#DejaVuSans-35\"/>\n       <use x=\"326.5625\" xlink:href=\"#DejaVuSans-76\"/>\n       <use x=\"382.275391\" xlink:href=\"#DejaVuSans-73\"/>\n       <use x=\"411.767578\" xlink:href=\"#DejaVuSans-78\"/>\n       <use x=\"486.572266\" xlink:href=\"#DejaVuSans-69\"/>\n       <use x=\"549.755859\" xlink:href=\"#DejaVuSans-47\"/>\n       <use x=\"583.447266\" xlink:href=\"#DejaVuSans-73\"/>\n      </g>\n     </g>\n    </g>\n    <g id=\"xtick_163\">\n     <g id=\"line2d_169\">\n      <g>\n       <use style=\"stroke:#000000;stroke-width:0.8;\" x=\"283.99946\" xlink:href=\"#m12e0b210da\" y=\"348.478125\"/>\n      </g>\n     </g>\n     <g id=\"text_38\">\n      <!-- IVK_DM#LINE/I -->\n      <defs>\n       <path d=\"M 28.609375 0 \nL 0.78125 72.90625 \nL 11.078125 72.90625 \nL 34.1875 11.53125 \nL 57.328125 72.90625 \nL 67.578125 72.90625 \nL 39.796875 0 \nz\n\" id=\"DejaVuSans-86\"/>\n       <path d=\"M 9.8125 72.90625 \nL 19.671875 72.90625 \nL 19.671875 42.09375 \nL 52.390625 72.90625 \nL 65.09375 72.90625 \nL 28.90625 38.921875 \nL 67.671875 0 \nL 54.6875 0 \nL 19.671875 35.109375 \nL 19.671875 0 \nL 9.8125 0 \nz\n\" id=\"DejaVuSans-75\"/>\n      </defs>\n      <g transform=\"translate(286.48071 430.175)rotate(-90)scale(0.1 -0.1)\">\n       <use xlink:href=\"#DejaVuSans-73\"/>\n       <use x=\"29.492188\" xlink:href=\"#DejaVuSans-86\"/>\n       <use x=\"97.900391\" xlink:href=\"#DejaVuSans-75\"/>\n       <use x=\"163.476562\" xlink:href=\"#DejaVuSans-95\"/>\n       <use x=\"213.476562\" xlink:href=\"#DejaVuSans-68\"/>\n       <use x=\"290.478516\" xlink:href=\"#DejaVuSans-77\"/>\n       <use x=\"376.757812\" xlink:href=\"#DejaVuSans-35\"/>\n       <use x=\"460.546875\" xlink:href=\"#DejaVuSans-76\"/>\n       <use x=\"516.259766\" xlink:href=\"#DejaVuSans-73\"/>\n       <use x=\"545.751953\" xlink:href=\"#DejaVuSans-78\"/>\n       <use x=\"620.556641\" xlink:href=\"#DejaVuSans-69\"/>\n       <use x=\"683.740234\" xlink:href=\"#DejaVuSans-47\"/>\n       <use x=\"717.431641\" xlink:href=\"#DejaVuSans-73\"/>\n      </g>\n     </g>\n    </g>\n    <g id=\"xtick_164\">\n     <g id=\"line2d_170\">\n      <g>\n       <use style=\"stroke:#000000;stroke-width:0.8;\" x=\"292.390437\" xlink:href=\"#m12e0b210da\" y=\"348.478125\"/>\n      </g>\n     </g>\n     <g id=\"text_39\">\n      <!-- LINEJ1_DM#LINE/I-Jockey -->\n      <g transform=\"translate(295.01075 481.501562)rotate(-90)scale(0.1 -0.1)\">\n       <use xlink:href=\"#DejaVuSans-76\"/>\n       <use x=\"55.712891\" xlink:href=\"#DejaVuSans-73\"/>\n       <use x=\"85.205078\" xlink:href=\"#DejaVuSans-78\"/>\n       <use x=\"160.009766\" xlink:href=\"#DejaVuSans-69\"/>\n       <use x=\"223.193359\" xlink:href=\"#DejaVuSans-74\"/>\n       <use x=\"252.685547\" xlink:href=\"#DejaVuSans-49\"/>\n       <use x=\"316.308594\" xlink:href=\"#DejaVuSans-95\"/>\n       <use x=\"366.308594\" xlink:href=\"#DejaVuSans-68\"/>\n       <use x=\"443.310547\" xlink:href=\"#DejaVuSans-77\"/>\n       <use x=\"529.589844\" xlink:href=\"#DejaVuSans-35\"/>\n       <use x=\"613.378906\" xlink:href=\"#DejaVuSans-76\"/>\n       <use x=\"669.091797\" xlink:href=\"#DejaVuSans-73\"/>\n       <use x=\"698.583984\" xlink:href=\"#DejaVuSans-78\"/>\n       <use x=\"773.388672\" xlink:href=\"#DejaVuSans-69\"/>\n       <use x=\"836.572266\" xlink:href=\"#DejaVuSans-47\"/>\n       <use x=\"870.263672\" xlink:href=\"#DejaVuSans-73\"/>\n       <use x=\"899.755859\" xlink:href=\"#DejaVuSans-45\"/>\n       <use x=\"935.917969\" xlink:href=\"#DejaVuSans-74\"/>\n       <use x=\"965.410156\" xlink:href=\"#DejaVuSans-111\"/>\n       <use x=\"1026.591797\" xlink:href=\"#DejaVuSans-99\"/>\n       <use x=\"1081.572266\" xlink:href=\"#DejaVuSans-107\"/>\n       <use x=\"1139.435547\" xlink:href=\"#DejaVuSans-101\"/>\n       <use x=\"1200.958984\" xlink:href=\"#DejaVuSans-121\"/>\n      </g>\n     </g>\n    </g>\n    <g id=\"xtick_165\">\n     <g id=\"line2d_171\">\n      <g>\n       <use style=\"stroke:#000000;stroke-width:0.8;\" x=\"300.781414\" xlink:href=\"#m12e0b210da\" y=\"348.478125\"/>\n      </g>\n     </g>\n     <g id=\"text_40\">\n      <!-- M4DM#DNA/CMC-Transib -->\n      <g transform=\"translate(303.540789 483.753125)rotate(-90)scale(0.1 -0.1)\">\n       <use xlink:href=\"#DejaVuSans-77\"/>\n       <use x=\"86.279297\" xlink:href=\"#DejaVuSans-52\"/>\n       <use x=\"149.902344\" xlink:href=\"#DejaVuSans-68\"/>\n       <use x=\"226.904297\" xlink:href=\"#DejaVuSans-77\"/>\n       <use x=\"313.183594\" xlink:href=\"#DejaVuSans-35\"/>\n       <use x=\"396.972656\" xlink:href=\"#DejaVuSans-68\"/>\n       <use x=\"473.974609\" xlink:href=\"#DejaVuSans-78\"/>\n       <use x=\"548.779297\" xlink:href=\"#DejaVuSans-65\"/>\n       <use x=\"617.1875\" xlink:href=\"#DejaVuSans-47\"/>\n       <use x=\"650.878906\" xlink:href=\"#DejaVuSans-67\"/>\n       <use x=\"720.703125\" xlink:href=\"#DejaVuSans-77\"/>\n       <use x=\"806.982422\" xlink:href=\"#DejaVuSans-67\"/>\n       <use x=\"876.806641\" xlink:href=\"#DejaVuSans-45\"/>\n       <use x=\"912.75\" xlink:href=\"#DejaVuSans-84\"/>\n       <use x=\"973.615234\" xlink:href=\"#DejaVuSans-114\"/>\n       <use x=\"1014.728516\" xlink:href=\"#DejaVuSans-97\"/>\n       <use x=\"1076.007812\" xlink:href=\"#DejaVuSans-110\"/>\n       <use x=\"1139.386719\" xlink:href=\"#DejaVuSans-115\"/>\n       <use x=\"1191.486328\" xlink:href=\"#DejaVuSans-105\"/>\n       <use x=\"1219.269531\" xlink:href=\"#DejaVuSans-98\"/>\n      </g>\n     </g>\n    </g>\n    <g id=\"xtick_166\">\n     <g id=\"line2d_172\">\n      <g>\n       <use style=\"stroke:#000000;stroke-width:0.8;\" x=\"309.172392\" xlink:href=\"#m12e0b210da\" y=\"348.478125\"/>\n      </g>\n     </g>\n     <g id=\"text_41\">\n      <!-- Mariner2_DM#DNA/TcMar-Tc1 -->\n      <g transform=\"translate(311.792704 507.159375)rotate(-90)scale(0.1 -0.1)\">\n       <use xlink:href=\"#DejaVuSans-77\"/>\n       <use x=\"86.279297\" xlink:href=\"#DejaVuSans-97\"/>\n       <use x=\"147.558594\" xlink:href=\"#DejaVuSans-114\"/>\n       <use x=\"188.671875\" xlink:href=\"#DejaVuSans-105\"/>\n       <use x=\"216.455078\" xlink:href=\"#DejaVuSans-110\"/>\n       <use x=\"279.833984\" xlink:href=\"#DejaVuSans-101\"/>\n       <use x=\"341.357422\" xlink:href=\"#DejaVuSans-114\"/>\n       <use x=\"382.470703\" xlink:href=\"#DejaVuSans-50\"/>\n       <use x=\"446.09375\" xlink:href=\"#DejaVuSans-95\"/>\n       <use x=\"496.09375\" xlink:href=\"#DejaVuSans-68\"/>\n       <use x=\"573.095703\" xlink:href=\"#DejaVuSans-77\"/>\n       <use x=\"659.375\" xlink:href=\"#DejaVuSans-35\"/>\n       <use x=\"743.164062\" xlink:href=\"#DejaVuSans-68\"/>\n       <use x=\"820.166016\" xlink:href=\"#DejaVuSans-78\"/>\n       <use x=\"894.970703\" xlink:href=\"#DejaVuSans-65\"/>\n       <use x=\"963.378906\" xlink:href=\"#DejaVuSans-47\"/>\n       <use x=\"997.070312\" xlink:href=\"#DejaVuSans-84\"/>\n       <use x=\"1057.888672\" xlink:href=\"#DejaVuSans-99\"/>\n       <use x=\"1112.869141\" xlink:href=\"#DejaVuSans-77\"/>\n       <use x=\"1199.148438\" xlink:href=\"#DejaVuSans-97\"/>\n       <use x=\"1260.427734\" xlink:href=\"#DejaVuSans-114\"/>\n       <use x=\"1301.447266\" xlink:href=\"#DejaVuSans-45\"/>\n       <use x=\"1337.390625\" xlink:href=\"#DejaVuSans-84\"/>\n       <use x=\"1398.208984\" xlink:href=\"#DejaVuSans-99\"/>\n       <use x=\"1453.189453\" xlink:href=\"#DejaVuSans-49\"/>\n      </g>\n     </g>\n    </g>\n    <g id=\"xtick_167\">\n     <g id=\"line2d_173\">\n      <g>\n       <use style=\"stroke:#000000;stroke-width:0.8;\" x=\"317.563369\" xlink:href=\"#m12e0b210da\" y=\"348.478125\"/>\n      </g>\n     </g>\n     <g id=\"text_42\">\n      <!-- NTS_DM#Satellite/Unknown -->\n      <defs>\n       <path d=\"M 8.6875 72.90625 \nL 18.609375 72.90625 \nL 18.609375 28.609375 \nQ 18.609375 16.890625 22.84375 11.734375 \nQ 27.09375 6.59375 36.625 6.59375 \nQ 46.09375 6.59375 50.34375 11.734375 \nQ 54.59375 16.890625 54.59375 28.609375 \nL 54.59375 72.90625 \nL 64.5 72.90625 \nL 64.5 27.390625 \nQ 64.5 13.140625 57.4375 5.859375 \nQ 50.390625 -1.421875 36.625 -1.421875 \nQ 22.796875 -1.421875 15.734375 5.859375 \nQ 8.6875 13.140625 8.6875 27.390625 \nz\n\" id=\"DejaVuSans-85\"/>\n       <path d=\"M 4.203125 54.6875 \nL 13.1875 54.6875 \nL 24.421875 12.015625 \nL 35.59375 54.6875 \nL 46.1875 54.6875 \nL 57.421875 12.015625 \nL 68.609375 54.6875 \nL 77.59375 54.6875 \nL 63.28125 0 \nL 52.6875 0 \nL 40.921875 44.828125 \nL 29.109375 0 \nL 18.5 0 \nz\n\" id=\"DejaVuSans-119\"/>\n      </defs>\n      <g transform=\"translate(320.183682 495.86875)rotate(-90)scale(0.1 -0.1)\">\n       <use xlink:href=\"#DejaVuSans-78\"/>\n       <use x=\"74.804688\" xlink:href=\"#DejaVuSans-84\"/>\n       <use x=\"135.888672\" xlink:href=\"#DejaVuSans-83\"/>\n       <use x=\"199.365234\" xlink:href=\"#DejaVuSans-95\"/>\n       <use x=\"249.365234\" xlink:href=\"#DejaVuSans-68\"/>\n       <use x=\"326.367188\" xlink:href=\"#DejaVuSans-77\"/>\n       <use x=\"412.646484\" xlink:href=\"#DejaVuSans-35\"/>\n       <use x=\"496.435547\" xlink:href=\"#DejaVuSans-83\"/>\n       <use x=\"559.912109\" xlink:href=\"#DejaVuSans-97\"/>\n       <use x=\"621.191406\" xlink:href=\"#DejaVuSans-116\"/>\n       <use x=\"660.400391\" xlink:href=\"#DejaVuSans-101\"/>\n       <use x=\"721.923828\" xlink:href=\"#DejaVuSans-108\"/>\n       <use x=\"749.707031\" xlink:href=\"#DejaVuSans-108\"/>\n       <use x=\"777.490234\" xlink:href=\"#DejaVuSans-105\"/>\n       <use x=\"805.273438\" xlink:href=\"#DejaVuSans-116\"/>\n       <use x=\"844.482422\" xlink:href=\"#DejaVuSans-101\"/>\n       <use x=\"906.005859\" xlink:href=\"#DejaVuSans-47\"/>\n       <use x=\"939.697266\" xlink:href=\"#DejaVuSans-85\"/>\n       <use x=\"1012.890625\" xlink:href=\"#DejaVuSans-110\"/>\n       <use x=\"1076.269531\" xlink:href=\"#DejaVuSans-107\"/>\n       <use x=\"1134.179688\" xlink:href=\"#DejaVuSans-110\"/>\n       <use x=\"1197.558594\" xlink:href=\"#DejaVuSans-111\"/>\n       <use x=\"1258.740234\" xlink:href=\"#DejaVuSans-119\"/>\n       <use x=\"1340.527344\" xlink:href=\"#DejaVuSans-110\"/>\n      </g>\n     </g>\n    </g>\n    <g id=\"xtick_168\">\n     <g id=\"line2d_174\">\n      <g>\n       <use style=\"stroke:#000000;stroke-width:0.8;\" x=\"325.954347\" xlink:href=\"#m12e0b210da\" y=\"348.478125\"/>\n      </g>\n     </g>\n     <g id=\"text_43\">\n      <!-- PLACW_DM#DNA/P -->\n      <defs>\n       <path d=\"M 3.328125 72.90625 \nL 13.28125 72.90625 \nL 28.609375 11.28125 \nL 43.890625 72.90625 \nL 54.984375 72.90625 \nL 70.3125 11.28125 \nL 85.59375 72.90625 \nL 95.609375 72.90625 \nL 77.296875 0 \nL 64.890625 0 \nL 49.515625 63.28125 \nL 33.984375 0 \nL 21.578125 0 \nz\n\" id=\"DejaVuSans-87\"/>\n      </defs>\n      <g transform=\"translate(328.486378 451.920312)rotate(-90)scale(0.1 -0.1)\">\n       <use xlink:href=\"#DejaVuSans-80\"/>\n       <use x=\"60.302734\" xlink:href=\"#DejaVuSans-76\"/>\n       <use x=\"116.046875\" xlink:href=\"#DejaVuSans-65\"/>\n       <use x=\"184.439453\" xlink:href=\"#DejaVuSans-67\"/>\n       <use x=\"254.263672\" xlink:href=\"#DejaVuSans-87\"/>\n       <use x=\"353.140625\" xlink:href=\"#DejaVuSans-95\"/>\n       <use x=\"403.140625\" xlink:href=\"#DejaVuSans-68\"/>\n       <use x=\"480.142578\" xlink:href=\"#DejaVuSans-77\"/>\n       <use x=\"566.421875\" xlink:href=\"#DejaVuSans-35\"/>\n       <use x=\"650.210938\" xlink:href=\"#DejaVuSans-68\"/>\n       <use x=\"727.212891\" xlink:href=\"#DejaVuSans-78\"/>\n       <use x=\"802.017578\" xlink:href=\"#DejaVuSans-65\"/>\n       <use x=\"870.425781\" xlink:href=\"#DejaVuSans-47\"/>\n       <use x=\"904.117188\" xlink:href=\"#DejaVuSans-80\"/>\n      </g>\n     </g>\n    </g>\n    <g id=\"xtick_169\">\n     <g id=\"line2d_175\">\n      <g>\n       <use style=\"stroke:#000000;stroke-width:0.8;\" x=\"334.345324\" xlink:href=\"#m12e0b210da\" y=\"348.478125\"/>\n      </g>\n     </g>\n     <g id=\"text_44\">\n      <!-- POGO#DNA/TcMar-Pogo -->\n      <g transform=\"translate(337.104699 477.426562)rotate(-90)scale(0.1 -0.1)\">\n       <use xlink:href=\"#DejaVuSans-80\"/>\n       <use x=\"60.302734\" xlink:href=\"#DejaVuSans-79\"/>\n       <use x=\"139.013672\" xlink:href=\"#DejaVuSans-71\"/>\n       <use x=\"216.503906\" xlink:href=\"#DejaVuSans-79\"/>\n       <use x=\"295.214844\" xlink:href=\"#DejaVuSans-35\"/>\n       <use x=\"379.003906\" xlink:href=\"#DejaVuSans-68\"/>\n       <use x=\"456.005859\" xlink:href=\"#DejaVuSans-78\"/>\n       <use x=\"530.810547\" xlink:href=\"#DejaVuSans-65\"/>\n       <use x=\"599.21875\" xlink:href=\"#DejaVuSans-47\"/>\n       <use x=\"632.910156\" xlink:href=\"#DejaVuSans-84\"/>\n       <use x=\"693.728516\" xlink:href=\"#DejaVuSans-99\"/>\n       <use x=\"748.708984\" xlink:href=\"#DejaVuSans-77\"/>\n       <use x=\"834.988281\" xlink:href=\"#DejaVuSans-97\"/>\n       <use x=\"896.267578\" xlink:href=\"#DejaVuSans-114\"/>\n       <use x=\"937.287109\" xlink:href=\"#DejaVuSans-45\"/>\n       <use x=\"973.371094\" xlink:href=\"#DejaVuSans-80\"/>\n       <use x=\"1033.626953\" xlink:href=\"#DejaVuSans-111\"/>\n       <use x=\"1094.808594\" xlink:href=\"#DejaVuSans-103\"/>\n       <use x=\"1158.285156\" xlink:href=\"#DejaVuSans-111\"/>\n      </g>\n     </g>\n    </g>\n    <g id=\"xtick_170\">\n     <g id=\"line2d_176\">\n      <g>\n       <use style=\"stroke:#000000;stroke-width:0.8;\" x=\"342.736302\" xlink:href=\"#m12e0b210da\" y=\"348.478125\"/>\n      </g>\n     </g>\n     <g id=\"text_45\">\n      <!-- POGON1#DNA/TcMar-Pogo -->\n      <g transform=\"translate(345.495677 491.270312)rotate(-90)scale(0.1 -0.1)\">\n       <use xlink:href=\"#DejaVuSans-80\"/>\n       <use x=\"60.302734\" xlink:href=\"#DejaVuSans-79\"/>\n       <use x=\"139.013672\" xlink:href=\"#DejaVuSans-71\"/>\n       <use x=\"216.503906\" xlink:href=\"#DejaVuSans-79\"/>\n       <use x=\"295.214844\" xlink:href=\"#DejaVuSans-78\"/>\n       <use x=\"370.019531\" xlink:href=\"#DejaVuSans-49\"/>\n       <use x=\"433.642578\" xlink:href=\"#DejaVuSans-35\"/>\n       <use x=\"517.431641\" xlink:href=\"#DejaVuSans-68\"/>\n       <use x=\"594.433594\" xlink:href=\"#DejaVuSans-78\"/>\n       <use x=\"669.238281\" xlink:href=\"#DejaVuSans-65\"/>\n       <use x=\"737.646484\" xlink:href=\"#DejaVuSans-47\"/>\n       <use x=\"771.337891\" xlink:href=\"#DejaVuSans-84\"/>\n       <use x=\"832.15625\" xlink:href=\"#DejaVuSans-99\"/>\n       <use x=\"887.136719\" xlink:href=\"#DejaVuSans-77\"/>\n       <use x=\"973.416016\" xlink:href=\"#DejaVuSans-97\"/>\n       <use x=\"1034.695312\" xlink:href=\"#DejaVuSans-114\"/>\n       <use x=\"1075.714844\" xlink:href=\"#DejaVuSans-45\"/>\n       <use x=\"1111.798828\" xlink:href=\"#DejaVuSans-80\"/>\n       <use x=\"1172.054688\" xlink:href=\"#DejaVuSans-111\"/>\n       <use x=\"1233.236328\" xlink:href=\"#DejaVuSans-103\"/>\n       <use x=\"1296.712891\" xlink:href=\"#DejaVuSans-111\"/>\n      </g>\n     </g>\n    </g>\n    <g id=\"xtick_171\">\n     <g id=\"line2d_177\">\n      <g>\n       <use style=\"stroke:#000000;stroke-width:0.8;\" x=\"351.127279\" xlink:href=\"#m12e0b210da\" y=\"348.478125\"/>\n      </g>\n     </g>\n     <g id=\"text_46\">\n      <!-- PROTOP#DNA/P -->\n      <g transform=\"translate(353.886654 436.1375)rotate(-90)scale(0.1 -0.1)\">\n       <use xlink:href=\"#DejaVuSans-80\"/>\n       <use x=\"60.302734\" xlink:href=\"#DejaVuSans-82\"/>\n       <use x=\"129.785156\" xlink:href=\"#DejaVuSans-79\"/>\n       <use x=\"208.496094\" xlink:href=\"#DejaVuSans-84\"/>\n       <use x=\"269.580078\" xlink:href=\"#DejaVuSans-79\"/>\n       <use x=\"348.291016\" xlink:href=\"#DejaVuSans-80\"/>\n       <use x=\"408.59375\" xlink:href=\"#DejaVuSans-35\"/>\n       <use x=\"492.382812\" xlink:href=\"#DejaVuSans-68\"/>\n       <use x=\"569.384766\" xlink:href=\"#DejaVuSans-78\"/>\n       <use x=\"644.189453\" xlink:href=\"#DejaVuSans-65\"/>\n       <use x=\"712.597656\" xlink:href=\"#DejaVuSans-47\"/>\n       <use x=\"746.289062\" xlink:href=\"#DejaVuSans-80\"/>\n      </g>\n     </g>\n    </g>\n    <g id=\"xtick_172\">\n     <g id=\"line2d_178\">\n      <g>\n       <use style=\"stroke:#000000;stroke-width:0.8;\" x=\"359.518257\" xlink:href=\"#m12e0b210da\" y=\"348.478125\"/>\n      </g>\n     </g>\n     <g id=\"text_47\">\n      <!-- PROTOP_A#DNA/P -->\n      <g transform=\"translate(362.050288 447.978125)rotate(-90)scale(0.1 -0.1)\">\n       <use xlink:href=\"#DejaVuSans-80\"/>\n       <use x=\"60.302734\" xlink:href=\"#DejaVuSans-82\"/>\n       <use x=\"129.785156\" xlink:href=\"#DejaVuSans-79\"/>\n       <use x=\"208.496094\" xlink:href=\"#DejaVuSans-84\"/>\n       <use x=\"269.580078\" xlink:href=\"#DejaVuSans-79\"/>\n       <use x=\"348.291016\" xlink:href=\"#DejaVuSans-80\"/>\n       <use x=\"408.59375\" xlink:href=\"#DejaVuSans-95\"/>\n       <use x=\"458.59375\" xlink:href=\"#DejaVuSans-65\"/>\n       <use x=\"527.001953\" xlink:href=\"#DejaVuSans-35\"/>\n       <use x=\"610.791016\" xlink:href=\"#DejaVuSans-68\"/>\n       <use x=\"687.792969\" xlink:href=\"#DejaVuSans-78\"/>\n       <use x=\"762.597656\" xlink:href=\"#DejaVuSans-65\"/>\n       <use x=\"831.005859\" xlink:href=\"#DejaVuSans-47\"/>\n       <use x=\"864.697266\" xlink:href=\"#DejaVuSans-80\"/>\n      </g>\n     </g>\n    </g>\n    <g id=\"xtick_173\">\n     <g id=\"line2d_179\">\n      <g>\n       <use style=\"stroke:#000000;stroke-width:0.8;\" x=\"367.909234\" xlink:href=\"#m12e0b210da\" y=\"348.478125\"/>\n      </g>\n     </g>\n     <g id=\"text_48\">\n      <!-- PROTOP_B#DNA/P -->\n      <g transform=\"translate(370.441265 447.998437)rotate(-90)scale(0.1 -0.1)\">\n       <use xlink:href=\"#DejaVuSans-80\"/>\n       <use x=\"60.302734\" xlink:href=\"#DejaVuSans-82\"/>\n       <use x=\"129.785156\" xlink:href=\"#DejaVuSans-79\"/>\n       <use x=\"208.496094\" xlink:href=\"#DejaVuSans-84\"/>\n       <use x=\"269.580078\" xlink:href=\"#DejaVuSans-79\"/>\n       <use x=\"348.291016\" xlink:href=\"#DejaVuSans-80\"/>\n       <use x=\"408.59375\" xlink:href=\"#DejaVuSans-95\"/>\n       <use x=\"458.59375\" xlink:href=\"#DejaVuSans-66\"/>\n       <use x=\"527.197266\" xlink:href=\"#DejaVuSans-35\"/>\n       <use x=\"610.986328\" xlink:href=\"#DejaVuSans-68\"/>\n       <use x=\"687.988281\" xlink:href=\"#DejaVuSans-78\"/>\n       <use x=\"762.792969\" xlink:href=\"#DejaVuSans-65\"/>\n       <use x=\"831.201172\" xlink:href=\"#DejaVuSans-47\"/>\n       <use x=\"864.892578\" xlink:href=\"#DejaVuSans-80\"/>\n      </g>\n     </g>\n    </g>\n    <g id=\"xtick_174\">\n     <g id=\"line2d_180\">\n      <g>\n       <use style=\"stroke:#000000;stroke-width:0.8;\" x=\"376.300211\" xlink:href=\"#m12e0b210da\" y=\"348.478125\"/>\n      </g>\n     </g>\n     <g id=\"text_49\">\n      <!-- R1_DM#LINE/R1 -->\n      <g transform=\"translate(378.781461 437.498437)rotate(-90)scale(0.1 -0.1)\">\n       <use xlink:href=\"#DejaVuSans-82\"/>\n       <use x=\"69.482422\" xlink:href=\"#DejaVuSans-49\"/>\n       <use x=\"133.105469\" xlink:href=\"#DejaVuSans-95\"/>\n       <use x=\"183.105469\" xlink:href=\"#DejaVuSans-68\"/>\n       <use x=\"260.107422\" xlink:href=\"#DejaVuSans-77\"/>\n       <use x=\"346.386719\" xlink:href=\"#DejaVuSans-35\"/>\n       <use x=\"430.175781\" xlink:href=\"#DejaVuSans-76\"/>\n       <use x=\"485.888672\" xlink:href=\"#DejaVuSans-73\"/>\n       <use x=\"515.380859\" xlink:href=\"#DejaVuSans-78\"/>\n       <use x=\"590.185547\" xlink:href=\"#DejaVuSans-69\"/>\n       <use x=\"653.369141\" xlink:href=\"#DejaVuSans-47\"/>\n       <use x=\"687.060547\" xlink:href=\"#DejaVuSans-82\"/>\n       <use x=\"756.542969\" xlink:href=\"#DejaVuSans-49\"/>\n      </g>\n     </g>\n    </g>\n    <g id=\"xtick_175\">\n     <g id=\"line2d_181\">\n      <g>\n       <use style=\"stroke:#000000;stroke-width:0.8;\" x=\"384.691189\" xlink:href=\"#m12e0b210da\" y=\"348.478125\"/>\n      </g>\n     </g>\n     <g id=\"text_50\">\n      <!-- SAR_DM#Satellite/Unknown -->\n      <g transform=\"translate(387.311501 496.070312)rotate(-90)scale(0.1 -0.1)\">\n       <use xlink:href=\"#DejaVuSans-83\"/>\n       <use x=\"63.492188\" xlink:href=\"#DejaVuSans-65\"/>\n       <use x=\"131.900391\" xlink:href=\"#DejaVuSans-82\"/>\n       <use x=\"201.382812\" xlink:href=\"#DejaVuSans-95\"/>\n       <use x=\"251.382812\" xlink:href=\"#DejaVuSans-68\"/>\n       <use x=\"328.384766\" xlink:href=\"#DejaVuSans-77\"/>\n       <use x=\"414.664062\" xlink:href=\"#DejaVuSans-35\"/>\n       <use x=\"498.453125\" xlink:href=\"#DejaVuSans-83\"/>\n       <use x=\"561.929688\" xlink:href=\"#DejaVuSans-97\"/>\n       <use x=\"623.208984\" xlink:href=\"#DejaVuSans-116\"/>\n       <use x=\"662.417969\" xlink:href=\"#DejaVuSans-101\"/>\n       <use x=\"723.941406\" xlink:href=\"#DejaVuSans-108\"/>\n       <use x=\"751.724609\" xlink:href=\"#DejaVuSans-108\"/>\n       <use x=\"779.507812\" xlink:href=\"#DejaVuSans-105\"/>\n       <use x=\"807.291016\" xlink:href=\"#DejaVuSans-116\"/>\n       <use x=\"846.5\" xlink:href=\"#DejaVuSans-101\"/>\n       <use x=\"908.023438\" xlink:href=\"#DejaVuSans-47\"/>\n       <use x=\"941.714844\" xlink:href=\"#DejaVuSans-85\"/>\n       <use x=\"1014.908203\" xlink:href=\"#DejaVuSans-110\"/>\n       <use x=\"1078.287109\" xlink:href=\"#DejaVuSans-107\"/>\n       <use x=\"1136.197266\" xlink:href=\"#DejaVuSans-110\"/>\n       <use x=\"1199.576172\" xlink:href=\"#DejaVuSans-111\"/>\n       <use x=\"1260.757812\" xlink:href=\"#DejaVuSans-119\"/>\n       <use x=\"1342.544922\" xlink:href=\"#DejaVuSans-110\"/>\n      </g>\n     </g>\n    </g>\n    <g id=\"xtick_176\">\n     <g id=\"line2d_182\">\n      <g>\n       <use style=\"stroke:#000000;stroke-width:0.8;\" x=\"393.082166\" xlink:href=\"#m12e0b210da\" y=\"348.478125\"/>\n      </g>\n     </g>\n     <g id=\"text_51\">\n      <!-- S_DM#DNA/TcMar-Tc1 -->\n      <g transform=\"translate(395.614198 468.898437)rotate(-90)scale(0.1 -0.1)\">\n       <use xlink:href=\"#DejaVuSans-83\"/>\n       <use x=\"63.476562\" xlink:href=\"#DejaVuSans-95\"/>\n       <use x=\"113.476562\" xlink:href=\"#DejaVuSans-68\"/>\n       <use x=\"190.478516\" xlink:href=\"#DejaVuSans-77\"/>\n       <use x=\"276.757812\" xlink:href=\"#DejaVuSans-35\"/>\n       <use x=\"360.546875\" xlink:href=\"#DejaVuSans-68\"/>\n       <use x=\"437.548828\" xlink:href=\"#DejaVuSans-78\"/>\n       <use x=\"512.353516\" xlink:href=\"#DejaVuSans-65\"/>\n       <use x=\"580.761719\" xlink:href=\"#DejaVuSans-47\"/>\n       <use x=\"614.453125\" xlink:href=\"#DejaVuSans-84\"/>\n       <use x=\"675.271484\" xlink:href=\"#DejaVuSans-99\"/>\n       <use x=\"730.251953\" xlink:href=\"#DejaVuSans-77\"/>\n       <use x=\"816.53125\" xlink:href=\"#DejaVuSans-97\"/>\n       <use x=\"877.810547\" xlink:href=\"#DejaVuSans-114\"/>\n       <use x=\"918.830078\" xlink:href=\"#DejaVuSans-45\"/>\n       <use x=\"954.773438\" xlink:href=\"#DejaVuSans-84\"/>\n       <use x=\"1015.591797\" xlink:href=\"#DejaVuSans-99\"/>\n       <use x=\"1070.572266\" xlink:href=\"#DejaVuSans-49\"/>\n      </g>\n     </g>\n    </g>\n    <g id=\"xtick_177\">\n     <g id=\"line2d_183\">\n      <g>\n       <use style=\"stroke:#000000;stroke-width:0.8;\" x=\"401.473144\" xlink:href=\"#m12e0b210da\" y=\"348.478125\"/>\n      </g>\n     </g>\n     <g id=\"text_52\">\n      <!-- TAHRE#LINE/I-Jockey -->\n      <g transform=\"translate(404.232519 462.264062)rotate(-90)scale(0.1 -0.1)\">\n       <use xlink:href=\"#DejaVuSans-84\"/>\n       <use x=\"60.974609\" xlink:href=\"#DejaVuSans-65\"/>\n       <use x=\"129.382812\" xlink:href=\"#DejaVuSans-72\"/>\n       <use x=\"204.578125\" xlink:href=\"#DejaVuSans-82\"/>\n       <use x=\"274.060547\" xlink:href=\"#DejaVuSans-69\"/>\n       <use x=\"337.244141\" xlink:href=\"#DejaVuSans-35\"/>\n       <use x=\"421.033203\" xlink:href=\"#DejaVuSans-76\"/>\n       <use x=\"476.746094\" xlink:href=\"#DejaVuSans-73\"/>\n       <use x=\"506.238281\" xlink:href=\"#DejaVuSans-78\"/>\n       <use x=\"581.042969\" xlink:href=\"#DejaVuSans-69\"/>\n       <use x=\"644.226562\" xlink:href=\"#DejaVuSans-47\"/>\n       <use x=\"677.917969\" xlink:href=\"#DejaVuSans-73\"/>\n       <use x=\"707.410156\" xlink:href=\"#DejaVuSans-45\"/>\n       <use x=\"743.572266\" xlink:href=\"#DejaVuSans-74\"/>\n       <use x=\"773.064453\" xlink:href=\"#DejaVuSans-111\"/>\n       <use x=\"834.246094\" xlink:href=\"#DejaVuSans-99\"/>\n       <use x=\"889.226562\" xlink:href=\"#DejaVuSans-107\"/>\n       <use x=\"947.089844\" xlink:href=\"#DejaVuSans-101\"/>\n       <use x=\"1008.613281\" xlink:href=\"#DejaVuSans-121\"/>\n      </g>\n     </g>\n    </g>\n    <g id=\"xtick_178\">\n     <g id=\"line2d_184\">\n      <g>\n       <use style=\"stroke:#000000;stroke-width:0.8;\" x=\"409.864121\" xlink:href=\"#m12e0b210da\" y=\"348.478125\"/>\n      </g>\n     </g>\n     <g id=\"text_53\">\n      <!-- TART-A#LINE/I-Jockey -->\n      <g transform=\"translate(412.623496 464.953125)rotate(-90)scale(0.1 -0.1)\">\n       <use xlink:href=\"#DejaVuSans-84\"/>\n       <use x=\"60.974609\" xlink:href=\"#DejaVuSans-65\"/>\n       <use x=\"129.382812\" xlink:href=\"#DejaVuSans-82\"/>\n       <use x=\"198.755859\" xlink:href=\"#DejaVuSans-84\"/>\n       <use x=\"259.699219\" xlink:href=\"#DejaVuSans-45\"/>\n       <use x=\"295.751953\" xlink:href=\"#DejaVuSans-65\"/>\n       <use x=\"364.160156\" xlink:href=\"#DejaVuSans-35\"/>\n       <use x=\"447.949219\" xlink:href=\"#DejaVuSans-76\"/>\n       <use x=\"503.662109\" xlink:href=\"#DejaVuSans-73\"/>\n       <use x=\"533.154297\" xlink:href=\"#DejaVuSans-78\"/>\n       <use x=\"607.958984\" xlink:href=\"#DejaVuSans-69\"/>\n       <use x=\"671.142578\" xlink:href=\"#DejaVuSans-47\"/>\n       <use x=\"704.833984\" xlink:href=\"#DejaVuSans-73\"/>\n       <use x=\"734.326172\" xlink:href=\"#DejaVuSans-45\"/>\n       <use x=\"770.488281\" xlink:href=\"#DejaVuSans-74\"/>\n       <use x=\"799.980469\" xlink:href=\"#DejaVuSans-111\"/>\n       <use x=\"861.162109\" xlink:href=\"#DejaVuSans-99\"/>\n       <use x=\"916.142578\" xlink:href=\"#DejaVuSans-107\"/>\n       <use x=\"974.005859\" xlink:href=\"#DejaVuSans-101\"/>\n       <use x=\"1035.529297\" xlink:href=\"#DejaVuSans-121\"/>\n      </g>\n     </g>\n    </g>\n    <g id=\"xtick_179\">\n     <g id=\"line2d_185\">\n      <g>\n       <use style=\"stroke:#000000;stroke-width:0.8;\" x=\"418.255099\" xlink:href=\"#m12e0b210da\" y=\"348.478125\"/>\n      </g>\n     </g>\n     <g id=\"text_54\">\n      <!-- TART_B1#LINE/I-Jockey -->\n      <g transform=\"translate(420.875411 472.745312)rotate(-90)scale(0.1 -0.1)\">\n       <use xlink:href=\"#DejaVuSans-84\"/>\n       <use x=\"60.974609\" xlink:href=\"#DejaVuSans-65\"/>\n       <use x=\"129.382812\" xlink:href=\"#DejaVuSans-82\"/>\n       <use x=\"198.755859\" xlink:href=\"#DejaVuSans-84\"/>\n       <use x=\"259.839844\" xlink:href=\"#DejaVuSans-95\"/>\n       <use x=\"309.839844\" xlink:href=\"#DejaVuSans-66\"/>\n       <use x=\"378.443359\" xlink:href=\"#DejaVuSans-49\"/>\n       <use x=\"442.066406\" xlink:href=\"#DejaVuSans-35\"/>\n       <use x=\"525.855469\" xlink:href=\"#DejaVuSans-76\"/>\n       <use x=\"581.568359\" xlink:href=\"#DejaVuSans-73\"/>\n       <use x=\"611.060547\" xlink:href=\"#DejaVuSans-78\"/>\n       <use x=\"685.865234\" xlink:href=\"#DejaVuSans-69\"/>\n       <use x=\"749.048828\" xlink:href=\"#DejaVuSans-47\"/>\n       <use x=\"782.740234\" xlink:href=\"#DejaVuSans-73\"/>\n       <use x=\"812.232422\" xlink:href=\"#DejaVuSans-45\"/>\n       <use x=\"848.394531\" xlink:href=\"#DejaVuSans-74\"/>\n       <use x=\"877.886719\" xlink:href=\"#DejaVuSans-111\"/>\n       <use x=\"939.068359\" xlink:href=\"#DejaVuSans-99\"/>\n       <use x=\"994.048828\" xlink:href=\"#DejaVuSans-107\"/>\n       <use x=\"1051.912109\" xlink:href=\"#DejaVuSans-101\"/>\n       <use x=\"1113.435547\" xlink:href=\"#DejaVuSans-121\"/>\n      </g>\n     </g>\n    </g>\n    <g id=\"xtick_180\">\n     <g id=\"line2d_186\">\n      <g>\n       <use style=\"stroke:#000000;stroke-width:0.8;\" x=\"426.646076\" xlink:href=\"#m12e0b210da\" y=\"348.478125\"/>\n      </g>\n     </g>\n     <g id=\"text_55\">\n      <!-- TC1-2_DM#DNA/TcMar-Tc1 -->\n      <g transform=\"translate(429.178107 491.965625)rotate(-90)scale(0.1 -0.1)\">\n       <use xlink:href=\"#DejaVuSans-84\"/>\n       <use x=\"61.005859\" xlink:href=\"#DejaVuSans-67\"/>\n       <use x=\"130.830078\" xlink:href=\"#DejaVuSans-49\"/>\n       <use x=\"194.453125\" xlink:href=\"#DejaVuSans-45\"/>\n       <use x=\"230.537109\" xlink:href=\"#DejaVuSans-50\"/>\n       <use x=\"294.160156\" xlink:href=\"#DejaVuSans-95\"/>\n       <use x=\"344.160156\" xlink:href=\"#DejaVuSans-68\"/>\n       <use x=\"421.162109\" xlink:href=\"#DejaVuSans-77\"/>\n       <use x=\"507.441406\" xlink:href=\"#DejaVuSans-35\"/>\n       <use x=\"591.230469\" xlink:href=\"#DejaVuSans-68\"/>\n       <use x=\"668.232422\" xlink:href=\"#DejaVuSans-78\"/>\n       <use x=\"743.037109\" xlink:href=\"#DejaVuSans-65\"/>\n       <use x=\"811.445312\" xlink:href=\"#DejaVuSans-47\"/>\n       <use x=\"845.136719\" xlink:href=\"#DejaVuSans-84\"/>\n       <use x=\"905.955078\" xlink:href=\"#DejaVuSans-99\"/>\n       <use x=\"960.935547\" xlink:href=\"#DejaVuSans-77\"/>\n       <use x=\"1047.214844\" xlink:href=\"#DejaVuSans-97\"/>\n       <use x=\"1108.494141\" xlink:href=\"#DejaVuSans-114\"/>\n       <use x=\"1149.513672\" xlink:href=\"#DejaVuSans-45\"/>\n       <use x=\"1185.457031\" xlink:href=\"#DejaVuSans-84\"/>\n       <use x=\"1246.275391\" xlink:href=\"#DejaVuSans-99\"/>\n       <use x=\"1301.255859\" xlink:href=\"#DejaVuSans-49\"/>\n      </g>\n     </g>\n    </g>\n    <g id=\"xtick_181\">\n     <g id=\"line2d_187\">\n      <g>\n       <use style=\"stroke:#000000;stroke-width:0.8;\" x=\"435.037054\" xlink:href=\"#m12e0b210da\" y=\"348.478125\"/>\n      </g>\n     </g>\n     <g id=\"text_56\">\n      <!-- TC1_DM#DNA/TcMar-Tc1 -->\n      <g transform=\"translate(437.569085 481.995312)rotate(-90)scale(0.1 -0.1)\">\n       <use xlink:href=\"#DejaVuSans-84\"/>\n       <use x=\"61.005859\" xlink:href=\"#DejaVuSans-67\"/>\n       <use x=\"130.830078\" xlink:href=\"#DejaVuSans-49\"/>\n       <use x=\"194.453125\" xlink:href=\"#DejaVuSans-95\"/>\n       <use x=\"244.453125\" xlink:href=\"#DejaVuSans-68\"/>\n       <use x=\"321.455078\" xlink:href=\"#DejaVuSans-77\"/>\n       <use x=\"407.734375\" xlink:href=\"#DejaVuSans-35\"/>\n       <use x=\"491.523438\" xlink:href=\"#DejaVuSans-68\"/>\n       <use x=\"568.525391\" xlink:href=\"#DejaVuSans-78\"/>\n       <use x=\"643.330078\" xlink:href=\"#DejaVuSans-65\"/>\n       <use x=\"711.738281\" xlink:href=\"#DejaVuSans-47\"/>\n       <use x=\"745.429688\" xlink:href=\"#DejaVuSans-84\"/>\n       <use x=\"806.248047\" xlink:href=\"#DejaVuSans-99\"/>\n       <use x=\"861.228516\" xlink:href=\"#DejaVuSans-77\"/>\n       <use x=\"947.507812\" xlink:href=\"#DejaVuSans-97\"/>\n       <use x=\"1008.787109\" xlink:href=\"#DejaVuSans-114\"/>\n       <use x=\"1049.806641\" xlink:href=\"#DejaVuSans-45\"/>\n       <use x=\"1085.75\" xlink:href=\"#DejaVuSans-84\"/>\n       <use x=\"1146.568359\" xlink:href=\"#DejaVuSans-99\"/>\n       <use x=\"1201.548828\" xlink:href=\"#DejaVuSans-49\"/>\n      </g>\n     </g>\n    </g>\n    <g id=\"xtick_182\">\n     <g id=\"line2d_188\">\n      <g>\n       <use style=\"stroke:#000000;stroke-width:0.8;\" x=\"443.428031\" xlink:href=\"#m12e0b210da\" y=\"348.478125\"/>\n      </g>\n     </g>\n     <g id=\"text_57\">\n      <!-- TRANSIB2#DNA/CMC-Transib -->\n      <g transform=\"translate(446.187406 502.328125)rotate(-90)scale(0.1 -0.1)\">\n       <use xlink:href=\"#DejaVuSans-84\"/>\n       <use x=\"61.083984\" xlink:href=\"#DejaVuSans-82\"/>\n       <use x=\"130.503906\" xlink:href=\"#DejaVuSans-65\"/>\n       <use x=\"198.912109\" xlink:href=\"#DejaVuSans-78\"/>\n       <use x=\"273.716797\" xlink:href=\"#DejaVuSans-83\"/>\n       <use x=\"337.193359\" xlink:href=\"#DejaVuSans-73\"/>\n       <use x=\"366.685547\" xlink:href=\"#DejaVuSans-66\"/>\n       <use x=\"435.289062\" xlink:href=\"#DejaVuSans-50\"/>\n       <use x=\"498.912109\" xlink:href=\"#DejaVuSans-35\"/>\n       <use x=\"582.701172\" xlink:href=\"#DejaVuSans-68\"/>\n       <use x=\"659.703125\" xlink:href=\"#DejaVuSans-78\"/>\n       <use x=\"734.507812\" xlink:href=\"#DejaVuSans-65\"/>\n       <use x=\"802.916016\" xlink:href=\"#DejaVuSans-47\"/>\n       <use x=\"836.607422\" xlink:href=\"#DejaVuSans-67\"/>\n       <use x=\"906.431641\" xlink:href=\"#DejaVuSans-77\"/>\n       <use x=\"992.710938\" xlink:href=\"#DejaVuSans-67\"/>\n       <use x=\"1062.535156\" xlink:href=\"#DejaVuSans-45\"/>\n       <use x=\"1098.478516\" xlink:href=\"#DejaVuSans-84\"/>\n       <use x=\"1159.34375\" xlink:href=\"#DejaVuSans-114\"/>\n       <use x=\"1200.457031\" xlink:href=\"#DejaVuSans-97\"/>\n       <use x=\"1261.736328\" xlink:href=\"#DejaVuSans-110\"/>\n       <use x=\"1325.115234\" xlink:href=\"#DejaVuSans-115\"/>\n       <use x=\"1377.214844\" xlink:href=\"#DejaVuSans-105\"/>\n       <use x=\"1404.998047\" xlink:href=\"#DejaVuSans-98\"/>\n      </g>\n     </g>\n    </g>\n    <g id=\"xtick_183\">\n     <g id=\"line2d_189\">\n      <g>\n       <use style=\"stroke:#000000;stroke-width:0.8;\" x=\"451.819008\" xlink:href=\"#m12e0b210da\" y=\"348.478125\"/>\n      </g>\n     </g>\n     <g id=\"text_58\">\n      <!-- TRANSIB3#DNA/CMC-Transib -->\n      <g transform=\"translate(454.578383 502.328125)rotate(-90)scale(0.1 -0.1)\">\n       <use xlink:href=\"#DejaVuSans-84\"/>\n       <use x=\"61.083984\" xlink:href=\"#DejaVuSans-82\"/>\n       <use x=\"130.503906\" xlink:href=\"#DejaVuSans-65\"/>\n       <use x=\"198.912109\" xlink:href=\"#DejaVuSans-78\"/>\n       <use x=\"273.716797\" xlink:href=\"#DejaVuSans-83\"/>\n       <use x=\"337.193359\" xlink:href=\"#DejaVuSans-73\"/>\n       <use x=\"366.685547\" xlink:href=\"#DejaVuSans-66\"/>\n       <use x=\"435.289062\" xlink:href=\"#DejaVuSans-51\"/>\n       <use x=\"498.912109\" xlink:href=\"#DejaVuSans-35\"/>\n       <use x=\"582.701172\" xlink:href=\"#DejaVuSans-68\"/>\n       <use x=\"659.703125\" xlink:href=\"#DejaVuSans-78\"/>\n       <use x=\"734.507812\" xlink:href=\"#DejaVuSans-65\"/>\n       <use x=\"802.916016\" xlink:href=\"#DejaVuSans-47\"/>\n       <use x=\"836.607422\" xlink:href=\"#DejaVuSans-67\"/>\n       <use x=\"906.431641\" xlink:href=\"#DejaVuSans-77\"/>\n       <use x=\"992.710938\" xlink:href=\"#DejaVuSans-67\"/>\n       <use x=\"1062.535156\" xlink:href=\"#DejaVuSans-45\"/>\n       <use x=\"1098.478516\" xlink:href=\"#DejaVuSans-84\"/>\n       <use x=\"1159.34375\" xlink:href=\"#DejaVuSans-114\"/>\n       <use x=\"1200.457031\" xlink:href=\"#DejaVuSans-97\"/>\n       <use x=\"1261.736328\" xlink:href=\"#DejaVuSans-110\"/>\n       <use x=\"1325.115234\" xlink:href=\"#DejaVuSans-115\"/>\n       <use x=\"1377.214844\" xlink:href=\"#DejaVuSans-105\"/>\n       <use x=\"1404.998047\" xlink:href=\"#DejaVuSans-98\"/>\n      </g>\n     </g>\n    </g>\n    <g id=\"xtick_184\">\n     <g id=\"line2d_190\">\n      <g>\n       <use style=\"stroke:#000000;stroke-width:0.8;\" x=\"460.209986\" xlink:href=\"#m12e0b210da\" y=\"348.478125\"/>\n      </g>\n     </g>\n     <g id=\"text_59\">\n      <!-- TRANSIB4#DNA/CMC-Transib -->\n      <g transform=\"translate(462.969361 502.328125)rotate(-90)scale(0.1 -0.1)\">\n       <use xlink:href=\"#DejaVuSans-84\"/>\n       <use x=\"61.083984\" xlink:href=\"#DejaVuSans-82\"/>\n       <use x=\"130.503906\" xlink:href=\"#DejaVuSans-65\"/>\n       <use x=\"198.912109\" xlink:href=\"#DejaVuSans-78\"/>\n       <use x=\"273.716797\" xlink:href=\"#DejaVuSans-83\"/>\n       <use x=\"337.193359\" xlink:href=\"#DejaVuSans-73\"/>\n       <use x=\"366.685547\" xlink:href=\"#DejaVuSans-66\"/>\n       <use x=\"435.289062\" xlink:href=\"#DejaVuSans-52\"/>\n       <use x=\"498.912109\" xlink:href=\"#DejaVuSans-35\"/>\n       <use x=\"582.701172\" xlink:href=\"#DejaVuSans-68\"/>\n       <use x=\"659.703125\" xlink:href=\"#DejaVuSans-78\"/>\n       <use x=\"734.507812\" xlink:href=\"#DejaVuSans-65\"/>\n       <use x=\"802.916016\" xlink:href=\"#DejaVuSans-47\"/>\n       <use x=\"836.607422\" xlink:href=\"#DejaVuSans-67\"/>\n       <use x=\"906.431641\" xlink:href=\"#DejaVuSans-77\"/>\n       <use x=\"992.710938\" xlink:href=\"#DejaVuSans-67\"/>\n       <use x=\"1062.535156\" xlink:href=\"#DejaVuSans-45\"/>\n       <use x=\"1098.478516\" xlink:href=\"#DejaVuSans-84\"/>\n       <use x=\"1159.34375\" xlink:href=\"#DejaVuSans-114\"/>\n       <use x=\"1200.457031\" xlink:href=\"#DejaVuSans-97\"/>\n       <use x=\"1261.736328\" xlink:href=\"#DejaVuSans-110\"/>\n       <use x=\"1325.115234\" xlink:href=\"#DejaVuSans-115\"/>\n       <use x=\"1377.214844\" xlink:href=\"#DejaVuSans-105\"/>\n       <use x=\"1404.998047\" xlink:href=\"#DejaVuSans-98\"/>\n      </g>\n     </g>\n    </g>\n    <g id=\"xtick_185\">\n     <g id=\"line2d_191\">\n      <g>\n       <use style=\"stroke:#000000;stroke-width:0.8;\" x=\"468.600963\" xlink:href=\"#m12e0b210da\" y=\"348.478125\"/>\n      </g>\n     </g>\n     <g id=\"text_60\">\n      <!-- S2_DM#DNA/TcMar-Tc1 -->\n      <g transform=\"translate(471.132995 475.260937)rotate(-90)scale(0.1 -0.1)\">\n       <use xlink:href=\"#DejaVuSans-83\"/>\n       <use x=\"63.476562\" xlink:href=\"#DejaVuSans-50\"/>\n       <use x=\"127.099609\" xlink:href=\"#DejaVuSans-95\"/>\n       <use x=\"177.099609\" xlink:href=\"#DejaVuSans-68\"/>\n       <use x=\"254.101562\" xlink:href=\"#DejaVuSans-77\"/>\n       <use x=\"340.380859\" xlink:href=\"#DejaVuSans-35\"/>\n       <use x=\"424.169922\" xlink:href=\"#DejaVuSans-68\"/>\n       <use x=\"501.171875\" xlink:href=\"#DejaVuSans-78\"/>\n       <use x=\"575.976562\" xlink:href=\"#DejaVuSans-65\"/>\n       <use x=\"644.384766\" xlink:href=\"#DejaVuSans-47\"/>\n       <use x=\"678.076172\" xlink:href=\"#DejaVuSans-84\"/>\n       <use x=\"738.894531\" xlink:href=\"#DejaVuSans-99\"/>\n       <use x=\"793.875\" xlink:href=\"#DejaVuSans-77\"/>\n       <use x=\"880.154297\" xlink:href=\"#DejaVuSans-97\"/>\n       <use x=\"941.433594\" xlink:href=\"#DejaVuSans-114\"/>\n       <use x=\"982.453125\" xlink:href=\"#DejaVuSans-45\"/>\n       <use x=\"1018.396484\" xlink:href=\"#DejaVuSans-84\"/>\n       <use x=\"1079.214844\" xlink:href=\"#DejaVuSans-99\"/>\n       <use x=\"1134.195312\" xlink:href=\"#DejaVuSans-49\"/>\n      </g>\n     </g>\n    </g>\n    <g id=\"xtick_186\">\n     <g id=\"line2d_192\">\n      <g>\n       <use style=\"stroke:#000000;stroke-width:0.8;\" x=\"476.991941\" xlink:href=\"#m12e0b210da\" y=\"348.478125\"/>\n      </g>\n     </g>\n     <g id=\"text_61\">\n      <!-- ACCORD2#LTR/Gypsy -->\n      <g transform=\"translate(479.751316 466.665625)rotate(-90)scale(0.1 -0.1)\">\n       <use xlink:href=\"#DejaVuSans-65\"/>\n       <use x=\"68.392578\" xlink:href=\"#DejaVuSans-67\"/>\n       <use x=\"138.216797\" xlink:href=\"#DejaVuSans-67\"/>\n       <use x=\"208.041016\" xlink:href=\"#DejaVuSans-79\"/>\n       <use x=\"286.751953\" xlink:href=\"#DejaVuSans-82\"/>\n       <use x=\"356.234375\" xlink:href=\"#DejaVuSans-68\"/>\n       <use x=\"433.236328\" xlink:href=\"#DejaVuSans-50\"/>\n       <use x=\"496.859375\" xlink:href=\"#DejaVuSans-35\"/>\n       <use x=\"580.648438\" xlink:href=\"#DejaVuSans-76\"/>\n       <use x=\"636.158203\" xlink:href=\"#DejaVuSans-84\"/>\n       <use x=\"697.242188\" xlink:href=\"#DejaVuSans-82\"/>\n       <use x=\"766.724609\" xlink:href=\"#DejaVuSans-47\"/>\n       <use x=\"800.416016\" xlink:href=\"#DejaVuSans-71\"/>\n       <use x=\"877.90625\" xlink:href=\"#DejaVuSans-121\"/>\n       <use x=\"937.085938\" xlink:href=\"#DejaVuSans-112\"/>\n       <use x=\"1000.5625\" xlink:href=\"#DejaVuSans-115\"/>\n       <use x=\"1052.662109\" xlink:href=\"#DejaVuSans-121\"/>\n      </g>\n     </g>\n    </g>\n    <g id=\"xtick_187\">\n     <g id=\"line2d_193\">\n      <g>\n       <use style=\"stroke:#000000;stroke-width:0.8;\" x=\"485.382918\" xlink:href=\"#m12e0b210da\" y=\"348.478125\"/>\n      </g>\n     </g>\n     <g id=\"text_62\">\n      <!-- ACCORD#LTR/Gypsy -->\n      <g transform=\"translate(488.142293 460.303125)rotate(-90)scale(0.1 -0.1)\">\n       <use xlink:href=\"#DejaVuSans-65\"/>\n       <use x=\"68.392578\" xlink:href=\"#DejaVuSans-67\"/>\n       <use x=\"138.216797\" xlink:href=\"#DejaVuSans-67\"/>\n       <use x=\"208.041016\" xlink:href=\"#DejaVuSans-79\"/>\n       <use x=\"286.751953\" xlink:href=\"#DejaVuSans-82\"/>\n       <use x=\"356.234375\" xlink:href=\"#DejaVuSans-68\"/>\n       <use x=\"433.236328\" xlink:href=\"#DejaVuSans-35\"/>\n       <use x=\"517.025391\" xlink:href=\"#DejaVuSans-76\"/>\n       <use x=\"572.535156\" xlink:href=\"#DejaVuSans-84\"/>\n       <use x=\"633.619141\" xlink:href=\"#DejaVuSans-82\"/>\n       <use x=\"703.101562\" xlink:href=\"#DejaVuSans-47\"/>\n       <use x=\"736.792969\" xlink:href=\"#DejaVuSans-71\"/>\n       <use x=\"814.283203\" xlink:href=\"#DejaVuSans-121\"/>\n       <use x=\"873.462891\" xlink:href=\"#DejaVuSans-112\"/>\n       <use x=\"936.939453\" xlink:href=\"#DejaVuSans-115\"/>\n       <use x=\"989.039062\" xlink:href=\"#DejaVuSans-121\"/>\n      </g>\n     </g>\n    </g>\n    <g id=\"xtick_188\">\n     <g id=\"line2d_194\">\n      <g>\n       <use style=\"stroke:#000000;stroke-width:0.8;\" x=\"493.773896\" xlink:href=\"#m12e0b210da\" y=\"348.478125\"/>\n      </g>\n     </g>\n     <g id=\"text_63\">\n      <!-- Bica#LTR/Gypsy -->\n      <g transform=\"translate(496.533271 438.24375)rotate(-90)scale(0.1 -0.1)\">\n       <use xlink:href=\"#DejaVuSans-66\"/>\n       <use x=\"68.603516\" xlink:href=\"#DejaVuSans-105\"/>\n       <use x=\"96.386719\" xlink:href=\"#DejaVuSans-99\"/>\n       <use x=\"151.367188\" xlink:href=\"#DejaVuSans-97\"/>\n       <use x=\"212.646484\" xlink:href=\"#DejaVuSans-35\"/>\n       <use x=\"296.435547\" xlink:href=\"#DejaVuSans-76\"/>\n       <use x=\"351.945312\" xlink:href=\"#DejaVuSans-84\"/>\n       <use x=\"413.029297\" xlink:href=\"#DejaVuSans-82\"/>\n       <use x=\"482.511719\" xlink:href=\"#DejaVuSans-47\"/>\n       <use x=\"516.203125\" xlink:href=\"#DejaVuSans-71\"/>\n       <use x=\"593.693359\" xlink:href=\"#DejaVuSans-121\"/>\n       <use x=\"652.873047\" xlink:href=\"#DejaVuSans-112\"/>\n       <use x=\"716.349609\" xlink:href=\"#DejaVuSans-115\"/>\n       <use x=\"768.449219\" xlink:href=\"#DejaVuSans-121\"/>\n      </g>\n     </g>\n    </g>\n    <g id=\"xtick_189\">\n     <g id=\"line2d_195\">\n      <g>\n       <use style=\"stroke:#000000;stroke-width:0.8;\" x=\"502.164873\" xlink:href=\"#m12e0b210da\" y=\"348.478125\"/>\n      </g>\n     </g>\n     <g id=\"text_64\">\n      <!-- BLASTOPIA#LTR/Gypsy -->\n      <g transform=\"translate(504.924248 472.403125)rotate(-90)scale(0.1 -0.1)\">\n       <use xlink:href=\"#DejaVuSans-66\"/>\n       <use x=\"68.603516\" xlink:href=\"#DejaVuSans-76\"/>\n       <use x=\"124.347656\" xlink:href=\"#DejaVuSans-65\"/>\n       <use x=\"192.755859\" xlink:href=\"#DejaVuSans-83\"/>\n       <use x=\"256.232422\" xlink:href=\"#DejaVuSans-84\"/>\n       <use x=\"317.316406\" xlink:href=\"#DejaVuSans-79\"/>\n       <use x=\"396.027344\" xlink:href=\"#DejaVuSans-80\"/>\n       <use x=\"456.330078\" xlink:href=\"#DejaVuSans-73\"/>\n       <use x=\"485.822266\" xlink:href=\"#DejaVuSans-65\"/>\n       <use x=\"554.230469\" xlink:href=\"#DejaVuSans-35\"/>\n       <use x=\"638.019531\" xlink:href=\"#DejaVuSans-76\"/>\n       <use x=\"693.529297\" xlink:href=\"#DejaVuSans-84\"/>\n       <use x=\"754.613281\" xlink:href=\"#DejaVuSans-82\"/>\n       <use x=\"824.095703\" xlink:href=\"#DejaVuSans-47\"/>\n       <use x=\"857.787109\" xlink:href=\"#DejaVuSans-71\"/>\n       <use x=\"935.277344\" xlink:href=\"#DejaVuSans-121\"/>\n       <use x=\"994.457031\" xlink:href=\"#DejaVuSans-112\"/>\n       <use x=\"1057.933594\" xlink:href=\"#DejaVuSans-115\"/>\n       <use x=\"1110.033203\" xlink:href=\"#DejaVuSans-121\"/>\n      </g>\n     </g>\n    </g>\n    <g id=\"xtick_190\">\n     <g id=\"line2d_196\">\n      <g>\n       <use style=\"stroke:#000000;stroke-width:0.8;\" x=\"510.555851\" xlink:href=\"#m12e0b210da\" y=\"348.478125\"/>\n      </g>\n     </g>\n     <g id=\"text_65\">\n      <!-- BLOOD#LTR/Gypsy -->\n      <g transform=\"translate(513.315226 452.85)rotate(-90)scale(0.1 -0.1)\">\n       <use xlink:href=\"#DejaVuSans-66\"/>\n       <use x=\"68.603516\" xlink:href=\"#DejaVuSans-76\"/>\n       <use x=\"124.269531\" xlink:href=\"#DejaVuSans-79\"/>\n       <use x=\"202.980469\" xlink:href=\"#DejaVuSans-79\"/>\n       <use x=\"281.691406\" xlink:href=\"#DejaVuSans-68\"/>\n       <use x=\"358.693359\" xlink:href=\"#DejaVuSans-35\"/>\n       <use x=\"442.482422\" xlink:href=\"#DejaVuSans-76\"/>\n       <use x=\"497.992188\" xlink:href=\"#DejaVuSans-84\"/>\n       <use x=\"559.076172\" xlink:href=\"#DejaVuSans-82\"/>\n       <use x=\"628.558594\" xlink:href=\"#DejaVuSans-47\"/>\n       <use x=\"662.25\" xlink:href=\"#DejaVuSans-71\"/>\n       <use x=\"739.740234\" xlink:href=\"#DejaVuSans-121\"/>\n       <use x=\"798.919922\" xlink:href=\"#DejaVuSans-112\"/>\n       <use x=\"862.396484\" xlink:href=\"#DejaVuSans-115\"/>\n       <use x=\"914.496094\" xlink:href=\"#DejaVuSans-121\"/>\n      </g>\n     </g>\n    </g>\n    <g id=\"xtick_191\">\n     <g id=\"line2d_197\">\n      <g>\n       <use style=\"stroke:#000000;stroke-width:0.8;\" x=\"518.946828\" xlink:href=\"#m12e0b210da\" y=\"348.478125\"/>\n      </g>\n     </g>\n     <g id=\"text_66\">\n      <!-- BURDOCK#LTR/Gypsy -->\n      <g transform=\"translate(521.706203 467.21875)rotate(-90)scale(0.1 -0.1)\">\n       <use xlink:href=\"#DejaVuSans-66\"/>\n       <use x=\"68.603516\" xlink:href=\"#DejaVuSans-85\"/>\n       <use x=\"141.796875\" xlink:href=\"#DejaVuSans-82\"/>\n       <use x=\"211.279297\" xlink:href=\"#DejaVuSans-68\"/>\n       <use x=\"288.28125\" xlink:href=\"#DejaVuSans-79\"/>\n       <use x=\"366.992188\" xlink:href=\"#DejaVuSans-67\"/>\n       <use x=\"436.816406\" xlink:href=\"#DejaVuSans-75\"/>\n       <use x=\"502.392578\" xlink:href=\"#DejaVuSans-35\"/>\n       <use x=\"586.181641\" xlink:href=\"#DejaVuSans-76\"/>\n       <use x=\"641.691406\" xlink:href=\"#DejaVuSans-84\"/>\n       <use x=\"702.775391\" xlink:href=\"#DejaVuSans-82\"/>\n       <use x=\"772.257812\" xlink:href=\"#DejaVuSans-47\"/>\n       <use x=\"805.949219\" xlink:href=\"#DejaVuSans-71\"/>\n       <use x=\"883.439453\" xlink:href=\"#DejaVuSans-121\"/>\n       <use x=\"942.619141\" xlink:href=\"#DejaVuSans-112\"/>\n       <use x=\"1006.095703\" xlink:href=\"#DejaVuSans-115\"/>\n       <use x=\"1058.195312\" xlink:href=\"#DejaVuSans-121\"/>\n      </g>\n     </g>\n    </g>\n    <g id=\"xtick_192\">\n     <g id=\"line2d_198\">\n      <g>\n       <use style=\"stroke:#000000;stroke-width:0.8;\" x=\"527.337805\" xlink:href=\"#m12e0b210da\" y=\"348.478125\"/>\n      </g>\n     </g>\n     <g id=\"text_67\">\n      <!-- Chimpo#LTR/Gypsy -->\n      <g transform=\"translate(530.09718 455.284375)rotate(-90)scale(0.1 -0.1)\">\n       <use xlink:href=\"#DejaVuSans-67\"/>\n       <use x=\"69.824219\" xlink:href=\"#DejaVuSans-104\"/>\n       <use x=\"133.203125\" xlink:href=\"#DejaVuSans-105\"/>\n       <use x=\"160.986328\" xlink:href=\"#DejaVuSans-109\"/>\n       <use x=\"258.398438\" xlink:href=\"#DejaVuSans-112\"/>\n       <use x=\"321.875\" xlink:href=\"#DejaVuSans-111\"/>\n       <use x=\"383.056641\" xlink:href=\"#DejaVuSans-35\"/>\n       <use x=\"466.845703\" xlink:href=\"#DejaVuSans-76\"/>\n       <use x=\"522.355469\" xlink:href=\"#DejaVuSans-84\"/>\n       <use x=\"583.439453\" xlink:href=\"#DejaVuSans-82\"/>\n       <use x=\"652.921875\" xlink:href=\"#DejaVuSans-47\"/>\n       <use x=\"686.613281\" xlink:href=\"#DejaVuSans-71\"/>\n       <use x=\"764.103516\" xlink:href=\"#DejaVuSans-121\"/>\n       <use x=\"823.283203\" xlink:href=\"#DejaVuSans-112\"/>\n       <use x=\"886.759766\" xlink:href=\"#DejaVuSans-115\"/>\n       <use x=\"938.859375\" xlink:href=\"#DejaVuSans-121\"/>\n      </g>\n     </g>\n    </g>\n    <g id=\"xtick_193\">\n     <g id=\"line2d_199\">\n      <g>\n       <use style=\"stroke:#000000;stroke-width:0.8;\" x=\"535.728783\" xlink:href=\"#m12e0b210da\" y=\"348.478125\"/>\n      </g>\n     </g>\n     <g id=\"text_68\">\n      <!-- Chouto#LTR/Gypsy -->\n      <defs>\n       <path d=\"M 8.5 21.578125 \nL 8.5 54.6875 \nL 17.484375 54.6875 \nL 17.484375 21.921875 \nQ 17.484375 14.15625 20.5 10.265625 \nQ 23.53125 6.390625 29.59375 6.390625 \nQ 36.859375 6.390625 41.078125 11.03125 \nQ 45.3125 15.671875 45.3125 23.6875 \nL 45.3125 54.6875 \nL 54.296875 54.6875 \nL 54.296875 0 \nL 45.3125 0 \nL 45.3125 8.40625 \nQ 42.046875 3.421875 37.71875 1 \nQ 33.40625 -1.421875 27.6875 -1.421875 \nQ 18.265625 -1.421875 13.375 4.4375 \nQ 8.5 10.296875 8.5 21.578125 \nz\nM 31.109375 56 \nz\n\" id=\"DejaVuSans-117\"/>\n      </defs>\n      <g transform=\"translate(538.488158 452.79375)rotate(-90)scale(0.1 -0.1)\">\n       <use xlink:href=\"#DejaVuSans-67\"/>\n       <use x=\"69.824219\" xlink:href=\"#DejaVuSans-104\"/>\n       <use x=\"133.203125\" xlink:href=\"#DejaVuSans-111\"/>\n       <use x=\"194.384766\" xlink:href=\"#DejaVuSans-117\"/>\n       <use x=\"257.763672\" xlink:href=\"#DejaVuSans-116\"/>\n       <use x=\"296.972656\" xlink:href=\"#DejaVuSans-111\"/>\n       <use x=\"358.154297\" xlink:href=\"#DejaVuSans-35\"/>\n       <use x=\"441.943359\" xlink:href=\"#DejaVuSans-76\"/>\n       <use x=\"497.453125\" xlink:href=\"#DejaVuSans-84\"/>\n       <use x=\"558.537109\" xlink:href=\"#DejaVuSans-82\"/>\n       <use x=\"628.019531\" xlink:href=\"#DejaVuSans-47\"/>\n       <use x=\"661.710938\" xlink:href=\"#DejaVuSans-71\"/>\n       <use x=\"739.201172\" xlink:href=\"#DejaVuSans-121\"/>\n       <use x=\"798.380859\" xlink:href=\"#DejaVuSans-112\"/>\n       <use x=\"861.857422\" xlink:href=\"#DejaVuSans-115\"/>\n       <use x=\"913.957031\" xlink:href=\"#DejaVuSans-121\"/>\n      </g>\n     </g>\n    </g>\n    <g id=\"xtick_194\">\n     <g id=\"line2d_200\">\n      <g>\n       <use style=\"stroke:#000000;stroke-width:0.8;\" x=\"544.11976\" xlink:href=\"#m12e0b210da\" y=\"348.478125\"/>\n      </g>\n     </g>\n     <g id=\"text_69\">\n      <!-- Copia1#LTR/Copia -->\n      <g transform=\"translate(546.879135 448.909375)rotate(-90)scale(0.1 -0.1)\">\n       <use xlink:href=\"#DejaVuSans-67\"/>\n       <use x=\"69.824219\" xlink:href=\"#DejaVuSans-111\"/>\n       <use x=\"131.005859\" xlink:href=\"#DejaVuSans-112\"/>\n       <use x=\"194.482422\" xlink:href=\"#DejaVuSans-105\"/>\n       <use x=\"222.265625\" xlink:href=\"#DejaVuSans-97\"/>\n       <use x=\"283.544922\" xlink:href=\"#DejaVuSans-49\"/>\n       <use x=\"347.167969\" xlink:href=\"#DejaVuSans-35\"/>\n       <use x=\"430.957031\" xlink:href=\"#DejaVuSans-76\"/>\n       <use x=\"486.466797\" xlink:href=\"#DejaVuSans-84\"/>\n       <use x=\"547.550781\" xlink:href=\"#DejaVuSans-82\"/>\n       <use x=\"617.033203\" xlink:href=\"#DejaVuSans-47\"/>\n       <use x=\"650.724609\" xlink:href=\"#DejaVuSans-67\"/>\n       <use x=\"720.548828\" xlink:href=\"#DejaVuSans-111\"/>\n       <use x=\"781.730469\" xlink:href=\"#DejaVuSans-112\"/>\n       <use x=\"845.207031\" xlink:href=\"#DejaVuSans-105\"/>\n       <use x=\"872.990234\" xlink:href=\"#DejaVuSans-97\"/>\n      </g>\n     </g>\n    </g>\n    <g id=\"xtick_195\">\n     <g id=\"line2d_201\">\n      <g>\n       <use style=\"stroke:#000000;stroke-width:0.8;\" x=\"552.510738\" xlink:href=\"#m12e0b210da\" y=\"348.478125\"/>\n      </g>\n     </g>\n     <g id=\"text_70\">\n      <!-- Copia2#LTR/Copia -->\n      <g transform=\"translate(555.270113 448.909375)rotate(-90)scale(0.1 -0.1)\">\n       <use xlink:href=\"#DejaVuSans-67\"/>\n       <use x=\"69.824219\" xlink:href=\"#DejaVuSans-111\"/>\n       <use x=\"131.005859\" xlink:href=\"#DejaVuSans-112\"/>\n       <use x=\"194.482422\" xlink:href=\"#DejaVuSans-105\"/>\n       <use x=\"222.265625\" xlink:href=\"#DejaVuSans-97\"/>\n       <use x=\"283.544922\" xlink:href=\"#DejaVuSans-50\"/>\n       <use x=\"347.167969\" xlink:href=\"#DejaVuSans-35\"/>\n       <use x=\"430.957031\" xlink:href=\"#DejaVuSans-76\"/>\n       <use x=\"486.466797\" xlink:href=\"#DejaVuSans-84\"/>\n       <use x=\"547.550781\" xlink:href=\"#DejaVuSans-82\"/>\n       <use x=\"617.033203\" xlink:href=\"#DejaVuSans-47\"/>\n       <use x=\"650.724609\" xlink:href=\"#DejaVuSans-67\"/>\n       <use x=\"720.548828\" xlink:href=\"#DejaVuSans-111\"/>\n       <use x=\"781.730469\" xlink:href=\"#DejaVuSans-112\"/>\n       <use x=\"845.207031\" xlink:href=\"#DejaVuSans-105\"/>\n       <use x=\"872.990234\" xlink:href=\"#DejaVuSans-97\"/>\n      </g>\n     </g>\n    </g>\n    <g id=\"xtick_196\">\n     <g id=\"line2d_202\">\n      <g>\n       <use style=\"stroke:#000000;stroke-width:0.8;\" x=\"560.901715\" xlink:href=\"#m12e0b210da\" y=\"348.478125\"/>\n      </g>\n     </g>\n     <g id=\"text_71\">\n      <!-- Copia#LTR/Copia -->\n      <g transform=\"translate(563.66109 442.546875)rotate(-90)scale(0.1 -0.1)\">\n       <use xlink:href=\"#DejaVuSans-67\"/>\n       <use x=\"69.824219\" xlink:href=\"#DejaVuSans-111\"/>\n       <use x=\"131.005859\" xlink:href=\"#DejaVuSans-112\"/>\n       <use x=\"194.482422\" xlink:href=\"#DejaVuSans-105\"/>\n       <use x=\"222.265625\" xlink:href=\"#DejaVuSans-97\"/>\n       <use x=\"283.544922\" xlink:href=\"#DejaVuSans-35\"/>\n       <use x=\"367.333984\" xlink:href=\"#DejaVuSans-76\"/>\n       <use x=\"422.84375\" xlink:href=\"#DejaVuSans-84\"/>\n       <use x=\"483.927734\" xlink:href=\"#DejaVuSans-82\"/>\n       <use x=\"553.410156\" xlink:href=\"#DejaVuSans-47\"/>\n       <use x=\"587.101562\" xlink:href=\"#DejaVuSans-67\"/>\n       <use x=\"656.925781\" xlink:href=\"#DejaVuSans-111\"/>\n       <use x=\"718.107422\" xlink:href=\"#DejaVuSans-112\"/>\n       <use x=\"781.583984\" xlink:href=\"#DejaVuSans-105\"/>\n       <use x=\"809.367188\" xlink:href=\"#DejaVuSans-97\"/>\n      </g>\n     </g>\n    </g>\n    <g id=\"xtick_197\">\n     <g id=\"line2d_203\">\n      <g>\n       <use style=\"stroke:#000000;stroke-width:0.8;\" x=\"569.292693\" xlink:href=\"#m12e0b210da\" y=\"348.478125\"/>\n      </g>\n     </g>\n     <g id=\"text_72\">\n      <!-- DIVER2#LTR/Pao -->\n      <g transform=\"translate(572.052068 441.225)rotate(-90)scale(0.1 -0.1)\">\n       <use xlink:href=\"#DejaVuSans-68\"/>\n       <use x=\"77.001953\" xlink:href=\"#DejaVuSans-73\"/>\n       <use x=\"106.494141\" xlink:href=\"#DejaVuSans-86\"/>\n       <use x=\"174.902344\" xlink:href=\"#DejaVuSans-69\"/>\n       <use x=\"238.085938\" xlink:href=\"#DejaVuSans-82\"/>\n       <use x=\"307.568359\" xlink:href=\"#DejaVuSans-50\"/>\n       <use x=\"371.191406\" xlink:href=\"#DejaVuSans-35\"/>\n       <use x=\"454.980469\" xlink:href=\"#DejaVuSans-76\"/>\n       <use x=\"510.490234\" xlink:href=\"#DejaVuSans-84\"/>\n       <use x=\"571.574219\" xlink:href=\"#DejaVuSans-82\"/>\n       <use x=\"641.056641\" xlink:href=\"#DejaVuSans-47\"/>\n       <use x=\"674.748047\" xlink:href=\"#DejaVuSans-80\"/>\n       <use x=\"734.988281\" xlink:href=\"#DejaVuSans-97\"/>\n       <use x=\"796.267578\" xlink:href=\"#DejaVuSans-111\"/>\n      </g>\n     </g>\n    </g>\n    <g id=\"xtick_198\">\n     <g id=\"line2d_204\">\n      <g>\n       <use style=\"stroke:#000000;stroke-width:0.8;\" x=\"577.68367\" xlink:href=\"#m12e0b210da\" y=\"348.478125\"/>\n      </g>\n     </g>\n     <g id=\"text_73\">\n      <!-- DM1731#LTR/Copia -->\n      <defs>\n       <path d=\"M 8.203125 72.90625 \nL 55.078125 72.90625 \nL 55.078125 68.703125 \nL 28.609375 0 \nL 18.3125 0 \nL 43.21875 64.59375 \nL 8.203125 64.59375 \nz\n\" id=\"DejaVuSans-55\"/>\n      </defs>\n      <g transform=\"translate(580.443045 455.96875)rotate(-90)scale(0.1 -0.1)\">\n       <use xlink:href=\"#DejaVuSans-68\"/>\n       <use x=\"77.001953\" xlink:href=\"#DejaVuSans-77\"/>\n       <use x=\"163.28125\" xlink:href=\"#DejaVuSans-49\"/>\n       <use x=\"226.904297\" xlink:href=\"#DejaVuSans-55\"/>\n       <use x=\"290.527344\" xlink:href=\"#DejaVuSans-51\"/>\n       <use x=\"354.150391\" xlink:href=\"#DejaVuSans-49\"/>\n       <use x=\"417.773438\" xlink:href=\"#DejaVuSans-35\"/>\n       <use x=\"501.5625\" xlink:href=\"#DejaVuSans-76\"/>\n       <use x=\"557.072266\" xlink:href=\"#DejaVuSans-84\"/>\n       <use x=\"618.15625\" xlink:href=\"#DejaVuSans-82\"/>\n       <use x=\"687.638672\" xlink:href=\"#DejaVuSans-47\"/>\n       <use x=\"721.330078\" xlink:href=\"#DejaVuSans-67\"/>\n       <use x=\"791.154297\" xlink:href=\"#DejaVuSans-111\"/>\n       <use x=\"852.335938\" xlink:href=\"#DejaVuSans-112\"/>\n       <use x=\"915.8125\" xlink:href=\"#DejaVuSans-105\"/>\n       <use x=\"943.595703\" xlink:href=\"#DejaVuSans-97\"/>\n      </g>\n     </g>\n    </g>\n    <g id=\"xtick_199\">\n     <g id=\"line2d_205\">\n      <g>\n       <use style=\"stroke:#000000;stroke-width:0.8;\" x=\"586.074648\" xlink:href=\"#m12e0b210da\" y=\"348.478125\"/>\n      </g>\n     </g>\n     <g id=\"text_74\">\n      <!-- DM176#LTR/Gypsy -->\n      <g transform=\"translate(588.834023 452.39375)rotate(-90)scale(0.1 -0.1)\">\n       <use xlink:href=\"#DejaVuSans-68\"/>\n       <use x=\"77.001953\" xlink:href=\"#DejaVuSans-77\"/>\n       <use x=\"163.28125\" xlink:href=\"#DejaVuSans-49\"/>\n       <use x=\"226.904297\" xlink:href=\"#DejaVuSans-55\"/>\n       <use x=\"290.527344\" xlink:href=\"#DejaVuSans-54\"/>\n       <use x=\"354.150391\" xlink:href=\"#DejaVuSans-35\"/>\n       <use x=\"437.939453\" xlink:href=\"#DejaVuSans-76\"/>\n       <use x=\"493.449219\" xlink:href=\"#DejaVuSans-84\"/>\n       <use x=\"554.533203\" xlink:href=\"#DejaVuSans-82\"/>\n       <use x=\"624.015625\" xlink:href=\"#DejaVuSans-47\"/>\n       <use x=\"657.707031\" xlink:href=\"#DejaVuSans-71\"/>\n       <use x=\"735.197266\" xlink:href=\"#DejaVuSans-121\"/>\n       <use x=\"794.376953\" xlink:href=\"#DejaVuSans-112\"/>\n       <use x=\"857.853516\" xlink:href=\"#DejaVuSans-115\"/>\n       <use x=\"909.953125\" xlink:href=\"#DejaVuSans-121\"/>\n      </g>\n     </g>\n    </g>\n    <g id=\"xtick_200\">\n     <g id=\"line2d_206\">\n      <g>\n       <use style=\"stroke:#000000;stroke-width:0.8;\" x=\"594.465625\" xlink:href=\"#m12e0b210da\" y=\"348.478125\"/>\n      </g>\n     </g>\n     <g id=\"text_75\">\n      <!-- DM297#LTR/Gypsy -->\n      <defs>\n       <path d=\"M 10.984375 1.515625 \nL 10.984375 10.5 \nQ 14.703125 8.734375 18.5 7.8125 \nQ 22.3125 6.890625 25.984375 6.890625 \nQ 35.75 6.890625 40.890625 13.453125 \nQ 46.046875 20.015625 46.78125 33.40625 \nQ 43.953125 29.203125 39.59375 26.953125 \nQ 35.25 24.703125 29.984375 24.703125 \nQ 19.046875 24.703125 12.671875 31.3125 \nQ 6.296875 37.9375 6.296875 49.421875 \nQ 6.296875 60.640625 12.9375 67.421875 \nQ 19.578125 74.21875 30.609375 74.21875 \nQ 43.265625 74.21875 49.921875 64.515625 \nQ 56.59375 54.828125 56.59375 36.375 \nQ 56.59375 19.140625 48.40625 8.859375 \nQ 40.234375 -1.421875 26.421875 -1.421875 \nQ 22.703125 -1.421875 18.890625 -0.6875 \nQ 15.09375 0.046875 10.984375 1.515625 \nz\nM 30.609375 32.421875 \nQ 37.25 32.421875 41.125 36.953125 \nQ 45.015625 41.5 45.015625 49.421875 \nQ 45.015625 57.28125 41.125 61.84375 \nQ 37.25 66.40625 30.609375 66.40625 \nQ 23.96875 66.40625 20.09375 61.84375 \nQ 16.21875 57.28125 16.21875 49.421875 \nQ 16.21875 41.5 20.09375 36.953125 \nQ 23.96875 32.421875 30.609375 32.421875 \nz\n\" id=\"DejaVuSans-57\"/>\n      </defs>\n      <g transform=\"translate(597.225 452.39375)rotate(-90)scale(0.1 -0.1)\">\n       <use xlink:href=\"#DejaVuSans-68\"/>\n       <use x=\"77.001953\" xlink:href=\"#DejaVuSans-77\"/>\n       <use x=\"163.28125\" xlink:href=\"#DejaVuSans-50\"/>\n       <use x=\"226.904297\" xlink:href=\"#DejaVuSans-57\"/>\n       <use x=\"290.527344\" xlink:href=\"#DejaVuSans-55\"/>\n       <use x=\"354.150391\" xlink:href=\"#DejaVuSans-35\"/>\n       <use x=\"437.939453\" xlink:href=\"#DejaVuSans-76\"/>\n       <use x=\"493.449219\" xlink:href=\"#DejaVuSans-84\"/>\n       <use x=\"554.533203\" xlink:href=\"#DejaVuSans-82\"/>\n       <use x=\"624.015625\" xlink:href=\"#DejaVuSans-47\"/>\n       <use x=\"657.707031\" xlink:href=\"#DejaVuSans-71\"/>\n       <use x=\"735.197266\" xlink:href=\"#DejaVuSans-121\"/>\n       <use x=\"794.376953\" xlink:href=\"#DejaVuSans-112\"/>\n       <use x=\"857.853516\" xlink:href=\"#DejaVuSans-115\"/>\n       <use x=\"909.953125\" xlink:href=\"#DejaVuSans-121\"/>\n      </g>\n     </g>\n    </g>\n    <g id=\"xtick_201\">\n     <g id=\"line2d_207\">\n      <g>\n       <use style=\"stroke:#000000;stroke-width:0.8;\" x=\"602.856602\" xlink:href=\"#m12e0b210da\" y=\"348.478125\"/>\n      </g>\n     </g>\n     <g id=\"text_76\">\n      <!-- TOM#LTR/Gypsy -->\n      <g transform=\"translate(605.615977 439.585937)rotate(-90)scale(0.1 -0.1)\">\n       <use xlink:href=\"#DejaVuSans-84\"/>\n       <use x=\"61.083984\" xlink:href=\"#DejaVuSans-79\"/>\n       <use x=\"139.794922\" xlink:href=\"#DejaVuSans-77\"/>\n       <use x=\"226.074219\" xlink:href=\"#DejaVuSans-35\"/>\n       <use x=\"309.863281\" xlink:href=\"#DejaVuSans-76\"/>\n       <use x=\"365.373047\" xlink:href=\"#DejaVuSans-84\"/>\n       <use x=\"426.457031\" xlink:href=\"#DejaVuSans-82\"/>\n       <use x=\"495.939453\" xlink:href=\"#DejaVuSans-47\"/>\n       <use x=\"529.630859\" xlink:href=\"#DejaVuSans-71\"/>\n       <use x=\"607.121094\" xlink:href=\"#DejaVuSans-121\"/>\n       <use x=\"666.300781\" xlink:href=\"#DejaVuSans-112\"/>\n       <use x=\"729.777344\" xlink:href=\"#DejaVuSans-115\"/>\n       <use x=\"781.876953\" xlink:href=\"#DejaVuSans-121\"/>\n      </g>\n     </g>\n    </g>\n    <g id=\"xtick_202\">\n     <g id=\"line2d_208\">\n      <g>\n       <use style=\"stroke:#000000;stroke-width:0.8;\" x=\"611.24758\" xlink:href=\"#m12e0b210da\" y=\"348.478125\"/>\n      </g>\n     </g>\n     <g id=\"text_77\">\n      <!-- GTWIN#LTR/Gypsy -->\n      <g transform=\"translate(614.006955 451.148437)rotate(-90)scale(0.1 -0.1)\">\n       <use xlink:href=\"#DejaVuSans-71\"/>\n       <use x=\"77.443359\" xlink:href=\"#DejaVuSans-84\"/>\n       <use x=\"138.527344\" xlink:href=\"#DejaVuSans-87\"/>\n       <use x=\"237.404297\" xlink:href=\"#DejaVuSans-73\"/>\n       <use x=\"266.896484\" xlink:href=\"#DejaVuSans-78\"/>\n       <use x=\"341.701172\" xlink:href=\"#DejaVuSans-35\"/>\n       <use x=\"425.490234\" xlink:href=\"#DejaVuSans-76\"/>\n       <use x=\"481\" xlink:href=\"#DejaVuSans-84\"/>\n       <use x=\"542.083984\" xlink:href=\"#DejaVuSans-82\"/>\n       <use x=\"611.566406\" xlink:href=\"#DejaVuSans-47\"/>\n       <use x=\"645.257812\" xlink:href=\"#DejaVuSans-71\"/>\n       <use x=\"722.748047\" xlink:href=\"#DejaVuSans-121\"/>\n       <use x=\"781.927734\" xlink:href=\"#DejaVuSans-112\"/>\n       <use x=\"845.404297\" xlink:href=\"#DejaVuSans-115\"/>\n       <use x=\"897.503906\" xlink:href=\"#DejaVuSans-121\"/>\n      </g>\n     </g>\n    </g>\n    <g id=\"xtick_203\">\n     <g id=\"line2d_209\">\n      <g>\n       <use style=\"stroke:#000000;stroke-width:0.8;\" x=\"619.638557\" xlink:href=\"#m12e0b210da\" y=\"348.478125\"/>\n      </g>\n     </g>\n     <g id=\"text_78\">\n      <!-- Gypsy10#LTR/Gypsy -->\n      <g transform=\"translate(622.397932 460.846875)rotate(-90)scale(0.1 -0.1)\">\n       <use xlink:href=\"#DejaVuSans-71\"/>\n       <use x=\"77.490234\" xlink:href=\"#DejaVuSans-121\"/>\n       <use x=\"136.669922\" xlink:href=\"#DejaVuSans-112\"/>\n       <use x=\"200.146484\" xlink:href=\"#DejaVuSans-115\"/>\n       <use x=\"252.246094\" xlink:href=\"#DejaVuSans-121\"/>\n       <use x=\"311.425781\" xlink:href=\"#DejaVuSans-49\"/>\n       <use x=\"375.048828\" xlink:href=\"#DejaVuSans-48\"/>\n       <use x=\"438.671875\" xlink:href=\"#DejaVuSans-35\"/>\n       <use x=\"522.460938\" xlink:href=\"#DejaVuSans-76\"/>\n       <use x=\"577.970703\" xlink:href=\"#DejaVuSans-84\"/>\n       <use x=\"639.054688\" xlink:href=\"#DejaVuSans-82\"/>\n       <use x=\"708.537109\" xlink:href=\"#DejaVuSans-47\"/>\n       <use x=\"742.228516\" xlink:href=\"#DejaVuSans-71\"/>\n       <use x=\"819.71875\" xlink:href=\"#DejaVuSans-121\"/>\n       <use x=\"878.898438\" xlink:href=\"#DejaVuSans-112\"/>\n       <use x=\"942.375\" xlink:href=\"#DejaVuSans-115\"/>\n       <use x=\"994.474609\" xlink:href=\"#DejaVuSans-121\"/>\n      </g>\n     </g>\n    </g>\n    <g id=\"xtick_204\">\n     <g id=\"line2d_210\">\n      <g>\n       <use style=\"stroke:#000000;stroke-width:0.8;\" x=\"628.029535\" xlink:href=\"#m12e0b210da\" y=\"348.478125\"/>\n      </g>\n     </g>\n     <g id=\"text_79\">\n      <!-- Gypsy11#LTR/Gypsy -->\n      <g transform=\"translate(630.78891 460.846875)rotate(-90)scale(0.1 -0.1)\">\n       <use xlink:href=\"#DejaVuSans-71\"/>\n       <use x=\"77.490234\" xlink:href=\"#DejaVuSans-121\"/>\n       <use x=\"136.669922\" xlink:href=\"#DejaVuSans-112\"/>\n       <use x=\"200.146484\" xlink:href=\"#DejaVuSans-115\"/>\n       <use x=\"252.246094\" xlink:href=\"#DejaVuSans-121\"/>\n       <use x=\"311.425781\" xlink:href=\"#DejaVuSans-49\"/>\n       <use x=\"375.048828\" xlink:href=\"#DejaVuSans-49\"/>\n       <use x=\"438.671875\" xlink:href=\"#DejaVuSans-35\"/>\n       <use x=\"522.460938\" xlink:href=\"#DejaVuSans-76\"/>\n       <use x=\"577.970703\" xlink:href=\"#DejaVuSans-84\"/>\n       <use x=\"639.054688\" xlink:href=\"#DejaVuSans-82\"/>\n       <use x=\"708.537109\" xlink:href=\"#DejaVuSans-47\"/>\n       <use x=\"742.228516\" xlink:href=\"#DejaVuSans-71\"/>\n       <use x=\"819.71875\" xlink:href=\"#DejaVuSans-121\"/>\n       <use x=\"878.898438\" xlink:href=\"#DejaVuSans-112\"/>\n       <use x=\"942.375\" xlink:href=\"#DejaVuSans-115\"/>\n       <use x=\"994.474609\" xlink:href=\"#DejaVuSans-121\"/>\n      </g>\n     </g>\n    </g>\n    <g id=\"xtick_205\">\n     <g id=\"line2d_211\">\n      <g>\n       <use style=\"stroke:#000000;stroke-width:0.8;\" x=\"636.420512\" xlink:href=\"#m12e0b210da\" y=\"348.478125\"/>\n      </g>\n     </g>\n     <g id=\"text_80\">\n      <!-- Gypsy12#LTR/Gypsy -->\n      <g transform=\"translate(639.179887 460.846875)rotate(-90)scale(0.1 -0.1)\">\n       <use xlink:href=\"#DejaVuSans-71\"/>\n       <use x=\"77.490234\" xlink:href=\"#DejaVuSans-121\"/>\n       <use x=\"136.669922\" xlink:href=\"#DejaVuSans-112\"/>\n       <use x=\"200.146484\" xlink:href=\"#DejaVuSans-115\"/>\n       <use x=\"252.246094\" xlink:href=\"#DejaVuSans-121\"/>\n       <use x=\"311.425781\" xlink:href=\"#DejaVuSans-49\"/>\n       <use x=\"375.048828\" xlink:href=\"#DejaVuSans-50\"/>\n       <use x=\"438.671875\" xlink:href=\"#DejaVuSans-35\"/>\n       <use x=\"522.460938\" xlink:href=\"#DejaVuSans-76\"/>\n       <use x=\"577.970703\" xlink:href=\"#DejaVuSans-84\"/>\n       <use x=\"639.054688\" xlink:href=\"#DejaVuSans-82\"/>\n       <use x=\"708.537109\" xlink:href=\"#DejaVuSans-47\"/>\n       <use x=\"742.228516\" xlink:href=\"#DejaVuSans-71\"/>\n       <use x=\"819.71875\" xlink:href=\"#DejaVuSans-121\"/>\n       <use x=\"878.898438\" xlink:href=\"#DejaVuSans-112\"/>\n       <use x=\"942.375\" xlink:href=\"#DejaVuSans-115\"/>\n       <use x=\"994.474609\" xlink:href=\"#DejaVuSans-121\"/>\n      </g>\n     </g>\n    </g>\n    <g id=\"xtick_206\">\n     <g id=\"line2d_212\">\n      <g>\n       <use style=\"stroke:#000000;stroke-width:0.8;\" x=\"644.81149\" xlink:href=\"#m12e0b210da\" y=\"348.478125\"/>\n      </g>\n     </g>\n     <g id=\"text_81\">\n      <!-- Gypsy1#LTR/Gypsy -->\n      <g transform=\"translate(647.570865 454.484375)rotate(-90)scale(0.1 -0.1)\">\n       <use xlink:href=\"#DejaVuSans-71\"/>\n       <use x=\"77.490234\" xlink:href=\"#DejaVuSans-121\"/>\n       <use x=\"136.669922\" xlink:href=\"#DejaVuSans-112\"/>\n       <use x=\"200.146484\" xlink:href=\"#DejaVuSans-115\"/>\n       <use x=\"252.246094\" xlink:href=\"#DejaVuSans-121\"/>\n       <use x=\"311.425781\" xlink:href=\"#DejaVuSans-49\"/>\n       <use x=\"375.048828\" xlink:href=\"#DejaVuSans-35\"/>\n       <use x=\"458.837891\" xlink:href=\"#DejaVuSans-76\"/>\n       <use x=\"514.347656\" xlink:href=\"#DejaVuSans-84\"/>\n       <use x=\"575.431641\" xlink:href=\"#DejaVuSans-82\"/>\n       <use x=\"644.914062\" xlink:href=\"#DejaVuSans-47\"/>\n       <use x=\"678.605469\" xlink:href=\"#DejaVuSans-71\"/>\n       <use x=\"756.095703\" xlink:href=\"#DejaVuSans-121\"/>\n       <use x=\"815.275391\" xlink:href=\"#DejaVuSans-112\"/>\n       <use x=\"878.751953\" xlink:href=\"#DejaVuSans-115\"/>\n       <use x=\"930.851562\" xlink:href=\"#DejaVuSans-121\"/>\n      </g>\n     </g>\n    </g>\n    <g id=\"xtick_207\">\n     <g id=\"line2d_213\">\n      <g>\n       <use style=\"stroke:#000000;stroke-width:0.8;\" x=\"653.202467\" xlink:href=\"#m12e0b210da\" y=\"348.478125\"/>\n      </g>\n     </g>\n     <g id=\"text_82\">\n      <!-- Gypsy2_bis#LTR/Gypsy -->\n      <g transform=\"translate(655.82278 473.820312)rotate(-90)scale(0.1 -0.1)\">\n       <use xlink:href=\"#DejaVuSans-71\"/>\n       <use x=\"77.490234\" xlink:href=\"#DejaVuSans-121\"/>\n       <use x=\"136.669922\" xlink:href=\"#DejaVuSans-112\"/>\n       <use x=\"200.146484\" xlink:href=\"#DejaVuSans-115\"/>\n       <use x=\"252.246094\" xlink:href=\"#DejaVuSans-121\"/>\n       <use x=\"311.425781\" xlink:href=\"#DejaVuSans-50\"/>\n       <use x=\"375.048828\" xlink:href=\"#DejaVuSans-95\"/>\n       <use x=\"425.048828\" xlink:href=\"#DejaVuSans-98\"/>\n       <use x=\"488.525391\" xlink:href=\"#DejaVuSans-105\"/>\n       <use x=\"516.308594\" xlink:href=\"#DejaVuSans-115\"/>\n       <use x=\"568.408203\" xlink:href=\"#DejaVuSans-35\"/>\n       <use x=\"652.197266\" xlink:href=\"#DejaVuSans-76\"/>\n       <use x=\"707.707031\" xlink:href=\"#DejaVuSans-84\"/>\n       <use x=\"768.791016\" xlink:href=\"#DejaVuSans-82\"/>\n       <use x=\"838.273438\" xlink:href=\"#DejaVuSans-47\"/>\n       <use x=\"871.964844\" xlink:href=\"#DejaVuSans-71\"/>\n       <use x=\"949.455078\" xlink:href=\"#DejaVuSans-121\"/>\n       <use x=\"1008.634766\" xlink:href=\"#DejaVuSans-112\"/>\n       <use x=\"1072.111328\" xlink:href=\"#DejaVuSans-115\"/>\n       <use x=\"1124.210938\" xlink:href=\"#DejaVuSans-121\"/>\n      </g>\n     </g>\n    </g>\n    <g id=\"xtick_208\">\n     <g id=\"line2d_214\">\n      <g>\n       <use style=\"stroke:#000000;stroke-width:0.8;\" x=\"661.593445\" xlink:href=\"#m12e0b210da\" y=\"348.478125\"/>\n      </g>\n     </g>\n     <g id=\"text_83\">\n      <!-- Gypsy2#LTR/Gypsy -->\n      <g transform=\"translate(664.35282 454.484375)rotate(-90)scale(0.1 -0.1)\">\n       <use xlink:href=\"#DejaVuSans-71\"/>\n       <use x=\"77.490234\" xlink:href=\"#DejaVuSans-121\"/>\n       <use x=\"136.669922\" xlink:href=\"#DejaVuSans-112\"/>\n       <use x=\"200.146484\" xlink:href=\"#DejaVuSans-115\"/>\n       <use x=\"252.246094\" xlink:href=\"#DejaVuSans-121\"/>\n       <use x=\"311.425781\" xlink:href=\"#DejaVuSans-50\"/>\n       <use x=\"375.048828\" xlink:href=\"#DejaVuSans-35\"/>\n       <use x=\"458.837891\" xlink:href=\"#DejaVuSans-76\"/>\n       <use x=\"514.347656\" xlink:href=\"#DejaVuSans-84\"/>\n       <use x=\"575.431641\" xlink:href=\"#DejaVuSans-82\"/>\n       <use x=\"644.914062\" xlink:href=\"#DejaVuSans-47\"/>\n       <use x=\"678.605469\" xlink:href=\"#DejaVuSans-71\"/>\n       <use x=\"756.095703\" xlink:href=\"#DejaVuSans-121\"/>\n       <use x=\"815.275391\" xlink:href=\"#DejaVuSans-112\"/>\n       <use x=\"878.751953\" xlink:href=\"#DejaVuSans-115\"/>\n       <use x=\"930.851562\" xlink:href=\"#DejaVuSans-121\"/>\n      </g>\n     </g>\n    </g>\n    <g id=\"xtick_209\">\n     <g id=\"line2d_215\">\n      <g>\n       <use style=\"stroke:#000000;stroke-width:0.8;\" x=\"669.984422\" xlink:href=\"#m12e0b210da\" y=\"348.478125\"/>\n      </g>\n     </g>\n     <g id=\"text_84\">\n      <!-- Gypsy3#LTR/Gypsy -->\n      <g transform=\"translate(672.743797 454.484375)rotate(-90)scale(0.1 -0.1)\">\n       <use xlink:href=\"#DejaVuSans-71\"/>\n       <use x=\"77.490234\" xlink:href=\"#DejaVuSans-121\"/>\n       <use x=\"136.669922\" xlink:href=\"#DejaVuSans-112\"/>\n       <use x=\"200.146484\" xlink:href=\"#DejaVuSans-115\"/>\n       <use x=\"252.246094\" xlink:href=\"#DejaVuSans-121\"/>\n       <use x=\"311.425781\" xlink:href=\"#DejaVuSans-51\"/>\n       <use x=\"375.048828\" xlink:href=\"#DejaVuSans-35\"/>\n       <use x=\"458.837891\" xlink:href=\"#DejaVuSans-76\"/>\n       <use x=\"514.347656\" xlink:href=\"#DejaVuSans-84\"/>\n       <use x=\"575.431641\" xlink:href=\"#DejaVuSans-82\"/>\n       <use x=\"644.914062\" xlink:href=\"#DejaVuSans-47\"/>\n       <use x=\"678.605469\" xlink:href=\"#DejaVuSans-71\"/>\n       <use x=\"756.095703\" xlink:href=\"#DejaVuSans-121\"/>\n       <use x=\"815.275391\" xlink:href=\"#DejaVuSans-112\"/>\n       <use x=\"878.751953\" xlink:href=\"#DejaVuSans-115\"/>\n       <use x=\"930.851562\" xlink:href=\"#DejaVuSans-121\"/>\n      </g>\n     </g>\n    </g>\n    <g id=\"xtick_210\">\n     <g id=\"line2d_216\">\n      <g>\n       <use style=\"stroke:#000000;stroke-width:0.8;\" x=\"678.375399\" xlink:href=\"#m12e0b210da\" y=\"348.478125\"/>\n      </g>\n     </g>\n     <g id=\"text_85\">\n      <!-- Gypsy5#LTR/Gypsy -->\n      <g transform=\"translate(681.134774 454.484375)rotate(-90)scale(0.1 -0.1)\">\n       <use xlink:href=\"#DejaVuSans-71\"/>\n       <use x=\"77.490234\" xlink:href=\"#DejaVuSans-121\"/>\n       <use x=\"136.669922\" xlink:href=\"#DejaVuSans-112\"/>\n       <use x=\"200.146484\" xlink:href=\"#DejaVuSans-115\"/>\n       <use x=\"252.246094\" xlink:href=\"#DejaVuSans-121\"/>\n       <use x=\"311.425781\" xlink:href=\"#DejaVuSans-53\"/>\n       <use x=\"375.048828\" xlink:href=\"#DejaVuSans-35\"/>\n       <use x=\"458.837891\" xlink:href=\"#DejaVuSans-76\"/>\n       <use x=\"514.347656\" xlink:href=\"#DejaVuSans-84\"/>\n       <use x=\"575.431641\" xlink:href=\"#DejaVuSans-82\"/>\n       <use x=\"644.914062\" xlink:href=\"#DejaVuSans-47\"/>\n       <use x=\"678.605469\" xlink:href=\"#DejaVuSans-71\"/>\n       <use x=\"756.095703\" xlink:href=\"#DejaVuSans-121\"/>\n       <use x=\"815.275391\" xlink:href=\"#DejaVuSans-112\"/>\n       <use x=\"878.751953\" xlink:href=\"#DejaVuSans-115\"/>\n       <use x=\"930.851562\" xlink:href=\"#DejaVuSans-121\"/>\n      </g>\n     </g>\n    </g>\n    <g id=\"xtick_211\">\n     <g id=\"line2d_217\">\n      <g>\n       <use style=\"stroke:#000000;stroke-width:0.8;\" x=\"686.766377\" xlink:href=\"#m12e0b210da\" y=\"348.478125\"/>\n      </g>\n     </g>\n     <g id=\"text_86\">\n      <!-- Gypsy6#LTR/Gypsy -->\n      <g transform=\"translate(689.525752 454.484375)rotate(-90)scale(0.1 -0.1)\">\n       <use xlink:href=\"#DejaVuSans-71\"/>\n       <use x=\"77.490234\" xlink:href=\"#DejaVuSans-121\"/>\n       <use x=\"136.669922\" xlink:href=\"#DejaVuSans-112\"/>\n       <use x=\"200.146484\" xlink:href=\"#DejaVuSans-115\"/>\n       <use x=\"252.246094\" xlink:href=\"#DejaVuSans-121\"/>\n       <use x=\"311.425781\" xlink:href=\"#DejaVuSans-54\"/>\n       <use x=\"375.048828\" xlink:href=\"#DejaVuSans-35\"/>\n       <use x=\"458.837891\" xlink:href=\"#DejaVuSans-76\"/>\n       <use x=\"514.347656\" xlink:href=\"#DejaVuSans-84\"/>\n       <use x=\"575.431641\" xlink:href=\"#DejaVuSans-82\"/>\n       <use x=\"644.914062\" xlink:href=\"#DejaVuSans-47\"/>\n       <use x=\"678.605469\" xlink:href=\"#DejaVuSans-71\"/>\n       <use x=\"756.095703\" xlink:href=\"#DejaVuSans-121\"/>\n       <use x=\"815.275391\" xlink:href=\"#DejaVuSans-112\"/>\n       <use x=\"878.751953\" xlink:href=\"#DejaVuSans-115\"/>\n       <use x=\"930.851562\" xlink:href=\"#DejaVuSans-121\"/>\n      </g>\n     </g>\n    </g>\n    <g id=\"xtick_212\">\n     <g id=\"line2d_218\">\n      <g>\n       <use style=\"stroke:#000000;stroke-width:0.8;\" x=\"695.157354\" xlink:href=\"#m12e0b210da\" y=\"348.478125\"/>\n      </g>\n     </g>\n     <g id=\"text_87\">\n      <!-- Gypsy7#LTR/Gypsy -->\n      <g transform=\"translate(697.916729 454.484375)rotate(-90)scale(0.1 -0.1)\">\n       <use xlink:href=\"#DejaVuSans-71\"/>\n       <use x=\"77.490234\" xlink:href=\"#DejaVuSans-121\"/>\n       <use x=\"136.669922\" xlink:href=\"#DejaVuSans-112\"/>\n       <use x=\"200.146484\" xlink:href=\"#DejaVuSans-115\"/>\n       <use x=\"252.246094\" xlink:href=\"#DejaVuSans-121\"/>\n       <use x=\"311.425781\" xlink:href=\"#DejaVuSans-55\"/>\n       <use x=\"375.048828\" xlink:href=\"#DejaVuSans-35\"/>\n       <use x=\"458.837891\" xlink:href=\"#DejaVuSans-76\"/>\n       <use x=\"514.347656\" xlink:href=\"#DejaVuSans-84\"/>\n       <use x=\"575.431641\" xlink:href=\"#DejaVuSans-82\"/>\n       <use x=\"644.914062\" xlink:href=\"#DejaVuSans-47\"/>\n       <use x=\"678.605469\" xlink:href=\"#DejaVuSans-71\"/>\n       <use x=\"756.095703\" xlink:href=\"#DejaVuSans-121\"/>\n       <use x=\"815.275391\" xlink:href=\"#DejaVuSans-112\"/>\n       <use x=\"878.751953\" xlink:href=\"#DejaVuSans-115\"/>\n       <use x=\"930.851562\" xlink:href=\"#DejaVuSans-121\"/>\n      </g>\n     </g>\n    </g>\n    <g id=\"xtick_213\">\n     <g id=\"line2d_219\">\n      <g>\n       <use style=\"stroke:#000000;stroke-width:0.8;\" x=\"703.548332\" xlink:href=\"#m12e0b210da\" y=\"348.478125\"/>\n      </g>\n     </g>\n     <g id=\"text_88\">\n      <!-- Gypsy8#LTR/Gypsy -->\n      <defs>\n       <path d=\"M 31.78125 34.625 \nQ 24.75 34.625 20.71875 30.859375 \nQ 16.703125 27.09375 16.703125 20.515625 \nQ 16.703125 13.921875 20.71875 10.15625 \nQ 24.75 6.390625 31.78125 6.390625 \nQ 38.8125 6.390625 42.859375 10.171875 \nQ 46.921875 13.96875 46.921875 20.515625 \nQ 46.921875 27.09375 42.890625 30.859375 \nQ 38.875 34.625 31.78125 34.625 \nz\nM 21.921875 38.8125 \nQ 15.578125 40.375 12.03125 44.71875 \nQ 8.5 49.078125 8.5 55.328125 \nQ 8.5 64.0625 14.71875 69.140625 \nQ 20.953125 74.21875 31.78125 74.21875 \nQ 42.671875 74.21875 48.875 69.140625 \nQ 55.078125 64.0625 55.078125 55.328125 \nQ 55.078125 49.078125 51.53125 44.71875 \nQ 48 40.375 41.703125 38.8125 \nQ 48.828125 37.15625 52.796875 32.3125 \nQ 56.78125 27.484375 56.78125 20.515625 \nQ 56.78125 9.90625 50.3125 4.234375 \nQ 43.84375 -1.421875 31.78125 -1.421875 \nQ 19.734375 -1.421875 13.25 4.234375 \nQ 6.78125 9.90625 6.78125 20.515625 \nQ 6.78125 27.484375 10.78125 32.3125 \nQ 14.796875 37.15625 21.921875 38.8125 \nz\nM 18.3125 54.390625 \nQ 18.3125 48.734375 21.84375 45.5625 \nQ 25.390625 42.390625 31.78125 42.390625 \nQ 38.140625 42.390625 41.71875 45.5625 \nQ 45.3125 48.734375 45.3125 54.390625 \nQ 45.3125 60.0625 41.71875 63.234375 \nQ 38.140625 66.40625 31.78125 66.40625 \nQ 25.390625 66.40625 21.84375 63.234375 \nQ 18.3125 60.0625 18.3125 54.390625 \nz\n\" id=\"DejaVuSans-56\"/>\n      </defs>\n      <g transform=\"translate(706.307707 454.484375)rotate(-90)scale(0.1 -0.1)\">\n       <use xlink:href=\"#DejaVuSans-71\"/>\n       <use x=\"77.490234\" xlink:href=\"#DejaVuSans-121\"/>\n       <use x=\"136.669922\" xlink:href=\"#DejaVuSans-112\"/>\n       <use x=\"200.146484\" xlink:href=\"#DejaVuSans-115\"/>\n       <use x=\"252.246094\" xlink:href=\"#DejaVuSans-121\"/>\n       <use x=\"311.425781\" xlink:href=\"#DejaVuSans-56\"/>\n       <use x=\"375.048828\" xlink:href=\"#DejaVuSans-35\"/>\n       <use x=\"458.837891\" xlink:href=\"#DejaVuSans-76\"/>\n       <use x=\"514.347656\" xlink:href=\"#DejaVuSans-84\"/>\n       <use x=\"575.431641\" xlink:href=\"#DejaVuSans-82\"/>\n       <use x=\"644.914062\" xlink:href=\"#DejaVuSans-47\"/>\n       <use x=\"678.605469\" xlink:href=\"#DejaVuSans-71\"/>\n       <use x=\"756.095703\" xlink:href=\"#DejaVuSans-121\"/>\n       <use x=\"815.275391\" xlink:href=\"#DejaVuSans-112\"/>\n       <use x=\"878.751953\" xlink:href=\"#DejaVuSans-115\"/>\n       <use x=\"930.851562\" xlink:href=\"#DejaVuSans-121\"/>\n      </g>\n     </g>\n    </g>\n    <g id=\"xtick_214\">\n     <g id=\"line2d_220\">\n      <g>\n       <use style=\"stroke:#000000;stroke-width:0.8;\" x=\"711.939309\" xlink:href=\"#m12e0b210da\" y=\"348.478125\"/>\n      </g>\n     </g>\n     <g id=\"text_89\">\n      <!-- Gypsy#LTR/Gypsy -->\n      <g transform=\"translate(714.698684 448.121875)rotate(-90)scale(0.1 -0.1)\">\n       <use xlink:href=\"#DejaVuSans-71\"/>\n       <use x=\"77.490234\" xlink:href=\"#DejaVuSans-121\"/>\n       <use x=\"136.669922\" xlink:href=\"#DejaVuSans-112\"/>\n       <use x=\"200.146484\" xlink:href=\"#DejaVuSans-115\"/>\n       <use x=\"252.246094\" xlink:href=\"#DejaVuSans-121\"/>\n       <use x=\"311.425781\" xlink:href=\"#DejaVuSans-35\"/>\n       <use x=\"395.214844\" xlink:href=\"#DejaVuSans-76\"/>\n       <use x=\"450.724609\" xlink:href=\"#DejaVuSans-84\"/>\n       <use x=\"511.808594\" xlink:href=\"#DejaVuSans-82\"/>\n       <use x=\"581.291016\" xlink:href=\"#DejaVuSans-47\"/>\n       <use x=\"614.982422\" xlink:href=\"#DejaVuSans-71\"/>\n       <use x=\"692.472656\" xlink:href=\"#DejaVuSans-121\"/>\n       <use x=\"751.652344\" xlink:href=\"#DejaVuSans-112\"/>\n       <use x=\"815.128906\" xlink:href=\"#DejaVuSans-115\"/>\n       <use x=\"867.228516\" xlink:href=\"#DejaVuSans-121\"/>\n      </g>\n     </g>\n    </g>\n    <g id=\"xtick_215\">\n     <g id=\"line2d_221\">\n      <g>\n       <use style=\"stroke:#000000;stroke-width:0.8;\" x=\"720.330287\" xlink:href=\"#m12e0b210da\" y=\"348.478125\"/>\n      </g>\n     </g>\n     <g id=\"text_90\">\n      <!-- IDEFIX#LTR/Gypsy -->\n      <defs>\n       <path d=\"M 6.296875 72.90625 \nL 16.890625 72.90625 \nL 35.015625 45.796875 \nL 53.21875 72.90625 \nL 63.8125 72.90625 \nL 40.375 37.890625 \nL 65.375 0 \nL 54.78125 0 \nL 34.28125 31 \nL 13.625 0 \nL 2.984375 0 \nL 29 38.921875 \nz\n\" id=\"DejaVuSans-88\"/>\n      </defs>\n      <g transform=\"translate(723.089662 449.498437)rotate(-90)scale(0.1 -0.1)\">\n       <use xlink:href=\"#DejaVuSans-73\"/>\n       <use x=\"29.492188\" xlink:href=\"#DejaVuSans-68\"/>\n       <use x=\"106.494141\" xlink:href=\"#DejaVuSans-69\"/>\n       <use x=\"169.677734\" xlink:href=\"#DejaVuSans-70\"/>\n       <use x=\"227.197266\" xlink:href=\"#DejaVuSans-73\"/>\n       <use x=\"256.689453\" xlink:href=\"#DejaVuSans-88\"/>\n       <use x=\"325.195312\" xlink:href=\"#DejaVuSans-35\"/>\n       <use x=\"408.984375\" xlink:href=\"#DejaVuSans-76\"/>\n       <use x=\"464.494141\" xlink:href=\"#DejaVuSans-84\"/>\n       <use x=\"525.578125\" xlink:href=\"#DejaVuSans-82\"/>\n       <use x=\"595.060547\" xlink:href=\"#DejaVuSans-47\"/>\n       <use x=\"628.751953\" xlink:href=\"#DejaVuSans-71\"/>\n       <use x=\"706.242188\" xlink:href=\"#DejaVuSans-121\"/>\n       <use x=\"765.421875\" xlink:href=\"#DejaVuSans-112\"/>\n       <use x=\"828.898438\" xlink:href=\"#DejaVuSans-115\"/>\n       <use x=\"880.998047\" xlink:href=\"#DejaVuSans-121\"/>\n      </g>\n     </g>\n    </g>\n    <g id=\"xtick_216\">\n     <g id=\"line2d_222\">\n      <g>\n       <use style=\"stroke:#000000;stroke-width:0.8;\" x=\"728.721264\" xlink:href=\"#m12e0b210da\" y=\"348.478125\"/>\n      </g>\n     </g>\n     <g id=\"text_91\">\n      <!-- Invader1#LTR/Gypsy -->\n      <defs>\n       <path d=\"M 2.984375 54.6875 \nL 12.5 54.6875 \nL 29.59375 8.796875 \nL 46.6875 54.6875 \nL 56.203125 54.6875 \nL 35.6875 0 \nL 23.484375 0 \nz\n\" id=\"DejaVuSans-118\"/>\n       <path d=\"M 45.40625 46.390625 \nL 45.40625 75.984375 \nL 54.390625 75.984375 \nL 54.390625 0 \nL 45.40625 0 \nL 45.40625 8.203125 \nQ 42.578125 3.328125 38.25 0.953125 \nQ 33.9375 -1.421875 27.875 -1.421875 \nQ 17.96875 -1.421875 11.734375 6.484375 \nQ 5.515625 14.40625 5.515625 27.296875 \nQ 5.515625 40.1875 11.734375 48.09375 \nQ 17.96875 56 27.875 56 \nQ 33.9375 56 38.25 53.625 \nQ 42.578125 51.265625 45.40625 46.390625 \nz\nM 14.796875 27.296875 \nQ 14.796875 17.390625 18.875 11.75 \nQ 22.953125 6.109375 30.078125 6.109375 \nQ 37.203125 6.109375 41.296875 11.75 \nQ 45.40625 17.390625 45.40625 27.296875 \nQ 45.40625 37.203125 41.296875 42.84375 \nQ 37.203125 48.484375 30.078125 48.484375 \nQ 22.953125 48.484375 18.875 42.84375 \nQ 14.796875 37.203125 14.796875 27.296875 \nz\n\" id=\"DejaVuSans-100\"/>\n      </defs>\n      <g transform=\"translate(731.480639 461.2875)rotate(-90)scale(0.1 -0.1)\">\n       <use xlink:href=\"#DejaVuSans-73\"/>\n       <use x=\"29.492188\" xlink:href=\"#DejaVuSans-110\"/>\n       <use x=\"92.871094\" xlink:href=\"#DejaVuSans-118\"/>\n       <use x=\"152.050781\" xlink:href=\"#DejaVuSans-97\"/>\n       <use x=\"213.330078\" xlink:href=\"#DejaVuSans-100\"/>\n       <use x=\"276.806641\" xlink:href=\"#DejaVuSans-101\"/>\n       <use x=\"338.330078\" xlink:href=\"#DejaVuSans-114\"/>\n       <use x=\"379.443359\" xlink:href=\"#DejaVuSans-49\"/>\n       <use x=\"443.066406\" xlink:href=\"#DejaVuSans-35\"/>\n       <use x=\"526.855469\" xlink:href=\"#DejaVuSans-76\"/>\n       <use x=\"582.365234\" xlink:href=\"#DejaVuSans-84\"/>\n       <use x=\"643.449219\" xlink:href=\"#DejaVuSans-82\"/>\n       <use x=\"712.931641\" xlink:href=\"#DejaVuSans-47\"/>\n       <use x=\"746.623047\" xlink:href=\"#DejaVuSans-71\"/>\n       <use x=\"824.113281\" xlink:href=\"#DejaVuSans-121\"/>\n       <use x=\"883.292969\" xlink:href=\"#DejaVuSans-112\"/>\n       <use x=\"946.769531\" xlink:href=\"#DejaVuSans-115\"/>\n       <use x=\"998.869141\" xlink:href=\"#DejaVuSans-121\"/>\n      </g>\n     </g>\n    </g>\n    <g id=\"xtick_217\">\n     <g id=\"line2d_223\">\n      <g>\n       <use style=\"stroke:#000000;stroke-width:0.8;\" x=\"737.112242\" xlink:href=\"#m12e0b210da\" y=\"348.478125\"/>\n      </g>\n     </g>\n     <g id=\"text_92\">\n      <!-- Invader4#LTR/Gypsy -->\n      <g transform=\"translate(739.871617 461.2875)rotate(-90)scale(0.1 -0.1)\">\n       <use xlink:href=\"#DejaVuSans-73\"/>\n       <use x=\"29.492188\" xlink:href=\"#DejaVuSans-110\"/>\n       <use x=\"92.871094\" xlink:href=\"#DejaVuSans-118\"/>\n       <use x=\"152.050781\" xlink:href=\"#DejaVuSans-97\"/>\n       <use x=\"213.330078\" xlink:href=\"#DejaVuSans-100\"/>\n       <use x=\"276.806641\" xlink:href=\"#DejaVuSans-101\"/>\n       <use x=\"338.330078\" xlink:href=\"#DejaVuSans-114\"/>\n       <use x=\"379.443359\" xlink:href=\"#DejaVuSans-52\"/>\n       <use x=\"443.066406\" xlink:href=\"#DejaVuSans-35\"/>\n       <use x=\"526.855469\" xlink:href=\"#DejaVuSans-76\"/>\n       <use x=\"582.365234\" xlink:href=\"#DejaVuSans-84\"/>\n       <use x=\"643.449219\" xlink:href=\"#DejaVuSans-82\"/>\n       <use x=\"712.931641\" xlink:href=\"#DejaVuSans-47\"/>\n       <use x=\"746.623047\" xlink:href=\"#DejaVuSans-71\"/>\n       <use x=\"824.113281\" xlink:href=\"#DejaVuSans-121\"/>\n       <use x=\"883.292969\" xlink:href=\"#DejaVuSans-112\"/>\n       <use x=\"946.769531\" xlink:href=\"#DejaVuSans-115\"/>\n       <use x=\"998.869141\" xlink:href=\"#DejaVuSans-121\"/>\n      </g>\n     </g>\n    </g>\n    <g id=\"xtick_218\">\n     <g id=\"line2d_224\">\n      <g>\n       <use style=\"stroke:#000000;stroke-width:0.8;\" x=\"745.503219\" xlink:href=\"#m12e0b210da\" y=\"348.478125\"/>\n      </g>\n     </g>\n     <g id=\"text_93\">\n      <!-- Invader5#LTR/Gypsy -->\n      <g transform=\"translate(748.262594 461.2875)rotate(-90)scale(0.1 -0.1)\">\n       <use xlink:href=\"#DejaVuSans-73\"/>\n       <use x=\"29.492188\" xlink:href=\"#DejaVuSans-110\"/>\n       <use x=\"92.871094\" xlink:href=\"#DejaVuSans-118\"/>\n       <use x=\"152.050781\" xlink:href=\"#DejaVuSans-97\"/>\n       <use x=\"213.330078\" xlink:href=\"#DejaVuSans-100\"/>\n       <use x=\"276.806641\" xlink:href=\"#DejaVuSans-101\"/>\n       <use x=\"338.330078\" xlink:href=\"#DejaVuSans-114\"/>\n       <use x=\"379.443359\" xlink:href=\"#DejaVuSans-53\"/>\n       <use x=\"443.066406\" xlink:href=\"#DejaVuSans-35\"/>\n       <use x=\"526.855469\" xlink:href=\"#DejaVuSans-76\"/>\n       <use x=\"582.365234\" xlink:href=\"#DejaVuSans-84\"/>\n       <use x=\"643.449219\" xlink:href=\"#DejaVuSans-82\"/>\n       <use x=\"712.931641\" xlink:href=\"#DejaVuSans-47\"/>\n       <use x=\"746.623047\" xlink:href=\"#DejaVuSans-71\"/>\n       <use x=\"824.113281\" xlink:href=\"#DejaVuSans-121\"/>\n       <use x=\"883.292969\" xlink:href=\"#DejaVuSans-112\"/>\n       <use x=\"946.769531\" xlink:href=\"#DejaVuSans-115\"/>\n       <use x=\"998.869141\" xlink:href=\"#DejaVuSans-121\"/>\n      </g>\n     </g>\n    </g>\n    <g id=\"xtick_219\">\n     <g id=\"line2d_225\">\n      <g>\n       <use style=\"stroke:#000000;stroke-width:0.8;\" x=\"753.894196\" xlink:href=\"#m12e0b210da\" y=\"348.478125\"/>\n      </g>\n     </g>\n     <g id=\"text_94\">\n      <!-- Invader6#LTR/Gypsy -->\n      <g transform=\"translate(756.653571 461.2875)rotate(-90)scale(0.1 -0.1)\">\n       <use xlink:href=\"#DejaVuSans-73\"/>\n       <use x=\"29.492188\" xlink:href=\"#DejaVuSans-110\"/>\n       <use x=\"92.871094\" xlink:href=\"#DejaVuSans-118\"/>\n       <use x=\"152.050781\" xlink:href=\"#DejaVuSans-97\"/>\n       <use x=\"213.330078\" xlink:href=\"#DejaVuSans-100\"/>\n       <use x=\"276.806641\" xlink:href=\"#DejaVuSans-101\"/>\n       <use x=\"338.330078\" xlink:href=\"#DejaVuSans-114\"/>\n       <use x=\"379.443359\" xlink:href=\"#DejaVuSans-54\"/>\n       <use x=\"443.066406\" xlink:href=\"#DejaVuSans-35\"/>\n       <use x=\"526.855469\" xlink:href=\"#DejaVuSans-76\"/>\n       <use x=\"582.365234\" xlink:href=\"#DejaVuSans-84\"/>\n       <use x=\"643.449219\" xlink:href=\"#DejaVuSans-82\"/>\n       <use x=\"712.931641\" xlink:href=\"#DejaVuSans-47\"/>\n       <use x=\"746.623047\" xlink:href=\"#DejaVuSans-71\"/>\n       <use x=\"824.113281\" xlink:href=\"#DejaVuSans-121\"/>\n       <use x=\"883.292969\" xlink:href=\"#DejaVuSans-112\"/>\n       <use x=\"946.769531\" xlink:href=\"#DejaVuSans-115\"/>\n       <use x=\"998.869141\" xlink:href=\"#DejaVuSans-121\"/>\n      </g>\n     </g>\n    </g>\n    <g id=\"xtick_220\">\n     <g id=\"line2d_226\">\n      <g>\n       <use style=\"stroke:#000000;stroke-width:0.8;\" x=\"762.285174\" xlink:href=\"#m12e0b210da\" y=\"348.478125\"/>\n      </g>\n     </g>\n     <g id=\"text_95\">\n      <!-- MAX#LTR/Pao -->\n      <g transform=\"translate(765.044549 426.423437)rotate(-90)scale(0.1 -0.1)\">\n       <use xlink:href=\"#DejaVuSans-77\"/>\n       <use x=\"86.279297\" xlink:href=\"#DejaVuSans-65\"/>\n       <use x=\"154.6875\" xlink:href=\"#DejaVuSans-88\"/>\n       <use x=\"223.193359\" xlink:href=\"#DejaVuSans-35\"/>\n       <use x=\"306.982422\" xlink:href=\"#DejaVuSans-76\"/>\n       <use x=\"362.492188\" xlink:href=\"#DejaVuSans-84\"/>\n       <use x=\"423.576172\" xlink:href=\"#DejaVuSans-82\"/>\n       <use x=\"493.058594\" xlink:href=\"#DejaVuSans-47\"/>\n       <use x=\"526.75\" xlink:href=\"#DejaVuSans-80\"/>\n       <use x=\"586.990234\" xlink:href=\"#DejaVuSans-97\"/>\n       <use x=\"648.269531\" xlink:href=\"#DejaVuSans-111\"/>\n      </g>\n     </g>\n    </g>\n    <g id=\"xtick_221\">\n     <g id=\"line2d_227\">\n      <g>\n       <use style=\"stroke:#000000;stroke-width:0.8;\" x=\"770.676151\" xlink:href=\"#m12e0b210da\" y=\"348.478125\"/>\n      </g>\n     </g>\n     <g id=\"text_96\">\n      <!-- MDG1#LTR/Gypsy -->\n      <g transform=\"translate(773.435526 447.417187)rotate(-90)scale(0.1 -0.1)\">\n       <use xlink:href=\"#DejaVuSans-77\"/>\n       <use x=\"86.279297\" xlink:href=\"#DejaVuSans-68\"/>\n       <use x=\"163.28125\" xlink:href=\"#DejaVuSans-71\"/>\n       <use x=\"240.771484\" xlink:href=\"#DejaVuSans-49\"/>\n       <use x=\"304.394531\" xlink:href=\"#DejaVuSans-35\"/>\n       <use x=\"388.183594\" xlink:href=\"#DejaVuSans-76\"/>\n       <use x=\"443.693359\" xlink:href=\"#DejaVuSans-84\"/>\n       <use x=\"504.777344\" xlink:href=\"#DejaVuSans-82\"/>\n       <use x=\"574.259766\" xlink:href=\"#DejaVuSans-47\"/>\n       <use x=\"607.951172\" xlink:href=\"#DejaVuSans-71\"/>\n       <use x=\"685.441406\" xlink:href=\"#DejaVuSans-121\"/>\n       <use x=\"744.621094\" xlink:href=\"#DejaVuSans-112\"/>\n       <use x=\"808.097656\" xlink:href=\"#DejaVuSans-115\"/>\n       <use x=\"860.197266\" xlink:href=\"#DejaVuSans-121\"/>\n      </g>\n     </g>\n    </g>\n    <g id=\"xtick_222\">\n     <g id=\"line2d_228\">\n      <g>\n       <use style=\"stroke:#000000;stroke-width:0.8;\" x=\"779.067129\" xlink:href=\"#m12e0b210da\" y=\"348.478125\"/>\n      </g>\n     </g>\n     <g id=\"text_97\">\n      <!-- NINJA#LTR/Pao -->\n      <g transform=\"translate(781.826504 431.80625)rotate(-90)scale(0.1 -0.1)\">\n       <use xlink:href=\"#DejaVuSans-78\"/>\n       <use x=\"74.804688\" xlink:href=\"#DejaVuSans-73\"/>\n       <use x=\"104.296875\" xlink:href=\"#DejaVuSans-78\"/>\n       <use x=\"179.101562\" xlink:href=\"#DejaVuSans-74\"/>\n       <use x=\"208.578125\" xlink:href=\"#DejaVuSans-65\"/>\n       <use x=\"276.986328\" xlink:href=\"#DejaVuSans-35\"/>\n       <use x=\"360.775391\" xlink:href=\"#DejaVuSans-76\"/>\n       <use x=\"416.285156\" xlink:href=\"#DejaVuSans-84\"/>\n       <use x=\"477.369141\" xlink:href=\"#DejaVuSans-82\"/>\n       <use x=\"546.851562\" xlink:href=\"#DejaVuSans-47\"/>\n       <use x=\"580.542969\" xlink:href=\"#DejaVuSans-80\"/>\n       <use x=\"640.783203\" xlink:href=\"#DejaVuSans-97\"/>\n       <use x=\"702.0625\" xlink:href=\"#DejaVuSans-111\"/>\n      </g>\n     </g>\n    </g>\n    <g id=\"xtick_223\">\n     <g id=\"line2d_229\">\n      <g>\n       <use style=\"stroke:#000000;stroke-width:0.8;\" x=\"787.458106\" xlink:href=\"#m12e0b210da\" y=\"348.478125\"/>\n      </g>\n     </g>\n     <g id=\"text_98\">\n      <!-- NOMAD#LTR/Gypsy -->\n      <g transform=\"translate(790.217481 455.5)rotate(-90)scale(0.1 -0.1)\">\n       <use xlink:href=\"#DejaVuSans-78\"/>\n       <use x=\"74.804688\" xlink:href=\"#DejaVuSans-79\"/>\n       <use x=\"153.515625\" xlink:href=\"#DejaVuSans-77\"/>\n       <use x=\"239.794922\" xlink:href=\"#DejaVuSans-65\"/>\n       <use x=\"308.203125\" xlink:href=\"#DejaVuSans-68\"/>\n       <use x=\"385.205078\" xlink:href=\"#DejaVuSans-35\"/>\n       <use x=\"468.994141\" xlink:href=\"#DejaVuSans-76\"/>\n       <use x=\"524.503906\" xlink:href=\"#DejaVuSans-84\"/>\n       <use x=\"585.587891\" xlink:href=\"#DejaVuSans-82\"/>\n       <use x=\"655.070312\" xlink:href=\"#DejaVuSans-47\"/>\n       <use x=\"688.761719\" xlink:href=\"#DejaVuSans-71\"/>\n       <use x=\"766.251953\" xlink:href=\"#DejaVuSans-121\"/>\n       <use x=\"825.431641\" xlink:href=\"#DejaVuSans-112\"/>\n       <use x=\"888.908203\" xlink:href=\"#DejaVuSans-115\"/>\n       <use x=\"941.007812\" xlink:href=\"#DejaVuSans-121\"/>\n      </g>\n     </g>\n    </g>\n    <g id=\"xtick_224\">\n     <g id=\"line2d_230\">\n      <g>\n       <use style=\"stroke:#000000;stroke-width:0.8;\" x=\"795.849084\" xlink:href=\"#m12e0b210da\" y=\"348.478125\"/>\n      </g>\n     </g>\n     <g id=\"text_99\">\n      <!-- QUASIMODO2#LTR/Gypsy -->\n      <defs>\n       <path d=\"M 39.40625 66.21875 \nQ 28.65625 66.21875 22.328125 58.203125 \nQ 16.015625 50.203125 16.015625 36.375 \nQ 16.015625 22.609375 22.328125 14.59375 \nQ 28.65625 6.59375 39.40625 6.59375 \nQ 50.140625 6.59375 56.421875 14.59375 \nQ 62.703125 22.609375 62.703125 36.375 \nQ 62.703125 50.203125 56.421875 58.203125 \nQ 50.140625 66.21875 39.40625 66.21875 \nz\nM 53.21875 1.3125 \nL 66.21875 -12.890625 \nL 54.296875 -12.890625 \nL 43.5 -1.21875 \nQ 41.890625 -1.3125 41.03125 -1.359375 \nQ 40.1875 -1.421875 39.40625 -1.421875 \nQ 24.03125 -1.421875 14.8125 8.859375 \nQ 5.609375 19.140625 5.609375 36.375 \nQ 5.609375 53.65625 14.8125 63.9375 \nQ 24.03125 74.21875 39.40625 74.21875 \nQ 54.734375 74.21875 63.90625 63.9375 \nQ 73.09375 53.65625 73.09375 36.375 \nQ 73.09375 23.6875 67.984375 14.640625 \nQ 62.890625 5.609375 53.21875 1.3125 \nz\n\" id=\"DejaVuSans-81\"/>\n      </defs>\n      <g transform=\"translate(798.608459 486.742187)rotate(-90)scale(0.1 -0.1)\">\n       <use xlink:href=\"#DejaVuSans-81\"/>\n       <use x=\"78.710938\" xlink:href=\"#DejaVuSans-85\"/>\n       <use x=\"151.904297\" xlink:href=\"#DejaVuSans-65\"/>\n       <use x=\"220.3125\" xlink:href=\"#DejaVuSans-83\"/>\n       <use x=\"283.789062\" xlink:href=\"#DejaVuSans-73\"/>\n       <use x=\"313.28125\" xlink:href=\"#DejaVuSans-77\"/>\n       <use x=\"399.560547\" xlink:href=\"#DejaVuSans-79\"/>\n       <use x=\"478.271484\" xlink:href=\"#DejaVuSans-68\"/>\n       <use x=\"555.273438\" xlink:href=\"#DejaVuSans-79\"/>\n       <use x=\"633.984375\" xlink:href=\"#DejaVuSans-50\"/>\n       <use x=\"697.607422\" xlink:href=\"#DejaVuSans-35\"/>\n       <use x=\"781.396484\" xlink:href=\"#DejaVuSans-76\"/>\n       <use x=\"836.90625\" xlink:href=\"#DejaVuSans-84\"/>\n       <use x=\"897.990234\" xlink:href=\"#DejaVuSans-82\"/>\n       <use x=\"967.472656\" xlink:href=\"#DejaVuSans-47\"/>\n       <use x=\"1001.164062\" xlink:href=\"#DejaVuSans-71\"/>\n       <use x=\"1078.654297\" xlink:href=\"#DejaVuSans-121\"/>\n       <use x=\"1137.833984\" xlink:href=\"#DejaVuSans-112\"/>\n       <use x=\"1201.310547\" xlink:href=\"#DejaVuSans-115\"/>\n       <use x=\"1253.410156\" xlink:href=\"#DejaVuSans-121\"/>\n      </g>\n     </g>\n    </g>\n    <g id=\"xtick_225\">\n     <g id=\"line2d_231\">\n      <g>\n       <use style=\"stroke:#000000;stroke-width:0.8;\" x=\"804.240061\" xlink:href=\"#m12e0b210da\" y=\"348.478125\"/>\n      </g>\n     </g>\n     <g id=\"text_100\">\n      <!-- QUASIMODO#LTR/Gypsy -->\n      <g transform=\"translate(806.999436 480.379687)rotate(-90)scale(0.1 -0.1)\">\n       <use xlink:href=\"#DejaVuSans-81\"/>\n       <use x=\"78.710938\" xlink:href=\"#DejaVuSans-85\"/>\n       <use x=\"151.904297\" xlink:href=\"#DejaVuSans-65\"/>\n       <use x=\"220.3125\" xlink:href=\"#DejaVuSans-83\"/>\n       <use x=\"283.789062\" xlink:href=\"#DejaVuSans-73\"/>\n       <use x=\"313.28125\" xlink:href=\"#DejaVuSans-77\"/>\n       <use x=\"399.560547\" xlink:href=\"#DejaVuSans-79\"/>\n       <use x=\"478.271484\" xlink:href=\"#DejaVuSans-68\"/>\n       <use x=\"555.273438\" xlink:href=\"#DejaVuSans-79\"/>\n       <use x=\"633.984375\" xlink:href=\"#DejaVuSans-35\"/>\n       <use x=\"717.773438\" xlink:href=\"#DejaVuSans-76\"/>\n       <use x=\"773.283203\" xlink:href=\"#DejaVuSans-84\"/>\n       <use x=\"834.367188\" xlink:href=\"#DejaVuSans-82\"/>\n       <use x=\"903.849609\" xlink:href=\"#DejaVuSans-47\"/>\n       <use x=\"937.541016\" xlink:href=\"#DejaVuSans-71\"/>\n       <use x=\"1015.03125\" xlink:href=\"#DejaVuSans-121\"/>\n       <use x=\"1074.210938\" xlink:href=\"#DejaVuSans-112\"/>\n       <use x=\"1137.6875\" xlink:href=\"#DejaVuSans-115\"/>\n       <use x=\"1189.787109\" xlink:href=\"#DejaVuSans-121\"/>\n      </g>\n     </g>\n    </g>\n    <g id=\"xtick_226\">\n     <g id=\"line2d_232\">\n      <g>\n       <use style=\"stroke:#000000;stroke-width:0.8;\" x=\"812.631039\" xlink:href=\"#m12e0b210da\" y=\"348.478125\"/>\n      </g>\n     </g>\n     <g id=\"text_101\">\n      <!-- ROOA#LTR/Pao -->\n      <g transform=\"translate(815.390414 433.635937)rotate(-90)scale(0.1 -0.1)\">\n       <use xlink:href=\"#DejaVuSans-82\"/>\n       <use x=\"69.482422\" xlink:href=\"#DejaVuSans-79\"/>\n       <use x=\"148.193359\" xlink:href=\"#DejaVuSans-79\"/>\n       <use x=\"226.888672\" xlink:href=\"#DejaVuSans-65\"/>\n       <use x=\"295.296875\" xlink:href=\"#DejaVuSans-35\"/>\n       <use x=\"379.085938\" xlink:href=\"#DejaVuSans-76\"/>\n       <use x=\"434.595703\" xlink:href=\"#DejaVuSans-84\"/>\n       <use x=\"495.679688\" xlink:href=\"#DejaVuSans-82\"/>\n       <use x=\"565.162109\" xlink:href=\"#DejaVuSans-47\"/>\n       <use x=\"598.853516\" xlink:href=\"#DejaVuSans-80\"/>\n       <use x=\"659.09375\" xlink:href=\"#DejaVuSans-97\"/>\n       <use x=\"720.373047\" xlink:href=\"#DejaVuSans-111\"/>\n      </g>\n     </g>\n    </g>\n    <g id=\"xtick_227\">\n     <g id=\"line2d_233\">\n      <g>\n       <use style=\"stroke:#000000;stroke-width:0.8;\" x=\"821.022016\" xlink:href=\"#m12e0b210da\" y=\"348.478125\"/>\n      </g>\n     </g>\n     <g id=\"text_102\">\n      <!-- ROO#LTR/Pao -->\n      <g transform=\"translate(823.781391 426.796875)rotate(-90)scale(0.1 -0.1)\">\n       <use xlink:href=\"#DejaVuSans-82\"/>\n       <use x=\"69.482422\" xlink:href=\"#DejaVuSans-79\"/>\n       <use x=\"148.193359\" xlink:href=\"#DejaVuSans-79\"/>\n       <use x=\"226.904297\" xlink:href=\"#DejaVuSans-35\"/>\n       <use x=\"310.693359\" xlink:href=\"#DejaVuSans-76\"/>\n       <use x=\"366.203125\" xlink:href=\"#DejaVuSans-84\"/>\n       <use x=\"427.287109\" xlink:href=\"#DejaVuSans-82\"/>\n       <use x=\"496.769531\" xlink:href=\"#DejaVuSans-47\"/>\n       <use x=\"530.460938\" xlink:href=\"#DejaVuSans-80\"/>\n       <use x=\"590.701172\" xlink:href=\"#DejaVuSans-97\"/>\n       <use x=\"651.980469\" xlink:href=\"#DejaVuSans-111\"/>\n      </g>\n     </g>\n    </g>\n    <g id=\"xtick_228\">\n     <g id=\"line2d_234\">\n      <g>\n       <use style=\"stroke:#000000;stroke-width:0.8;\" x=\"829.412993\" xlink:href=\"#m12e0b210da\" y=\"348.478125\"/>\n      </g>\n     </g>\n     <g id=\"text_103\">\n      <!-- ROVER#LTR/Gypsy -->\n      <g transform=\"translate(832.172368 451.904687)rotate(-90)scale(0.1 -0.1)\">\n       <use xlink:href=\"#DejaVuSans-82\"/>\n       <use x=\"69.482422\" xlink:href=\"#DejaVuSans-79\"/>\n       <use x=\"148.177734\" xlink:href=\"#DejaVuSans-86\"/>\n       <use x=\"216.585938\" xlink:href=\"#DejaVuSans-69\"/>\n       <use x=\"279.769531\" xlink:href=\"#DejaVuSans-82\"/>\n       <use x=\"349.251953\" xlink:href=\"#DejaVuSans-35\"/>\n       <use x=\"433.041016\" xlink:href=\"#DejaVuSans-76\"/>\n       <use x=\"488.550781\" xlink:href=\"#DejaVuSans-84\"/>\n       <use x=\"549.634766\" xlink:href=\"#DejaVuSans-82\"/>\n       <use x=\"619.117188\" xlink:href=\"#DejaVuSans-47\"/>\n       <use x=\"652.808594\" xlink:href=\"#DejaVuSans-71\"/>\n       <use x=\"730.298828\" xlink:href=\"#DejaVuSans-121\"/>\n       <use x=\"789.478516\" xlink:href=\"#DejaVuSans-112\"/>\n       <use x=\"852.955078\" xlink:href=\"#DejaVuSans-115\"/>\n       <use x=\"905.054688\" xlink:href=\"#DejaVuSans-121\"/>\n      </g>\n     </g>\n    </g>\n    <g id=\"xtick_229\">\n     <g id=\"line2d_235\">\n      <g>\n       <use style=\"stroke:#000000;stroke-width:0.8;\" x=\"837.803971\" xlink:href=\"#m12e0b210da\" y=\"348.478125\"/>\n      </g>\n     </g>\n     <g id=\"text_104\">\n      <!-- Stalker2#LTR/Gypsy -->\n      <g transform=\"translate(840.563346 458.565625)rotate(-90)scale(0.1 -0.1)\">\n       <use xlink:href=\"#DejaVuSans-83\"/>\n       <use x=\"63.476562\" xlink:href=\"#DejaVuSans-116\"/>\n       <use x=\"102.685547\" xlink:href=\"#DejaVuSans-97\"/>\n       <use x=\"163.964844\" xlink:href=\"#DejaVuSans-108\"/>\n       <use x=\"191.748047\" xlink:href=\"#DejaVuSans-107\"/>\n       <use x=\"249.611328\" xlink:href=\"#DejaVuSans-101\"/>\n       <use x=\"311.134766\" xlink:href=\"#DejaVuSans-114\"/>\n       <use x=\"352.248047\" xlink:href=\"#DejaVuSans-50\"/>\n       <use x=\"415.871094\" xlink:href=\"#DejaVuSans-35\"/>\n       <use x=\"499.660156\" xlink:href=\"#DejaVuSans-76\"/>\n       <use x=\"555.169922\" xlink:href=\"#DejaVuSans-84\"/>\n       <use x=\"616.253906\" xlink:href=\"#DejaVuSans-82\"/>\n       <use x=\"685.736328\" xlink:href=\"#DejaVuSans-47\"/>\n       <use x=\"719.427734\" xlink:href=\"#DejaVuSans-71\"/>\n       <use x=\"796.917969\" xlink:href=\"#DejaVuSans-121\"/>\n       <use x=\"856.097656\" xlink:href=\"#DejaVuSans-112\"/>\n       <use x=\"919.574219\" xlink:href=\"#DejaVuSans-115\"/>\n       <use x=\"971.673828\" xlink:href=\"#DejaVuSans-121\"/>\n      </g>\n     </g>\n    </g>\n    <g id=\"xtick_230\">\n     <g id=\"line2d_236\">\n      <g>\n       <use style=\"stroke:#000000;stroke-width:0.8;\" x=\"846.194948\" xlink:href=\"#m12e0b210da\" y=\"348.478125\"/>\n      </g>\n     </g>\n     <g id=\"text_105\">\n      <!-- STALKER4#LTR/Gypsy -->\n      <g transform=\"translate(848.954323 468.023437)rotate(-90)scale(0.1 -0.1)\">\n       <use xlink:href=\"#DejaVuSans-83\"/>\n       <use x=\"63.476562\" xlink:href=\"#DejaVuSans-84\"/>\n       <use x=\"124.451172\" xlink:href=\"#DejaVuSans-65\"/>\n       <use x=\"192.859375\" xlink:href=\"#DejaVuSans-76\"/>\n       <use x=\"248.572266\" xlink:href=\"#DejaVuSans-75\"/>\n       <use x=\"314.148438\" xlink:href=\"#DejaVuSans-69\"/>\n       <use x=\"377.332031\" xlink:href=\"#DejaVuSans-82\"/>\n       <use x=\"446.814453\" xlink:href=\"#DejaVuSans-52\"/>\n       <use x=\"510.4375\" xlink:href=\"#DejaVuSans-35\"/>\n       <use x=\"594.226562\" xlink:href=\"#DejaVuSans-76\"/>\n       <use x=\"649.736328\" xlink:href=\"#DejaVuSans-84\"/>\n       <use x=\"710.820312\" xlink:href=\"#DejaVuSans-82\"/>\n       <use x=\"780.302734\" xlink:href=\"#DejaVuSans-47\"/>\n       <use x=\"813.994141\" xlink:href=\"#DejaVuSans-71\"/>\n       <use x=\"891.484375\" xlink:href=\"#DejaVuSans-121\"/>\n       <use x=\"950.664062\" xlink:href=\"#DejaVuSans-112\"/>\n       <use x=\"1014.140625\" xlink:href=\"#DejaVuSans-115\"/>\n       <use x=\"1066.240234\" xlink:href=\"#DejaVuSans-121\"/>\n      </g>\n     </g>\n    </g>\n    <g id=\"xtick_231\">\n     <g id=\"line2d_237\">\n      <g>\n       <use style=\"stroke:#000000;stroke-width:0.8;\" x=\"854.585926\" xlink:href=\"#m12e0b210da\" y=\"348.478125\"/>\n      </g>\n     </g>\n     <g id=\"text_106\">\n      <!-- TIRANT#LTR/Gypsy -->\n      <g transform=\"translate(857.345301 453.407812)rotate(-90)scale(0.1 -0.1)\">\n       <use xlink:href=\"#DejaVuSans-84\"/>\n       <use x=\"61.083984\" xlink:href=\"#DejaVuSans-73\"/>\n       <use x=\"90.576172\" xlink:href=\"#DejaVuSans-82\"/>\n       <use x=\"159.996094\" xlink:href=\"#DejaVuSans-65\"/>\n       <use x=\"228.404297\" xlink:href=\"#DejaVuSans-78\"/>\n       <use x=\"303.208984\" xlink:href=\"#DejaVuSans-84\"/>\n       <use x=\"364.292969\" xlink:href=\"#DejaVuSans-35\"/>\n       <use x=\"448.082031\" xlink:href=\"#DejaVuSans-76\"/>\n       <use x=\"503.591797\" xlink:href=\"#DejaVuSans-84\"/>\n       <use x=\"564.675781\" xlink:href=\"#DejaVuSans-82\"/>\n       <use x=\"634.158203\" xlink:href=\"#DejaVuSans-47\"/>\n       <use x=\"667.849609\" xlink:href=\"#DejaVuSans-71\"/>\n       <use x=\"745.339844\" xlink:href=\"#DejaVuSans-121\"/>\n       <use x=\"804.519531\" xlink:href=\"#DejaVuSans-112\"/>\n       <use x=\"867.996094\" xlink:href=\"#DejaVuSans-115\"/>\n       <use x=\"920.095703\" xlink:href=\"#DejaVuSans-121\"/>\n      </g>\n     </g>\n    </g>\n    <g id=\"xtick_232\">\n     <g id=\"line2d_238\">\n      <g>\n       <use style=\"stroke:#000000;stroke-width:0.8;\" x=\"862.976903\" xlink:href=\"#m12e0b210da\" y=\"348.478125\"/>\n      </g>\n     </g>\n     <g id=\"text_107\">\n      <!-- TRANSPAC#LTR/Gypsy -->\n      <g transform=\"translate(865.736278 470.540625)rotate(-90)scale(0.1 -0.1)\">\n       <use xlink:href=\"#DejaVuSans-84\"/>\n       <use x=\"61.083984\" xlink:href=\"#DejaVuSans-82\"/>\n       <use x=\"130.503906\" xlink:href=\"#DejaVuSans-65\"/>\n       <use x=\"198.912109\" xlink:href=\"#DejaVuSans-78\"/>\n       <use x=\"273.716797\" xlink:href=\"#DejaVuSans-83\"/>\n       <use x=\"337.193359\" xlink:href=\"#DejaVuSans-80\"/>\n       <use x=\"397.402344\" xlink:href=\"#DejaVuSans-65\"/>\n       <use x=\"465.794922\" xlink:href=\"#DejaVuSans-67\"/>\n       <use x=\"535.619141\" xlink:href=\"#DejaVuSans-35\"/>\n       <use x=\"619.408203\" xlink:href=\"#DejaVuSans-76\"/>\n       <use x=\"674.917969\" xlink:href=\"#DejaVuSans-84\"/>\n       <use x=\"736.001953\" xlink:href=\"#DejaVuSans-82\"/>\n       <use x=\"805.484375\" xlink:href=\"#DejaVuSans-47\"/>\n       <use x=\"839.175781\" xlink:href=\"#DejaVuSans-71\"/>\n       <use x=\"916.666016\" xlink:href=\"#DejaVuSans-121\"/>\n       <use x=\"975.845703\" xlink:href=\"#DejaVuSans-112\"/>\n       <use x=\"1039.322266\" xlink:href=\"#DejaVuSans-115\"/>\n       <use x=\"1091.421875\" xlink:href=\"#DejaVuSans-121\"/>\n      </g>\n     </g>\n    </g>\n    <g id=\"xtick_233\">\n     <g id=\"line2d_239\">\n      <g>\n       <use style=\"stroke:#000000;stroke-width:0.8;\" x=\"871.367881\" xlink:href=\"#m12e0b210da\" y=\"348.478125\"/>\n      </g>\n     </g>\n     <g id=\"text_108\">\n      <!-- XDMR#Unknown/Unknown -->\n      <g transform=\"translate(874.127256 490.190625)rotate(-90)scale(0.1 -0.1)\">\n       <use xlink:href=\"#DejaVuSans-88\"/>\n       <use x=\"68.505859\" xlink:href=\"#DejaVuSans-68\"/>\n       <use x=\"145.507812\" xlink:href=\"#DejaVuSans-77\"/>\n       <use x=\"231.787109\" xlink:href=\"#DejaVuSans-82\"/>\n       <use x=\"301.269531\" xlink:href=\"#DejaVuSans-35\"/>\n       <use x=\"385.058594\" xlink:href=\"#DejaVuSans-85\"/>\n       <use x=\"458.251953\" xlink:href=\"#DejaVuSans-110\"/>\n       <use x=\"521.630859\" xlink:href=\"#DejaVuSans-107\"/>\n       <use x=\"579.541016\" xlink:href=\"#DejaVuSans-110\"/>\n       <use x=\"642.919922\" xlink:href=\"#DejaVuSans-111\"/>\n       <use x=\"704.101562\" xlink:href=\"#DejaVuSans-119\"/>\n       <use x=\"785.888672\" xlink:href=\"#DejaVuSans-110\"/>\n       <use x=\"849.267578\" xlink:href=\"#DejaVuSans-47\"/>\n       <use x=\"882.958984\" xlink:href=\"#DejaVuSans-85\"/>\n       <use x=\"956.152344\" xlink:href=\"#DejaVuSans-110\"/>\n       <use x=\"1019.53125\" xlink:href=\"#DejaVuSans-107\"/>\n       <use x=\"1077.441406\" xlink:href=\"#DejaVuSans-110\"/>\n       <use x=\"1140.820312\" xlink:href=\"#DejaVuSans-111\"/>\n       <use x=\"1202.001953\" xlink:href=\"#DejaVuSans-119\"/>\n       <use x=\"1283.789062\" xlink:href=\"#DejaVuSans-110\"/>\n      </g>\n     </g>\n    </g>\n    <g id=\"xtick_234\">\n     <g id=\"line2d_240\">\n      <g>\n       <use style=\"stroke:#000000;stroke-width:0.8;\" x=\"879.758858\" xlink:href=\"#m12e0b210da\" y=\"348.478125\"/>\n      </g>\n     </g>\n     <g id=\"text_109\">\n      <!-- ARS406_DM#Unknown/Unknown -->\n      <g transform=\"translate(882.379171 520.617188)rotate(-90)scale(0.1 -0.1)\">\n       <use xlink:href=\"#DejaVuSans-65\"/>\n       <use x=\"68.408203\" xlink:href=\"#DejaVuSans-82\"/>\n       <use x=\"137.890625\" xlink:href=\"#DejaVuSans-83\"/>\n       <use x=\"201.367188\" xlink:href=\"#DejaVuSans-52\"/>\n       <use x=\"264.990234\" xlink:href=\"#DejaVuSans-48\"/>\n       <use x=\"328.613281\" xlink:href=\"#DejaVuSans-54\"/>\n       <use x=\"392.236328\" xlink:href=\"#DejaVuSans-95\"/>\n       <use x=\"442.236328\" xlink:href=\"#DejaVuSans-68\"/>\n       <use x=\"519.238281\" xlink:href=\"#DejaVuSans-77\"/>\n       <use x=\"605.517578\" xlink:href=\"#DejaVuSans-35\"/>\n       <use x=\"689.306641\" xlink:href=\"#DejaVuSans-85\"/>\n       <use x=\"762.5\" xlink:href=\"#DejaVuSans-110\"/>\n       <use x=\"825.878906\" xlink:href=\"#DejaVuSans-107\"/>\n       <use x=\"883.789062\" xlink:href=\"#DejaVuSans-110\"/>\n       <use x=\"947.167969\" xlink:href=\"#DejaVuSans-111\"/>\n       <use x=\"1008.349609\" xlink:href=\"#DejaVuSans-119\"/>\n       <use x=\"1090.136719\" xlink:href=\"#DejaVuSans-110\"/>\n       <use x=\"1153.515625\" xlink:href=\"#DejaVuSans-47\"/>\n       <use x=\"1187.207031\" xlink:href=\"#DejaVuSans-85\"/>\n       <use x=\"1260.400391\" xlink:href=\"#DejaVuSans-110\"/>\n       <use x=\"1323.779297\" xlink:href=\"#DejaVuSans-107\"/>\n       <use x=\"1381.689453\" xlink:href=\"#DejaVuSans-110\"/>\n       <use x=\"1445.068359\" xlink:href=\"#DejaVuSans-111\"/>\n       <use x=\"1506.25\" xlink:href=\"#DejaVuSans-119\"/>\n       <use x=\"1588.037109\" xlink:href=\"#DejaVuSans-110\"/>\n      </g>\n     </g>\n    </g>\n    <g id=\"xtick_235\">\n     <g id=\"line2d_241\">\n      <g>\n       <use style=\"stroke:#000000;stroke-width:0.8;\" x=\"888.149836\" xlink:href=\"#m12e0b210da\" y=\"348.478125\"/>\n      </g>\n     </g>\n     <g id=\"text_110\">\n      <!-- BARI1#DNA/TcMar-Tc1 -->\n      <g transform=\"translate(890.909211 471.184375)rotate(-90)scale(0.1 -0.1)\">\n       <use xlink:href=\"#DejaVuSans-66\"/>\n       <use x=\"68.603516\" xlink:href=\"#DejaVuSans-65\"/>\n       <use x=\"137.011719\" xlink:href=\"#DejaVuSans-82\"/>\n       <use x=\"206.494141\" xlink:href=\"#DejaVuSans-73\"/>\n       <use x=\"235.986328\" xlink:href=\"#DejaVuSans-49\"/>\n       <use x=\"299.609375\" xlink:href=\"#DejaVuSans-35\"/>\n       <use x=\"383.398438\" xlink:href=\"#DejaVuSans-68\"/>\n       <use x=\"460.400391\" xlink:href=\"#DejaVuSans-78\"/>\n       <use x=\"535.205078\" xlink:href=\"#DejaVuSans-65\"/>\n       <use x=\"603.613281\" xlink:href=\"#DejaVuSans-47\"/>\n       <use x=\"637.304688\" xlink:href=\"#DejaVuSans-84\"/>\n       <use x=\"698.123047\" xlink:href=\"#DejaVuSans-99\"/>\n       <use x=\"753.103516\" xlink:href=\"#DejaVuSans-77\"/>\n       <use x=\"839.382812\" xlink:href=\"#DejaVuSans-97\"/>\n       <use x=\"900.662109\" xlink:href=\"#DejaVuSans-114\"/>\n       <use x=\"941.681641\" xlink:href=\"#DejaVuSans-45\"/>\n       <use x=\"977.625\" xlink:href=\"#DejaVuSans-84\"/>\n       <use x=\"1038.443359\" xlink:href=\"#DejaVuSans-99\"/>\n       <use x=\"1093.423828\" xlink:href=\"#DejaVuSans-49\"/>\n      </g>\n     </g>\n    </g>\n    <g id=\"xtick_236\">\n     <g id=\"line2d_242\">\n      <g>\n       <use style=\"stroke:#000000;stroke-width:0.8;\" x=\"896.540813\" xlink:href=\"#m12e0b210da\" y=\"348.478125\"/>\n      </g>\n     </g>\n     <g id=\"text_111\">\n      <!-- BS3_DM#LINE/I-Jockey -->\n      <g transform=\"translate(899.161125 469.4375)rotate(-90)scale(0.1 -0.1)\">\n       <use xlink:href=\"#DejaVuSans-66\"/>\n       <use x=\"68.587891\" xlink:href=\"#DejaVuSans-83\"/>\n       <use x=\"132.064453\" xlink:href=\"#DejaVuSans-51\"/>\n       <use x=\"195.6875\" xlink:href=\"#DejaVuSans-95\"/>\n       <use x=\"245.6875\" xlink:href=\"#DejaVuSans-68\"/>\n       <use x=\"322.689453\" xlink:href=\"#DejaVuSans-77\"/>\n       <use x=\"408.96875\" xlink:href=\"#DejaVuSans-35\"/>\n       <use x=\"492.757812\" xlink:href=\"#DejaVuSans-76\"/>\n       <use x=\"548.470703\" xlink:href=\"#DejaVuSans-73\"/>\n       <use x=\"577.962891\" xlink:href=\"#DejaVuSans-78\"/>\n       <use x=\"652.767578\" xlink:href=\"#DejaVuSans-69\"/>\n       <use x=\"715.951172\" xlink:href=\"#DejaVuSans-47\"/>\n       <use x=\"749.642578\" xlink:href=\"#DejaVuSans-73\"/>\n       <use x=\"779.134766\" xlink:href=\"#DejaVuSans-45\"/>\n       <use x=\"815.296875\" xlink:href=\"#DejaVuSans-74\"/>\n       <use x=\"844.789062\" xlink:href=\"#DejaVuSans-111\"/>\n       <use x=\"905.970703\" xlink:href=\"#DejaVuSans-99\"/>\n       <use x=\"960.951172\" xlink:href=\"#DejaVuSans-107\"/>\n       <use x=\"1018.814453\" xlink:href=\"#DejaVuSans-101\"/>\n       <use x=\"1080.337891\" xlink:href=\"#DejaVuSans-121\"/>\n      </g>\n     </g>\n    </g>\n    <g id=\"xtick_237\">\n     <g id=\"line2d_243\">\n      <g>\n       <use style=\"stroke:#000000;stroke-width:0.8;\" x=\"904.93179\" xlink:href=\"#m12e0b210da\" y=\"348.478125\"/>\n      </g>\n     </g>\n     <g id=\"text_112\">\n      <!-- BS4_DM#LINE/I-Jockey -->\n      <g transform=\"translate(907.552103 469.4375)rotate(-90)scale(0.1 -0.1)\">\n       <use xlink:href=\"#DejaVuSans-66\"/>\n       <use x=\"68.587891\" xlink:href=\"#DejaVuSans-83\"/>\n       <use x=\"132.064453\" xlink:href=\"#DejaVuSans-52\"/>\n       <use x=\"195.6875\" xlink:href=\"#DejaVuSans-95\"/>\n       <use x=\"245.6875\" xlink:href=\"#DejaVuSans-68\"/>\n       <use x=\"322.689453\" xlink:href=\"#DejaVuSans-77\"/>\n       <use x=\"408.96875\" xlink:href=\"#DejaVuSans-35\"/>\n       <use x=\"492.757812\" xlink:href=\"#DejaVuSans-76\"/>\n       <use x=\"548.470703\" xlink:href=\"#DejaVuSans-73\"/>\n       <use x=\"577.962891\" xlink:href=\"#DejaVuSans-78\"/>\n       <use x=\"652.767578\" xlink:href=\"#DejaVuSans-69\"/>\n       <use x=\"715.951172\" xlink:href=\"#DejaVuSans-47\"/>\n       <use x=\"749.642578\" xlink:href=\"#DejaVuSans-73\"/>\n       <use x=\"779.134766\" xlink:href=\"#DejaVuSans-45\"/>\n       <use x=\"815.296875\" xlink:href=\"#DejaVuSans-74\"/>\n       <use x=\"844.789062\" xlink:href=\"#DejaVuSans-111\"/>\n       <use x=\"905.970703\" xlink:href=\"#DejaVuSans-99\"/>\n       <use x=\"960.951172\" xlink:href=\"#DejaVuSans-107\"/>\n       <use x=\"1018.814453\" xlink:href=\"#DejaVuSans-101\"/>\n       <use x=\"1080.337891\" xlink:href=\"#DejaVuSans-121\"/>\n      </g>\n     </g>\n    </g>\n    <g id=\"xtick_238\">\n     <g id=\"line2d_244\">\n      <g>\n       <use style=\"stroke:#000000;stroke-width:0.8;\" x=\"913.322768\" xlink:href=\"#m12e0b210da\" y=\"348.478125\"/>\n      </g>\n     </g>\n     <g id=\"text_113\">\n      <!-- DMLTR5#LTR/Gypsy -->\n      <g transform=\"translate(916.082143 458.276562)rotate(-90)scale(0.1 -0.1)\">\n       <use xlink:href=\"#DejaVuSans-68\"/>\n       <use x=\"77.001953\" xlink:href=\"#DejaVuSans-77\"/>\n       <use x=\"163.28125\" xlink:href=\"#DejaVuSans-76\"/>\n       <use x=\"218.791016\" xlink:href=\"#DejaVuSans-84\"/>\n       <use x=\"279.875\" xlink:href=\"#DejaVuSans-82\"/>\n       <use x=\"349.357422\" xlink:href=\"#DejaVuSans-53\"/>\n       <use x=\"412.980469\" xlink:href=\"#DejaVuSans-35\"/>\n       <use x=\"496.769531\" xlink:href=\"#DejaVuSans-76\"/>\n       <use x=\"552.279297\" xlink:href=\"#DejaVuSans-84\"/>\n       <use x=\"613.363281\" xlink:href=\"#DejaVuSans-82\"/>\n       <use x=\"682.845703\" xlink:href=\"#DejaVuSans-47\"/>\n       <use x=\"716.537109\" xlink:href=\"#DejaVuSans-71\"/>\n       <use x=\"794.027344\" xlink:href=\"#DejaVuSans-121\"/>\n       <use x=\"853.207031\" xlink:href=\"#DejaVuSans-112\"/>\n       <use x=\"916.683594\" xlink:href=\"#DejaVuSans-115\"/>\n       <use x=\"968.783203\" xlink:href=\"#DejaVuSans-121\"/>\n      </g>\n     </g>\n    </g>\n    <g id=\"xtick_239\">\n     <g id=\"line2d_245\">\n      <g>\n       <use style=\"stroke:#000000;stroke-width:0.8;\" x=\"921.713745\" xlink:href=\"#m12e0b210da\" y=\"348.478125\"/>\n      </g>\n     </g>\n     <g id=\"text_114\">\n      <!-- DMRP1#Unknown/Unknown -->\n      <g transform=\"translate(924.47312 495.732812)rotate(-90)scale(0.1 -0.1)\">\n       <use xlink:href=\"#DejaVuSans-68\"/>\n       <use x=\"77.001953\" xlink:href=\"#DejaVuSans-77\"/>\n       <use x=\"163.28125\" xlink:href=\"#DejaVuSans-82\"/>\n       <use x=\"232.763672\" xlink:href=\"#DejaVuSans-80\"/>\n       <use x=\"293.066406\" xlink:href=\"#DejaVuSans-49\"/>\n       <use x=\"356.689453\" xlink:href=\"#DejaVuSans-35\"/>\n       <use x=\"440.478516\" xlink:href=\"#DejaVuSans-85\"/>\n       <use x=\"513.671875\" xlink:href=\"#DejaVuSans-110\"/>\n       <use x=\"577.050781\" xlink:href=\"#DejaVuSans-107\"/>\n       <use x=\"634.960938\" xlink:href=\"#DejaVuSans-110\"/>\n       <use x=\"698.339844\" xlink:href=\"#DejaVuSans-111\"/>\n       <use x=\"759.521484\" xlink:href=\"#DejaVuSans-119\"/>\n       <use x=\"841.308594\" xlink:href=\"#DejaVuSans-110\"/>\n       <use x=\"904.6875\" xlink:href=\"#DejaVuSans-47\"/>\n       <use x=\"938.378906\" xlink:href=\"#DejaVuSans-85\"/>\n       <use x=\"1011.572266\" xlink:href=\"#DejaVuSans-110\"/>\n       <use x=\"1074.951172\" xlink:href=\"#DejaVuSans-107\"/>\n       <use x=\"1132.861328\" xlink:href=\"#DejaVuSans-110\"/>\n       <use x=\"1196.240234\" xlink:href=\"#DejaVuSans-111\"/>\n       <use x=\"1257.421875\" xlink:href=\"#DejaVuSans-119\"/>\n       <use x=\"1339.208984\" xlink:href=\"#DejaVuSans-110\"/>\n      </g>\n     </g>\n    </g>\n    <g id=\"xtick_240\">\n     <g id=\"line2d_246\">\n      <g>\n       <use style=\"stroke:#000000;stroke-width:0.8;\" x=\"930.104723\" xlink:href=\"#m12e0b210da\" y=\"348.478125\"/>\n      </g>\n     </g>\n     <g id=\"text_115\">\n      <!-- DMRPR#Unknown/Unknown -->\n      <g transform=\"translate(932.864098 496.31875)rotate(-90)scale(0.1 -0.1)\">\n       <use xlink:href=\"#DejaVuSans-68\"/>\n       <use x=\"77.001953\" xlink:href=\"#DejaVuSans-77\"/>\n       <use x=\"163.28125\" xlink:href=\"#DejaVuSans-82\"/>\n       <use x=\"232.763672\" xlink:href=\"#DejaVuSans-80\"/>\n       <use x=\"293.066406\" xlink:href=\"#DejaVuSans-82\"/>\n       <use x=\"362.548828\" xlink:href=\"#DejaVuSans-35\"/>\n       <use x=\"446.337891\" xlink:href=\"#DejaVuSans-85\"/>\n       <use x=\"519.53125\" xlink:href=\"#DejaVuSans-110\"/>\n       <use x=\"582.910156\" xlink:href=\"#DejaVuSans-107\"/>\n       <use x=\"640.820312\" xlink:href=\"#DejaVuSans-110\"/>\n       <use x=\"704.199219\" xlink:href=\"#DejaVuSans-111\"/>\n       <use x=\"765.380859\" xlink:href=\"#DejaVuSans-119\"/>\n       <use x=\"847.167969\" xlink:href=\"#DejaVuSans-110\"/>\n       <use x=\"910.546875\" xlink:href=\"#DejaVuSans-47\"/>\n       <use x=\"944.238281\" xlink:href=\"#DejaVuSans-85\"/>\n       <use x=\"1017.431641\" xlink:href=\"#DejaVuSans-110\"/>\n       <use x=\"1080.810547\" xlink:href=\"#DejaVuSans-107\"/>\n       <use x=\"1138.720703\" xlink:href=\"#DejaVuSans-110\"/>\n       <use x=\"1202.099609\" xlink:href=\"#DejaVuSans-111\"/>\n       <use x=\"1263.28125\" xlink:href=\"#DejaVuSans-119\"/>\n       <use x=\"1345.068359\" xlink:href=\"#DejaVuSans-110\"/>\n      </g>\n     </g>\n    </g>\n    <g id=\"xtick_241\">\n     <g id=\"line2d_247\">\n      <g>\n       <use style=\"stroke:#000000;stroke-width:0.8;\" x=\"938.4957\" xlink:href=\"#m12e0b210da\" y=\"348.478125\"/>\n      </g>\n     </g>\n     <g id=\"text_116\">\n      <!-- DOC4_DM#LINE/I-Jockey -->\n      <g transform=\"translate(941.116013 478.784375)rotate(-90)scale(0.1 -0.1)\">\n       <use xlink:href=\"#DejaVuSans-68\"/>\n       <use x=\"77.001953\" xlink:href=\"#DejaVuSans-79\"/>\n       <use x=\"155.712891\" xlink:href=\"#DejaVuSans-67\"/>\n       <use x=\"225.537109\" xlink:href=\"#DejaVuSans-52\"/>\n       <use x=\"289.160156\" xlink:href=\"#DejaVuSans-95\"/>\n       <use x=\"339.160156\" xlink:href=\"#DejaVuSans-68\"/>\n       <use x=\"416.162109\" xlink:href=\"#DejaVuSans-77\"/>\n       <use x=\"502.441406\" xlink:href=\"#DejaVuSans-35\"/>\n       <use x=\"586.230469\" xlink:href=\"#DejaVuSans-76\"/>\n       <use x=\"641.943359\" xlink:href=\"#DejaVuSans-73\"/>\n       <use x=\"671.435547\" xlink:href=\"#DejaVuSans-78\"/>\n       <use x=\"746.240234\" xlink:href=\"#DejaVuSans-69\"/>\n       <use x=\"809.423828\" xlink:href=\"#DejaVuSans-47\"/>\n       <use x=\"843.115234\" xlink:href=\"#DejaVuSans-73\"/>\n       <use x=\"872.607422\" xlink:href=\"#DejaVuSans-45\"/>\n       <use x=\"908.769531\" xlink:href=\"#DejaVuSans-74\"/>\n       <use x=\"938.261719\" xlink:href=\"#DejaVuSans-111\"/>\n       <use x=\"999.443359\" xlink:href=\"#DejaVuSans-99\"/>\n       <use x=\"1054.423828\" xlink:href=\"#DejaVuSans-107\"/>\n       <use x=\"1112.287109\" xlink:href=\"#DejaVuSans-101\"/>\n       <use x=\"1173.810547\" xlink:href=\"#DejaVuSans-121\"/>\n      </g>\n     </g>\n    </g>\n    <g id=\"xtick_242\">\n     <g id=\"line2d_248\">\n      <g>\n       <use style=\"stroke:#000000;stroke-width:0.8;\" x=\"946.886678\" xlink:href=\"#m12e0b210da\" y=\"348.478125\"/>\n      </g>\n     </g>\n     <g id=\"text_117\">\n      <!-- FW2_DM#LINE/I-Jockey -->\n      <g transform=\"translate(949.50699 471.86875)rotate(-90)scale(0.1 -0.1)\">\n       <use xlink:href=\"#DejaVuSans-70\"/>\n       <use x=\"57.519531\" xlink:href=\"#DejaVuSans-87\"/>\n       <use x=\"156.396484\" xlink:href=\"#DejaVuSans-50\"/>\n       <use x=\"220.019531\" xlink:href=\"#DejaVuSans-95\"/>\n       <use x=\"270.019531\" xlink:href=\"#DejaVuSans-68\"/>\n       <use x=\"347.021484\" xlink:href=\"#DejaVuSans-77\"/>\n       <use x=\"433.300781\" xlink:href=\"#DejaVuSans-35\"/>\n       <use x=\"517.089844\" xlink:href=\"#DejaVuSans-76\"/>\n       <use x=\"572.802734\" xlink:href=\"#DejaVuSans-73\"/>\n       <use x=\"602.294922\" xlink:href=\"#DejaVuSans-78\"/>\n       <use x=\"677.099609\" xlink:href=\"#DejaVuSans-69\"/>\n       <use x=\"740.283203\" xlink:href=\"#DejaVuSans-47\"/>\n       <use x=\"773.974609\" xlink:href=\"#DejaVuSans-73\"/>\n       <use x=\"803.466797\" xlink:href=\"#DejaVuSans-45\"/>\n       <use x=\"839.628906\" xlink:href=\"#DejaVuSans-74\"/>\n       <use x=\"869.121094\" xlink:href=\"#DejaVuSans-111\"/>\n       <use x=\"930.302734\" xlink:href=\"#DejaVuSans-99\"/>\n       <use x=\"985.283203\" xlink:href=\"#DejaVuSans-107\"/>\n       <use x=\"1043.146484\" xlink:href=\"#DejaVuSans-101\"/>\n       <use x=\"1104.669922\" xlink:href=\"#DejaVuSans-121\"/>\n      </g>\n     </g>\n    </g>\n    <g id=\"xtick_243\">\n     <g id=\"line2d_249\">\n      <g>\n       <use style=\"stroke:#000000;stroke-width:0.8;\" x=\"955.277655\" xlink:href=\"#m12e0b210da\" y=\"348.478125\"/>\n      </g>\n     </g>\n     <g id=\"text_118\">\n      <!-- FW3_DM#LINE/I-Jockey -->\n      <g transform=\"translate(957.897968 471.86875)rotate(-90)scale(0.1 -0.1)\">\n       <use xlink:href=\"#DejaVuSans-70\"/>\n       <use x=\"57.519531\" xlink:href=\"#DejaVuSans-87\"/>\n       <use x=\"156.396484\" xlink:href=\"#DejaVuSans-51\"/>\n       <use x=\"220.019531\" xlink:href=\"#DejaVuSans-95\"/>\n       <use x=\"270.019531\" xlink:href=\"#DejaVuSans-68\"/>\n       <use x=\"347.021484\" xlink:href=\"#DejaVuSans-77\"/>\n       <use x=\"433.300781\" xlink:href=\"#DejaVuSans-35\"/>\n       <use x=\"517.089844\" xlink:href=\"#DejaVuSans-76\"/>\n       <use x=\"572.802734\" xlink:href=\"#DejaVuSans-73\"/>\n       <use x=\"602.294922\" xlink:href=\"#DejaVuSans-78\"/>\n       <use x=\"677.099609\" xlink:href=\"#DejaVuSans-69\"/>\n       <use x=\"740.283203\" xlink:href=\"#DejaVuSans-47\"/>\n       <use x=\"773.974609\" xlink:href=\"#DejaVuSans-73\"/>\n       <use x=\"803.466797\" xlink:href=\"#DejaVuSans-45\"/>\n       <use x=\"839.628906\" xlink:href=\"#DejaVuSans-74\"/>\n       <use x=\"869.121094\" xlink:href=\"#DejaVuSans-111\"/>\n       <use x=\"930.302734\" xlink:href=\"#DejaVuSans-99\"/>\n       <use x=\"985.283203\" xlink:href=\"#DejaVuSans-107\"/>\n       <use x=\"1043.146484\" xlink:href=\"#DejaVuSans-101\"/>\n       <use x=\"1104.669922\" xlink:href=\"#DejaVuSans-121\"/>\n      </g>\n     </g>\n    </g>\n    <g id=\"xtick_244\">\n     <g id=\"line2d_250\">\n      <g>\n       <use style=\"stroke:#000000;stroke-width:0.8;\" x=\"963.668633\" xlink:href=\"#m12e0b210da\" y=\"348.478125\"/>\n      </g>\n     </g>\n     <g id=\"text_119\">\n      <!-- G2_DM#LINE/I-Jockey -->\n      <g transform=\"translate(966.288945 463.978125)rotate(-90)scale(0.1 -0.1)\">\n       <use xlink:href=\"#DejaVuSans-71\"/>\n       <use x=\"77.490234\" xlink:href=\"#DejaVuSans-50\"/>\n       <use x=\"141.113281\" xlink:href=\"#DejaVuSans-95\"/>\n       <use x=\"191.113281\" xlink:href=\"#DejaVuSans-68\"/>\n       <use x=\"268.115234\" xlink:href=\"#DejaVuSans-77\"/>\n       <use x=\"354.394531\" xlink:href=\"#DejaVuSans-35\"/>\n       <use x=\"438.183594\" xlink:href=\"#DejaVuSans-76\"/>\n       <use x=\"493.896484\" xlink:href=\"#DejaVuSans-73\"/>\n       <use x=\"523.388672\" xlink:href=\"#DejaVuSans-78\"/>\n       <use x=\"598.193359\" xlink:href=\"#DejaVuSans-69\"/>\n       <use x=\"661.376953\" xlink:href=\"#DejaVuSans-47\"/>\n       <use x=\"695.068359\" xlink:href=\"#DejaVuSans-73\"/>\n       <use x=\"724.560547\" xlink:href=\"#DejaVuSans-45\"/>\n       <use x=\"760.722656\" xlink:href=\"#DejaVuSans-74\"/>\n       <use x=\"790.214844\" xlink:href=\"#DejaVuSans-111\"/>\n       <use x=\"851.396484\" xlink:href=\"#DejaVuSans-99\"/>\n       <use x=\"906.376953\" xlink:href=\"#DejaVuSans-107\"/>\n       <use x=\"964.240234\" xlink:href=\"#DejaVuSans-101\"/>\n       <use x=\"1025.763672\" xlink:href=\"#DejaVuSans-121\"/>\n      </g>\n     </g>\n    </g>\n    <g id=\"xtick_245\">\n     <g id=\"line2d_251\">\n      <g>\n       <use style=\"stroke:#000000;stroke-width:0.8;\" x=\"972.05961\" xlink:href=\"#m12e0b210da\" y=\"348.478125\"/>\n      </g>\n     </g>\n     <g id=\"text_120\">\n      <!-- G4_DM#LINE/I-Jockey -->\n      <g transform=\"translate(974.679922 463.978125)rotate(-90)scale(0.1 -0.1)\">\n       <use xlink:href=\"#DejaVuSans-71\"/>\n       <use x=\"77.490234\" xlink:href=\"#DejaVuSans-52\"/>\n       <use x=\"141.113281\" xlink:href=\"#DejaVuSans-95\"/>\n       <use x=\"191.113281\" xlink:href=\"#DejaVuSans-68\"/>\n       <use x=\"268.115234\" xlink:href=\"#DejaVuSans-77\"/>\n       <use x=\"354.394531\" xlink:href=\"#DejaVuSans-35\"/>\n       <use x=\"438.183594\" xlink:href=\"#DejaVuSans-76\"/>\n       <use x=\"493.896484\" xlink:href=\"#DejaVuSans-73\"/>\n       <use x=\"523.388672\" xlink:href=\"#DejaVuSans-78\"/>\n       <use x=\"598.193359\" xlink:href=\"#DejaVuSans-69\"/>\n       <use x=\"661.376953\" xlink:href=\"#DejaVuSans-47\"/>\n       <use x=\"695.068359\" xlink:href=\"#DejaVuSans-73\"/>\n       <use x=\"724.560547\" xlink:href=\"#DejaVuSans-45\"/>\n       <use x=\"760.722656\" xlink:href=\"#DejaVuSans-74\"/>\n       <use x=\"790.214844\" xlink:href=\"#DejaVuSans-111\"/>\n       <use x=\"851.396484\" xlink:href=\"#DejaVuSans-99\"/>\n       <use x=\"906.376953\" xlink:href=\"#DejaVuSans-107\"/>\n       <use x=\"964.240234\" xlink:href=\"#DejaVuSans-101\"/>\n       <use x=\"1025.763672\" xlink:href=\"#DejaVuSans-121\"/>\n      </g>\n     </g>\n    </g>\n    <g id=\"xtick_246\">\n     <g id=\"line2d_252\">\n      <g>\n       <use style=\"stroke:#000000;stroke-width:0.8;\" x=\"980.450587\" xlink:href=\"#m12e0b210da\" y=\"348.478125\"/>\n      </g>\n     </g>\n     <g id=\"text_121\">\n      <!-- G6_DM#LINE/I-Jockey -->\n      <g transform=\"translate(983.0709 463.978125)rotate(-90)scale(0.1 -0.1)\">\n       <use xlink:href=\"#DejaVuSans-71\"/>\n       <use x=\"77.490234\" xlink:href=\"#DejaVuSans-54\"/>\n       <use x=\"141.113281\" xlink:href=\"#DejaVuSans-95\"/>\n       <use x=\"191.113281\" xlink:href=\"#DejaVuSans-68\"/>\n       <use x=\"268.115234\" xlink:href=\"#DejaVuSans-77\"/>\n       <use x=\"354.394531\" xlink:href=\"#DejaVuSans-35\"/>\n       <use x=\"438.183594\" xlink:href=\"#DejaVuSans-76\"/>\n       <use x=\"493.896484\" xlink:href=\"#DejaVuSans-73\"/>\n       <use x=\"523.388672\" xlink:href=\"#DejaVuSans-78\"/>\n       <use x=\"598.193359\" xlink:href=\"#DejaVuSans-69\"/>\n       <use x=\"661.376953\" xlink:href=\"#DejaVuSans-47\"/>\n       <use x=\"695.068359\" xlink:href=\"#DejaVuSans-73\"/>\n       <use x=\"724.560547\" xlink:href=\"#DejaVuSans-45\"/>\n       <use x=\"760.722656\" xlink:href=\"#DejaVuSans-74\"/>\n       <use x=\"790.214844\" xlink:href=\"#DejaVuSans-111\"/>\n       <use x=\"851.396484\" xlink:href=\"#DejaVuSans-99\"/>\n       <use x=\"906.376953\" xlink:href=\"#DejaVuSans-107\"/>\n       <use x=\"964.240234\" xlink:href=\"#DejaVuSans-101\"/>\n       <use x=\"1025.763672\" xlink:href=\"#DejaVuSans-121\"/>\n      </g>\n     </g>\n    </g>\n    <g id=\"xtick_247\">\n     <g id=\"line2d_253\">\n      <g>\n       <use style=\"stroke:#000000;stroke-width:0.8;\" x=\"988.841565\" xlink:href=\"#m12e0b210da\" y=\"348.478125\"/>\n      </g>\n     </g>\n     <g id=\"text_122\">\n      <!-- G7_DM#LINE/I-Jockey -->\n      <g transform=\"translate(991.461877 463.978125)rotate(-90)scale(0.1 -0.1)\">\n       <use xlink:href=\"#DejaVuSans-71\"/>\n       <use x=\"77.490234\" xlink:href=\"#DejaVuSans-55\"/>\n       <use x=\"141.113281\" xlink:href=\"#DejaVuSans-95\"/>\n       <use x=\"191.113281\" xlink:href=\"#DejaVuSans-68\"/>\n       <use x=\"268.115234\" xlink:href=\"#DejaVuSans-77\"/>\n       <use x=\"354.394531\" xlink:href=\"#DejaVuSans-35\"/>\n       <use x=\"438.183594\" xlink:href=\"#DejaVuSans-76\"/>\n       <use x=\"493.896484\" xlink:href=\"#DejaVuSans-73\"/>\n       <use x=\"523.388672\" xlink:href=\"#DejaVuSans-78\"/>\n       <use x=\"598.193359\" xlink:href=\"#DejaVuSans-69\"/>\n       <use x=\"661.376953\" xlink:href=\"#DejaVuSans-47\"/>\n       <use x=\"695.068359\" xlink:href=\"#DejaVuSans-73\"/>\n       <use x=\"724.560547\" xlink:href=\"#DejaVuSans-45\"/>\n       <use x=\"760.722656\" xlink:href=\"#DejaVuSans-74\"/>\n       <use x=\"790.214844\" xlink:href=\"#DejaVuSans-111\"/>\n       <use x=\"851.396484\" xlink:href=\"#DejaVuSans-99\"/>\n       <use x=\"906.376953\" xlink:href=\"#DejaVuSans-107\"/>\n       <use x=\"964.240234\" xlink:href=\"#DejaVuSans-101\"/>\n       <use x=\"1025.763672\" xlink:href=\"#DejaVuSans-121\"/>\n      </g>\n     </g>\n    </g>\n    <g id=\"xtick_248\">\n     <g id=\"line2d_254\">\n      <g>\n       <use style=\"stroke:#000000;stroke-width:0.8;\" x=\"997.232542\" xlink:href=\"#m12e0b210da\" y=\"348.478125\"/>\n      </g>\n     </g>\n     <g id=\"text_123\">\n      <!-- HETRP_DM#Satellite/Unknown -->\n      <g transform=\"translate(999.852855 508.85625)rotate(-90)scale(0.1 -0.1)\">\n       <use xlink:href=\"#DejaVuSans-72\"/>\n       <use x=\"75.195312\" xlink:href=\"#DejaVuSans-69\"/>\n       <use x=\"138.378906\" xlink:href=\"#DejaVuSans-84\"/>\n       <use x=\"199.462891\" xlink:href=\"#DejaVuSans-82\"/>\n       <use x=\"268.945312\" xlink:href=\"#DejaVuSans-80\"/>\n       <use x=\"329.248047\" xlink:href=\"#DejaVuSans-95\"/>\n       <use x=\"379.248047\" xlink:href=\"#DejaVuSans-68\"/>\n       <use x=\"456.25\" xlink:href=\"#DejaVuSans-77\"/>\n       <use x=\"542.529297\" xlink:href=\"#DejaVuSans-35\"/>\n       <use x=\"626.318359\" xlink:href=\"#DejaVuSans-83\"/>\n       <use x=\"689.794922\" xlink:href=\"#DejaVuSans-97\"/>\n       <use x=\"751.074219\" xlink:href=\"#DejaVuSans-116\"/>\n       <use x=\"790.283203\" xlink:href=\"#DejaVuSans-101\"/>\n       <use x=\"851.806641\" xlink:href=\"#DejaVuSans-108\"/>\n       <use x=\"879.589844\" xlink:href=\"#DejaVuSans-108\"/>\n       <use x=\"907.373047\" xlink:href=\"#DejaVuSans-105\"/>\n       <use x=\"935.15625\" xlink:href=\"#DejaVuSans-116\"/>\n       <use x=\"974.365234\" xlink:href=\"#DejaVuSans-101\"/>\n       <use x=\"1035.888672\" xlink:href=\"#DejaVuSans-47\"/>\n       <use x=\"1069.580078\" xlink:href=\"#DejaVuSans-85\"/>\n       <use x=\"1142.773438\" xlink:href=\"#DejaVuSans-110\"/>\n       <use x=\"1206.152344\" xlink:href=\"#DejaVuSans-107\"/>\n       <use x=\"1264.0625\" xlink:href=\"#DejaVuSans-110\"/>\n       <use x=\"1327.441406\" xlink:href=\"#DejaVuSans-111\"/>\n       <use x=\"1388.623047\" xlink:href=\"#DejaVuSans-119\"/>\n       <use x=\"1470.410156\" xlink:href=\"#DejaVuSans-110\"/>\n      </g>\n     </g>\n    </g>\n    <g id=\"xtick_249\">\n     <g id=\"line2d_255\">\n      <g>\n       <use style=\"stroke:#000000;stroke-width:0.8;\" x=\"1005.62352\" xlink:href=\"#m12e0b210da\" y=\"348.478125\"/>\n      </g>\n     </g>\n     <g id=\"text_124\">\n      <!-- Jockey2#LINE/I-Jockey -->\n      <g transform=\"translate(1008.382895 467.326562)rotate(-90)scale(0.1 -0.1)\">\n       <use xlink:href=\"#DejaVuSans-74\"/>\n       <use x=\"29.492188\" xlink:href=\"#DejaVuSans-111\"/>\n       <use x=\"90.673828\" xlink:href=\"#DejaVuSans-99\"/>\n       <use x=\"145.654297\" xlink:href=\"#DejaVuSans-107\"/>\n       <use x=\"203.517578\" xlink:href=\"#DejaVuSans-101\"/>\n       <use x=\"265.041016\" xlink:href=\"#DejaVuSans-121\"/>\n       <use x=\"324.220703\" xlink:href=\"#DejaVuSans-50\"/>\n       <use x=\"387.84375\" xlink:href=\"#DejaVuSans-35\"/>\n       <use x=\"471.632812\" xlink:href=\"#DejaVuSans-76\"/>\n       <use x=\"527.345703\" xlink:href=\"#DejaVuSans-73\"/>\n       <use x=\"556.837891\" xlink:href=\"#DejaVuSans-78\"/>\n       <use x=\"631.642578\" xlink:href=\"#DejaVuSans-69\"/>\n       <use x=\"694.826172\" xlink:href=\"#DejaVuSans-47\"/>\n       <use x=\"728.517578\" xlink:href=\"#DejaVuSans-73\"/>\n       <use x=\"758.009766\" xlink:href=\"#DejaVuSans-45\"/>\n       <use x=\"794.171875\" xlink:href=\"#DejaVuSans-74\"/>\n       <use x=\"823.664062\" xlink:href=\"#DejaVuSans-111\"/>\n       <use x=\"884.845703\" xlink:href=\"#DejaVuSans-99\"/>\n       <use x=\"939.826172\" xlink:href=\"#DejaVuSans-107\"/>\n       <use x=\"997.689453\" xlink:href=\"#DejaVuSans-101\"/>\n       <use x=\"1059.212891\" xlink:href=\"#DejaVuSans-121\"/>\n      </g>\n     </g>\n    </g>\n    <g id=\"xtick_250\">\n     <g id=\"line2d_256\">\n      <g>\n       <use style=\"stroke:#000000;stroke-width:0.8;\" x=\"1014.014497\" xlink:href=\"#m12e0b210da\" y=\"348.478125\"/>\n      </g>\n     </g>\n     <g id=\"text_125\">\n      <!-- NOF_FB#DNA/MULE-NOF -->\n      <g transform=\"translate(1016.546528 480.515625)rotate(-90)scale(0.1 -0.1)\">\n       <use xlink:href=\"#DejaVuSans-78\"/>\n       <use x=\"74.804688\" xlink:href=\"#DejaVuSans-79\"/>\n       <use x=\"153.515625\" xlink:href=\"#DejaVuSans-70\"/>\n       <use x=\"211.035156\" xlink:href=\"#DejaVuSans-95\"/>\n       <use x=\"261.035156\" xlink:href=\"#DejaVuSans-70\"/>\n       <use x=\"318.554688\" xlink:href=\"#DejaVuSans-66\"/>\n       <use x=\"387.158203\" xlink:href=\"#DejaVuSans-35\"/>\n       <use x=\"470.947266\" xlink:href=\"#DejaVuSans-68\"/>\n       <use x=\"547.949219\" xlink:href=\"#DejaVuSans-78\"/>\n       <use x=\"622.753906\" xlink:href=\"#DejaVuSans-65\"/>\n       <use x=\"691.162109\" xlink:href=\"#DejaVuSans-47\"/>\n       <use x=\"724.853516\" xlink:href=\"#DejaVuSans-77\"/>\n       <use x=\"811.132812\" xlink:href=\"#DejaVuSans-85\"/>\n       <use x=\"884.326172\" xlink:href=\"#DejaVuSans-76\"/>\n       <use x=\"940.039062\" xlink:href=\"#DejaVuSans-69\"/>\n       <use x=\"1003.222656\" xlink:href=\"#DejaVuSans-45\"/>\n       <use x=\"1039.306641\" xlink:href=\"#DejaVuSans-78\"/>\n       <use x=\"1114.111328\" xlink:href=\"#DejaVuSans-79\"/>\n       <use x=\"1192.822266\" xlink:href=\"#DejaVuSans-70\"/>\n      </g>\n     </g>\n    </g>\n    <g id=\"xtick_251\">\n     <g id=\"line2d_257\">\n      <g>\n       <use style=\"stroke:#000000;stroke-width:0.8;\" x=\"1022.405475\" xlink:href=\"#m12e0b210da\" y=\"348.478125\"/>\n      </g>\n     </g>\n     <g id=\"text_126\">\n      <!-- R1-2_DM#LINE/R1 -->\n      <g transform=\"translate(1024.937506 447.46875)rotate(-90)scale(0.1 -0.1)\">\n       <use xlink:href=\"#DejaVuSans-82\"/>\n       <use x=\"69.482422\" xlink:href=\"#DejaVuSans-49\"/>\n       <use x=\"133.105469\" xlink:href=\"#DejaVuSans-45\"/>\n       <use x=\"169.189453\" xlink:href=\"#DejaVuSans-50\"/>\n       <use x=\"232.8125\" xlink:href=\"#DejaVuSans-95\"/>\n       <use x=\"282.8125\" xlink:href=\"#DejaVuSans-68\"/>\n       <use x=\"359.814453\" xlink:href=\"#DejaVuSans-77\"/>\n       <use x=\"446.09375\" xlink:href=\"#DejaVuSans-35\"/>\n       <use x=\"529.882812\" xlink:href=\"#DejaVuSans-76\"/>\n       <use x=\"585.595703\" xlink:href=\"#DejaVuSans-73\"/>\n       <use x=\"615.087891\" xlink:href=\"#DejaVuSans-78\"/>\n       <use x=\"689.892578\" xlink:href=\"#DejaVuSans-69\"/>\n       <use x=\"753.076172\" xlink:href=\"#DejaVuSans-47\"/>\n       <use x=\"786.767578\" xlink:href=\"#DejaVuSans-82\"/>\n       <use x=\"856.25\" xlink:href=\"#DejaVuSans-49\"/>\n      </g>\n     </g>\n    </g>\n    <g id=\"xtick_252\">\n     <g id=\"line2d_258\">\n      <g>\n       <use style=\"stroke:#000000;stroke-width:0.8;\" x=\"1030.796452\" xlink:href=\"#m12e0b210da\" y=\"348.478125\"/>\n      </g>\n     </g>\n     <g id=\"text_127\">\n      <!-- TRANSIB1#DNA/CMC-Transib -->\n      <g transform=\"translate(1033.555827 502.328125)rotate(-90)scale(0.1 -0.1)\">\n       <use xlink:href=\"#DejaVuSans-84\"/>\n       <use x=\"61.083984\" xlink:href=\"#DejaVuSans-82\"/>\n       <use x=\"130.503906\" xlink:href=\"#DejaVuSans-65\"/>\n       <use x=\"198.912109\" xlink:href=\"#DejaVuSans-78\"/>\n       <use x=\"273.716797\" xlink:href=\"#DejaVuSans-83\"/>\n       <use x=\"337.193359\" xlink:href=\"#DejaVuSans-73\"/>\n       <use x=\"366.685547\" xlink:href=\"#DejaVuSans-66\"/>\n       <use x=\"435.289062\" xlink:href=\"#DejaVuSans-49\"/>\n       <use x=\"498.912109\" xlink:href=\"#DejaVuSans-35\"/>\n       <use x=\"582.701172\" xlink:href=\"#DejaVuSans-68\"/>\n       <use x=\"659.703125\" xlink:href=\"#DejaVuSans-78\"/>\n       <use x=\"734.507812\" xlink:href=\"#DejaVuSans-65\"/>\n       <use x=\"802.916016\" xlink:href=\"#DejaVuSans-47\"/>\n       <use x=\"836.607422\" xlink:href=\"#DejaVuSans-67\"/>\n       <use x=\"906.431641\" xlink:href=\"#DejaVuSans-77\"/>\n       <use x=\"992.710938\" xlink:href=\"#DejaVuSans-67\"/>\n       <use x=\"1062.535156\" xlink:href=\"#DejaVuSans-45\"/>\n       <use x=\"1098.478516\" xlink:href=\"#DejaVuSans-84\"/>\n       <use x=\"1159.34375\" xlink:href=\"#DejaVuSans-114\"/>\n       <use x=\"1200.457031\" xlink:href=\"#DejaVuSans-97\"/>\n       <use x=\"1261.736328\" xlink:href=\"#DejaVuSans-110\"/>\n       <use x=\"1325.115234\" xlink:href=\"#DejaVuSans-115\"/>\n       <use x=\"1377.214844\" xlink:href=\"#DejaVuSans-105\"/>\n       <use x=\"1404.998047\" xlink:href=\"#DejaVuSans-98\"/>\n      </g>\n     </g>\n    </g>\n    <g id=\"xtick_253\">\n     <g id=\"line2d_259\">\n      <g>\n       <use style=\"stroke:#000000;stroke-width:0.8;\" x=\"1039.18743\" xlink:href=\"#m12e0b210da\" y=\"348.478125\"/>\n      </g>\n     </g>\n     <g id=\"text_128\">\n      <!-- Transib5#DNA/CMC-Transib -->\n      <g transform=\"translate(1041.946805 495.795312)rotate(-90)scale(0.1 -0.1)\">\n       <use xlink:href=\"#DejaVuSans-84\"/>\n       <use x=\"60.865234\" xlink:href=\"#DejaVuSans-114\"/>\n       <use x=\"101.978516\" xlink:href=\"#DejaVuSans-97\"/>\n       <use x=\"163.257812\" xlink:href=\"#DejaVuSans-110\"/>\n       <use x=\"226.636719\" xlink:href=\"#DejaVuSans-115\"/>\n       <use x=\"278.736328\" xlink:href=\"#DejaVuSans-105\"/>\n       <use x=\"306.519531\" xlink:href=\"#DejaVuSans-98\"/>\n       <use x=\"369.996094\" xlink:href=\"#DejaVuSans-53\"/>\n       <use x=\"433.619141\" xlink:href=\"#DejaVuSans-35\"/>\n       <use x=\"517.408203\" xlink:href=\"#DejaVuSans-68\"/>\n       <use x=\"594.410156\" xlink:href=\"#DejaVuSans-78\"/>\n       <use x=\"669.214844\" xlink:href=\"#DejaVuSans-65\"/>\n       <use x=\"737.623047\" xlink:href=\"#DejaVuSans-47\"/>\n       <use x=\"771.314453\" xlink:href=\"#DejaVuSans-67\"/>\n       <use x=\"841.138672\" xlink:href=\"#DejaVuSans-77\"/>\n       <use x=\"927.417969\" xlink:href=\"#DejaVuSans-67\"/>\n       <use x=\"997.242188\" xlink:href=\"#DejaVuSans-45\"/>\n       <use x=\"1033.185547\" xlink:href=\"#DejaVuSans-84\"/>\n       <use x=\"1094.050781\" xlink:href=\"#DejaVuSans-114\"/>\n       <use x=\"1135.164062\" xlink:href=\"#DejaVuSans-97\"/>\n       <use x=\"1196.443359\" xlink:href=\"#DejaVuSans-110\"/>\n       <use x=\"1259.822266\" xlink:href=\"#DejaVuSans-115\"/>\n       <use x=\"1311.921875\" xlink:href=\"#DejaVuSans-105\"/>\n       <use x=\"1339.705078\" xlink:href=\"#DejaVuSans-98\"/>\n      </g>\n     </g>\n    </g>\n    <g id=\"xtick_254\">\n     <g id=\"line2d_260\">\n      <g>\n       <use style=\"stroke:#000000;stroke-width:0.8;\" x=\"1047.578407\" xlink:href=\"#m12e0b210da\" y=\"348.478125\"/>\n      </g>\n     </g>\n     <g id=\"text_129\">\n      <!-- Transib-N1_DM#DNA/CMC-Transib -->\n      <g transform=\"translate(1050.198719 528.2125)rotate(-90)scale(0.1 -0.1)\">\n       <use xlink:href=\"#DejaVuSans-84\"/>\n       <use x=\"60.865234\" xlink:href=\"#DejaVuSans-114\"/>\n       <use x=\"101.978516\" xlink:href=\"#DejaVuSans-97\"/>\n       <use x=\"163.257812\" xlink:href=\"#DejaVuSans-110\"/>\n       <use x=\"226.636719\" xlink:href=\"#DejaVuSans-115\"/>\n       <use x=\"278.736328\" xlink:href=\"#DejaVuSans-105\"/>\n       <use x=\"306.519531\" xlink:href=\"#DejaVuSans-98\"/>\n       <use x=\"369.996094\" xlink:href=\"#DejaVuSans-45\"/>\n       <use x=\"406.080078\" xlink:href=\"#DejaVuSans-78\"/>\n       <use x=\"480.884766\" xlink:href=\"#DejaVuSans-49\"/>\n       <use x=\"544.507812\" xlink:href=\"#DejaVuSans-95\"/>\n       <use x=\"594.507812\" xlink:href=\"#DejaVuSans-68\"/>\n       <use x=\"671.509766\" xlink:href=\"#DejaVuSans-77\"/>\n       <use x=\"757.789062\" xlink:href=\"#DejaVuSans-35\"/>\n       <use x=\"841.578125\" xlink:href=\"#DejaVuSans-68\"/>\n       <use x=\"918.580078\" xlink:href=\"#DejaVuSans-78\"/>\n       <use x=\"993.384766\" xlink:href=\"#DejaVuSans-65\"/>\n       <use x=\"1061.792969\" xlink:href=\"#DejaVuSans-47\"/>\n       <use x=\"1095.484375\" xlink:href=\"#DejaVuSans-67\"/>\n       <use x=\"1165.308594\" xlink:href=\"#DejaVuSans-77\"/>\n       <use x=\"1251.587891\" xlink:href=\"#DejaVuSans-67\"/>\n       <use x=\"1321.412109\" xlink:href=\"#DejaVuSans-45\"/>\n       <use x=\"1357.355469\" xlink:href=\"#DejaVuSans-84\"/>\n       <use x=\"1418.220703\" xlink:href=\"#DejaVuSans-114\"/>\n       <use x=\"1459.333984\" xlink:href=\"#DejaVuSans-97\"/>\n       <use x=\"1520.613281\" xlink:href=\"#DejaVuSans-110\"/>\n       <use x=\"1583.992188\" xlink:href=\"#DejaVuSans-115\"/>\n       <use x=\"1636.091797\" xlink:href=\"#DejaVuSans-105\"/>\n       <use x=\"1663.875\" xlink:href=\"#DejaVuSans-98\"/>\n      </g>\n     </g>\n    </g>\n    <g id=\"xtick_255\">\n     <g id=\"line2d_261\">\n      <g>\n       <use style=\"stroke:#000000;stroke-width:0.8;\" x=\"1055.969384\" xlink:href=\"#m12e0b210da\" y=\"348.478125\"/>\n      </g>\n     </g>\n     <g id=\"text_130\">\n      <!-- ZAM#LTR/Gypsy -->\n      <defs>\n       <path d=\"M 5.609375 72.90625 \nL 62.890625 72.90625 \nL 62.890625 65.375 \nL 16.796875 8.296875 \nL 64.015625 8.296875 \nL 64.015625 0 \nL 4.5 0 \nL 4.5 7.515625 \nL 50.59375 64.59375 \nL 5.609375 64.59375 \nz\n\" id=\"DejaVuSans-90\"/>\n      </defs>\n      <g transform=\"translate(1058.728759 439.296875)rotate(-90)scale(0.1 -0.1)\">\n       <use xlink:href=\"#DejaVuSans-90\"/>\n       <use x=\"68.505859\" xlink:href=\"#DejaVuSans-65\"/>\n       <use x=\"136.914062\" xlink:href=\"#DejaVuSans-77\"/>\n       <use x=\"223.193359\" xlink:href=\"#DejaVuSans-35\"/>\n       <use x=\"306.982422\" xlink:href=\"#DejaVuSans-76\"/>\n       <use x=\"362.492188\" xlink:href=\"#DejaVuSans-84\"/>\n       <use x=\"423.576172\" xlink:href=\"#DejaVuSans-82\"/>\n       <use x=\"493.058594\" xlink:href=\"#DejaVuSans-47\"/>\n       <use x=\"526.75\" xlink:href=\"#DejaVuSans-71\"/>\n       <use x=\"604.240234\" xlink:href=\"#DejaVuSans-121\"/>\n       <use x=\"663.419922\" xlink:href=\"#DejaVuSans-112\"/>\n       <use x=\"726.896484\" xlink:href=\"#DejaVuSans-115\"/>\n       <use x=\"778.996094\" xlink:href=\"#DejaVuSans-121\"/>\n      </g>\n     </g>\n    </g>\n    <g id=\"xtick_256\">\n     <g id=\"line2d_262\">\n      <g>\n       <use style=\"stroke:#000000;stroke-width:0.8;\" x=\"1064.360362\" xlink:href=\"#m12e0b210da\" y=\"348.478125\"/>\n      </g>\n     </g>\n     <g id=\"text_131\">\n      <!-- BATUMI#LTR/Pao -->\n      <g transform=\"translate(1067.119737 442.8)rotate(-90)scale(0.1 -0.1)\">\n       <use xlink:href=\"#DejaVuSans-66\"/>\n       <use x=\"68.603516\" xlink:href=\"#DejaVuSans-65\"/>\n       <use x=\"136.902344\" xlink:href=\"#DejaVuSans-84\"/>\n       <use x=\"197.986328\" xlink:href=\"#DejaVuSans-85\"/>\n       <use x=\"271.179688\" xlink:href=\"#DejaVuSans-77\"/>\n       <use x=\"357.458984\" xlink:href=\"#DejaVuSans-73\"/>\n       <use x=\"386.951172\" xlink:href=\"#DejaVuSans-35\"/>\n       <use x=\"470.740234\" xlink:href=\"#DejaVuSans-76\"/>\n       <use x=\"526.25\" xlink:href=\"#DejaVuSans-84\"/>\n       <use x=\"587.333984\" xlink:href=\"#DejaVuSans-82\"/>\n       <use x=\"656.816406\" xlink:href=\"#DejaVuSans-47\"/>\n       <use x=\"690.507812\" xlink:href=\"#DejaVuSans-80\"/>\n       <use x=\"750.748047\" xlink:href=\"#DejaVuSans-97\"/>\n       <use x=\"812.027344\" xlink:href=\"#DejaVuSans-111\"/>\n      </g>\n     </g>\n    </g>\n    <g id=\"xtick_257\">\n     <g id=\"line2d_263\">\n      <g>\n       <use style=\"stroke:#000000;stroke-width:0.8;\" x=\"1072.751339\" xlink:href=\"#m12e0b210da\" y=\"348.478125\"/>\n      </g>\n     </g>\n     <g id=\"text_132\">\n      <!-- BEL#LTR/Pao -->\n      <g transform=\"translate(1075.510714 422.85625)rotate(-90)scale(0.1 -0.1)\">\n       <use xlink:href=\"#DejaVuSans-66\"/>\n       <use x=\"68.603516\" xlink:href=\"#DejaVuSans-69\"/>\n       <use x=\"131.787109\" xlink:href=\"#DejaVuSans-76\"/>\n       <use x=\"187.5\" xlink:href=\"#DejaVuSans-35\"/>\n       <use x=\"271.289062\" xlink:href=\"#DejaVuSans-76\"/>\n       <use x=\"326.798828\" xlink:href=\"#DejaVuSans-84\"/>\n       <use x=\"387.882812\" xlink:href=\"#DejaVuSans-82\"/>\n       <use x=\"457.365234\" xlink:href=\"#DejaVuSans-47\"/>\n       <use x=\"491.056641\" xlink:href=\"#DejaVuSans-80\"/>\n       <use x=\"551.296875\" xlink:href=\"#DejaVuSans-97\"/>\n       <use x=\"612.576172\" xlink:href=\"#DejaVuSans-111\"/>\n      </g>\n     </g>\n    </g>\n    <g id=\"xtick_258\">\n     <g id=\"line2d_264\">\n      <g>\n       <use style=\"stroke:#000000;stroke-width:0.8;\" x=\"1081.142317\" xlink:href=\"#m12e0b210da\" y=\"348.478125\"/>\n      </g>\n     </g>\n     <g id=\"text_133\">\n      <!-- DIVER#LTR/Pao -->\n      <g transform=\"translate(1083.901692 434.8625)rotate(-90)scale(0.1 -0.1)\">\n       <use xlink:href=\"#DejaVuSans-68\"/>\n       <use x=\"77.001953\" xlink:href=\"#DejaVuSans-73\"/>\n       <use x=\"106.494141\" xlink:href=\"#DejaVuSans-86\"/>\n       <use x=\"174.902344\" xlink:href=\"#DejaVuSans-69\"/>\n       <use x=\"238.085938\" xlink:href=\"#DejaVuSans-82\"/>\n       <use x=\"307.568359\" xlink:href=\"#DejaVuSans-35\"/>\n       <use x=\"391.357422\" xlink:href=\"#DejaVuSans-76\"/>\n       <use x=\"446.867188\" xlink:href=\"#DejaVuSans-84\"/>\n       <use x=\"507.951172\" xlink:href=\"#DejaVuSans-82\"/>\n       <use x=\"577.433594\" xlink:href=\"#DejaVuSans-47\"/>\n       <use x=\"611.125\" xlink:href=\"#DejaVuSans-80\"/>\n       <use x=\"671.365234\" xlink:href=\"#DejaVuSans-97\"/>\n       <use x=\"732.644531\" xlink:href=\"#DejaVuSans-111\"/>\n      </g>\n     </g>\n    </g>\n    <g id=\"xtick_259\">\n     <g id=\"line2d_265\">\n      <g>\n       <use style=\"stroke:#000000;stroke-width:0.8;\" x=\"1089.533294\" xlink:href=\"#m12e0b210da\" y=\"348.478125\"/>\n      </g>\n     </g>\n     <g id=\"text_134\">\n      <!-- FROGGER#LTR/Copia -->\n      <g transform=\"translate(1092.292669 463.526562)rotate(-90)scale(0.1 -0.1)\">\n       <use xlink:href=\"#DejaVuSans-70\"/>\n       <use x=\"57.519531\" xlink:href=\"#DejaVuSans-82\"/>\n       <use x=\"127.001953\" xlink:href=\"#DejaVuSans-79\"/>\n       <use x=\"205.712891\" xlink:href=\"#DejaVuSans-71\"/>\n       <use x=\"283.203125\" xlink:href=\"#DejaVuSans-71\"/>\n       <use x=\"360.693359\" xlink:href=\"#DejaVuSans-69\"/>\n       <use x=\"423.876953\" xlink:href=\"#DejaVuSans-82\"/>\n       <use x=\"493.359375\" xlink:href=\"#DejaVuSans-35\"/>\n       <use x=\"577.148438\" xlink:href=\"#DejaVuSans-76\"/>\n       <use x=\"632.658203\" xlink:href=\"#DejaVuSans-84\"/>\n       <use x=\"693.742188\" xlink:href=\"#DejaVuSans-82\"/>\n       <use x=\"763.224609\" xlink:href=\"#DejaVuSans-47\"/>\n       <use x=\"796.916016\" xlink:href=\"#DejaVuSans-67\"/>\n       <use x=\"866.740234\" xlink:href=\"#DejaVuSans-111\"/>\n       <use x=\"927.921875\" xlink:href=\"#DejaVuSans-112\"/>\n       <use x=\"991.398438\" xlink:href=\"#DejaVuSans-105\"/>\n       <use x=\"1019.181641\" xlink:href=\"#DejaVuSans-97\"/>\n      </g>\n     </g>\n    </g>\n    <g id=\"xtick_260\">\n     <g id=\"line2d_266\">\n      <g>\n       <use style=\"stroke:#000000;stroke-width:0.8;\" x=\"1097.924272\" xlink:href=\"#m12e0b210da\" y=\"348.478125\"/>\n      </g>\n     </g>\n     <g id=\"text_135\">\n      <!-- Gypsy4#LTR/Gypsy -->\n      <g transform=\"translate(1100.683647 454.484375)rotate(-90)scale(0.1 -0.1)\">\n       <use xlink:href=\"#DejaVuSans-71\"/>\n       <use x=\"77.490234\" xlink:href=\"#DejaVuSans-121\"/>\n       <use x=\"136.669922\" xlink:href=\"#DejaVuSans-112\"/>\n       <use x=\"200.146484\" xlink:href=\"#DejaVuSans-115\"/>\n       <use x=\"252.246094\" xlink:href=\"#DejaVuSans-121\"/>\n       <use x=\"311.425781\" xlink:href=\"#DejaVuSans-52\"/>\n       <use x=\"375.048828\" xlink:href=\"#DejaVuSans-35\"/>\n       <use x=\"458.837891\" xlink:href=\"#DejaVuSans-76\"/>\n       <use x=\"514.347656\" xlink:href=\"#DejaVuSans-84\"/>\n       <use x=\"575.431641\" xlink:href=\"#DejaVuSans-82\"/>\n       <use x=\"644.914062\" xlink:href=\"#DejaVuSans-47\"/>\n       <use x=\"678.605469\" xlink:href=\"#DejaVuSans-71\"/>\n       <use x=\"756.095703\" xlink:href=\"#DejaVuSans-121\"/>\n       <use x=\"815.275391\" xlink:href=\"#DejaVuSans-112\"/>\n       <use x=\"878.751953\" xlink:href=\"#DejaVuSans-115\"/>\n       <use x=\"930.851562\" xlink:href=\"#DejaVuSans-121\"/>\n      </g>\n     </g>\n    </g>\n    <g id=\"xtick_261\">\n     <g id=\"line2d_267\">\n      <g>\n       <use style=\"stroke:#000000;stroke-width:0.8;\" x=\"1106.315249\" xlink:href=\"#m12e0b210da\" y=\"348.478125\"/>\n      </g>\n     </g>\n     <g id=\"text_136\">\n      <!-- Gypsy9#LTR/Gypsy -->\n      <g transform=\"translate(1109.074624 454.484375)rotate(-90)scale(0.1 -0.1)\">\n       <use xlink:href=\"#DejaVuSans-71\"/>\n       <use x=\"77.490234\" xlink:href=\"#DejaVuSans-121\"/>\n       <use x=\"136.669922\" xlink:href=\"#DejaVuSans-112\"/>\n       <use x=\"200.146484\" xlink:href=\"#DejaVuSans-115\"/>\n       <use x=\"252.246094\" xlink:href=\"#DejaVuSans-121\"/>\n       <use x=\"311.425781\" xlink:href=\"#DejaVuSans-57\"/>\n       <use x=\"375.048828\" xlink:href=\"#DejaVuSans-35\"/>\n       <use x=\"458.837891\" xlink:href=\"#DejaVuSans-76\"/>\n       <use x=\"514.347656\" xlink:href=\"#DejaVuSans-84\"/>\n       <use x=\"575.431641\" xlink:href=\"#DejaVuSans-82\"/>\n       <use x=\"644.914062\" xlink:href=\"#DejaVuSans-47\"/>\n       <use x=\"678.605469\" xlink:href=\"#DejaVuSans-71\"/>\n       <use x=\"756.095703\" xlink:href=\"#DejaVuSans-121\"/>\n       <use x=\"815.275391\" xlink:href=\"#DejaVuSans-112\"/>\n       <use x=\"878.751953\" xlink:href=\"#DejaVuSans-115\"/>\n       <use x=\"930.851562\" xlink:href=\"#DejaVuSans-121\"/>\n      </g>\n     </g>\n    </g>\n    <g id=\"xtick_262\">\n     <g id=\"line2d_268\">\n      <g>\n       <use style=\"stroke:#000000;stroke-width:0.8;\" x=\"1114.706227\" xlink:href=\"#m12e0b210da\" y=\"348.478125\"/>\n      </g>\n     </g>\n     <g id=\"text_137\">\n      <!-- Invader2#LTR/Gypsy -->\n      <g transform=\"translate(1117.465602 461.2875)rotate(-90)scale(0.1 -0.1)\">\n       <use xlink:href=\"#DejaVuSans-73\"/>\n       <use x=\"29.492188\" xlink:href=\"#DejaVuSans-110\"/>\n       <use x=\"92.871094\" xlink:href=\"#DejaVuSans-118\"/>\n       <use x=\"152.050781\" xlink:href=\"#DejaVuSans-97\"/>\n       <use x=\"213.330078\" xlink:href=\"#DejaVuSans-100\"/>\n       <use x=\"276.806641\" xlink:href=\"#DejaVuSans-101\"/>\n       <use x=\"338.330078\" xlink:href=\"#DejaVuSans-114\"/>\n       <use x=\"379.443359\" xlink:href=\"#DejaVuSans-50\"/>\n       <use x=\"443.066406\" xlink:href=\"#DejaVuSans-35\"/>\n       <use x=\"526.855469\" xlink:href=\"#DejaVuSans-76\"/>\n       <use x=\"582.365234\" xlink:href=\"#DejaVuSans-84\"/>\n       <use x=\"643.449219\" xlink:href=\"#DejaVuSans-82\"/>\n       <use x=\"712.931641\" xlink:href=\"#DejaVuSans-47\"/>\n       <use x=\"746.623047\" xlink:href=\"#DejaVuSans-71\"/>\n       <use x=\"824.113281\" xlink:href=\"#DejaVuSans-121\"/>\n       <use x=\"883.292969\" xlink:href=\"#DejaVuSans-112\"/>\n       <use x=\"946.769531\" xlink:href=\"#DejaVuSans-115\"/>\n       <use x=\"998.869141\" xlink:href=\"#DejaVuSans-121\"/>\n      </g>\n     </g>\n    </g>\n    <g id=\"xtick_263\">\n     <g id=\"line2d_269\">\n      <g>\n       <use style=\"stroke:#000000;stroke-width:0.8;\" x=\"1123.097204\" xlink:href=\"#m12e0b210da\" y=\"348.478125\"/>\n      </g>\n     </g>\n     <g id=\"text_138\">\n      <!-- Invader3#LTR/Gypsy -->\n      <g transform=\"translate(1125.856579 461.2875)rotate(-90)scale(0.1 -0.1)\">\n       <use xlink:href=\"#DejaVuSans-73\"/>\n       <use x=\"29.492188\" xlink:href=\"#DejaVuSans-110\"/>\n       <use x=\"92.871094\" xlink:href=\"#DejaVuSans-118\"/>\n       <use x=\"152.050781\" xlink:href=\"#DejaVuSans-97\"/>\n       <use x=\"213.330078\" xlink:href=\"#DejaVuSans-100\"/>\n       <use x=\"276.806641\" xlink:href=\"#DejaVuSans-101\"/>\n       <use x=\"338.330078\" xlink:href=\"#DejaVuSans-114\"/>\n       <use x=\"379.443359\" xlink:href=\"#DejaVuSans-51\"/>\n       <use x=\"443.066406\" xlink:href=\"#DejaVuSans-35\"/>\n       <use x=\"526.855469\" xlink:href=\"#DejaVuSans-76\"/>\n       <use x=\"582.365234\" xlink:href=\"#DejaVuSans-84\"/>\n       <use x=\"643.449219\" xlink:href=\"#DejaVuSans-82\"/>\n       <use x=\"712.931641\" xlink:href=\"#DejaVuSans-47\"/>\n       <use x=\"746.623047\" xlink:href=\"#DejaVuSans-71\"/>\n       <use x=\"824.113281\" xlink:href=\"#DejaVuSans-121\"/>\n       <use x=\"883.292969\" xlink:href=\"#DejaVuSans-112\"/>\n       <use x=\"946.769531\" xlink:href=\"#DejaVuSans-115\"/>\n       <use x=\"998.869141\" xlink:href=\"#DejaVuSans-121\"/>\n      </g>\n     </g>\n    </g>\n    <g id=\"xtick_264\">\n     <g id=\"line2d_270\">\n      <g>\n       <use style=\"stroke:#000000;stroke-width:0.8;\" x=\"1131.488181\" xlink:href=\"#m12e0b210da\" y=\"348.478125\"/>\n      </g>\n     </g>\n     <g id=\"text_139\">\n      <!-- MDG3#LTR/Gypsy -->\n      <g transform=\"translate(1134.247556 447.417187)rotate(-90)scale(0.1 -0.1)\">\n       <use xlink:href=\"#DejaVuSans-77\"/>\n       <use x=\"86.279297\" xlink:href=\"#DejaVuSans-68\"/>\n       <use x=\"163.28125\" xlink:href=\"#DejaVuSans-71\"/>\n       <use x=\"240.771484\" xlink:href=\"#DejaVuSans-51\"/>\n       <use x=\"304.394531\" xlink:href=\"#DejaVuSans-35\"/>\n       <use x=\"388.183594\" xlink:href=\"#DejaVuSans-76\"/>\n       <use x=\"443.693359\" xlink:href=\"#DejaVuSans-84\"/>\n       <use x=\"504.777344\" xlink:href=\"#DejaVuSans-82\"/>\n       <use x=\"574.259766\" xlink:href=\"#DejaVuSans-47\"/>\n       <use x=\"607.951172\" xlink:href=\"#DejaVuSans-71\"/>\n       <use x=\"685.441406\" xlink:href=\"#DejaVuSans-121\"/>\n       <use x=\"744.621094\" xlink:href=\"#DejaVuSans-112\"/>\n       <use x=\"808.097656\" xlink:href=\"#DejaVuSans-115\"/>\n       <use x=\"860.197266\" xlink:href=\"#DejaVuSans-121\"/>\n      </g>\n     </g>\n    </g>\n    <g id=\"xtick_265\">\n     <g id=\"line2d_271\">\n      <g>\n       <use style=\"stroke:#000000;stroke-width:0.8;\" x=\"1139.879159\" xlink:href=\"#m12e0b210da\" y=\"348.478125\"/>\n      </g>\n     </g>\n     <g id=\"text_140\">\n      <!-- MICROPIA#LTR/Gypsy -->\n      <g transform=\"translate(1142.638534 466.179687)rotate(-90)scale(0.1 -0.1)\">\n       <use xlink:href=\"#DejaVuSans-77\"/>\n       <use x=\"86.279297\" xlink:href=\"#DejaVuSans-73\"/>\n       <use x=\"115.771484\" xlink:href=\"#DejaVuSans-67\"/>\n       <use x=\"185.595703\" xlink:href=\"#DejaVuSans-82\"/>\n       <use x=\"255.078125\" xlink:href=\"#DejaVuSans-79\"/>\n       <use x=\"333.789062\" xlink:href=\"#DejaVuSans-80\"/>\n       <use x=\"394.091797\" xlink:href=\"#DejaVuSans-73\"/>\n       <use x=\"423.583984\" xlink:href=\"#DejaVuSans-65\"/>\n       <use x=\"491.992188\" xlink:href=\"#DejaVuSans-35\"/>\n       <use x=\"575.78125\" xlink:href=\"#DejaVuSans-76\"/>\n       <use x=\"631.291016\" xlink:href=\"#DejaVuSans-84\"/>\n       <use x=\"692.375\" xlink:href=\"#DejaVuSans-82\"/>\n       <use x=\"761.857422\" xlink:href=\"#DejaVuSans-47\"/>\n       <use x=\"795.548828\" xlink:href=\"#DejaVuSans-71\"/>\n       <use x=\"873.039062\" xlink:href=\"#DejaVuSans-121\"/>\n       <use x=\"932.21875\" xlink:href=\"#DejaVuSans-112\"/>\n       <use x=\"995.695312\" xlink:href=\"#DejaVuSans-115\"/>\n       <use x=\"1047.794922\" xlink:href=\"#DejaVuSans-121\"/>\n      </g>\n     </g>\n    </g>\n    <g id=\"xtick_266\">\n     <g id=\"line2d_272\">\n      <g>\n       <use style=\"stroke:#000000;stroke-width:0.8;\" x=\"1148.270136\" xlink:href=\"#m12e0b210da\" y=\"348.478125\"/>\n      </g>\n     </g>\n     <g id=\"text_141\">\n      <!-- TABOR#LTR/Gypsy -->\n      <g transform=\"translate(1151.029511 451.595312)rotate(-90)scale(0.1 -0.1)\">\n       <use xlink:href=\"#DejaVuSans-84\"/>\n       <use x=\"60.974609\" xlink:href=\"#DejaVuSans-65\"/>\n       <use x=\"129.382812\" xlink:href=\"#DejaVuSans-66\"/>\n       <use x=\"197.970703\" xlink:href=\"#DejaVuSans-79\"/>\n       <use x=\"276.681641\" xlink:href=\"#DejaVuSans-82\"/>\n       <use x=\"346.164062\" xlink:href=\"#DejaVuSans-35\"/>\n       <use x=\"429.953125\" xlink:href=\"#DejaVuSans-76\"/>\n       <use x=\"485.462891\" xlink:href=\"#DejaVuSans-84\"/>\n       <use x=\"546.546875\" xlink:href=\"#DejaVuSans-82\"/>\n       <use x=\"616.029297\" xlink:href=\"#DejaVuSans-47\"/>\n       <use x=\"649.720703\" xlink:href=\"#DejaVuSans-71\"/>\n       <use x=\"727.210938\" xlink:href=\"#DejaVuSans-121\"/>\n       <use x=\"786.390625\" xlink:href=\"#DejaVuSans-112\"/>\n       <use x=\"849.867188\" xlink:href=\"#DejaVuSans-115\"/>\n       <use x=\"901.966797\" xlink:href=\"#DejaVuSans-121\"/>\n      </g>\n     </g>\n    </g>\n    <g id=\"text_142\">\n     <!-- TE -->\n     <g transform=\"translate(588.252344 539.810937)scale(0.1 -0.1)\">\n      <use xlink:href=\"#DejaVuSans-84\"/>\n      <use x=\"61.083984\" xlink:href=\"#DejaVuSans-69\"/>\n     </g>\n    </g>\n   </g>\n   <g id=\"matplotlib.axis_4\">\n    <g id=\"ytick_7\">\n     <g id=\"line2d_273\">\n      <g>\n       <use style=\"stroke:#000000;stroke-width:0.8;\" x=\"36.465625\" xlink:href=\"#m384f66caa2\" y=\"348.478125\"/>\n      </g>\n     </g>\n     <g id=\"text_143\">\n      <!-- 0.00 -->\n      <g transform=\"translate(7.2 352.277344)scale(0.1 -0.1)\">\n       <use xlink:href=\"#DejaVuSans-48\"/>\n       <use x=\"63.623047\" xlink:href=\"#DejaVuSans-46\"/>\n       <use x=\"95.410156\" xlink:href=\"#DejaVuSans-48\"/>\n       <use x=\"159.033203\" xlink:href=\"#DejaVuSans-48\"/>\n      </g>\n     </g>\n    </g>\n    <g id=\"ytick_8\">\n     <g id=\"line2d_274\">\n      <g>\n       <use style=\"stroke:#000000;stroke-width:0.8;\" x=\"36.465625\" xlink:href=\"#m384f66caa2\" y=\"318.827216\"/>\n      </g>\n     </g>\n     <g id=\"text_144\">\n      <!-- 0.05 -->\n      <g transform=\"translate(7.2 322.626435)scale(0.1 -0.1)\">\n       <use xlink:href=\"#DejaVuSans-48\"/>\n       <use x=\"63.623047\" xlink:href=\"#DejaVuSans-46\"/>\n       <use x=\"95.410156\" xlink:href=\"#DejaVuSans-48\"/>\n       <use x=\"159.033203\" xlink:href=\"#DejaVuSans-53\"/>\n      </g>\n     </g>\n    </g>\n    <g id=\"ytick_9\">\n     <g id=\"line2d_275\">\n      <g>\n       <use style=\"stroke:#000000;stroke-width:0.8;\" x=\"36.465625\" xlink:href=\"#m384f66caa2\" y=\"289.176307\"/>\n      </g>\n     </g>\n     <g id=\"text_145\">\n      <!-- 0.10 -->\n      <g transform=\"translate(7.2 292.975526)scale(0.1 -0.1)\">\n       <use xlink:href=\"#DejaVuSans-48\"/>\n       <use x=\"63.623047\" xlink:href=\"#DejaVuSans-46\"/>\n       <use x=\"95.410156\" xlink:href=\"#DejaVuSans-49\"/>\n       <use x=\"159.033203\" xlink:href=\"#DejaVuSans-48\"/>\n      </g>\n     </g>\n    </g>\n    <g id=\"ytick_10\">\n     <g id=\"line2d_276\">\n      <g>\n       <use style=\"stroke:#000000;stroke-width:0.8;\" x=\"36.465625\" xlink:href=\"#m384f66caa2\" y=\"259.525398\"/>\n      </g>\n     </g>\n     <g id=\"text_146\">\n      <!-- 0.15 -->\n      <g transform=\"translate(7.2 263.324616)scale(0.1 -0.1)\">\n       <use xlink:href=\"#DejaVuSans-48\"/>\n       <use x=\"63.623047\" xlink:href=\"#DejaVuSans-46\"/>\n       <use x=\"95.410156\" xlink:href=\"#DejaVuSans-49\"/>\n       <use x=\"159.033203\" xlink:href=\"#DejaVuSans-53\"/>\n      </g>\n     </g>\n    </g>\n    <g id=\"ytick_11\">\n     <g id=\"line2d_277\">\n      <g>\n       <use style=\"stroke:#000000;stroke-width:0.8;\" x=\"36.465625\" xlink:href=\"#m384f66caa2\" y=\"229.874489\"/>\n      </g>\n     </g>\n     <g id=\"text_147\">\n      <!-- 0.20 -->\n      <g transform=\"translate(7.2 233.673707)scale(0.1 -0.1)\">\n       <use xlink:href=\"#DejaVuSans-48\"/>\n       <use x=\"63.623047\" xlink:href=\"#DejaVuSans-46\"/>\n       <use x=\"95.410156\" xlink:href=\"#DejaVuSans-50\"/>\n       <use x=\"159.033203\" xlink:href=\"#DejaVuSans-48\"/>\n      </g>\n     </g>\n    </g>\n    <g id=\"ytick_12\">\n     <g id=\"line2d_278\">\n      <g>\n       <use style=\"stroke:#000000;stroke-width:0.8;\" x=\"36.465625\" xlink:href=\"#m384f66caa2\" y=\"200.22358\"/>\n      </g>\n     </g>\n     <g id=\"text_148\">\n      <!-- 0.25 -->\n      <g transform=\"translate(7.2 204.022798)scale(0.1 -0.1)\">\n       <use xlink:href=\"#DejaVuSans-48\"/>\n       <use x=\"63.623047\" xlink:href=\"#DejaVuSans-46\"/>\n       <use x=\"95.410156\" xlink:href=\"#DejaVuSans-50\"/>\n       <use x=\"159.033203\" xlink:href=\"#DejaVuSans-53\"/>\n      </g>\n     </g>\n    </g>\n   </g>\n   <g id=\"patch_276\">\n    <path d=\"M 36.465625 348.478125 \nL 36.465625 200.22358 \n\" style=\"fill:none;stroke:#000000;stroke-linecap:square;stroke-linejoin:miter;stroke-width:0.8;\"/>\n   </g>\n   <g id=\"patch_277\">\n    <path d=\"M 1152.465625 348.478125 \nL 1152.465625 200.22358 \n\" style=\"fill:none;stroke:#000000;stroke-linecap:square;stroke-linejoin:miter;stroke-width:0.8;\"/>\n   </g>\n   <g id=\"patch_278\">\n    <path d=\"M 36.465625 348.478125 \nL 1152.465625 348.478125 \n\" style=\"fill:none;stroke:#000000;stroke-linecap:square;stroke-linejoin:miter;stroke-width:0.8;\"/>\n   </g>\n   <g id=\"patch_279\">\n    <path d=\"M 36.465625 200.22358 \nL 1152.465625 200.22358 \n\" style=\"fill:none;stroke:#000000;stroke-linecap:square;stroke-linejoin:miter;stroke-width:0.8;\"/>\n   </g>\n   <g id=\"text_149\">\n    <!-- Male -->\n    <g transform=\"translate(580.253125 194.22358)scale(0.12 -0.12)\">\n     <use xlink:href=\"#DejaVuSans-77\"/>\n     <use x=\"86.279297\" xlink:href=\"#DejaVuSans-97\"/>\n     <use x=\"147.558594\" xlink:href=\"#DejaVuSans-108\"/>\n     <use x=\"175.341797\" xlink:href=\"#DejaVuSans-101\"/>\n    </g>\n   </g>\n   <g id=\"legend_2\">\n    <g id=\"patch_280\">\n     <path d=\"M 1089.778125 222.901705 \nL 1145.465625 222.901705 \nQ 1147.465625 222.901705 1147.465625 220.901705 \nL 1147.465625 207.22358 \nQ 1147.465625 205.22358 1145.465625 205.22358 \nL 1089.778125 205.22358 \nQ 1087.778125 205.22358 1087.778125 207.22358 \nL 1087.778125 220.901705 \nQ 1087.778125 222.901705 1089.778125 222.901705 \nz\n\" style=\"fill:#ffffff;opacity:0.8;stroke:#cccccc;stroke-linejoin:miter;\"/>\n    </g>\n    <g id=\"patch_281\">\n     <path d=\"M 1091.778125 216.822017 \nL 1111.778125 216.822017 \nL 1111.778125 209.822017 \nL 1091.778125 209.822017 \nz\n\" style=\"fill:#ff7f0e;\"/>\n    </g>\n    <g id=\"text_150\">\n     <!-- Male -->\n     <g transform=\"translate(1119.778125 216.822017)scale(0.1 -0.1)\">\n      <use xlink:href=\"#DejaVuSans-77\"/>\n      <use x=\"86.279297\" xlink:href=\"#DejaVuSans-97\"/>\n      <use x=\"147.558594\" xlink:href=\"#DejaVuSans-108\"/>\n      <use x=\"175.341797\" xlink:href=\"#DejaVuSans-101\"/>\n     </g>\n    </g>\n   </g>\n  </g>\n </g>\n <defs>\n  <clipPath id=\"p15581e7fa3\">\n   <rect height=\"148.254545\" width=\"1116\" x=\"36.465625\" y=\"22.318125\"/>\n  </clipPath>\n  <clipPath id=\"p0f4f403e9b\">\n   <rect height=\"148.254545\" width=\"1116\" x=\"36.465625\" y=\"200.22358\"/>\n  </clipPath>\n </defs>\n</svg>\n",
      "image/png": "[encoded data removed]"
     },
     "metadata": {
      "needs_background": "light"
     }
    }
   ],
   "source": [
    "axs = consensus_ratio_df.plot.bar(figsize=(20,6), subplots=True, ylim=(0, 0.25))"
   ]
  },
  {
   "cell_type": "markdown",
   "metadata": {
    "slideshow": {
     "slide_type": "skip"
    }
   },
   "source": [
    "## Pie plots : Ratio of each superfamily / family / TE"
   ]
  },
  {
   "cell_type": "code",
   "execution_count": 5,
   "metadata": {
    "slideshow": {
     "slide_type": "slide"
    }
   },
   "outputs": [
    {
     "output_type": "display_data",
     "data": {
      "application/vnd.plotly.v1+json": {
       "config": {
        "plotlyServerURL": "https://plot.ly"
       },
       "data": [
        {
         "domain": {
          "x": [
           0,
           0.45
          ],
          "y": [
           0,
           1
          ]
         },
         "hole": 0.4,
         "hoverinfo": "label+value",
         "labels": [
          "LINE",
          "DNA",
          "LINE",
          "LINE",
          "LTR",
          "LTR",
          "LTR",
          "LINE",
          "LINE",
          "LINE",
          "LINE",
          "RC",
          "LINE",
          "LINE",
          "LINE",
          "LINE",
          "LINE",
          "DNA",
          "LINE",
          "LINE",
          "LINE",
          "LINE",
          "LTR",
          "LINE",
          "RC",
          "LINE",
          "LTR",
          "DNA",
          "LINE",
          "LINE",
          "LINE",
          "DNA",
          "DNA",
          "Satellite",
          "DNA",
          "DNA",
          "DNA",
          "DNA",
          "DNA",
          "DNA",
          "LINE",
          "Satellite",
          "DNA",
          "LINE",
          "LINE",
          "LINE",
          "DNA",
          "DNA",
          "DNA",
          "DNA",
          "DNA",
          "DNA",
          "LTR",
          "LTR",
          "LTR",
          "LTR",
          "LTR",
          "LTR",
          "LTR",
          "LTR",
          "LTR",
          "LTR",
          "LTR",
          "LTR",
          "LTR",
          "LTR",
          "LTR",
          "LTR",
          "LTR",
          "LTR",
          "LTR",
          "LTR",
          "LTR",
          "LTR",
          "LTR",
          "LTR",
          "LTR",
          "LTR",
          "LTR",
          "LTR",
          "LTR",
          "LTR",
          "LTR",
          "LTR",
          "LTR",
          "LTR",
          "LTR",
          "LTR",
          "LTR",
          "LTR",
          "LTR",
          "LTR",
          "LTR",
          "LTR",
          "LTR",
          "LTR",
          "LTR",
          "LTR",
          "LTR",
          "Unknown",
          "Unknown",
          "DNA",
          "LINE",
          "LINE",
          "LTR",
          "Unknown",
          "Unknown",
          "LINE",
          "LINE",
          "LINE",
          "LINE",
          "LINE",
          "LINE",
          "LINE",
          "Satellite",
          "LINE",
          "DNA",
          "LINE",
          "DNA",
          "DNA",
          "DNA",
          "LTR",
          "LTR",
          "LTR",
          "LTR",
          "LTR",
          "LTR",
          "LTR",
          "LTR",
          "LTR",
          "LTR",
          "LTR",
          "LTR"
         ],
         "name": "Female",
         "textinfo": "label+percent",
         "type": "pie",
         "values": [
          3,
          1,
          4,
          1,
          3,
          12,
          4,
          6,
          7,
          1,
          3,
          41,
          6,
          1,
          17,
          4,
          3,
          20,
          2,
          16,
          1,
          2,
          2,
          1,
          1,
          15,
          8,
          4,
          2,
          5,
          7,
          3,
          5,
          3,
          1,
          244,
          3,
          8,
          12,
          6,
          3,
          1,
          11,
          6,
          20,
          12,
          30,
          11,
          1,
          38,
          1,
          5,
          7,
          5,
          13,
          6,
          50,
          2,
          3,
          5,
          2,
          2,
          131,
          1,
          1,
          4,
          7,
          252,
          3,
          2,
          3,
          52,
          3,
          5,
          1,
          1,
          1,
          6,
          1,
          1,
          1,
          3,
          4,
          1,
          1,
          4,
          14,
          4,
          1,
          1,
          2,
          4,
          28,
          39,
          2,
          27,
          3,
          3,
          2,
          0,
          0,
          0,
          0,
          0,
          0,
          0,
          0,
          0,
          0,
          0,
          0,
          0,
          0,
          0,
          0,
          0,
          0,
          0,
          0,
          0,
          0,
          0,
          0,
          0,
          0,
          0,
          0,
          0,
          0,
          0,
          0,
          0,
          0
         ]
        },
        {
         "domain": {
          "x": [
           0.55,
           1
          ],
          "y": [
           0,
           1
          ]
         },
         "hole": 0.4,
         "hoverinfo": "label+value",
         "labels": [
          "LINE",
          "DNA",
          "LINE",
          "LINE",
          "LTR",
          "LTR",
          "LTR",
          "LINE",
          "LINE",
          "LINE",
          "LINE",
          "RC",
          "LINE",
          "LINE",
          "LINE",
          "LINE",
          "LINE",
          "DNA",
          "LINE",
          "LINE",
          "LINE",
          "LINE",
          "LTR",
          "LINE",
          "RC",
          "LINE",
          "LTR",
          "DNA",
          "LINE",
          "LINE",
          "LINE",
          "DNA",
          "DNA",
          "Satellite",
          "DNA",
          "DNA",
          "DNA",
          "DNA",
          "DNA",
          "DNA",
          "LINE",
          "Satellite",
          "DNA",
          "LINE",
          "LINE",
          "LINE",
          "DNA",
          "DNA",
          "DNA",
          "DNA",
          "DNA",
          "DNA",
          "LTR",
          "LTR",
          "LTR",
          "LTR",
          "LTR",
          "LTR",
          "LTR",
          "LTR",
          "LTR",
          "LTR",
          "LTR",
          "LTR",
          "LTR",
          "LTR",
          "LTR",
          "LTR",
          "LTR",
          "LTR",
          "LTR",
          "LTR",
          "LTR",
          "LTR",
          "LTR",
          "LTR",
          "LTR",
          "LTR",
          "LTR",
          "LTR",
          "LTR",
          "LTR",
          "LTR",
          "LTR",
          "LTR",
          "LTR",
          "LTR",
          "LTR",
          "LTR",
          "LTR",
          "LTR",
          "LTR",
          "LTR",
          "LTR",
          "LTR",
          "LTR",
          "LTR",
          "LTR",
          "LTR",
          "Unknown",
          "Unknown",
          "DNA",
          "LINE",
          "LINE",
          "LTR",
          "Unknown",
          "Unknown",
          "LINE",
          "LINE",
          "LINE",
          "LINE",
          "LINE",
          "LINE",
          "LINE",
          "Satellite",
          "LINE",
          "DNA",
          "LINE",
          "DNA",
          "DNA",
          "DNA",
          "LTR",
          "LTR",
          "LTR",
          "LTR",
          "LTR",
          "LTR",
          "LTR",
          "LTR",
          "LTR",
          "LTR",
          "LTR",
          "LTR"
         ],
         "name": "Male",
         "textinfo": "label+percent",
         "type": "pie",
         "values": [
          21,
          1,
          8,
          17,
          39,
          12,
          20,
          34,
          38,
          45,
          36,
          114,
          136,
          26,
          60,
          1,
          63,
          93,
          31,
          220,
          20,
          0,
          7,
          1,
          0,
          1136,
          31,
          11,
          6,
          6,
          39,
          43,
          160,
          2,
          5,
          45,
          21,
          69,
          21,
          7,
          1,
          19,
          36,
          670,
          552,
          352,
          24,
          17,
          178,
          14,
          3,
          22,
          11,
          7,
          24,
          45,
          17,
          72,
          19,
          15,
          33,
          20,
          245,
          34,
          39,
          97,
          42,
          137,
          2,
          691,
          13,
          90,
          2,
          10,
          13,
          0,
          2,
          14,
          1,
          35,
          26,
          195,
          85,
          8,
          1,
          11,
          78,
          11,
          14,
          57,
          6,
          147,
          11,
          231,
          10,
          7,
          11,
          40,
          125,
          6,
          1,
          11,
          29,
          4,
          10,
          3,
          71,
          5,
          7,
          51,
          5,
          99,
          3,
          1,
          1,
          172,
          7,
          34,
          1,
          21,
          2,
          46,
          24,
          32,
          3,
          43,
          4,
          37,
          7,
          3,
          6,
          5,
          11
         ]
        }
       ],
       "layout": {
        "annotations": [
         {
          "font": {
           "size": 20
          },
          "showarrow": false,
          "text": "Female",
          "x": 0.16,
          "y": 0.5
         },
         {
          "font": {
           "size": 20
          },
          "showarrow": false,
          "text": "Male",
          "x": 0.82,
          "y": 0.5
         }
        ],
        "template": {
         "data": {
          "bar": [
           {
            "error_x": {
             "color": "#2a3f5f"
            },
            "error_y": {
             "color": "#2a3f5f"
            },
            "marker": {
             "line": {
              "color": "#E5ECF6",
              "width": 0.5
             }
            },
            "type": "bar"
           }
          ],
          "barpolar": [
           {
            "marker": {
             "line": {
              "color": "#E5ECF6",
              "width": 0.5
             }
            },
            "type": "barpolar"
           }
          ],
          "carpet": [
           {
            "aaxis": {
             "endlinecolor": "#2a3f5f",
             "gridcolor": "white",
             "linecolor": "white",
             "minorgridcolor": "white",
             "startlinecolor": "#2a3f5f"
            },
            "baxis": {
             "endlinecolor": "#2a3f5f",
             "gridcolor": "white",
             "linecolor": "white",
             "minorgridcolor": "white",
             "startlinecolor": "#2a3f5f"
            },
            "type": "carpet"
           }
          ],
          "choropleth": [
           {
            "colorbar": {
             "outlinewidth": 0,
             "ticks": ""
            },
            "type": "choropleth"
           }
          ],
          "contour": [
           {
            "colorbar": {
             "outlinewidth": 0,
             "ticks": ""
            },
            "colorscale": [
             [
              0,
              "#0d0887"
             ],
             [
              0.1111111111111111,
              "#46039f"
             ],
             [
              0.2222222222222222,
              "#7201a8"
             ],
             [
              0.3333333333333333,
              "#9c179e"
             ],
             [
              0.4444444444444444,
              "#bd3786"
             ],
             [
              0.5555555555555556,
              "#d8576b"
             ],
             [
              0.6666666666666666,
              "#ed7953"
             ],
             [
              0.7777777777777778,
              "#fb9f3a"
             ],
             [
              0.8888888888888888,
              "#fdca26"
             ],
             [
              1,
              "#f0f921"
             ]
            ],
            "type": "contour"
           }
          ],
          "contourcarpet": [
           {
            "colorbar": {
             "outlinewidth": 0,
             "ticks": ""
            },
            "type": "contourcarpet"
           }
          ],
          "heatmap": [
           {
            "colorbar": {
             "outlinewidth": 0,
             "ticks": ""
            },
            "colorscale": [
             [
              0,
              "#0d0887"
             ],
             [
              0.1111111111111111,
              "#46039f"
             ],
             [
              0.2222222222222222,
              "#7201a8"
             ],
             [
              0.3333333333333333,
              "#9c179e"
             ],
             [
              0.4444444444444444,
              "#bd3786"
             ],
             [
              0.5555555555555556,
              "#d8576b"
             ],
             [
              0.6666666666666666,
              "#ed7953"
             ],
             [
              0.7777777777777778,
              "#fb9f3a"
             ],
             [
              0.8888888888888888,
              "#fdca26"
             ],
             [
              1,
              "#f0f921"
             ]
            ],
            "type": "heatmap"
           }
          ],
          "heatmapgl": [
           {
            "colorbar": {
             "outlinewidth": 0,
             "ticks": ""
            },
            "colorscale": [
             [
              0,
              "#0d0887"
             ],
             [
              0.1111111111111111,
              "#46039f"
             ],
             [
              0.2222222222222222,
              "#7201a8"
             ],
             [
              0.3333333333333333,
              "#9c179e"
             ],
             [
              0.4444444444444444,
              "#bd3786"
             ],
             [
              0.5555555555555556,
              "#d8576b"
             ],
             [
              0.6666666666666666,
              "#ed7953"
             ],
             [
              0.7777777777777778,
              "#fb9f3a"
             ],
             [
              0.8888888888888888,
              "#fdca26"
             ],
             [
              1,
              "#f0f921"
             ]
            ],
            "type": "heatmapgl"
           }
          ],
          "histogram": [
           {
            "marker": {
             "colorbar": {
              "outlinewidth": 0,
              "ticks": ""
             }
            },
            "type": "histogram"
           }
          ],
          "histogram2d": [
           {
            "colorbar": {
             "outlinewidth": 0,
             "ticks": ""
            },
            "colorscale": [
             [
              0,
              "#0d0887"
             ],
             [
              0.1111111111111111,
              "#46039f"
             ],
             [
              0.2222222222222222,
              "#7201a8"
             ],
             [
              0.3333333333333333,
              "#9c179e"
             ],
             [
              0.4444444444444444,
              "#bd3786"
             ],
             [
              0.5555555555555556,
              "#d8576b"
             ],
             [
              0.6666666666666666,
              "#ed7953"
             ],
             [
              0.7777777777777778,
              "#fb9f3a"
             ],
             [
              0.8888888888888888,
              "#fdca26"
             ],
             [
              1,
              "#f0f921"
             ]
            ],
            "type": "histogram2d"
           }
          ],
          "histogram2dcontour": [
           {
            "colorbar": {
             "outlinewidth": 0,
             "ticks": ""
            },
            "colorscale": [
             [
              0,
              "#0d0887"
             ],
             [
              0.1111111111111111,
              "#46039f"
             ],
             [
              0.2222222222222222,
              "#7201a8"
             ],
             [
              0.3333333333333333,
              "#9c179e"
             ],
             [
              0.4444444444444444,
              "#bd3786"
             ],
             [
              0.5555555555555556,
              "#d8576b"
             ],
             [
              0.6666666666666666,
              "#ed7953"
             ],
             [
              0.7777777777777778,
              "#fb9f3a"
             ],
             [
              0.8888888888888888,
              "#fdca26"
             ],
             [
              1,
              "#f0f921"
             ]
            ],
            "type": "histogram2dcontour"
           }
          ],
          "mesh3d": [
           {
            "colorbar": {
             "outlinewidth": 0,
             "ticks": ""
            },
            "type": "mesh3d"
           }
          ],
          "parcoords": [
           {
            "line": {
             "colorbar": {
              "outlinewidth": 0,
              "ticks": ""
             }
            },
            "type": "parcoords"
           }
          ],
          "pie": [
           {
            "automargin": true,
            "type": "pie"
           }
          ],
          "scatter": [
           {
            "marker": {
             "colorbar": {
              "outlinewidth": 0,
              "ticks": ""
             }
            },
            "type": "scatter"
           }
          ],
          "scatter3d": [
           {
            "line": {
             "colorbar": {
              "outlinewidth": 0,
              "ticks": ""
             }
            },
            "marker": {
             "colorbar": {
              "outlinewidth": 0,
              "ticks": ""
             }
            },
            "type": "scatter3d"
           }
          ],
          "scattercarpet": [
           {
            "marker": {
             "colorbar": {
              "outlinewidth": 0,
              "ticks": ""
             }
            },
            "type": "scattercarpet"
           }
          ],
          "scattergeo": [
           {
            "marker": {
             "colorbar": {
              "outlinewidth": 0,
              "ticks": ""
             }
            },
            "type": "scattergeo"
           }
          ],
          "scattergl": [
           {
            "marker": {
             "colorbar": {
              "outlinewidth": 0,
              "ticks": ""
             }
            },
            "type": "scattergl"
           }
          ],
          "scattermapbox": [
           {
            "marker": {
             "colorbar": {
              "outlinewidth": 0,
              "ticks": ""
             }
            },
            "type": "scattermapbox"
           }
          ],
          "scatterpolar": [
           {
            "marker": {
             "colorbar": {
              "outlinewidth": 0,
              "ticks": ""
             }
            },
            "type": "scatterpolar"
           }
          ],
          "scatterpolargl": [
           {
            "marker": {
             "colorbar": {
              "outlinewidth": 0,
              "ticks": ""
             }
            },
            "type": "scatterpolargl"
           }
          ],
          "scatterternary": [
           {
            "marker": {
             "colorbar": {
              "outlinewidth": 0,
              "ticks": ""
             }
            },
            "type": "scatterternary"
           }
          ],
          "surface": [
           {
            "colorbar": {
             "outlinewidth": 0,
             "ticks": ""
            },
            "colorscale": [
             [
              0,
              "#0d0887"
             ],
             [
              0.1111111111111111,
              "#46039f"
             ],
             [
              0.2222222222222222,
              "#7201a8"
             ],
             [
              0.3333333333333333,
              "#9c179e"
             ],
             [
              0.4444444444444444,
              "#bd3786"
             ],
             [
              0.5555555555555556,
              "#d8576b"
             ],
             [
              0.6666666666666666,
              "#ed7953"
             ],
             [
              0.7777777777777778,
              "#fb9f3a"
             ],
             [
              0.8888888888888888,
              "#fdca26"
             ],
             [
              1,
              "#f0f921"
             ]
            ],
            "type": "surface"
           }
          ],
          "table": [
           {
            "cells": {
             "fill": {
              "color": "#EBF0F8"
             },
             "line": {
              "color": "white"
             }
            },
            "header": {
             "fill": {
              "color": "#C8D4E3"
             },
             "line": {
              "color": "white"
             }
            },
            "type": "table"
           }
          ]
         },
         "layout": {
          "annotationdefaults": {
           "arrowcolor": "#2a3f5f",
           "arrowhead": 0,
           "arrowwidth": 1
          },
          "autotypenumbers": "strict",
          "coloraxis": {
           "colorbar": {
            "outlinewidth": 0,
            "ticks": ""
           }
          },
          "colorscale": {
           "diverging": [
            [
             0,
             "#8e0152"
            ],
            [
             0.1,
             "#c51b7d"
            ],
            [
             0.2,
             "#de77ae"
            ],
            [
             0.3,
             "#f1b6da"
            ],
            [
             0.4,
             "#fde0ef"
            ],
            [
             0.5,
             "#f7f7f7"
            ],
            [
             0.6,
             "#e6f5d0"
            ],
            [
             0.7,
             "#b8e186"
            ],
            [
             0.8,
             "#7fbc41"
            ],
            [
             0.9,
             "#4d9221"
            ],
            [
             1,
             "#276419"
            ]
           ],
           "sequential": [
            [
             0,
             "#0d0887"
            ],
            [
             0.1111111111111111,
             "#46039f"
            ],
            [
             0.2222222222222222,
             "#7201a8"
            ],
            [
             0.3333333333333333,
             "#9c179e"
            ],
            [
             0.4444444444444444,
             "#bd3786"
            ],
            [
             0.5555555555555556,
             "#d8576b"
            ],
            [
             0.6666666666666666,
             "#ed7953"
            ],
            [
             0.7777777777777778,
             "#fb9f3a"
            ],
            [
             0.8888888888888888,
             "#fdca26"
            ],
            [
             1,
             "#f0f921"
            ]
           ],
           "sequentialminus": [
            [
             0,
             "#0d0887"
            ],
            [
             0.1111111111111111,
             "#46039f"
            ],
            [
             0.2222222222222222,
             "#7201a8"
            ],
            [
             0.3333333333333333,
             "#9c179e"
            ],
            [
             0.4444444444444444,
             "#bd3786"
            ],
            [
             0.5555555555555556,
             "#d8576b"
            ],
            [
             0.6666666666666666,
             "#ed7953"
            ],
            [
             0.7777777777777778,
             "#fb9f3a"
            ],
            [
             0.8888888888888888,
             "#fdca26"
            ],
            [
             1,
             "#f0f921"
            ]
           ]
          },
          "colorway": [
           "#636efa",
           "#EF553B",
           "#00cc96",
           "#ab63fa",
           "#FFA15A",
           "#19d3f3",
           "#FF6692",
           "#B6E880",
           "#FF97FF",
           "#FECB52"
          ],
          "font": {
           "color": "#2a3f5f"
          },
          "geo": {
           "bgcolor": "white",
           "lakecolor": "white",
           "landcolor": "#E5ECF6",
           "showlakes": true,
           "showland": true,
           "subunitcolor": "white"
          },
          "hoverlabel": {
           "align": "left"
          },
          "hovermode": "closest",
          "mapbox": {
           "style": "light"
          },
          "paper_bgcolor": "white",
          "plot_bgcolor": "#E5ECF6",
          "polar": {
           "angularaxis": {
            "gridcolor": "white",
            "linecolor": "white",
            "ticks": ""
           },
           "bgcolor": "#E5ECF6",
           "radialaxis": {
            "gridcolor": "white",
            "linecolor": "white",
            "ticks": ""
           }
          },
          "scene": {
           "xaxis": {
            "backgroundcolor": "#E5ECF6",
            "gridcolor": "white",
            "gridwidth": 2,
            "linecolor": "white",
            "showbackground": true,
            "ticks": "",
            "zerolinecolor": "white"
           },
           "yaxis": {
            "backgroundcolor": "#E5ECF6",
            "gridcolor": "white",
            "gridwidth": 2,
            "linecolor": "white",
            "showbackground": true,
            "ticks": "",
            "zerolinecolor": "white"
           },
           "zaxis": {
            "backgroundcolor": "#E5ECF6",
            "gridcolor": "white",
            "gridwidth": 2,
            "linecolor": "white",
            "showbackground": true,
            "ticks": "",
            "zerolinecolor": "white"
           }
          },
          "shapedefaults": {
           "line": {
            "color": "#2a3f5f"
           }
          },
          "ternary": {
           "aaxis": {
            "gridcolor": "white",
            "linecolor": "white",
            "ticks": ""
           },
           "baxis": {
            "gridcolor": "white",
            "linecolor": "white",
            "ticks": ""
           },
           "bgcolor": "#E5ECF6",
           "caxis": {
            "gridcolor": "white",
            "linecolor": "white",
            "ticks": ""
           }
          },
          "title": {
           "x": 0.05
          },
          "xaxis": {
           "automargin": true,
           "gridcolor": "white",
           "linecolor": "white",
           "ticks": "",
           "title": {
            "standoff": 15
           },
           "zerolinecolor": "white",
           "zerolinewidth": 2
          },
          "yaxis": {
           "automargin": true,
           "gridcolor": "white",
           "linecolor": "white",
           "ticks": "",
           "title": {
            "standoff": 15
           },
           "zerolinecolor": "white",
           "zerolinewidth": 2
          }
         }
        },
        "title": {
         "text": "Ratio of expressed TE per superfamily "
        }
       }
      }
     },
     "metadata": {}
    }
   ],
   "source": [
    "df = consensus_counting_df.copy()\n",
    "fig = make_subplots(rows=1, cols=2, specs=[[{'type':'domain'}, {'type':'domain'}]])\n",
    "\n",
    "fig.add_trace(\n",
    "    go.Pie(labels=df[\"SuperFamily\"], values=df[\"Female\"], textinfo='label+percent', name = \"Female\"),\n",
    "    1, 1)\n",
    "\n",
    "fig.add_trace(\n",
    "    go.Pie(labels=df[\"SuperFamily\"], values=df[\"Male\"], textinfo='label+percent', name = \"Male\"),\n",
    "    1, 2)\n",
    "fig.update_traces(hole=.4, hoverinfo=\"label+value\")\n",
    "\n",
    "fig.update_layout(\n",
    "    title_text=\"Ratio of expressed TE per superfamily \",\n",
    "    # Add annotations in the center of the donut pies.\n",
    "    annotations=[dict(text='Female', x=0.16, y=0.5, font_size=20, showarrow=False),\n",
    "                 dict(text='Male', x=0.82, y=0.5, font_size=20, showarrow=False)])\n",
    "fig.show()"
   ]
  },
  {
   "cell_type": "code",
   "execution_count": 6,
   "metadata": {
    "slideshow": {
     "slide_type": "slide"
    }
   },
   "outputs": [
    {
     "output_type": "display_data",
     "data": {
      "application/vnd.plotly.v1+json": {
       "config": {
        "plotlyServerURL": "https://plot.ly"
       },
       "data": [
        {
         "domain": {
          "x": [
           0,
           0.45
          ],
          "y": [
           0,
           1
          ]
         },
         "hole": 0.4,
         "hoverinfo": "label+value+percent",
         "labels": [
          "R1-LOA",
          "TcMar-Tc1",
          "I-Jockey",
          "I-Jockey",
          "Gypsy",
          "Gypsy",
          "Gypsy",
          "CR1",
          "R1",
          "R1",
          "R1",
          "Helitron",
          "I-Jockey",
          "I-Jockey",
          "I-Jockey",
          "I-Jockey",
          "I-Jockey",
          "TcMar-Tc1",
          "I-Jockey",
          "I-Jockey",
          "I-Jockey",
          "I-Jockey",
          "Gypsy",
          "I-Jockey",
          "Helitron",
          "I-Jockey",
          "Gypsy",
          "hAT-hobo",
          "I",
          "I",
          "I-Jockey",
          "CMC-Transib",
          "TcMar-Tc1",
          "Unknown",
          "P",
          "TcMar-Pogo",
          "TcMar-Pogo",
          "P",
          "P",
          "P",
          "R1",
          "Unknown",
          "TcMar-Tc1",
          "I-Jockey",
          "I-Jockey",
          "I-Jockey",
          "TcMar-Tc1",
          "TcMar-Tc1",
          "CMC-Transib",
          "CMC-Transib",
          "CMC-Transib",
          "TcMar-Tc1",
          "Gypsy",
          "Gypsy",
          "Gypsy",
          "Gypsy",
          "Gypsy",
          "Gypsy",
          "Gypsy",
          "Gypsy",
          "Copia",
          "Copia",
          "Copia",
          "Pao",
          "Copia",
          "Gypsy",
          "Gypsy",
          "Gypsy",
          "Gypsy",
          "Gypsy",
          "Gypsy",
          "Gypsy",
          "Gypsy",
          "Gypsy",
          "Gypsy",
          "Gypsy",
          "Gypsy",
          "Gypsy",
          "Gypsy",
          "Gypsy",
          "Gypsy",
          "Gypsy",
          "Gypsy",
          "Gypsy",
          "Gypsy",
          "Gypsy",
          "Pao",
          "Gypsy",
          "Pao",
          "Gypsy",
          "Gypsy",
          "Gypsy",
          "Pao",
          "Pao",
          "Gypsy",
          "Gypsy",
          "Gypsy",
          "Gypsy",
          "Gypsy",
          "Unknown",
          "Unknown",
          "TcMar-Tc1",
          "I-Jockey",
          "I-Jockey",
          "Gypsy",
          "Unknown",
          "Unknown",
          "I-Jockey",
          "I-Jockey",
          "I-Jockey",
          "I-Jockey",
          "I-Jockey",
          "I-Jockey",
          "I-Jockey",
          "Unknown",
          "I-Jockey",
          "MULE-NOF",
          "R1",
          "CMC-Transib",
          "CMC-Transib",
          "CMC-Transib",
          "Gypsy",
          "Pao",
          "Pao",
          "Pao",
          "Copia",
          "Gypsy",
          "Gypsy",
          "Gypsy",
          "Gypsy",
          "Gypsy",
          "Gypsy",
          "Gypsy"
         ],
         "name": "Female",
         "textinfo": "label",
         "type": "pie",
         "values": [
          3,
          1,
          4,
          1,
          3,
          12,
          4,
          6,
          7,
          1,
          3,
          41,
          6,
          1,
          17,
          4,
          3,
          20,
          2,
          16,
          1,
          2,
          2,
          1,
          1,
          15,
          8,
          4,
          2,
          5,
          7,
          3,
          5,
          3,
          1,
          244,
          3,
          8,
          12,
          6,
          3,
          1,
          11,
          6,
          20,
          12,
          30,
          11,
          1,
          38,
          1,
          5,
          7,
          5,
          13,
          6,
          50,
          2,
          3,
          5,
          2,
          2,
          131,
          1,
          1,
          4,
          7,
          252,
          3,
          2,
          3,
          52,
          3,
          5,
          1,
          1,
          1,
          6,
          1,
          1,
          1,
          3,
          4,
          1,
          1,
          4,
          14,
          4,
          1,
          1,
          2,
          4,
          28,
          39,
          2,
          27,
          3,
          3,
          2,
          0,
          0,
          0,
          0,
          0,
          0,
          0,
          0,
          0,
          0,
          0,
          0,
          0,
          0,
          0,
          0,
          0,
          0,
          0,
          0,
          0,
          0,
          0,
          0,
          0,
          0,
          0,
          0,
          0,
          0,
          0,
          0,
          0,
          0
         ]
        },
        {
         "domain": {
          "x": [
           0.55,
           1
          ],
          "y": [
           0,
           1
          ]
         },
         "hole": 0.4,
         "hoverinfo": "label+value+percent",
         "labels": [
          "R1-LOA",
          "TcMar-Tc1",
          "I-Jockey",
          "I-Jockey",
          "Gypsy",
          "Gypsy",
          "Gypsy",
          "CR1",
          "R1",
          "R1",
          "R1",
          "Helitron",
          "I-Jockey",
          "I-Jockey",
          "I-Jockey",
          "I-Jockey",
          "I-Jockey",
          "TcMar-Tc1",
          "I-Jockey",
          "I-Jockey",
          "I-Jockey",
          "I-Jockey",
          "Gypsy",
          "I-Jockey",
          "Helitron",
          "I-Jockey",
          "Gypsy",
          "hAT-hobo",
          "I",
          "I",
          "I-Jockey",
          "CMC-Transib",
          "TcMar-Tc1",
          "Unknown",
          "P",
          "TcMar-Pogo",
          "TcMar-Pogo",
          "P",
          "P",
          "P",
          "R1",
          "Unknown",
          "TcMar-Tc1",
          "I-Jockey",
          "I-Jockey",
          "I-Jockey",
          "TcMar-Tc1",
          "TcMar-Tc1",
          "CMC-Transib",
          "CMC-Transib",
          "CMC-Transib",
          "TcMar-Tc1",
          "Gypsy",
          "Gypsy",
          "Gypsy",
          "Gypsy",
          "Gypsy",
          "Gypsy",
          "Gypsy",
          "Gypsy",
          "Copia",
          "Copia",
          "Copia",
          "Pao",
          "Copia",
          "Gypsy",
          "Gypsy",
          "Gypsy",
          "Gypsy",
          "Gypsy",
          "Gypsy",
          "Gypsy",
          "Gypsy",
          "Gypsy",
          "Gypsy",
          "Gypsy",
          "Gypsy",
          "Gypsy",
          "Gypsy",
          "Gypsy",
          "Gypsy",
          "Gypsy",
          "Gypsy",
          "Gypsy",
          "Gypsy",
          "Gypsy",
          "Pao",
          "Gypsy",
          "Pao",
          "Gypsy",
          "Gypsy",
          "Gypsy",
          "Pao",
          "Pao",
          "Gypsy",
          "Gypsy",
          "Gypsy",
          "Gypsy",
          "Gypsy",
          "Unknown",
          "Unknown",
          "TcMar-Tc1",
          "I-Jockey",
          "I-Jockey",
          "Gypsy",
          "Unknown",
          "Unknown",
          "I-Jockey",
          "I-Jockey",
          "I-Jockey",
          "I-Jockey",
          "I-Jockey",
          "I-Jockey",
          "I-Jockey",
          "Unknown",
          "I-Jockey",
          "MULE-NOF",
          "R1",
          "CMC-Transib",
          "CMC-Transib",
          "CMC-Transib",
          "Gypsy",
          "Pao",
          "Pao",
          "Pao",
          "Copia",
          "Gypsy",
          "Gypsy",
          "Gypsy",
          "Gypsy",
          "Gypsy",
          "Gypsy",
          "Gypsy"
         ],
         "name": "Male",
         "textinfo": "label",
         "type": "pie",
         "values": [
          21,
          1,
          8,
          17,
          39,
          12,
          20,
          34,
          38,
          45,
          36,
          114,
          136,
          26,
          60,
          1,
          63,
          93,
          31,
          220,
          20,
          0,
          7,
          1,
          0,
          1136,
          31,
          11,
          6,
          6,
          39,
          43,
          160,
          2,
          5,
          45,
          21,
          69,
          21,
          7,
          1,
          19,
          36,
          670,
          552,
          352,
          24,
          17,
          178,
          14,
          3,
          22,
          11,
          7,
          24,
          45,
          17,
          72,
          19,
          15,
          33,
          20,
          245,
          34,
          39,
          97,
          42,
          137,
          2,
          691,
          13,
          90,
          2,
          10,
          13,
          0,
          2,
          14,
          1,
          35,
          26,
          195,
          85,
          8,
          1,
          11,
          78,
          11,
          14,
          57,
          6,
          147,
          11,
          231,
          10,
          7,
          11,
          40,
          125,
          6,
          1,
          11,
          29,
          4,
          10,
          3,
          71,
          5,
          7,
          51,
          5,
          99,
          3,
          1,
          1,
          172,
          7,
          34,
          1,
          21,
          2,
          46,
          24,
          32,
          3,
          43,
          4,
          37,
          7,
          3,
          6,
          5,
          11
         ]
        }
       ],
       "layout": {
        "annotations": [
         {
          "font": {
           "size": 20
          },
          "showarrow": false,
          "text": "Female",
          "x": 0.15,
          "y": 0.5
         },
         {
          "font": {
           "size": 20
          },
          "showarrow": false,
          "text": "Male",
          "x": 0.82,
          "y": 0.5
         }
        ],
        "template": {
         "data": {
          "bar": [
           {
            "error_x": {
             "color": "#2a3f5f"
            },
            "error_y": {
             "color": "#2a3f5f"
            },
            "marker": {
             "line": {
              "color": "#E5ECF6",
              "width": 0.5
             }
            },
            "type": "bar"
           }
          ],
          "barpolar": [
           {
            "marker": {
             "line": {
              "color": "#E5ECF6",
              "width": 0.5
             }
            },
            "type": "barpolar"
           }
          ],
          "carpet": [
           {
            "aaxis": {
             "endlinecolor": "#2a3f5f",
             "gridcolor": "white",
             "linecolor": "white",
             "minorgridcolor": "white",
             "startlinecolor": "#2a3f5f"
            },
            "baxis": {
             "endlinecolor": "#2a3f5f",
             "gridcolor": "white",
             "linecolor": "white",
             "minorgridcolor": "white",
             "startlinecolor": "#2a3f5f"
            },
            "type": "carpet"
           }
          ],
          "choropleth": [
           {
            "colorbar": {
             "outlinewidth": 0,
             "ticks": ""
            },
            "type": "choropleth"
           }
          ],
          "contour": [
           {
            "colorbar": {
             "outlinewidth": 0,
             "ticks": ""
            },
            "colorscale": [
             [
              0,
              "#0d0887"
             ],
             [
              0.1111111111111111,
              "#46039f"
             ],
             [
              0.2222222222222222,
              "#7201a8"
             ],
             [
              0.3333333333333333,
              "#9c179e"
             ],
             [
              0.4444444444444444,
              "#bd3786"
             ],
             [
              0.5555555555555556,
              "#d8576b"
             ],
             [
              0.6666666666666666,
              "#ed7953"
             ],
             [
              0.7777777777777778,
              "#fb9f3a"
             ],
             [
              0.8888888888888888,
              "#fdca26"
             ],
             [
              1,
              "#f0f921"
             ]
            ],
            "type": "contour"
           }
          ],
          "contourcarpet": [
           {
            "colorbar": {
             "outlinewidth": 0,
             "ticks": ""
            },
            "type": "contourcarpet"
           }
          ],
          "heatmap": [
           {
            "colorbar": {
             "outlinewidth": 0,
             "ticks": ""
            },
            "colorscale": [
             [
              0,
              "#0d0887"
             ],
             [
              0.1111111111111111,
              "#46039f"
             ],
             [
              0.2222222222222222,
              "#7201a8"
             ],
             [
              0.3333333333333333,
              "#9c179e"
             ],
             [
              0.4444444444444444,
              "#bd3786"
             ],
             [
              0.5555555555555556,
              "#d8576b"
             ],
             [
              0.6666666666666666,
              "#ed7953"
             ],
             [
              0.7777777777777778,
              "#fb9f3a"
             ],
             [
              0.8888888888888888,
              "#fdca26"
             ],
             [
              1,
              "#f0f921"
             ]
            ],
            "type": "heatmap"
           }
          ],
          "heatmapgl": [
           {
            "colorbar": {
             "outlinewidth": 0,
             "ticks": ""
            },
            "colorscale": [
             [
              0,
              "#0d0887"
             ],
             [
              0.1111111111111111,
              "#46039f"
             ],
             [
              0.2222222222222222,
              "#7201a8"
             ],
             [
              0.3333333333333333,
              "#9c179e"
             ],
             [
              0.4444444444444444,
              "#bd3786"
             ],
             [
              0.5555555555555556,
              "#d8576b"
             ],
             [
              0.6666666666666666,
              "#ed7953"
             ],
             [
              0.7777777777777778,
              "#fb9f3a"
             ],
             [
              0.8888888888888888,
              "#fdca26"
             ],
             [
              1,
              "#f0f921"
             ]
            ],
            "type": "heatmapgl"
           }
          ],
          "histogram": [
           {
            "marker": {
             "colorbar": {
              "outlinewidth": 0,
              "ticks": ""
             }
            },
            "type": "histogram"
           }
          ],
          "histogram2d": [
           {
            "colorbar": {
             "outlinewidth": 0,
             "ticks": ""
            },
            "colorscale": [
             [
              0,
              "#0d0887"
             ],
             [
              0.1111111111111111,
              "#46039f"
             ],
             [
              0.2222222222222222,
              "#7201a8"
             ],
             [
              0.3333333333333333,
              "#9c179e"
             ],
             [
              0.4444444444444444,
              "#bd3786"
             ],
             [
              0.5555555555555556,
              "#d8576b"
             ],
             [
              0.6666666666666666,
              "#ed7953"
             ],
             [
              0.7777777777777778,
              "#fb9f3a"
             ],
             [
              0.8888888888888888,
              "#fdca26"
             ],
             [
              1,
              "#f0f921"
             ]
            ],
            "type": "histogram2d"
           }
          ],
          "histogram2dcontour": [
           {
            "colorbar": {
             "outlinewidth": 0,
             "ticks": ""
            },
            "colorscale": [
             [
              0,
              "#0d0887"
             ],
             [
              0.1111111111111111,
              "#46039f"
             ],
             [
              0.2222222222222222,
              "#7201a8"
             ],
             [
              0.3333333333333333,
              "#9c179e"
             ],
             [
              0.4444444444444444,
              "#bd3786"
             ],
             [
              0.5555555555555556,
              "#d8576b"
             ],
             [
              0.6666666666666666,
              "#ed7953"
             ],
             [
              0.7777777777777778,
              "#fb9f3a"
             ],
             [
              0.8888888888888888,
              "#fdca26"
             ],
             [
              1,
              "#f0f921"
             ]
            ],
            "type": "histogram2dcontour"
           }
          ],
          "mesh3d": [
           {
            "colorbar": {
             "outlinewidth": 0,
             "ticks": ""
            },
            "type": "mesh3d"
           }
          ],
          "parcoords": [
           {
            "line": {
             "colorbar": {
              "outlinewidth": 0,
              "ticks": ""
             }
            },
            "type": "parcoords"
           }
          ],
          "pie": [
           {
            "automargin": true,
            "type": "pie"
           }
          ],
          "scatter": [
           {
            "marker": {
             "colorbar": {
              "outlinewidth": 0,
              "ticks": ""
             }
            },
            "type": "scatter"
           }
          ],
          "scatter3d": [
           {
            "line": {
             "colorbar": {
              "outlinewidth": 0,
              "ticks": ""
             }
            },
            "marker": {
             "colorbar": {
              "outlinewidth": 0,
              "ticks": ""
             }
            },
            "type": "scatter3d"
           }
          ],
          "scattercarpet": [
           {
            "marker": {
             "colorbar": {
              "outlinewidth": 0,
              "ticks": ""
             }
            },
            "type": "scattercarpet"
           }
          ],
          "scattergeo": [
           {
            "marker": {
             "colorbar": {
              "outlinewidth": 0,
              "ticks": ""
             }
            },
            "type": "scattergeo"
           }
          ],
          "scattergl": [
           {
            "marker": {
             "colorbar": {
              "outlinewidth": 0,
              "ticks": ""
             }
            },
            "type": "scattergl"
           }
          ],
          "scattermapbox": [
           {
            "marker": {
             "colorbar": {
              "outlinewidth": 0,
              "ticks": ""
             }
            },
            "type": "scattermapbox"
           }
          ],
          "scatterpolar": [
           {
            "marker": {
             "colorbar": {
              "outlinewidth": 0,
              "ticks": ""
             }
            },
            "type": "scatterpolar"
           }
          ],
          "scatterpolargl": [
           {
            "marker": {
             "colorbar": {
              "outlinewidth": 0,
              "ticks": ""
             }
            },
            "type": "scatterpolargl"
           }
          ],
          "scatterternary": [
           {
            "marker": {
             "colorbar": {
              "outlinewidth": 0,
              "ticks": ""
             }
            },
            "type": "scatterternary"
           }
          ],
          "surface": [
           {
            "colorbar": {
             "outlinewidth": 0,
             "ticks": ""
            },
            "colorscale": [
             [
              0,
              "#0d0887"
             ],
             [
              0.1111111111111111,
              "#46039f"
             ],
             [
              0.2222222222222222,
              "#7201a8"
             ],
             [
              0.3333333333333333,
              "#9c179e"
             ],
             [
              0.4444444444444444,
              "#bd3786"
             ],
             [
              0.5555555555555556,
              "#d8576b"
             ],
             [
              0.6666666666666666,
              "#ed7953"
             ],
             [
              0.7777777777777778,
              "#fb9f3a"
             ],
             [
              0.8888888888888888,
              "#fdca26"
             ],
             [
              1,
              "#f0f921"
             ]
            ],
            "type": "surface"
           }
          ],
          "table": [
           {
            "cells": {
             "fill": {
              "color": "#EBF0F8"
             },
             "line": {
              "color": "white"
             }
            },
            "header": {
             "fill": {
              "color": "#C8D4E3"
             },
             "line": {
              "color": "white"
             }
            },
            "type": "table"
           }
          ]
         },
         "layout": {
          "annotationdefaults": {
           "arrowcolor": "#2a3f5f",
           "arrowhead": 0,
           "arrowwidth": 1
          },
          "autotypenumbers": "strict",
          "coloraxis": {
           "colorbar": {
            "outlinewidth": 0,
            "ticks": ""
           }
          },
          "colorscale": {
           "diverging": [
            [
             0,
             "#8e0152"
            ],
            [
             0.1,
             "#c51b7d"
            ],
            [
             0.2,
             "#de77ae"
            ],
            [
             0.3,
             "#f1b6da"
            ],
            [
             0.4,
             "#fde0ef"
            ],
            [
             0.5,
             "#f7f7f7"
            ],
            [
             0.6,
             "#e6f5d0"
            ],
            [
             0.7,
             "#b8e186"
            ],
            [
             0.8,
             "#7fbc41"
            ],
            [
             0.9,
             "#4d9221"
            ],
            [
             1,
             "#276419"
            ]
           ],
           "sequential": [
            [
             0,
             "#0d0887"
            ],
            [
             0.1111111111111111,
             "#46039f"
            ],
            [
             0.2222222222222222,
             "#7201a8"
            ],
            [
             0.3333333333333333,
             "#9c179e"
            ],
            [
             0.4444444444444444,
             "#bd3786"
            ],
            [
             0.5555555555555556,
             "#d8576b"
            ],
            [
             0.6666666666666666,
             "#ed7953"
            ],
            [
             0.7777777777777778,
             "#fb9f3a"
            ],
            [
             0.8888888888888888,
             "#fdca26"
            ],
            [
             1,
             "#f0f921"
            ]
           ],
           "sequentialminus": [
            [
             0,
             "#0d0887"
            ],
            [
             0.1111111111111111,
             "#46039f"
            ],
            [
             0.2222222222222222,
             "#7201a8"
            ],
            [
             0.3333333333333333,
             "#9c179e"
            ],
            [
             0.4444444444444444,
             "#bd3786"
            ],
            [
             0.5555555555555556,
             "#d8576b"
            ],
            [
             0.6666666666666666,
             "#ed7953"
            ],
            [
             0.7777777777777778,
             "#fb9f3a"
            ],
            [
             0.8888888888888888,
             "#fdca26"
            ],
            [
             1,
             "#f0f921"
            ]
           ]
          },
          "colorway": [
           "#636efa",
           "#EF553B",
           "#00cc96",
           "#ab63fa",
           "#FFA15A",
           "#19d3f3",
           "#FF6692",
           "#B6E880",
           "#FF97FF",
           "#FECB52"
          ],
          "font": {
           "color": "#2a3f5f"
          },
          "geo": {
           "bgcolor": "white",
           "lakecolor": "white",
           "landcolor": "#E5ECF6",
           "showlakes": true,
           "showland": true,
           "subunitcolor": "white"
          },
          "hoverlabel": {
           "align": "left"
          },
          "hovermode": "closest",
          "mapbox": {
           "style": "light"
          },
          "paper_bgcolor": "white",
          "plot_bgcolor": "#E5ECF6",
          "polar": {
           "angularaxis": {
            "gridcolor": "white",
            "linecolor": "white",
            "ticks": ""
           },
           "bgcolor": "#E5ECF6",
           "radialaxis": {
            "gridcolor": "white",
            "linecolor": "white",
            "ticks": ""
           }
          },
          "scene": {
           "xaxis": {
            "backgroundcolor": "#E5ECF6",
            "gridcolor": "white",
            "gridwidth": 2,
            "linecolor": "white",
            "showbackground": true,
            "ticks": "",
            "zerolinecolor": "white"
           },
           "yaxis": {
            "backgroundcolor": "#E5ECF6",
            "gridcolor": "white",
            "gridwidth": 2,
            "linecolor": "white",
            "showbackground": true,
            "ticks": "",
            "zerolinecolor": "white"
           },
           "zaxis": {
            "backgroundcolor": "#E5ECF6",
            "gridcolor": "white",
            "gridwidth": 2,
            "linecolor": "white",
            "showbackground": true,
            "ticks": "",
            "zerolinecolor": "white"
           }
          },
          "shapedefaults": {
           "line": {
            "color": "#2a3f5f"
           }
          },
          "ternary": {
           "aaxis": {
            "gridcolor": "white",
            "linecolor": "white",
            "ticks": ""
           },
           "baxis": {
            "gridcolor": "white",
            "linecolor": "white",
            "ticks": ""
           },
           "bgcolor": "#E5ECF6",
           "caxis": {
            "gridcolor": "white",
            "linecolor": "white",
            "ticks": ""
           }
          },
          "title": {
           "x": 0.05
          },
          "xaxis": {
           "automargin": true,
           "gridcolor": "white",
           "linecolor": "white",
           "ticks": "",
           "title": {
            "standoff": 15
           },
           "zerolinecolor": "white",
           "zerolinewidth": 2
          },
          "yaxis": {
           "automargin": true,
           "gridcolor": "white",
           "linecolor": "white",
           "ticks": "",
           "title": {
            "standoff": 15
           },
           "zerolinecolor": "white",
           "zerolinewidth": 2
          }
         }
        },
        "title": {
         "text": "Ratio of expressed TE per family "
        }
       }
      }
     },
     "metadata": {}
    }
   ],
   "source": [
    "df = consensus_counting_df.copy()\n",
    "fig = make_subplots(rows=1, cols=2, specs=[[{'type':'domain'}, {'type':'domain'}]])\n",
    "\n",
    "fig.add_trace(\n",
    "    go.Pie(labels=df[\"Family\"], values=df[\"Female\"], textinfo='label', name = \"Female\"),\n",
    "    1, 1)\n",
    "\n",
    "fig.add_trace(\n",
    "    go.Pie(labels=df[\"Family\"], values=df[\"Male\"], textinfo='label', name = \"Male\"),\n",
    "    1, 2)\n",
    "fig.update_traces(hole=.4, hoverinfo=\"label+value+percent\")\n",
    "\n",
    "fig.update_layout(\n",
    "    title_text=\"Ratio of expressed TE per family \",\n",
    "    annotations=[dict(text='Female', x=0.15, y=0.5, font_size=20, showarrow=False),\n",
    "                 dict(text='Male', x=0.82, y=0.5, font_size=20, showarrow=False)])\n",
    "fig.show()"
   ]
  },
  {
   "cell_type": "code",
   "execution_count": 7,
   "metadata": {
    "slideshow": {
     "slide_type": "slide"
    }
   },
   "outputs": [
    {
     "output_type": "stream",
     "name": "stderr",
     "text": [
      "2021-04-14 17:02:58,421 - INFO     - NumExpr defaulting to 4 threads.\n"
     ]
    },
    {
     "output_type": "display_data",
     "data": {
      "text/plain": "<IPython.lib.display.IFrame at 0x7fd0e57dcfd0>",
      "text/html": "\n        <iframe\n            width=\"100%\"\n            height=\"475\"\n            src=\"http://lovecraft:40000/dtale/iframe/1\"\n            frameborder=\"0\"\n            allowfullscreen\n        ></iframe>\n        "
     },
     "metadata": {}
    },
    {
     "output_type": "execute_result",
     "data": {
      "text/plain": []
     },
     "metadata": {},
     "execution_count": 7
    }
   ],
   "source": [
    "dtale.show(df)"
   ]
  },
  {
   "cell_type": "code",
   "execution_count": 8,
   "metadata": {
    "slideshow": {
     "slide_type": "slide"
    }
   },
   "outputs": [
    {
     "output_type": "display_data",
     "data": {
      "application/vnd.plotly.v1+json": {
       "config": {
        "plotlyServerURL": "https://plot.ly"
       },
       "data": [
        {
         "branchvalues": "total",
         "customdata": [
          [
           0.03073628154665432
          ],
          [
           0.1958078561062073
          ],
          [
           0.35127478753541075
          ],
          [
           0.6420690026373864
          ],
          [
           0.17476851851851852
          ],
          [
           0.2475167509110144
          ],
          [
           0.3069447845249755
          ],
          [
           0.16228715298482746
          ],
          [
           0.0392659560113345
          ],
          [
           0.2786041747951619
          ],
          [
           0.2610862603885019
          ],
          [
           0.665998844153342
          ],
          [
           0.8842838196286473
          ],
          [
           0.15896169180100536
          ],
          [
           0.09697588920035279
          ],
          [
           0.6601139182660922
          ],
          [
           0.0990503622662213
          ],
          [
           0.16734324073093532
          ],
          [
           0.09955402100417207
          ],
          [
           0.8044513198865564
          ],
          [
           0.12985483978861467
          ],
          [
           0.6142387011847302
          ],
          [
           0.23641438187489736
          ],
          [
           0.3716457907140893
          ],
          [
           0.4424125071715434
          ],
          [
           0.06005702414928344
          ],
          [
           0.05822866673474251
          ],
          [
           0.13811692656065053
          ],
          [
           0.381260945709282
          ],
          [
           0.13920252664824326
          ],
          [
           0.806766917293233
          ],
          [
           0.7504816955684007
          ],
          [
           0.929429206819867
          ],
          [
           0.09123957878489383
          ],
          [
           0.5938131069522157
          ],
          [
           0.29256231245024195
          ],
          [
           0.8042117077204789
          ],
          [
           0.13117024587612827
          ],
          [
           0.290375387183232
          ],
          [
           0.4469444444444441
          ],
          [
           0.21239699032604795
          ],
          [
           0.2864160615121743
          ],
          [
           0.052164399630055716
          ],
          [
           0.232538386491952
          ],
          [
           0.6619149753205519
          ],
          [
           0.09146319471994806
          ],
          [
           0.2574812811459193
          ],
          [
           0.10457769181173435
          ],
          [
           0.14523484291268254
          ],
          [
           0.18899838635315813
          ],
          [
           0.3231737012987013
          ],
          [
           0.2080518945634267
          ],
          [
           0.4822069866144303
          ],
          [
           0.2491610738255033
          ],
          [
           0.034408311968695184
          ],
          [
           0.10435221317298683
          ],
          [
           0.2093331565690044
          ],
          [
           0.1486844077292696
          ],
          [
           0.1670835939128622
          ],
          [
           0.15592744829386052
          ],
          [
           0.17562656641604008
          ],
          [
           0.05009960265465044
          ],
          [
           0.11184037421429616
          ],
          [
           0.3268726318857476
          ],
          [
           0.07558691817071515
          ],
          [
           0.08621445000182544
          ],
          [
           0.04028436018957346
          ],
          [
           0.3535361107106818
          ],
          [
           0.20006265379232285
          ],
          [
           0.9901290812452544
          ],
          [
           0.2213793367010152
          ],
          [
           0.1229020032485111
          ],
          [
           0.10661613940780344
          ],
          [
           0.3419640704123463
          ],
          [
           0.05636661851450586
          ],
          [
           0.11464889547081325
          ],
          [
           0.14601166108423272
          ],
          [
           0.5366129785247432
          ],
          [
           0.20859819337571098
          ],
          [
           0.1976659372720642
          ],
          [
           0.30462962962962964
          ],
          [
           0.0316988608221892
          ],
          [
           0.30382432306690244
          ],
          [
           0.13371753819435028
          ],
          [
           0.14635666518511706
          ],
          [
           0.4000324122842556
          ],
          [
           0.11853280349072778
          ],
          [
           0.08099173553719008
          ],
          [
           0.21814613526570048
          ],
          [
           0.07483419307295505
          ],
          [
           0.6923793859649122
          ],
          [
           0.3350209609803289
          ],
          [
           0.18266418505716567
          ],
          [
           0.2474749571088605
          ],
          [
           0.6375
          ],
          [
           0.15698924731182795
          ],
          [
           0.8220022002200222
          ],
          [
           0.9503328213005634
          ],
          [
           0.14868982919254664
          ],
          [
           0.4187890540831717
          ],
          [
           0.6166522116218561
          ],
          [
           0.209865236767158
          ],
          [
           0.10616789819376027
          ],
          [
           0.4970826016973953
          ],
          [
           0.4329723674383869
          ],
          [
           0.04556951681622449
          ],
          [
           0.24527919266142598
          ],
          [
           0.07541678054113146
          ],
          [
           0.19048991354466852
          ],
          [
           0.5117276887871852
          ],
          [
           0.06293229541116098
          ],
          [
           0.2612167178699438
          ],
          [
           0.037447147709156435
          ],
          [
           0.16309942099272529
          ],
          [
           0.21209336096921508
          ],
          [
           0.2752855563743553
          ],
          [
           0.2735973577998878
          ],
          [
           0.18836171938361712
          ],
          [
           0.28550243626862515
          ],
          [
           0.21933497536945828
          ],
          [
           0.04979235198234356
          ],
          [
           0.1121433311214333
          ],
          [
           0.293596611830149
          ],
          [
           0.6398097220157574
          ],
          [
           0.3108556832694764
          ],
          [
           0.1303329523809523
          ],
          [
           0.522373540856031
          ],
          [
           0.14399961917456086
          ],
          [
           0.5706371191135734
          ],
          [
           0.09696260477776288
          ],
          [
           0.3188258633874726
          ],
          [
           0.13920252664824326
          ],
          [
           0.6825710232299977
          ],
          [
           0.16054870732731988
          ],
          [
           0.8042117077204789
          ],
          [
           0.130330278277523
          ],
          [
           0.23526763799774
          ],
          [
           0.18266418505716567
          ],
          [
           0.23682039282298487
          ],
          [
           0.13177591753253443
          ],
          [
           0.3769786875326897
          ],
          [
           0.09697588920035279
          ],
          [
           0.8628346705638308
          ],
          [
           0.4467392908481906
          ],
          [
           0.5054876404638651
          ],
          [
           0.8890866206559581
          ],
          [
           0.3419640704123463
          ],
          [
           0.4092222912208774
          ],
          [
           0.23893114341924973
          ],
          [
           0.2197352527473721
          ],
          [
           0.8042117077204789
          ],
          [
           0.5054876404638651
          ],
          [
           0.8890866206559581
          ]
         ],
         "domain": {
          "x": [
           0,
           1
          ],
          "y": [
           0,
           1
          ]
         },
         "hovertemplate": "labels=%{label}<br>Male=%{value}<br>parent=%{parent}<br>id=%{id}<br>Male_subject_coverage=%{color}<extra></extra>",
         "ids": [
          "LTR/Gypsy/ACCORD",
          "LTR/Gypsy/ACCORD2",
          "Unknown/Unknown/ARS406_DM",
          "DNA/TcMar-Tc1/BARI1",
          "DNA/TcMar-Tc1/BARI_DM",
          "LTR/Pao/BATUMI",
          "LTR/Pao/BEL",
          "LTR/Gypsy/BLASTOPIA",
          "LTR/Gypsy/BLOOD",
          "LINE/I-Jockey/BS",
          "LINE/I-Jockey/BS2",
          "LINE/I-Jockey/BS3_DM",
          "LINE/I-Jockey/BS4_DM",
          "LTR/Gypsy/BURDOCK",
          "LINE/R1-LOA/Baggins1",
          "LTR/Gypsy/Bica",
          "LTR/Gypsy/CIRCE",
          "LTR/Gypsy/Chimpo",
          "LTR/Gypsy/Chouto",
          "LTR/Copia/Copia",
          "LTR/Copia/Copia1",
          "LTR/Copia/Copia2",
          "LTR/Pao/DIVER",
          "LTR/Pao/DIVER2",
          "LTR/Copia/DM1731",
          "LTR/Gypsy/DM176",
          "LTR/Gypsy/DM297",
          "LTR/Gypsy/DM412",
          "LTR/Gypsy/DM412B_LTR",
          "LINE/CR1/DMCR1A",
          "LTR/Gypsy/DMLTR5",
          "Unknown/Unknown/DMRP1",
          "Unknown/Unknown/DMRPR",
          "LINE/R1/DMRT1A",
          "LINE/R1/DMRT1B",
          "LINE/R1/DMRT1C",
          "RC/Helitron/DNAREP1_DM",
          "LINE/I-Jockey/DOC",
          "LINE/I-Jockey/DOC2_DM",
          "LINE/I-Jockey/DOC3_DM",
          "LINE/I-Jockey/DOC4_DM",
          "LINE/I-Jockey/DOC5_DM",
          "LINE/I-Jockey/DOC6_DM",
          "DNA/TcMar-Tc1/FB4_DM",
          "LTR/Copia/FROGGER",
          "LINE/I-Jockey/FW2_DM",
          "LINE/I-Jockey/FW3_DM",
          "LINE/I-Jockey/G2_DM",
          "LINE/I-Jockey/G3_DM",
          "LINE/I-Jockey/G4_DM",
          "LINE/I-Jockey/G5A_DM",
          "LINE/I-Jockey/G5_DM",
          "LINE/I-Jockey/G6_DM",
          "LINE/I-Jockey/G7_DM",
          "LTR/Gypsy/GTWIN",
          "LTR/Gypsy/Gypsy",
          "LTR/Gypsy/Gypsy1",
          "LTR/Gypsy/Gypsy10",
          "LTR/Gypsy/Gypsy11",
          "LTR/Gypsy/Gypsy12",
          "LTR/Gypsy/Gypsy12A_LTR",
          "LTR/Gypsy/Gypsy2",
          "LTR/Gypsy/Gypsy2_bis",
          "LTR/Gypsy/Gypsy4",
          "LTR/Gypsy/Gypsy5",
          "LTR/Gypsy/Gypsy6",
          "LTR/Gypsy/Gypsy7",
          "LTR/Gypsy/Gypsy8",
          "LTR/Gypsy/Gypsy9",
          "LINE/I-Jockey/HELENA_RT",
          "LINE/I-Jockey/HETA",
          "Satellite/Unknown/HETRP_DM",
          "LTR/Gypsy/HMSBEAGLE_I",
          "DNA/hAT-hobo/HOBO",
          "LTR/Gypsy/IDEFIX",
          "LINE/I/IVK_DM",
          "LINE/I/I_DM",
          "LTR/Gypsy/Invader1",
          "LTR/Gypsy/Invader2",
          "LTR/Gypsy/Invader3",
          "LTR/Gypsy/Invader4",
          "LTR/Gypsy/Invader5",
          "LTR/Gypsy/Invader6",
          "LINE/I-Jockey/Jockey2",
          "LINE/I-Jockey/LINEJ1_DM",
          "DNA/CMC-Transib/M4DM",
          "LTR/Pao/MAX",
          "LTR/Gypsy/MDG1",
          "LTR/Gypsy/MDG3",
          "LTR/Gypsy/MICROPIA",
          "DNA/TcMar-Tc1/Mariner2_DM",
          "LTR/Pao/NINJA",
          "DNA/MULE-NOF/NOF_FB",
          "LTR/Gypsy/NOMAD",
          "Satellite/Unknown/NTS_DM",
          "DNA/P/PLACW_DM",
          "DNA/TcMar-Pogo/POGO",
          "DNA/TcMar-Pogo/POGON1",
          "DNA/P/PROTOP",
          "DNA/P/PROTOP_A",
          "DNA/P/PROTOP_B",
          "LTR/Gypsy/QUASIMODO",
          "LTR/Gypsy/QUASIMODO2",
          "LINE/R1/R1-2_DM",
          "LINE/R1/R1_DM",
          "LTR/Pao/ROO",
          "LTR/Pao/ROOA",
          "LTR/Gypsy/ROVER",
          "DNA/TcMar-Tc1/S2_DM",
          "Satellite/Unknown/SAR_DM",
          "LTR/Gypsy/STALKER4",
          "DNA/TcMar-Tc1/S_DM",
          "LTR/Gypsy/Stalker2",
          "LTR/Gypsy/TABOR",
          "LINE/I-Jockey/TAHRE",
          "LINE/I-Jockey/TART-A",
          "LINE/I-Jockey/TART_B1",
          "DNA/TcMar-Tc1/TC1-2_DM",
          "DNA/TcMar-Tc1/TC1_DM",
          "LTR/Gypsy/TIRANT",
          "LTR/Gypsy/TOM",
          "DNA/CMC-Transib/TRANSIB1",
          "DNA/CMC-Transib/TRANSIB2",
          "DNA/CMC-Transib/TRANSIB3",
          "DNA/CMC-Transib/TRANSIB4",
          "LTR/Gypsy/TRANSPAC",
          "DNA/CMC-Transib/Transib-N1_DM",
          "DNA/CMC-Transib/Transib5",
          "Unknown/Unknown/XDMR",
          "LTR/Gypsy/ZAM",
          "DNA/CMC-Transib",
          "LINE/CR1",
          "LTR/Copia",
          "LTR/Gypsy",
          "RC/Helitron",
          "LINE/I",
          "LINE/I-Jockey",
          "DNA/MULE-NOF",
          "DNA/P",
          "LTR/Pao",
          "LINE/R1",
          "LINE/R1-LOA",
          "DNA/TcMar-Pogo",
          "DNA/TcMar-Tc1",
          "Satellite/Unknown",
          "Unknown/Unknown",
          "DNA/hAT-hobo",
          "DNA",
          "LINE",
          "LTR",
          "RC",
          "Satellite",
          "Unknown"
         ],
         "labels": [
          "ACCORD",
          "ACCORD2",
          "ARS406_DM",
          "BARI1",
          "BARI_DM",
          "BATUMI",
          "BEL",
          "BLASTOPIA",
          "BLOOD",
          "BS",
          "BS2",
          "BS3_DM",
          "BS4_DM",
          "BURDOCK",
          "Baggins1",
          "Bica",
          "CIRCE",
          "Chimpo",
          "Chouto",
          "Copia",
          "Copia1",
          "Copia2",
          "DIVER",
          "DIVER2",
          "DM1731",
          "DM176",
          "DM297",
          "DM412",
          "DM412B_LTR",
          "DMCR1A",
          "DMLTR5",
          "DMRP1",
          "DMRPR",
          "DMRT1A",
          "DMRT1B",
          "DMRT1C",
          "DNAREP1_DM",
          "DOC",
          "DOC2_DM",
          "DOC3_DM",
          "DOC4_DM",
          "DOC5_DM",
          "DOC6_DM",
          "FB4_DM",
          "FROGGER",
          "FW2_DM",
          "FW3_DM",
          "G2_DM",
          "G3_DM",
          "G4_DM",
          "G5A_DM",
          "G5_DM",
          "G6_DM",
          "G7_DM",
          "GTWIN",
          "Gypsy",
          "Gypsy1",
          "Gypsy10",
          "Gypsy11",
          "Gypsy12",
          "Gypsy12A_LTR",
          "Gypsy2",
          "Gypsy2_bis",
          "Gypsy4",
          "Gypsy5",
          "Gypsy6",
          "Gypsy7",
          "Gypsy8",
          "Gypsy9",
          "HELENA_RT",
          "HETA",
          "HETRP_DM",
          "HMSBEAGLE_I",
          "HOBO",
          "IDEFIX",
          "IVK_DM",
          "I_DM",
          "Invader1",
          "Invader2",
          "Invader3",
          "Invader4",
          "Invader5",
          "Invader6",
          "Jockey2",
          "LINEJ1_DM",
          "M4DM",
          "MAX",
          "MDG1",
          "MDG3",
          "MICROPIA",
          "Mariner2_DM",
          "NINJA",
          "NOF_FB",
          "NOMAD",
          "NTS_DM",
          "PLACW_DM",
          "POGO",
          "POGON1",
          "PROTOP",
          "PROTOP_A",
          "PROTOP_B",
          "QUASIMODO",
          "QUASIMODO2",
          "R1-2_DM",
          "R1_DM",
          "ROO",
          "ROOA",
          "ROVER",
          "S2_DM",
          "SAR_DM",
          "STALKER4",
          "S_DM",
          "Stalker2",
          "TABOR",
          "TAHRE",
          "TART-A",
          "TART_B1",
          "TC1-2_DM",
          "TC1_DM",
          "TIRANT",
          "TOM",
          "TRANSIB1",
          "TRANSIB2",
          "TRANSIB3",
          "TRANSIB4",
          "TRANSPAC",
          "Transib-N1_DM",
          "Transib5",
          "XDMR",
          "ZAM",
          "CMC-Transib",
          "CR1",
          "Copia",
          "Gypsy",
          "Helitron",
          "I",
          "I-Jockey",
          "MULE-NOF",
          "P",
          "Pao",
          "R1",
          "R1-LOA",
          "TcMar-Pogo",
          "TcMar-Tc1",
          "Unknown",
          "Unknown",
          "hAT-hobo",
          "DNA",
          "LINE",
          "LTR",
          "RC",
          "Satellite",
          "Unknown"
         ],
         "marker": {
          "coloraxis": "coloraxis",
          "colors": [
           0.03073628154665432,
           0.1958078561062073,
           0.35127478753541075,
           0.6420690026373864,
           0.17476851851851852,
           0.2475167509110144,
           0.3069447845249755,
           0.16228715298482746,
           0.0392659560113345,
           0.2786041747951619,
           0.2610862603885019,
           0.665998844153342,
           0.8842838196286473,
           0.15896169180100536,
           0.09697588920035279,
           0.6601139182660922,
           0.0990503622662213,
           0.16734324073093532,
           0.09955402100417207,
           0.8044513198865564,
           0.12985483978861467,
           0.6142387011847302,
           0.23641438187489736,
           0.3716457907140893,
           0.4424125071715434,
           0.06005702414928344,
           0.05822866673474251,
           0.13811692656065053,
           0.381260945709282,
           0.13920252664824326,
           0.806766917293233,
           0.7504816955684007,
           0.929429206819867,
           0.09123957878489383,
           0.5938131069522157,
           0.29256231245024195,
           0.8042117077204789,
           0.13117024587612827,
           0.290375387183232,
           0.4469444444444441,
           0.21239699032604795,
           0.2864160615121743,
           0.052164399630055716,
           0.232538386491952,
           0.6619149753205519,
           0.09146319471994806,
           0.2574812811459193,
           0.10457769181173435,
           0.14523484291268254,
           0.18899838635315813,
           0.3231737012987013,
           0.2080518945634267,
           0.4822069866144303,
           0.2491610738255033,
           0.034408311968695184,
           0.10435221317298683,
           0.2093331565690044,
           0.1486844077292696,
           0.1670835939128622,
           0.15592744829386052,
           0.17562656641604008,
           0.05009960265465044,
           0.11184037421429616,
           0.3268726318857476,
           0.07558691817071515,
           0.08621445000182544,
           0.04028436018957346,
           0.3535361107106818,
           0.20006265379232285,
           0.9901290812452544,
           0.2213793367010152,
           0.1229020032485111,
           0.10661613940780344,
           0.3419640704123463,
           0.05636661851450586,
           0.11464889547081325,
           0.14601166108423272,
           0.5366129785247432,
           0.20859819337571098,
           0.1976659372720642,
           0.30462962962962964,
           0.0316988608221892,
           0.30382432306690244,
           0.13371753819435028,
           0.14635666518511706,
           0.4000324122842556,
           0.11853280349072778,
           0.08099173553719008,
           0.21814613526570048,
           0.07483419307295505,
           0.6923793859649122,
           0.3350209609803289,
           0.18266418505716567,
           0.2474749571088605,
           0.6375,
           0.15698924731182795,
           0.8220022002200222,
           0.9503328213005634,
           0.14868982919254664,
           0.4187890540831717,
           0.6166522116218561,
           0.209865236767158,
           0.10616789819376027,
           0.4970826016973953,
           0.4329723674383869,
           0.04556951681622449,
           0.24527919266142598,
           0.07541678054113146,
           0.19048991354466852,
           0.5117276887871852,
           0.06293229541116098,
           0.2612167178699438,
           0.037447147709156435,
           0.16309942099272529,
           0.21209336096921508,
           0.2752855563743553,
           0.2735973577998878,
           0.18836171938361712,
           0.28550243626862515,
           0.21933497536945828,
           0.04979235198234356,
           0.1121433311214333,
           0.293596611830149,
           0.6398097220157574,
           0.3108556832694764,
           0.1303329523809523,
           0.522373540856031,
           0.14399961917456086,
           0.5706371191135734,
           0.09696260477776288,
           0.3188258633874726,
           0.13920252664824326,
           0.6825710232299977,
           0.16054870732731988,
           0.8042117077204789,
           0.130330278277523,
           0.23526763799774,
           0.18266418505716567,
           0.23682039282298487,
           0.13177591753253443,
           0.3769786875326897,
           0.09697588920035279,
           0.8628346705638308,
           0.4467392908481906,
           0.5054876404638651,
           0.8890866206559581,
           0.3419640704123463,
           0.4092222912208774,
           0.23893114341924973,
           0.2197352527473721,
           0.8042117077204789,
           0.5054876404638651,
           0.8890866206559581
          ]
         },
         "name": "",
         "parents": [
          "LTR/Gypsy",
          "LTR/Gypsy",
          "Unknown/Unknown",
          "DNA/TcMar-Tc1",
          "DNA/TcMar-Tc1",
          "LTR/Pao",
          "LTR/Pao",
          "LTR/Gypsy",
          "LTR/Gypsy",
          "LINE/I-Jockey",
          "LINE/I-Jockey",
          "LINE/I-Jockey",
          "LINE/I-Jockey",
          "LTR/Gypsy",
          "LINE/R1-LOA",
          "LTR/Gypsy",
          "LTR/Gypsy",
          "LTR/Gypsy",
          "LTR/Gypsy",
          "LTR/Copia",
          "LTR/Copia",
          "LTR/Copia",
          "LTR/Pao",
          "LTR/Pao",
          "LTR/Copia",
          "LTR/Gypsy",
          "LTR/Gypsy",
          "LTR/Gypsy",
          "LTR/Gypsy",
          "LINE/CR1",
          "LTR/Gypsy",
          "Unknown/Unknown",
          "Unknown/Unknown",
          "LINE/R1",
          "LINE/R1",
          "LINE/R1",
          "RC/Helitron",
          "LINE/I-Jockey",
          "LINE/I-Jockey",
          "LINE/I-Jockey",
          "LINE/I-Jockey",
          "LINE/I-Jockey",
          "LINE/I-Jockey",
          "DNA/TcMar-Tc1",
          "LTR/Copia",
          "LINE/I-Jockey",
          "LINE/I-Jockey",
          "LINE/I-Jockey",
          "LINE/I-Jockey",
          "LINE/I-Jockey",
          "LINE/I-Jockey",
          "LINE/I-Jockey",
          "LINE/I-Jockey",
          "LINE/I-Jockey",
          "LTR/Gypsy",
          "LTR/Gypsy",
          "LTR/Gypsy",
          "LTR/Gypsy",
          "LTR/Gypsy",
          "LTR/Gypsy",
          "LTR/Gypsy",
          "LTR/Gypsy",
          "LTR/Gypsy",
          "LTR/Gypsy",
          "LTR/Gypsy",
          "LTR/Gypsy",
          "LTR/Gypsy",
          "LTR/Gypsy",
          "LTR/Gypsy",
          "LINE/I-Jockey",
          "LINE/I-Jockey",
          "Satellite/Unknown",
          "LTR/Gypsy",
          "DNA/hAT-hobo",
          "LTR/Gypsy",
          "LINE/I",
          "LINE/I",
          "LTR/Gypsy",
          "LTR/Gypsy",
          "LTR/Gypsy",
          "LTR/Gypsy",
          "LTR/Gypsy",
          "LTR/Gypsy",
          "LINE/I-Jockey",
          "LINE/I-Jockey",
          "DNA/CMC-Transib",
          "LTR/Pao",
          "LTR/Gypsy",
          "LTR/Gypsy",
          "LTR/Gypsy",
          "DNA/TcMar-Tc1",
          "LTR/Pao",
          "DNA/MULE-NOF",
          "LTR/Gypsy",
          "Satellite/Unknown",
          "DNA/P",
          "DNA/TcMar-Pogo",
          "DNA/TcMar-Pogo",
          "DNA/P",
          "DNA/P",
          "DNA/P",
          "LTR/Gypsy",
          "LTR/Gypsy",
          "LINE/R1",
          "LINE/R1",
          "LTR/Pao",
          "LTR/Pao",
          "LTR/Gypsy",
          "DNA/TcMar-Tc1",
          "Satellite/Unknown",
          "LTR/Gypsy",
          "DNA/TcMar-Tc1",
          "LTR/Gypsy",
          "LTR/Gypsy",
          "LINE/I-Jockey",
          "LINE/I-Jockey",
          "LINE/I-Jockey",
          "DNA/TcMar-Tc1",
          "DNA/TcMar-Tc1",
          "LTR/Gypsy",
          "LTR/Gypsy",
          "DNA/CMC-Transib",
          "DNA/CMC-Transib",
          "DNA/CMC-Transib",
          "DNA/CMC-Transib",
          "LTR/Gypsy",
          "DNA/CMC-Transib",
          "DNA/CMC-Transib",
          "Unknown/Unknown",
          "LTR/Gypsy",
          "DNA",
          "LINE",
          "LTR",
          "LTR",
          "RC",
          "LINE",
          "LINE",
          "DNA",
          "DNA",
          "LTR",
          "LINE",
          "LINE",
          "DNA",
          "DNA",
          "Satellite",
          "Unknown",
          "DNA",
          "",
          "",
          "",
          "",
          "",
          ""
         ],
         "type": "sunburst",
         "values": [
          7,
          11,
          1,
          11,
          1,
          24,
          32,
          45,
          17,
          8,
          17,
          29,
          4,
          72,
          21,
          24,
          39,
          19,
          15,
          245,
          33,
          20,
          3,
          34,
          39,
          97,
          42,
          12,
          20,
          34,
          10,
          3,
          71,
          38,
          45,
          36,
          114,
          136,
          26,
          60,
          5,
          1,
          63,
          93,
          43,
          7,
          51,
          5,
          31,
          99,
          220,
          20,
          3,
          1,
          2,
          26,
          2,
          691,
          13,
          90,
          7,
          13,
          10,
          4,
          2,
          14,
          1,
          35,
          37,
          1,
          1136,
          1,
          31,
          11,
          195,
          6,
          6,
          85,
          7,
          3,
          8,
          1,
          11,
          172,
          39,
          43,
          78,
          11,
          6,
          5,
          160,
          14,
          7,
          57,
          2,
          5,
          45,
          21,
          69,
          21,
          7,
          147,
          6,
          34,
          1,
          231,
          11,
          10,
          22,
          19,
          11,
          36,
          7,
          11,
          670,
          552,
          352,
          24,
          17,
          40,
          137,
          1,
          178,
          14,
          3,
          125,
          2,
          21,
          6,
          46,
          262,
          34,
          380,
          2337,
          114,
          12,
          3708,
          7,
          102,
          427,
          154,
          21,
          66,
          364,
          22,
          81,
          11,
          812,
          3929,
          3144,
          114,
          22,
          81
         ]
        }
       ],
       "layout": {
        "coloraxis": {
         "colorbar": {
          "title": {
           "text": "Male_subject_coverage"
          }
         },
         "colorscale": [
          [
           0,
           "#0d0887"
          ],
          [
           0.1111111111111111,
           "#46039f"
          ],
          [
           0.2222222222222222,
           "#7201a8"
          ],
          [
           0.3333333333333333,
           "#9c179e"
          ],
          [
           0.4444444444444444,
           "#bd3786"
          ],
          [
           0.5555555555555556,
           "#d8576b"
          ],
          [
           0.6666666666666666,
           "#ed7953"
          ],
          [
           0.7777777777777778,
           "#fb9f3a"
          ],
          [
           0.8888888888888888,
           "#fdca26"
          ],
          [
           1,
           "#f0f921"
          ]
         ]
        },
        "legend": {
         "tracegroupgap": 0
        },
        "margin": {
         "t": 60
        },
        "template": {
         "data": {
          "bar": [
           {
            "error_x": {
             "color": "#2a3f5f"
            },
            "error_y": {
             "color": "#2a3f5f"
            },
            "marker": {
             "line": {
              "color": "#E5ECF6",
              "width": 0.5
             }
            },
            "type": "bar"
           }
          ],
          "barpolar": [
           {
            "marker": {
             "line": {
              "color": "#E5ECF6",
              "width": 0.5
             }
            },
            "type": "barpolar"
           }
          ],
          "carpet": [
           {
            "aaxis": {
             "endlinecolor": "#2a3f5f",
             "gridcolor": "white",
             "linecolor": "white",
             "minorgridcolor": "white",
             "startlinecolor": "#2a3f5f"
            },
            "baxis": {
             "endlinecolor": "#2a3f5f",
             "gridcolor": "white",
             "linecolor": "white",
             "minorgridcolor": "white",
             "startlinecolor": "#2a3f5f"
            },
            "type": "carpet"
           }
          ],
          "choropleth": [
           {
            "colorbar": {
             "outlinewidth": 0,
             "ticks": ""
            },
            "type": "choropleth"
           }
          ],
          "contour": [
           {
            "colorbar": {
             "outlinewidth": 0,
             "ticks": ""
            },
            "colorscale": [
             [
              0,
              "#0d0887"
             ],
             [
              0.1111111111111111,
              "#46039f"
             ],
             [
              0.2222222222222222,
              "#7201a8"
             ],
             [
              0.3333333333333333,
              "#9c179e"
             ],
             [
              0.4444444444444444,
              "#bd3786"
             ],
             [
              0.5555555555555556,
              "#d8576b"
             ],
             [
              0.6666666666666666,
              "#ed7953"
             ],
             [
              0.7777777777777778,
              "#fb9f3a"
             ],
             [
              0.8888888888888888,
              "#fdca26"
             ],
             [
              1,
              "#f0f921"
             ]
            ],
            "type": "contour"
           }
          ],
          "contourcarpet": [
           {
            "colorbar": {
             "outlinewidth": 0,
             "ticks": ""
            },
            "type": "contourcarpet"
           }
          ],
          "heatmap": [
           {
            "colorbar": {
             "outlinewidth": 0,
             "ticks": ""
            },
            "colorscale": [
             [
              0,
              "#0d0887"
             ],
             [
              0.1111111111111111,
              "#46039f"
             ],
             [
              0.2222222222222222,
              "#7201a8"
             ],
             [
              0.3333333333333333,
              "#9c179e"
             ],
             [
              0.4444444444444444,
              "#bd3786"
             ],
             [
              0.5555555555555556,
              "#d8576b"
             ],
             [
              0.6666666666666666,
              "#ed7953"
             ],
             [
              0.7777777777777778,
              "#fb9f3a"
             ],
             [
              0.8888888888888888,
              "#fdca26"
             ],
             [
              1,
              "#f0f921"
             ]
            ],
            "type": "heatmap"
           }
          ],
          "heatmapgl": [
           {
            "colorbar": {
             "outlinewidth": 0,
             "ticks": ""
            },
            "colorscale": [
             [
              0,
              "#0d0887"
             ],
             [
              0.1111111111111111,
              "#46039f"
             ],
             [
              0.2222222222222222,
              "#7201a8"
             ],
             [
              0.3333333333333333,
              "#9c179e"
             ],
             [
              0.4444444444444444,
              "#bd3786"
             ],
             [
              0.5555555555555556,
              "#d8576b"
             ],
             [
              0.6666666666666666,
              "#ed7953"
             ],
             [
              0.7777777777777778,
              "#fb9f3a"
             ],
             [
              0.8888888888888888,
              "#fdca26"
             ],
             [
              1,
              "#f0f921"
             ]
            ],
            "type": "heatmapgl"
           }
          ],
          "histogram": [
           {
            "marker": {
             "colorbar": {
              "outlinewidth": 0,
              "ticks": ""
             }
            },
            "type": "histogram"
           }
          ],
          "histogram2d": [
           {
            "colorbar": {
             "outlinewidth": 0,
             "ticks": ""
            },
            "colorscale": [
             [
              0,
              "#0d0887"
             ],
             [
              0.1111111111111111,
              "#46039f"
             ],
             [
              0.2222222222222222,
              "#7201a8"
             ],
             [
              0.3333333333333333,
              "#9c179e"
             ],
             [
              0.4444444444444444,
              "#bd3786"
             ],
             [
              0.5555555555555556,
              "#d8576b"
             ],
             [
              0.6666666666666666,
              "#ed7953"
             ],
             [
              0.7777777777777778,
              "#fb9f3a"
             ],
             [
              0.8888888888888888,
              "#fdca26"
             ],
             [
              1,
              "#f0f921"
             ]
            ],
            "type": "histogram2d"
           }
          ],
          "histogram2dcontour": [
           {
            "colorbar": {
             "outlinewidth": 0,
             "ticks": ""
            },
            "colorscale": [
             [
              0,
              "#0d0887"
             ],
             [
              0.1111111111111111,
              "#46039f"
             ],
             [
              0.2222222222222222,
              "#7201a8"
             ],
             [
              0.3333333333333333,
              "#9c179e"
             ],
             [
              0.4444444444444444,
              "#bd3786"
             ],
             [
              0.5555555555555556,
              "#d8576b"
             ],
             [
              0.6666666666666666,
              "#ed7953"
             ],
             [
              0.7777777777777778,
              "#fb9f3a"
             ],
             [
              0.8888888888888888,
              "#fdca26"
             ],
             [
              1,
              "#f0f921"
             ]
            ],
            "type": "histogram2dcontour"
           }
          ],
          "mesh3d": [
           {
            "colorbar": {
             "outlinewidth": 0,
             "ticks": ""
            },
            "type": "mesh3d"
           }
          ],
          "parcoords": [
           {
            "line": {
             "colorbar": {
              "outlinewidth": 0,
              "ticks": ""
             }
            },
            "type": "parcoords"
           }
          ],
          "pie": [
           {
            "automargin": true,
            "type": "pie"
           }
          ],
          "scatter": [
           {
            "marker": {
             "colorbar": {
              "outlinewidth": 0,
              "ticks": ""
             }
            },
            "type": "scatter"
           }
          ],
          "scatter3d": [
           {
            "line": {
             "colorbar": {
              "outlinewidth": 0,
              "ticks": ""
             }
            },
            "marker": {
             "colorbar": {
              "outlinewidth": 0,
              "ticks": ""
             }
            },
            "type": "scatter3d"
           }
          ],
          "scattercarpet": [
           {
            "marker": {
             "colorbar": {
              "outlinewidth": 0,
              "ticks": ""
             }
            },
            "type": "scattercarpet"
           }
          ],
          "scattergeo": [
           {
            "marker": {
             "colorbar": {
              "outlinewidth": 0,
              "ticks": ""
             }
            },
            "type": "scattergeo"
           }
          ],
          "scattergl": [
           {
            "marker": {
             "colorbar": {
              "outlinewidth": 0,
              "ticks": ""
             }
            },
            "type": "scattergl"
           }
          ],
          "scattermapbox": [
           {
            "marker": {
             "colorbar": {
              "outlinewidth": 0,
              "ticks": ""
             }
            },
            "type": "scattermapbox"
           }
          ],
          "scatterpolar": [
           {
            "marker": {
             "colorbar": {
              "outlinewidth": 0,
              "ticks": ""
             }
            },
            "type": "scatterpolar"
           }
          ],
          "scatterpolargl": [
           {
            "marker": {
             "colorbar": {
              "outlinewidth": 0,
              "ticks": ""
             }
            },
            "type": "scatterpolargl"
           }
          ],
          "scatterternary": [
           {
            "marker": {
             "colorbar": {
              "outlinewidth": 0,
              "ticks": ""
             }
            },
            "type": "scatterternary"
           }
          ],
          "surface": [
           {
            "colorbar": {
             "outlinewidth": 0,
             "ticks": ""
            },
            "colorscale": [
             [
              0,
              "#0d0887"
             ],
             [
              0.1111111111111111,
              "#46039f"
             ],
             [
              0.2222222222222222,
              "#7201a8"
             ],
             [
              0.3333333333333333,
              "#9c179e"
             ],
             [
              0.4444444444444444,
              "#bd3786"
             ],
             [
              0.5555555555555556,
              "#d8576b"
             ],
             [
              0.6666666666666666,
              "#ed7953"
             ],
             [
              0.7777777777777778,
              "#fb9f3a"
             ],
             [
              0.8888888888888888,
              "#fdca26"
             ],
             [
              1,
              "#f0f921"
             ]
            ],
            "type": "surface"
           }
          ],
          "table": [
           {
            "cells": {
             "fill": {
              "color": "#EBF0F8"
             },
             "line": {
              "color": "white"
             }
            },
            "header": {
             "fill": {
              "color": "#C8D4E3"
             },
             "line": {
              "color": "white"
             }
            },
            "type": "table"
           }
          ]
         },
         "layout": {
          "annotationdefaults": {
           "arrowcolor": "#2a3f5f",
           "arrowhead": 0,
           "arrowwidth": 1
          },
          "autotypenumbers": "strict",
          "coloraxis": {
           "colorbar": {
            "outlinewidth": 0,
            "ticks": ""
           }
          },
          "colorscale": {
           "diverging": [
            [
             0,
             "#8e0152"
            ],
            [
             0.1,
             "#c51b7d"
            ],
            [
             0.2,
             "#de77ae"
            ],
            [
             0.3,
             "#f1b6da"
            ],
            [
             0.4,
             "#fde0ef"
            ],
            [
             0.5,
             "#f7f7f7"
            ],
            [
             0.6,
             "#e6f5d0"
            ],
            [
             0.7,
             "#b8e186"
            ],
            [
             0.8,
             "#7fbc41"
            ],
            [
             0.9,
             "#4d9221"
            ],
            [
             1,
             "#276419"
            ]
           ],
           "sequential": [
            [
             0,
             "#0d0887"
            ],
            [
             0.1111111111111111,
             "#46039f"
            ],
            [
             0.2222222222222222,
             "#7201a8"
            ],
            [
             0.3333333333333333,
             "#9c179e"
            ],
            [
             0.4444444444444444,
             "#bd3786"
            ],
            [
             0.5555555555555556,
             "#d8576b"
            ],
            [
             0.6666666666666666,
             "#ed7953"
            ],
            [
             0.7777777777777778,
             "#fb9f3a"
            ],
            [
             0.8888888888888888,
             "#fdca26"
            ],
            [
             1,
             "#f0f921"
            ]
           ],
           "sequentialminus": [
            [
             0,
             "#0d0887"
            ],
            [
             0.1111111111111111,
             "#46039f"
            ],
            [
             0.2222222222222222,
             "#7201a8"
            ],
            [
             0.3333333333333333,
             "#9c179e"
            ],
            [
             0.4444444444444444,
             "#bd3786"
            ],
            [
             0.5555555555555556,
             "#d8576b"
            ],
            [
             0.6666666666666666,
             "#ed7953"
            ],
            [
             0.7777777777777778,
             "#fb9f3a"
            ],
            [
             0.8888888888888888,
             "#fdca26"
            ],
            [
             1,
             "#f0f921"
            ]
           ]
          },
          "colorway": [
           "#636efa",
           "#EF553B",
           "#00cc96",
           "#ab63fa",
           "#FFA15A",
           "#19d3f3",
           "#FF6692",
           "#B6E880",
           "#FF97FF",
           "#FECB52"
          ],
          "font": {
           "color": "#2a3f5f"
          },
          "geo": {
           "bgcolor": "white",
           "lakecolor": "white",
           "landcolor": "#E5ECF6",
           "showlakes": true,
           "showland": true,
           "subunitcolor": "white"
          },
          "hoverlabel": {
           "align": "left"
          },
          "hovermode": "closest",
          "mapbox": {
           "style": "light"
          },
          "paper_bgcolor": "white",
          "plot_bgcolor": "#E5ECF6",
          "polar": {
           "angularaxis": {
            "gridcolor": "white",
            "linecolor": "white",
            "ticks": ""
           },
           "bgcolor": "#E5ECF6",
           "radialaxis": {
            "gridcolor": "white",
            "linecolor": "white",
            "ticks": ""
           }
          },
          "scene": {
           "xaxis": {
            "backgroundcolor": "#E5ECF6",
            "gridcolor": "white",
            "gridwidth": 2,
            "linecolor": "white",
            "showbackground": true,
            "ticks": "",
            "zerolinecolor": "white"
           },
           "yaxis": {
            "backgroundcolor": "#E5ECF6",
            "gridcolor": "white",
            "gridwidth": 2,
            "linecolor": "white",
            "showbackground": true,
            "ticks": "",
            "zerolinecolor": "white"
           },
           "zaxis": {
            "backgroundcolor": "#E5ECF6",
            "gridcolor": "white",
            "gridwidth": 2,
            "linecolor": "white",
            "showbackground": true,
            "ticks": "",
            "zerolinecolor": "white"
           }
          },
          "shapedefaults": {
           "line": {
            "color": "#2a3f5f"
           }
          },
          "ternary": {
           "aaxis": {
            "gridcolor": "white",
            "linecolor": "white",
            "ticks": ""
           },
           "baxis": {
            "gridcolor": "white",
            "linecolor": "white",
            "ticks": ""
           },
           "bgcolor": "#E5ECF6",
           "caxis": {
            "gridcolor": "white",
            "linecolor": "white",
            "ticks": ""
           }
          },
          "title": {
           "x": 0.05
          },
          "xaxis": {
           "automargin": true,
           "gridcolor": "white",
           "linecolor": "white",
           "ticks": "",
           "title": {
            "standoff": 15
           },
           "zerolinecolor": "white",
           "zerolinewidth": 2
          },
          "yaxis": {
           "automargin": true,
           "gridcolor": "white",
           "linecolor": "white",
           "ticks": "",
           "title": {
            "standoff": 15
           },
           "zerolinecolor": "white",
           "zerolinewidth": 2
          }
         }
        }
       }
      }
     },
     "metadata": {}
    }
   ],
   "source": [
    "df = consensus_counting_df.copy()\n",
    "expressed = df[\"Male\"] > 0\n",
    "df = df[expressed]\n",
    "fig = px.sunburst(df, path=['SuperFamily', 'Family', 'TE'], values='Male', color = \"Male_subject_coverage\")\n",
    "fig.show()\n"
   ]
  },
  {
   "cell_type": "code",
   "execution_count": 9,
   "metadata": {
    "slideshow": {
     "slide_type": "slide"
    }
   },
   "outputs": [
    {
     "output_type": "display_data",
     "data": {
      "application/vnd.plotly.v1+json": {
       "config": {
        "plotlyServerURL": "https://plot.ly"
       },
       "data": [
        {
         "branchvalues": "total",
         "customdata": [
          [
           0.06391139924365208
          ],
          [
           0.12003215313866974
          ],
          [
           0.7569444444444444
          ],
          [
           0.17624064135692044
          ],
          [
           0.06864120901362841
          ],
          [
           0.04291845493562232
          ],
          [
           0.13175174751112054
          ],
          [
           0.4845553822152886
          ],
          [
           0.08955315117060945
          ],
          [
           0.03939558287384374
          ],
          [
           0.08123557793161318
          ],
          [
           0.27095908786049633
          ],
          [
           0.025205006473888653
          ],
          [
           0.7012781993931702
          ],
          [
           0.09657836644591612
          ],
          [
           0.2184071961386573
          ],
          [
           0.039658328248932284
          ],
          [
           0.03162650602409638
          ],
          [
           0.10936238902340598
          ],
          [
           0.09335239456754826
          ],
          [
           0.0786243631310792
          ],
          [
           0.2513134851138354
          ],
          [
           0.06953765846383296
          ],
          [
           0.04374190347564842
          ],
          [
           0.8448774840825777
          ],
          [
           0.14305836242268358
          ],
          [
           0.7366346390736633
          ],
          [
           0.052028218694885366
          ],
          [
           0.1454204047569372
          ],
          [
           0.13148423926532635
          ],
          [
           0.2425779581375481
          ],
          [
           0.3900994789199432
          ],
          [
           0.13521643433602346
          ],
          [
           0.08143322475570032
          ],
          [
           0.18899553571428573
          ],
          [
           0.0792833607907743
          ],
          [
           0.07965636666216885
          ],
          [
           0.05234698573400828
          ],
          [
           0.1956900013385089
          ],
          [
           0.141853373989129
          ],
          [
           0.060439560439560426
          ],
          [
           0.10320686540198737
          ],
          [
           0.14476150684312752
          ],
          [
           0.3028508771929824
          ],
          [
           0.06605733277939344
          ],
          [
           0.10372752521561177
          ],
          [
           0.0474688082604331
          ],
          [
           0.04546071380105849
          ],
          [
           0.06827668455575432
          ],
          [
           0.1997812613926358
          ],
          [
           0.28678102926337035
          ],
          [
           0.3917995444191344
          ],
          [
           0.18846680918708547
          ],
          [
           0.02822024812375556
          ],
          [
           0.3005636604774536
          ],
          [
           0.9946808510638298
          ],
          [
           0.09707550860719877
          ],
          [
           0.1168456127360237
          ],
          [
           0.16384443617417194
          ],
          [
           0.14205109126984128
          ],
          [
           0.40547504025764897
          ],
          [
           0.0950965824665676
          ],
          [
           0.14631525076765609
          ],
          [
           0.07784703839694875
          ],
          [
           0.21881533101045292
          ],
          [
           0.2700110198357043
          ],
          [
           0.1012366310160428
          ],
          [
           0.5359649122807018
          ],
          [
           0.03566591422121896
          ],
          [
           0.1146161934805468
          ],
          [
           0.7680555555555556
          ],
          [
           0.6010752688172043
          ],
          [
           0.7755640318130181
          ],
          [
           0.8351254480286738
          ],
          [
           0.3821428571428572
          ],
          [
           0.26621417797888386
          ],
          [
           0.5985834056085574
          ],
          [
           0.09842733188720174
          ],
          [
           0.0907481527093596
          ],
          [
           0.10461787403534976
          ],
          [
           0.04405855338691159
          ],
          [
           0.06507863609949951
          ],
          [
           0.07707023776988248
          ],
          [
           0.16853025936599425
          ],
          [
           0.2751358695652174
          ],
          [
           0.3392873375147714
          ],
          [
           0.3345203183912861
          ],
          [
           0.07965388969755782
          ],
          [
           0.09998725668227722
          ],
          [
           0.15735747303543918
          ],
          [
           0.2989252862774545
          ],
          [
           0.21062449310624495
          ],
          [
           0.2943904834661137
          ],
          [
           0.32367659707561186
          ],
          [
           0.04591771311332772
          ],
          [
           0.13009845288326302
          ],
          [
           0.4799642185588841
          ],
          [
           0.10651340996168583
          ],
          [
           0.059238095238095236
          ],
          [
           0.44492321304916055
          ],
          [
           0.06953765846383296
          ],
          [
           0.6803606011154305
          ],
          [
           0.07938911895522205
          ],
          [
           0.7427785965020006
          ],
          [
           0.13027384800406605
          ],
          [
           0.1661486217062301
          ],
          [
           0.3868255072354819
          ],
          [
           0.08910799895235602
          ],
          [
           0.1352928226990155
          ],
          [
           0.08955315117060945
          ],
          [
           0.7762874498237345
          ],
          [
           0.2436205132893631
          ],
          [
           0.644825634057971
          ],
          [
           0.3005636604774536
          ],
          [
           0.6008459015046073
          ],
          [
           0.15606377850976122
          ],
          [
           0.19047766352258477
          ],
          [
           0.7427785965020006
          ],
          [
           0.644825634057971
          ]
         ],
         "domain": {
          "x": [
           0,
           1
          ],
          "y": [
           0,
           1
          ]
         },
         "hovertemplate": "labels=%{label}<br>Female=%{value}<br>parent=%{parent}<br>id=%{id}<br>Female_subject_coverage=%{color}<extra></extra>",
         "ids": [
          "LTR/Gypsy/ACCORD",
          "LTR/Gypsy/ACCORD2",
          "DNA/TcMar-Tc1/BARI_DM",
          "LTR/Gypsy/BLASTOPIA",
          "LTR/Gypsy/BLOOD",
          "LINE/I-Jockey/BS",
          "LINE/I-Jockey/BS2",
          "LTR/Gypsy/BURDOCK",
          "LINE/R1-LOA/Baggins1",
          "LTR/Gypsy/Bica",
          "LTR/Gypsy/CIRCE",
          "LTR/Gypsy/Chimpo",
          "LTR/Gypsy/Chouto",
          "LTR/Copia/Copia",
          "LTR/Copia/Copia1",
          "LTR/Copia/Copia2",
          "LTR/Pao/DIVER2",
          "LTR/Copia/DM1731",
          "LTR/Gypsy/DM176",
          "LTR/Gypsy/DM297",
          "LTR/Gypsy/DM412",
          "LTR/Gypsy/DM412B_LTR",
          "LINE/CR1/DMCR1A",
          "LINE/R1/DMRT1A",
          "LINE/R1/DMRT1B",
          "LINE/R1/DMRT1C",
          "RC/Helitron/DNAREP1_DM",
          "LINE/I-Jockey/DOC",
          "LINE/I-Jockey/DOC2_DM",
          "LINE/I-Jockey/DOC3_DM",
          "LINE/I-Jockey/DOC5_DM",
          "LINE/I-Jockey/DOC6_DM",
          "DNA/TcMar-Tc1/FB4_DM",
          "LINE/I-Jockey/G3_DM",
          "LINE/I-Jockey/G5A_DM",
          "LINE/I-Jockey/G5_DM",
          "LTR/Gypsy/GTWIN",
          "LINE/I-Jockey/G_DM",
          "LTR/Gypsy/Gypsy",
          "LTR/Gypsy/Gypsy1",
          "LTR/Gypsy/Gypsy10",
          "LTR/Gypsy/Gypsy11",
          "LTR/Gypsy/Gypsy12",
          "LTR/Gypsy/Gypsy12A_LTR",
          "LTR/Gypsy/Gypsy2",
          "LTR/Gypsy/Gypsy2_bis",
          "LTR/Gypsy/Gypsy3",
          "LTR/Gypsy/Gypsy5",
          "LTR/Gypsy/Gypsy6",
          "LTR/Gypsy/Gypsy7",
          "LTR/Gypsy/Gypsy8",
          "LINE/I-Jockey/HELENA_RT",
          "LINE/I-Jockey/HETA",
          "LTR/Gypsy/HMSBEAGLE_I",
          "DNA/hAT-hobo/HOBO",
          "RC/Helitron/Helitron1_DM",
          "LTR/Gypsy/IDEFIX",
          "LINE/I/IVK_DM",
          "LINE/I/I_DM",
          "LTR/Gypsy/Invader1",
          "LTR/Gypsy/Invader4",
          "LTR/Gypsy/Invader5",
          "LTR/Gypsy/Invader6",
          "LINE/I-Jockey/LINEJ1_DM",
          "DNA/CMC-Transib/M4DM",
          "LTR/Pao/MAX",
          "LTR/Gypsy/MDG1",
          "DNA/TcMar-Tc1/Mariner2_DM",
          "LTR/Pao/NINJA",
          "LTR/Gypsy/NOMAD",
          "Satellite/Unknown/NTS_DM",
          "DNA/P/PLACW_DM",
          "DNA/TcMar-Pogo/POGO",
          "DNA/TcMar-Pogo/POGON1",
          "DNA/P/PROTOP",
          "DNA/P/PROTOP_A",
          "DNA/P/PROTOP_B",
          "LTR/Gypsy/QUASIMODO",
          "LTR/Gypsy/QUASIMODO2",
          "LINE/R1/R1_DM",
          "LTR/Pao/ROO",
          "LTR/Pao/ROOA",
          "LTR/Gypsy/ROVER",
          "DNA/TcMar-Tc1/S2_DM",
          "Satellite/Unknown/SAR_DM",
          "LTR/Gypsy/STALKER4",
          "DNA/TcMar-Tc1/S_DM",
          "LTR/Gypsy/Stalker2",
          "LINE/I-Jockey/TAHRE",
          "LINE/I-Jockey/TART-A",
          "LINE/I-Jockey/TART_B1",
          "DNA/TcMar-Tc1/TC1-2_DM",
          "DNA/TcMar-Tc1/TC1_DM",
          "LTR/Gypsy/TIRANT",
          "LTR/Gypsy/TOM",
          "DNA/CMC-Transib/TRANSIB2",
          "DNA/CMC-Transib/TRANSIB3",
          "DNA/CMC-Transib/TRANSIB4",
          "LTR/Gypsy/TRANSPAC",
          "DNA/CMC-Transib",
          "LINE/CR1",
          "LTR/Copia",
          "LTR/Gypsy",
          "RC/Helitron",
          "LINE/I",
          "LINE/I-Jockey",
          "DNA/P",
          "LTR/Pao",
          "LINE/R1",
          "LINE/R1-LOA",
          "DNA/TcMar-Pogo",
          "DNA/TcMar-Tc1",
          "Satellite/Unknown",
          "DNA/hAT-hobo",
          "DNA",
          "LINE",
          "LTR",
          "RC",
          "Satellite"
         ],
         "labels": [
          "ACCORD",
          "ACCORD2",
          "BARI_DM",
          "BLASTOPIA",
          "BLOOD",
          "BS",
          "BS2",
          "BURDOCK",
          "Baggins1",
          "Bica",
          "CIRCE",
          "Chimpo",
          "Chouto",
          "Copia",
          "Copia1",
          "Copia2",
          "DIVER2",
          "DM1731",
          "DM176",
          "DM297",
          "DM412",
          "DM412B_LTR",
          "DMCR1A",
          "DMRT1A",
          "DMRT1B",
          "DMRT1C",
          "DNAREP1_DM",
          "DOC",
          "DOC2_DM",
          "DOC3_DM",
          "DOC5_DM",
          "DOC6_DM",
          "FB4_DM",
          "G3_DM",
          "G5A_DM",
          "G5_DM",
          "GTWIN",
          "G_DM",
          "Gypsy",
          "Gypsy1",
          "Gypsy10",
          "Gypsy11",
          "Gypsy12",
          "Gypsy12A_LTR",
          "Gypsy2",
          "Gypsy2_bis",
          "Gypsy3",
          "Gypsy5",
          "Gypsy6",
          "Gypsy7",
          "Gypsy8",
          "HELENA_RT",
          "HETA",
          "HMSBEAGLE_I",
          "HOBO",
          "Helitron1_DM",
          "IDEFIX",
          "IVK_DM",
          "I_DM",
          "Invader1",
          "Invader4",
          "Invader5",
          "Invader6",
          "LINEJ1_DM",
          "M4DM",
          "MAX",
          "MDG1",
          "Mariner2_DM",
          "NINJA",
          "NOMAD",
          "NTS_DM",
          "PLACW_DM",
          "POGO",
          "POGON1",
          "PROTOP",
          "PROTOP_A",
          "PROTOP_B",
          "QUASIMODO",
          "QUASIMODO2",
          "R1_DM",
          "ROO",
          "ROOA",
          "ROVER",
          "S2_DM",
          "SAR_DM",
          "STALKER4",
          "S_DM",
          "Stalker2",
          "TAHRE",
          "TART-A",
          "TART_B1",
          "TC1-2_DM",
          "TC1_DM",
          "TIRANT",
          "TOM",
          "TRANSIB2",
          "TRANSIB3",
          "TRANSIB4",
          "TRANSPAC",
          "CMC-Transib",
          "CR1",
          "Copia",
          "Gypsy",
          "Helitron",
          "I",
          "I-Jockey",
          "P",
          "Pao",
          "R1",
          "R1-LOA",
          "TcMar-Pogo",
          "TcMar-Tc1",
          "Unknown",
          "hAT-hobo",
          "DNA",
          "LINE",
          "LTR",
          "RC",
          "Satellite"
         ],
         "marker": {
          "coloraxis": "coloraxis",
          "colors": [
           0.06391139924365208,
           0.12003215313866974,
           0.7569444444444444,
           0.17624064135692044,
           0.06864120901362841,
           0.04291845493562232,
           0.13175174751112054,
           0.4845553822152886,
           0.08955315117060945,
           0.03939558287384374,
           0.08123557793161318,
           0.27095908786049633,
           0.025205006473888653,
           0.7012781993931702,
           0.09657836644591612,
           0.2184071961386573,
           0.039658328248932284,
           0.03162650602409638,
           0.10936238902340598,
           0.09335239456754826,
           0.0786243631310792,
           0.2513134851138354,
           0.06953765846383296,
           0.04374190347564842,
           0.8448774840825777,
           0.14305836242268358,
           0.7366346390736633,
           0.052028218694885366,
           0.1454204047569372,
           0.13148423926532635,
           0.2425779581375481,
           0.3900994789199432,
           0.13521643433602346,
           0.08143322475570032,
           0.18899553571428573,
           0.0792833607907743,
           0.07965636666216885,
           0.05234698573400828,
           0.1956900013385089,
           0.141853373989129,
           0.060439560439560426,
           0.10320686540198737,
           0.14476150684312752,
           0.3028508771929824,
           0.06605733277939344,
           0.10372752521561177,
           0.0474688082604331,
           0.04546071380105849,
           0.06827668455575432,
           0.1997812613926358,
           0.28678102926337035,
           0.3917995444191344,
           0.18846680918708547,
           0.02822024812375556,
           0.3005636604774536,
           0.9946808510638298,
           0.09707550860719877,
           0.1168456127360237,
           0.16384443617417194,
           0.14205109126984128,
           0.40547504025764897,
           0.0950965824665676,
           0.14631525076765609,
           0.07784703839694875,
           0.21881533101045292,
           0.2700110198357043,
           0.1012366310160428,
           0.5359649122807018,
           0.03566591422121896,
           0.1146161934805468,
           0.7680555555555556,
           0.6010752688172043,
           0.7755640318130181,
           0.8351254480286738,
           0.3821428571428572,
           0.26621417797888386,
           0.5985834056085574,
           0.09842733188720174,
           0.0907481527093596,
           0.10461787403534976,
           0.04405855338691159,
           0.06507863609949951,
           0.07707023776988248,
           0.16853025936599425,
           0.2751358695652174,
           0.3392873375147714,
           0.3345203183912861,
           0.07965388969755782,
           0.09998725668227722,
           0.15735747303543918,
           0.2989252862774545,
           0.21062449310624495,
           0.2943904834661137,
           0.32367659707561186,
           0.04591771311332772,
           0.13009845288326302,
           0.4799642185588841,
           0.10651340996168583,
           0.059238095238095236,
           0.44492321304916055,
           0.06953765846383296,
           0.6803606011154305,
           0.07938911895522205,
           0.7427785965020006,
           0.13027384800406605,
           0.1661486217062301,
           0.3868255072354819,
           0.08910799895235602,
           0.1352928226990155,
           0.08955315117060945,
           0.7762874498237345,
           0.2436205132893631,
           0.644825634057971,
           0.3005636604774536,
           0.6008459015046073,
           0.15606377850976122,
           0.19047766352258477,
           0.7427785965020006,
           0.644825634057971
          ]
         },
         "name": "",
         "parents": [
          "LTR/Gypsy",
          "LTR/Gypsy",
          "DNA/TcMar-Tc1",
          "LTR/Gypsy",
          "LTR/Gypsy",
          "LINE/I-Jockey",
          "LINE/I-Jockey",
          "LTR/Gypsy",
          "LINE/R1-LOA",
          "LTR/Gypsy",
          "LTR/Gypsy",
          "LTR/Gypsy",
          "LTR/Gypsy",
          "LTR/Copia",
          "LTR/Copia",
          "LTR/Copia",
          "LTR/Pao",
          "LTR/Copia",
          "LTR/Gypsy",
          "LTR/Gypsy",
          "LTR/Gypsy",
          "LTR/Gypsy",
          "LINE/CR1",
          "LINE/R1",
          "LINE/R1",
          "LINE/R1",
          "RC/Helitron",
          "LINE/I-Jockey",
          "LINE/I-Jockey",
          "LINE/I-Jockey",
          "LINE/I-Jockey",
          "LINE/I-Jockey",
          "DNA/TcMar-Tc1",
          "LINE/I-Jockey",
          "LINE/I-Jockey",
          "LINE/I-Jockey",
          "LTR/Gypsy",
          "LINE/I-Jockey",
          "LTR/Gypsy",
          "LTR/Gypsy",
          "LTR/Gypsy",
          "LTR/Gypsy",
          "LTR/Gypsy",
          "LTR/Gypsy",
          "LTR/Gypsy",
          "LTR/Gypsy",
          "LTR/Gypsy",
          "LTR/Gypsy",
          "LTR/Gypsy",
          "LTR/Gypsy",
          "LTR/Gypsy",
          "LINE/I-Jockey",
          "LINE/I-Jockey",
          "LTR/Gypsy",
          "DNA/hAT-hobo",
          "RC/Helitron",
          "LTR/Gypsy",
          "LINE/I",
          "LINE/I",
          "LTR/Gypsy",
          "LTR/Gypsy",
          "LTR/Gypsy",
          "LTR/Gypsy",
          "LINE/I-Jockey",
          "DNA/CMC-Transib",
          "LTR/Pao",
          "LTR/Gypsy",
          "DNA/TcMar-Tc1",
          "LTR/Pao",
          "LTR/Gypsy",
          "Satellite/Unknown",
          "DNA/P",
          "DNA/TcMar-Pogo",
          "DNA/TcMar-Pogo",
          "DNA/P",
          "DNA/P",
          "DNA/P",
          "LTR/Gypsy",
          "LTR/Gypsy",
          "LINE/R1",
          "LTR/Pao",
          "LTR/Pao",
          "LTR/Gypsy",
          "DNA/TcMar-Tc1",
          "Satellite/Unknown",
          "LTR/Gypsy",
          "DNA/TcMar-Tc1",
          "LTR/Gypsy",
          "LINE/I-Jockey",
          "LINE/I-Jockey",
          "LINE/I-Jockey",
          "DNA/TcMar-Tc1",
          "DNA/TcMar-Tc1",
          "LTR/Gypsy",
          "LTR/Gypsy",
          "DNA/CMC-Transib",
          "DNA/CMC-Transib",
          "DNA/CMC-Transib",
          "LTR/Gypsy",
          "DNA",
          "LINE",
          "LTR",
          "LTR",
          "RC",
          "LINE",
          "LINE",
          "DNA",
          "LTR",
          "LINE",
          "LINE",
          "DNA",
          "DNA",
          "Satellite",
          "DNA",
          "",
          "",
          "",
          "",
          ""
         ],
         "type": "sunburst",
         "values": [
          5,
          7,
          1,
          6,
          50,
          4,
          1,
          2,
          3,
          13,
          3,
          3,
          5,
          131,
          2,
          2,
          1,
          1,
          4,
          7,
          12,
          4,
          6,
          7,
          1,
          3,
          41,
          6,
          1,
          17,
          4,
          3,
          20,
          2,
          16,
          1,
          3,
          2,
          1,
          3,
          2,
          3,
          52,
          2,
          1,
          5,
          1,
          1,
          6,
          1,
          1,
          1,
          15,
          8,
          4,
          1,
          3,
          5,
          2,
          4,
          1,
          1,
          4,
          7,
          3,
          14,
          4,
          5,
          1,
          1,
          3,
          1,
          244,
          3,
          8,
          12,
          6,
          4,
          2,
          3,
          39,
          28,
          2,
          5,
          1,
          3,
          11,
          27,
          6,
          20,
          12,
          30,
          11,
          3,
          252,
          1,
          38,
          1,
          2,
          43,
          6,
          136,
          524,
          42,
          7,
          118,
          27,
          83,
          14,
          3,
          247,
          83,
          4,
          4,
          404,
          148,
          743,
          42,
          4
         ]
        }
       ],
       "layout": {
        "coloraxis": {
         "colorbar": {
          "title": {
           "text": "Female_subject_coverage"
          }
         },
         "colorscale": [
          [
           0,
           "#0d0887"
          ],
          [
           0.1111111111111111,
           "#46039f"
          ],
          [
           0.2222222222222222,
           "#7201a8"
          ],
          [
           0.3333333333333333,
           "#9c179e"
          ],
          [
           0.4444444444444444,
           "#bd3786"
          ],
          [
           0.5555555555555556,
           "#d8576b"
          ],
          [
           0.6666666666666666,
           "#ed7953"
          ],
          [
           0.7777777777777778,
           "#fb9f3a"
          ],
          [
           0.8888888888888888,
           "#fdca26"
          ],
          [
           1,
           "#f0f921"
          ]
         ]
        },
        "legend": {
         "tracegroupgap": 0
        },
        "margin": {
         "t": 60
        },
        "template": {
         "data": {
          "bar": [
           {
            "error_x": {
             "color": "#2a3f5f"
            },
            "error_y": {
             "color": "#2a3f5f"
            },
            "marker": {
             "line": {
              "color": "#E5ECF6",
              "width": 0.5
             }
            },
            "type": "bar"
           }
          ],
          "barpolar": [
           {
            "marker": {
             "line": {
              "color": "#E5ECF6",
              "width": 0.5
             }
            },
            "type": "barpolar"
           }
          ],
          "carpet": [
           {
            "aaxis": {
             "endlinecolor": "#2a3f5f",
             "gridcolor": "white",
             "linecolor": "white",
             "minorgridcolor": "white",
             "startlinecolor": "#2a3f5f"
            },
            "baxis": {
             "endlinecolor": "#2a3f5f",
             "gridcolor": "white",
             "linecolor": "white",
             "minorgridcolor": "white",
             "startlinecolor": "#2a3f5f"
            },
            "type": "carpet"
           }
          ],
          "choropleth": [
           {
            "colorbar": {
             "outlinewidth": 0,
             "ticks": ""
            },
            "type": "choropleth"
           }
          ],
          "contour": [
           {
            "colorbar": {
             "outlinewidth": 0,
             "ticks": ""
            },
            "colorscale": [
             [
              0,
              "#0d0887"
             ],
             [
              0.1111111111111111,
              "#46039f"
             ],
             [
              0.2222222222222222,
              "#7201a8"
             ],
             [
              0.3333333333333333,
              "#9c179e"
             ],
             [
              0.4444444444444444,
              "#bd3786"
             ],
             [
              0.5555555555555556,
              "#d8576b"
             ],
             [
              0.6666666666666666,
              "#ed7953"
             ],
             [
              0.7777777777777778,
              "#fb9f3a"
             ],
             [
              0.8888888888888888,
              "#fdca26"
             ],
             [
              1,
              "#f0f921"
             ]
            ],
            "type": "contour"
           }
          ],
          "contourcarpet": [
           {
            "colorbar": {
             "outlinewidth": 0,
             "ticks": ""
            },
            "type": "contourcarpet"
           }
          ],
          "heatmap": [
           {
            "colorbar": {
             "outlinewidth": 0,
             "ticks": ""
            },
            "colorscale": [
             [
              0,
              "#0d0887"
             ],
             [
              0.1111111111111111,
              "#46039f"
             ],
             [
              0.2222222222222222,
              "#7201a8"
             ],
             [
              0.3333333333333333,
              "#9c179e"
             ],
             [
              0.4444444444444444,
              "#bd3786"
             ],
             [
              0.5555555555555556,
              "#d8576b"
             ],
             [
              0.6666666666666666,
              "#ed7953"
             ],
             [
              0.7777777777777778,
              "#fb9f3a"
             ],
             [
              0.8888888888888888,
              "#fdca26"
             ],
             [
              1,
              "#f0f921"
             ]
            ],
            "type": "heatmap"
           }
          ],
          "heatmapgl": [
           {
            "colorbar": {
             "outlinewidth": 0,
             "ticks": ""
            },
            "colorscale": [
             [
              0,
              "#0d0887"
             ],
             [
              0.1111111111111111,
              "#46039f"
             ],
             [
              0.2222222222222222,
              "#7201a8"
             ],
             [
              0.3333333333333333,
              "#9c179e"
             ],
             [
              0.4444444444444444,
              "#bd3786"
             ],
             [
              0.5555555555555556,
              "#d8576b"
             ],
             [
              0.6666666666666666,
              "#ed7953"
             ],
             [
              0.7777777777777778,
              "#fb9f3a"
             ],
             [
              0.8888888888888888,
              "#fdca26"
             ],
             [
              1,
              "#f0f921"
             ]
            ],
            "type": "heatmapgl"
           }
          ],
          "histogram": [
           {
            "marker": {
             "colorbar": {
              "outlinewidth": 0,
              "ticks": ""
             }
            },
            "type": "histogram"
           }
          ],
          "histogram2d": [
           {
            "colorbar": {
             "outlinewidth": 0,
             "ticks": ""
            },
            "colorscale": [
             [
              0,
              "#0d0887"
             ],
             [
              0.1111111111111111,
              "#46039f"
             ],
             [
              0.2222222222222222,
              "#7201a8"
             ],
             [
              0.3333333333333333,
              "#9c179e"
             ],
             [
              0.4444444444444444,
              "#bd3786"
             ],
             [
              0.5555555555555556,
              "#d8576b"
             ],
             [
              0.6666666666666666,
              "#ed7953"
             ],
             [
              0.7777777777777778,
              "#fb9f3a"
             ],
             [
              0.8888888888888888,
              "#fdca26"
             ],
             [
              1,
              "#f0f921"
             ]
            ],
            "type": "histogram2d"
           }
          ],
          "histogram2dcontour": [
           {
            "colorbar": {
             "outlinewidth": 0,
             "ticks": ""
            },
            "colorscale": [
             [
              0,
              "#0d0887"
             ],
             [
              0.1111111111111111,
              "#46039f"
             ],
             [
              0.2222222222222222,
              "#7201a8"
             ],
             [
              0.3333333333333333,
              "#9c179e"
             ],
             [
              0.4444444444444444,
              "#bd3786"
             ],
             [
              0.5555555555555556,
              "#d8576b"
             ],
             [
              0.6666666666666666,
              "#ed7953"
             ],
             [
              0.7777777777777778,
              "#fb9f3a"
             ],
             [
              0.8888888888888888,
              "#fdca26"
             ],
             [
              1,
              "#f0f921"
             ]
            ],
            "type": "histogram2dcontour"
           }
          ],
          "mesh3d": [
           {
            "colorbar": {
             "outlinewidth": 0,
             "ticks": ""
            },
            "type": "mesh3d"
           }
          ],
          "parcoords": [
           {
            "line": {
             "colorbar": {
              "outlinewidth": 0,
              "ticks": ""
             }
            },
            "type": "parcoords"
           }
          ],
          "pie": [
           {
            "automargin": true,
            "type": "pie"
           }
          ],
          "scatter": [
           {
            "marker": {
             "colorbar": {
              "outlinewidth": 0,
              "ticks": ""
             }
            },
            "type": "scatter"
           }
          ],
          "scatter3d": [
           {
            "line": {
             "colorbar": {
              "outlinewidth": 0,
              "ticks": ""
             }
            },
            "marker": {
             "colorbar": {
              "outlinewidth": 0,
              "ticks": ""
             }
            },
            "type": "scatter3d"
           }
          ],
          "scattercarpet": [
           {
            "marker": {
             "colorbar": {
              "outlinewidth": 0,
              "ticks": ""
             }
            },
            "type": "scattercarpet"
           }
          ],
          "scattergeo": [
           {
            "marker": {
             "colorbar": {
              "outlinewidth": 0,
              "ticks": ""
             }
            },
            "type": "scattergeo"
           }
          ],
          "scattergl": [
           {
            "marker": {
             "colorbar": {
              "outlinewidth": 0,
              "ticks": ""
             }
            },
            "type": "scattergl"
           }
          ],
          "scattermapbox": [
           {
            "marker": {
             "colorbar": {
              "outlinewidth": 0,
              "ticks": ""
             }
            },
            "type": "scattermapbox"
           }
          ],
          "scatterpolar": [
           {
            "marker": {
             "colorbar": {
              "outlinewidth": 0,
              "ticks": ""
             }
            },
            "type": "scatterpolar"
           }
          ],
          "scatterpolargl": [
           {
            "marker": {
             "colorbar": {
              "outlinewidth": 0,
              "ticks": ""
             }
            },
            "type": "scatterpolargl"
           }
          ],
          "scatterternary": [
           {
            "marker": {
             "colorbar": {
              "outlinewidth": 0,
              "ticks": ""
             }
            },
            "type": "scatterternary"
           }
          ],
          "surface": [
           {
            "colorbar": {
             "outlinewidth": 0,
             "ticks": ""
            },
            "colorscale": [
             [
              0,
              "#0d0887"
             ],
             [
              0.1111111111111111,
              "#46039f"
             ],
             [
              0.2222222222222222,
              "#7201a8"
             ],
             [
              0.3333333333333333,
              "#9c179e"
             ],
             [
              0.4444444444444444,
              "#bd3786"
             ],
             [
              0.5555555555555556,
              "#d8576b"
             ],
             [
              0.6666666666666666,
              "#ed7953"
             ],
             [
              0.7777777777777778,
              "#fb9f3a"
             ],
             [
              0.8888888888888888,
              "#fdca26"
             ],
             [
              1,
              "#f0f921"
             ]
            ],
            "type": "surface"
           }
          ],
          "table": [
           {
            "cells": {
             "fill": {
              "color": "#EBF0F8"
             },
             "line": {
              "color": "white"
             }
            },
            "header": {
             "fill": {
              "color": "#C8D4E3"
             },
             "line": {
              "color": "white"
             }
            },
            "type": "table"
           }
          ]
         },
         "layout": {
          "annotationdefaults": {
           "arrowcolor": "#2a3f5f",
           "arrowhead": 0,
           "arrowwidth": 1
          },
          "autotypenumbers": "strict",
          "coloraxis": {
           "colorbar": {
            "outlinewidth": 0,
            "ticks": ""
           }
          },
          "colorscale": {
           "diverging": [
            [
             0,
             "#8e0152"
            ],
            [
             0.1,
             "#c51b7d"
            ],
            [
             0.2,
             "#de77ae"
            ],
            [
             0.3,
             "#f1b6da"
            ],
            [
             0.4,
             "#fde0ef"
            ],
            [
             0.5,
             "#f7f7f7"
            ],
            [
             0.6,
             "#e6f5d0"
            ],
            [
             0.7,
             "#b8e186"
            ],
            [
             0.8,
             "#7fbc41"
            ],
            [
             0.9,
             "#4d9221"
            ],
            [
             1,
             "#276419"
            ]
           ],
           "sequential": [
            [
             0,
             "#0d0887"
            ],
            [
             0.1111111111111111,
             "#46039f"
            ],
            [
             0.2222222222222222,
             "#7201a8"
            ],
            [
             0.3333333333333333,
             "#9c179e"
            ],
            [
             0.4444444444444444,
             "#bd3786"
            ],
            [
             0.5555555555555556,
             "#d8576b"
            ],
            [
             0.6666666666666666,
             "#ed7953"
            ],
            [
             0.7777777777777778,
             "#fb9f3a"
            ],
            [
             0.8888888888888888,
             "#fdca26"
            ],
            [
             1,
             "#f0f921"
            ]
           ],
           "sequentialminus": [
            [
             0,
             "#0d0887"
            ],
            [
             0.1111111111111111,
             "#46039f"
            ],
            [
             0.2222222222222222,
             "#7201a8"
            ],
            [
             0.3333333333333333,
             "#9c179e"
            ],
            [
             0.4444444444444444,
             "#bd3786"
            ],
            [
             0.5555555555555556,
             "#d8576b"
            ],
            [
             0.6666666666666666,
             "#ed7953"
            ],
            [
             0.7777777777777778,
             "#fb9f3a"
            ],
            [
             0.8888888888888888,
             "#fdca26"
            ],
            [
             1,
             "#f0f921"
            ]
           ]
          },
          "colorway": [
           "#636efa",
           "#EF553B",
           "#00cc96",
           "#ab63fa",
           "#FFA15A",
           "#19d3f3",
           "#FF6692",
           "#B6E880",
           "#FF97FF",
           "#FECB52"
          ],
          "font": {
           "color": "#2a3f5f"
          },
          "geo": {
           "bgcolor": "white",
           "lakecolor": "white",
           "landcolor": "#E5ECF6",
           "showlakes": true,
           "showland": true,
           "subunitcolor": "white"
          },
          "hoverlabel": {
           "align": "left"
          },
          "hovermode": "closest",
          "mapbox": {
           "style": "light"
          },
          "paper_bgcolor": "white",
          "plot_bgcolor": "#E5ECF6",
          "polar": {
           "angularaxis": {
            "gridcolor": "white",
            "linecolor": "white",
            "ticks": ""
           },
           "bgcolor": "#E5ECF6",
           "radialaxis": {
            "gridcolor": "white",
            "linecolor": "white",
            "ticks": ""
           }
          },
          "scene": {
           "xaxis": {
            "backgroundcolor": "#E5ECF6",
            "gridcolor": "white",
            "gridwidth": 2,
            "linecolor": "white",
            "showbackground": true,
            "ticks": "",
            "zerolinecolor": "white"
           },
           "yaxis": {
            "backgroundcolor": "#E5ECF6",
            "gridcolor": "white",
            "gridwidth": 2,
            "linecolor": "white",
            "showbackground": true,
            "ticks": "",
            "zerolinecolor": "white"
           },
           "zaxis": {
            "backgroundcolor": "#E5ECF6",
            "gridcolor": "white",
            "gridwidth": 2,
            "linecolor": "white",
            "showbackground": true,
            "ticks": "",
            "zerolinecolor": "white"
           }
          },
          "shapedefaults": {
           "line": {
            "color": "#2a3f5f"
           }
          },
          "ternary": {
           "aaxis": {
            "gridcolor": "white",
            "linecolor": "white",
            "ticks": ""
           },
           "baxis": {
            "gridcolor": "white",
            "linecolor": "white",
            "ticks": ""
           },
           "bgcolor": "#E5ECF6",
           "caxis": {
            "gridcolor": "white",
            "linecolor": "white",
            "ticks": ""
           }
          },
          "title": {
           "x": 0.05
          },
          "xaxis": {
           "automargin": true,
           "gridcolor": "white",
           "linecolor": "white",
           "ticks": "",
           "title": {
            "standoff": 15
           },
           "zerolinecolor": "white",
           "zerolinewidth": 2
          },
          "yaxis": {
           "automargin": true,
           "gridcolor": "white",
           "linecolor": "white",
           "ticks": "",
           "title": {
            "standoff": 15
           },
           "zerolinecolor": "white",
           "zerolinewidth": 2
          }
         }
        }
       }
      }
     },
     "metadata": {}
    }
   ],
   "source": [
    "df = consensus_counting_df.copy()\n",
    "expressed = df[\"Female\"] > 0\n",
    "df = df[expressed]\n",
    "fig = px.sunburst(df, path=['SuperFamily', 'Family', 'TE'], values='Female', color = \"Female_subject_coverage\")\n",
    "fig.show()"
   ]
  }
 ],
 "metadata": {
  "celltoolbar": "Slideshow",
  "kernelspec": {
   "display_name": "Python 3",
   "language": "python",
   "name": "python3"
  },
  "language_info": {
   "codemirror_mode": {
    "name": "ipython",
    "version": 3
   },
   "file_extension": ".py",
   "mimetype": "text/x-python",
   "name": "python",
   "nbconvert_exporter": "python",
   "pygments_lexer": "ipython3",
   "version": "3.8.5-final"
  }
 },
 "nbformat": 4,
 "nbformat_minor": 2
}